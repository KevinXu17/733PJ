{
 "cells": [
  {
   "cell_type": "markdown",
   "id": "e538e162",
   "metadata": {},
   "source": [
    "# 4 MODEL"
   ]
  },
  {
   "cell_type": "code",
   "execution_count": 1,
   "id": "4be1b6fa",
   "metadata": {},
   "outputs": [],
   "source": [
    "import os\n",
    "\n",
    "import numpy as np\n",
    "import torch\n",
    "import torch.nn as nn\n",
    "import pandas as pd\n",
    "from sklearn.preprocessing import StandardScaler\n",
    "\n",
    "from nltk.tokenize import word_tokenize\n",
    "from nltk.corpus import stopwords\n",
    "import itertools\n",
    "from nltk.tokenize import sent_tokenize\n",
    "import re\n",
    "import textstat\n",
    "from collections import Counter\n",
    "from sklearn.feature_extraction.text import CountVectorizer\n",
    "\n",
    "from sklearn.model_selection import train_test_split\n",
    "from sklearn.compose import ColumnTransformer\n",
    "from sklearn.impute import SimpleImputer\n",
    "\n",
    "from sklearn.pipeline import Pipeline\n",
    "from sklearn.ensemble import RandomForestClassifier\n",
    "\n",
    "import string\n",
    "from sklearn.preprocessing import FunctionTransformer\n",
    "\n",
    "from sklearn.ensemble import RandomForestClassifier\n",
    "\n",
    "from sklearn.metrics import accuracy_score, confusion_matrix, classification_report\n",
    "from sklearn.metrics import confusion_matrix\n",
    "\n",
    "import matplotlib.pyplot as plt\n",
    "import seaborn as sns"
   ]
  },
  {
   "cell_type": "code",
   "execution_count": 2,
   "id": "b1268081",
   "metadata": {},
   "outputs": [],
   "source": [
    "path = 'data/out.csv'\n",
    "out_data = pd.read_csv(path)"
   ]
  },
  {
   "cell_type": "code",
   "execution_count": 3,
   "id": "f2943f14",
   "metadata": {},
   "outputs": [
    {
     "data": {
      "text/html": [
       "<div>\n",
       "<style scoped>\n",
       "    .dataframe tbody tr th:only-of-type {\n",
       "        vertical-align: middle;\n",
       "    }\n",
       "\n",
       "    .dataframe tbody tr th {\n",
       "        vertical-align: top;\n",
       "    }\n",
       "\n",
       "    .dataframe thead th {\n",
       "        text-align: right;\n",
       "    }\n",
       "</style>\n",
       "<table border=\"1\" class=\"dataframe\">\n",
       "  <thead>\n",
       "    <tr style=\"text-align: right;\">\n",
       "      <th></th>\n",
       "      <th>Unnamed: 0</th>\n",
       "      <th>star_rating</th>\n",
       "      <th>vine</th>\n",
       "      <th>verified_purchase</th>\n",
       "      <th>review_date</th>\n",
       "      <th>review</th>\n",
       "      <th>vote_ratio</th>\n",
       "      <th>helpfulness</th>\n",
       "      <th>sentence_count</th>\n",
       "      <th>word_count</th>\n",
       "      <th>ARI</th>\n",
       "      <th>words</th>\n",
       "      <th>words_text</th>\n",
       "    </tr>\n",
       "  </thead>\n",
       "  <tbody>\n",
       "    <tr>\n",
       "      <th>0</th>\n",
       "      <td>414</td>\n",
       "      <td>1</td>\n",
       "      <td>0</td>\n",
       "      <td>1</td>\n",
       "      <td>2015-08-31</td>\n",
       "      <td>Cannot be used with headphones If you plan to ...</td>\n",
       "      <td>0.074074</td>\n",
       "      <td>0</td>\n",
       "      <td>4</td>\n",
       "      <td>32</td>\n",
       "      <td>7.5</td>\n",
       "      <td>['Cannot', 'used', 'headphones', 'plan', 'use'...</td>\n",
       "      <td>Cannot used headphones plan use iPad mini head...</td>\n",
       "    </tr>\n",
       "    <tr>\n",
       "      <th>1</th>\n",
       "      <td>939</td>\n",
       "      <td>1</td>\n",
       "      <td>0</td>\n",
       "      <td>1</td>\n",
       "      <td>2015-08-31</td>\n",
       "      <td>Shorted out after 2 days use Worked for 2 days...</td>\n",
       "      <td>0.050505</td>\n",
       "      <td>0</td>\n",
       "      <td>2</td>\n",
       "      <td>25</td>\n",
       "      <td>11.7</td>\n",
       "      <td>['Shorted', 'days', 'use', 'Worked', 'days', '...</td>\n",
       "      <td>Shorted days use Worked days center phone plug...</td>\n",
       "    </tr>\n",
       "    <tr>\n",
       "      <th>2</th>\n",
       "      <td>1112</td>\n",
       "      <td>1</td>\n",
       "      <td>0</td>\n",
       "      <td>0</td>\n",
       "      <td>2015-08-31</td>\n",
       "      <td>Same performance as a $5 cable I've never seen...</td>\n",
       "      <td>0.633803</td>\n",
       "      <td>0</td>\n",
       "      <td>2</td>\n",
       "      <td>16</td>\n",
       "      <td>6.8</td>\n",
       "      <td>['Same', 'performance', 'cable', 'never', 'see...</td>\n",
       "      <td>Same performance cable never seen many fake st...</td>\n",
       "    </tr>\n",
       "    <tr>\n",
       "      <th>3</th>\n",
       "      <td>1399</td>\n",
       "      <td>3</td>\n",
       "      <td>0</td>\n",
       "      <td>1</td>\n",
       "      <td>2015-08-31</td>\n",
       "      <td>1) It isn't sturdy enough to be used on a keyr...</td>\n",
       "      <td>0.857143</td>\n",
       "      <td>1</td>\n",
       "      <td>5</td>\n",
       "      <td>33</td>\n",
       "      <td>4.1</td>\n",
       "      <td>['sturdy', 'enough', 'used', 'keyring', 'works...</td>\n",
       "      <td>sturdy enough used keyring works drawbacks stu...</td>\n",
       "    </tr>\n",
       "    <tr>\n",
       "      <th>4</th>\n",
       "      <td>1843</td>\n",
       "      <td>3</td>\n",
       "      <td>0</td>\n",
       "      <td>1</td>\n",
       "      <td>2015-08-31</td>\n",
       "      <td>Fan does good job cooling. The fan itself work...</td>\n",
       "      <td>0.777778</td>\n",
       "      <td>0</td>\n",
       "      <td>3</td>\n",
       "      <td>20</td>\n",
       "      <td>4.3</td>\n",
       "      <td>['Fan', 'good', 'job', 'cooling', 'The', 'fan'...</td>\n",
       "      <td>Fan good job cooling The fan works fine honest...</td>\n",
       "    </tr>\n",
       "  </tbody>\n",
       "</table>\n",
       "</div>"
      ],
      "text/plain": [
       "   Unnamed: 0  star_rating  vine  verified_purchase review_date   \n",
       "0         414            1     0                  1  2015-08-31  \\\n",
       "1         939            1     0                  1  2015-08-31   \n",
       "2        1112            1     0                  0  2015-08-31   \n",
       "3        1399            3     0                  1  2015-08-31   \n",
       "4        1843            3     0                  1  2015-08-31   \n",
       "\n",
       "                                              review  vote_ratio  helpfulness   \n",
       "0  Cannot be used with headphones If you plan to ...    0.074074            0  \\\n",
       "1  Shorted out after 2 days use Worked for 2 days...    0.050505            0   \n",
       "2  Same performance as a $5 cable I've never seen...    0.633803            0   \n",
       "3  1) It isn't sturdy enough to be used on a keyr...    0.857143            1   \n",
       "4  Fan does good job cooling. The fan itself work...    0.777778            0   \n",
       "\n",
       "   sentence_count  word_count   ARI   \n",
       "0               4          32   7.5  \\\n",
       "1               2          25  11.7   \n",
       "2               2          16   6.8   \n",
       "3               5          33   4.1   \n",
       "4               3          20   4.3   \n",
       "\n",
       "                                               words   \n",
       "0  ['Cannot', 'used', 'headphones', 'plan', 'use'...  \\\n",
       "1  ['Shorted', 'days', 'use', 'Worked', 'days', '...   \n",
       "2  ['Same', 'performance', 'cable', 'never', 'see...   \n",
       "3  ['sturdy', 'enough', 'used', 'keyring', 'works...   \n",
       "4  ['Fan', 'good', 'job', 'cooling', 'The', 'fan'...   \n",
       "\n",
       "                                          words_text  \n",
       "0  Cannot used headphones plan use iPad mini head...  \n",
       "1  Shorted days use Worked days center phone plug...  \n",
       "2  Same performance cable never seen many fake st...  \n",
       "3  sturdy enough used keyring works drawbacks stu...  \n",
       "4  Fan good job cooling The fan works fine honest...  "
      ]
     },
     "execution_count": 3,
     "metadata": {},
     "output_type": "execute_result"
    }
   ],
   "source": [
    "out_data.head()"
   ]
  },
  {
   "cell_type": "code",
   "execution_count": 4,
   "id": "2da73f33",
   "metadata": {},
   "outputs": [],
   "source": [
    "# split data\n",
    "total_len = len(out_data)\n",
    "val_len = round(0.1 * total_len)\n",
    "\n",
    "\n",
    "y = out_data['helpfulness']\n",
    "X = out_data[['star_rating', 'vine', 'verified_purchase', 'words_text', 'sentence_count', 'word_count', 'ARI']]\n",
    "# X = out_data[['star_rating', 'vine', 'verified_purchase', 'review', 'sentence_count', 'word_count', 'ARI',\n",
    "#        'words', 'words_text']]\n",
    "\n",
    "X_train, X_test, y_train, y_test = train_test_split(X, y, test_size=val_len,\n",
    "                                                    random_state=123)"
   ]
  },
  {
   "cell_type": "code",
   "execution_count": 5,
   "id": "a1212e7c",
   "metadata": {},
   "outputs": [],
   "source": [
    "# 'star_rating', 'vine', 'verified_purchase', 'sentence_count', 'word_count', 'ARI'\n",
    "numeric_features = ['star_rating', 'vine', 'verified_purchase', 'sentence_count', 'word_count', 'ARI']\n",
    "\n",
    "numeric_transformer = Pipeline([\n",
    "    ('scaler', StandardScaler())\n",
    "])"
   ]
  },
  {
   "cell_type": "code",
   "execution_count": 6,
   "id": "3dcd4b51",
   "metadata": {},
   "outputs": [],
   "source": [
    "stop_list = stopwords.words('english')\n",
    "stop_list += list(string.punctuation)\n",
    "stop_list += ['br', '.<', '..', '...', '``', \"''\", '--']\n",
    "\n",
    "# 'review'\n",
    "categorical_transformer = Pipeline([\n",
    "    ('vectorizer', CountVectorizer(max_features=5000))\n",
    "])\n",
    "\n",
    "categorical_features = 'words_text'"
   ]
  },
  {
   "cell_type": "code",
   "execution_count": 7,
   "id": "6fea09b3",
   "metadata": {},
   "outputs": [],
   "source": [
    "feature_transformers = [\n",
    "    ('numeric', numeric_transformer, numeric_features),\n",
    "    ('categorical', categorical_transformer, categorical_features)\n",
    "]\n",
    "\n",
    "\n",
    "\n",
    "feature_preprocessor = ColumnTransformer(transformers=feature_transformers,remainder='drop')"
   ]
  },
  {
   "cell_type": "markdown",
   "id": "80d99b33",
   "metadata": {},
   "source": [
    "# Random Forest"
   ]
  },
  {
   "cell_type": "code",
   "execution_count": 8,
   "id": "41a4965b-0320-44f8-a791-3d2330005631",
   "metadata": {},
   "outputs": [
    {
     "data": {
      "text/html": [
       "<style>#sk-container-id-1 {color: black;background-color: white;}#sk-container-id-1 pre{padding: 0;}#sk-container-id-1 div.sk-toggleable {background-color: white;}#sk-container-id-1 label.sk-toggleable__label {cursor: pointer;display: block;width: 100%;margin-bottom: 0;padding: 0.3em;box-sizing: border-box;text-align: center;}#sk-container-id-1 label.sk-toggleable__label-arrow:before {content: \"▸\";float: left;margin-right: 0.25em;color: #696969;}#sk-container-id-1 label.sk-toggleable__label-arrow:hover:before {color: black;}#sk-container-id-1 div.sk-estimator:hover label.sk-toggleable__label-arrow:before {color: black;}#sk-container-id-1 div.sk-toggleable__content {max-height: 0;max-width: 0;overflow: hidden;text-align: left;background-color: #f0f8ff;}#sk-container-id-1 div.sk-toggleable__content pre {margin: 0.2em;color: black;border-radius: 0.25em;background-color: #f0f8ff;}#sk-container-id-1 input.sk-toggleable__control:checked~div.sk-toggleable__content {max-height: 200px;max-width: 100%;overflow: auto;}#sk-container-id-1 input.sk-toggleable__control:checked~label.sk-toggleable__label-arrow:before {content: \"▾\";}#sk-container-id-1 div.sk-estimator input.sk-toggleable__control:checked~label.sk-toggleable__label {background-color: #d4ebff;}#sk-container-id-1 div.sk-label input.sk-toggleable__control:checked~label.sk-toggleable__label {background-color: #d4ebff;}#sk-container-id-1 input.sk-hidden--visually {border: 0;clip: rect(1px 1px 1px 1px);clip: rect(1px, 1px, 1px, 1px);height: 1px;margin: -1px;overflow: hidden;padding: 0;position: absolute;width: 1px;}#sk-container-id-1 div.sk-estimator {font-family: monospace;background-color: #f0f8ff;border: 1px dotted black;border-radius: 0.25em;box-sizing: border-box;margin-bottom: 0.5em;}#sk-container-id-1 div.sk-estimator:hover {background-color: #d4ebff;}#sk-container-id-1 div.sk-parallel-item::after {content: \"\";width: 100%;border-bottom: 1px solid gray;flex-grow: 1;}#sk-container-id-1 div.sk-label:hover label.sk-toggleable__label {background-color: #d4ebff;}#sk-container-id-1 div.sk-serial::before {content: \"\";position: absolute;border-left: 1px solid gray;box-sizing: border-box;top: 0;bottom: 0;left: 50%;z-index: 0;}#sk-container-id-1 div.sk-serial {display: flex;flex-direction: column;align-items: center;background-color: white;padding-right: 0.2em;padding-left: 0.2em;position: relative;}#sk-container-id-1 div.sk-item {position: relative;z-index: 1;}#sk-container-id-1 div.sk-parallel {display: flex;align-items: stretch;justify-content: center;background-color: white;position: relative;}#sk-container-id-1 div.sk-item::before, #sk-container-id-1 div.sk-parallel-item::before {content: \"\";position: absolute;border-left: 1px solid gray;box-sizing: border-box;top: 0;bottom: 0;left: 50%;z-index: -1;}#sk-container-id-1 div.sk-parallel-item {display: flex;flex-direction: column;z-index: 1;position: relative;background-color: white;}#sk-container-id-1 div.sk-parallel-item:first-child::after {align-self: flex-end;width: 50%;}#sk-container-id-1 div.sk-parallel-item:last-child::after {align-self: flex-start;width: 50%;}#sk-container-id-1 div.sk-parallel-item:only-child::after {width: 0;}#sk-container-id-1 div.sk-dashed-wrapped {border: 1px dashed gray;margin: 0 0.4em 0.5em 0.4em;box-sizing: border-box;padding-bottom: 0.4em;background-color: white;}#sk-container-id-1 div.sk-label label {font-family: monospace;font-weight: bold;display: inline-block;line-height: 1.2em;}#sk-container-id-1 div.sk-label-container {text-align: center;}#sk-container-id-1 div.sk-container {/* jupyter's `normalize.less` sets `[hidden] { display: none; }` but bootstrap.min.css set `[hidden] { display: none !important; }` so we also need the `!important` here to be able to override the default hidden behavior on the sphinx rendered scikit-learn.org. See: https://github.com/scikit-learn/scikit-learn/issues/21755 */display: inline-block !important;position: relative;}#sk-container-id-1 div.sk-text-repr-fallback {display: none;}</style><div id=\"sk-container-id-1\" class=\"sk-top-container\"><div class=\"sk-text-repr-fallback\"><pre>Pipeline(steps=[(&#x27;feature_preprocessor&#x27;,\n",
       "                 ColumnTransformer(transformers=[(&#x27;numeric&#x27;,\n",
       "                                                  Pipeline(steps=[(&#x27;scaler&#x27;,\n",
       "                                                                   StandardScaler())]),\n",
       "                                                  [&#x27;star_rating&#x27;, &#x27;vine&#x27;,\n",
       "                                                   &#x27;verified_purchase&#x27;,\n",
       "                                                   &#x27;sentence_count&#x27;,\n",
       "                                                   &#x27;word_count&#x27;, &#x27;ARI&#x27;]),\n",
       "                                                 (&#x27;categorical&#x27;,\n",
       "                                                  Pipeline(steps=[(&#x27;vectorizer&#x27;,\n",
       "                                                                   CountVectorizer(max_features=5000))]),\n",
       "                                                  &#x27;words_text&#x27;)])),\n",
       "                (&#x27;forest&#x27;, RandomForestClassifier(n_jobs=-1))])</pre><b>In a Jupyter environment, please rerun this cell to show the HTML representation or trust the notebook. <br />On GitHub, the HTML representation is unable to render, please try loading this page with nbviewer.org.</b></div><div class=\"sk-container\" hidden><div class=\"sk-item sk-dashed-wrapped\"><div class=\"sk-label-container\"><div class=\"sk-label sk-toggleable\"><input class=\"sk-toggleable__control sk-hidden--visually\" id=\"sk-estimator-id-1\" type=\"checkbox\" ><label for=\"sk-estimator-id-1\" class=\"sk-toggleable__label sk-toggleable__label-arrow\">Pipeline</label><div class=\"sk-toggleable__content\"><pre>Pipeline(steps=[(&#x27;feature_preprocessor&#x27;,\n",
       "                 ColumnTransformer(transformers=[(&#x27;numeric&#x27;,\n",
       "                                                  Pipeline(steps=[(&#x27;scaler&#x27;,\n",
       "                                                                   StandardScaler())]),\n",
       "                                                  [&#x27;star_rating&#x27;, &#x27;vine&#x27;,\n",
       "                                                   &#x27;verified_purchase&#x27;,\n",
       "                                                   &#x27;sentence_count&#x27;,\n",
       "                                                   &#x27;word_count&#x27;, &#x27;ARI&#x27;]),\n",
       "                                                 (&#x27;categorical&#x27;,\n",
       "                                                  Pipeline(steps=[(&#x27;vectorizer&#x27;,\n",
       "                                                                   CountVectorizer(max_features=5000))]),\n",
       "                                                  &#x27;words_text&#x27;)])),\n",
       "                (&#x27;forest&#x27;, RandomForestClassifier(n_jobs=-1))])</pre></div></div></div><div class=\"sk-serial\"><div class=\"sk-item sk-dashed-wrapped\"><div class=\"sk-label-container\"><div class=\"sk-label sk-toggleable\"><input class=\"sk-toggleable__control sk-hidden--visually\" id=\"sk-estimator-id-2\" type=\"checkbox\" ><label for=\"sk-estimator-id-2\" class=\"sk-toggleable__label sk-toggleable__label-arrow\">feature_preprocessor: ColumnTransformer</label><div class=\"sk-toggleable__content\"><pre>ColumnTransformer(transformers=[(&#x27;numeric&#x27;,\n",
       "                                 Pipeline(steps=[(&#x27;scaler&#x27;, StandardScaler())]),\n",
       "                                 [&#x27;star_rating&#x27;, &#x27;vine&#x27;, &#x27;verified_purchase&#x27;,\n",
       "                                  &#x27;sentence_count&#x27;, &#x27;word_count&#x27;, &#x27;ARI&#x27;]),\n",
       "                                (&#x27;categorical&#x27;,\n",
       "                                 Pipeline(steps=[(&#x27;vectorizer&#x27;,\n",
       "                                                  CountVectorizer(max_features=5000))]),\n",
       "                                 &#x27;words_text&#x27;)])</pre></div></div></div><div class=\"sk-parallel\"><div class=\"sk-parallel-item\"><div class=\"sk-item\"><div class=\"sk-label-container\"><div class=\"sk-label sk-toggleable\"><input class=\"sk-toggleable__control sk-hidden--visually\" id=\"sk-estimator-id-3\" type=\"checkbox\" ><label for=\"sk-estimator-id-3\" class=\"sk-toggleable__label sk-toggleable__label-arrow\">numeric</label><div class=\"sk-toggleable__content\"><pre>[&#x27;star_rating&#x27;, &#x27;vine&#x27;, &#x27;verified_purchase&#x27;, &#x27;sentence_count&#x27;, &#x27;word_count&#x27;, &#x27;ARI&#x27;]</pre></div></div></div><div class=\"sk-serial\"><div class=\"sk-item\"><div class=\"sk-serial\"><div class=\"sk-item\"><div class=\"sk-estimator sk-toggleable\"><input class=\"sk-toggleable__control sk-hidden--visually\" id=\"sk-estimator-id-4\" type=\"checkbox\" ><label for=\"sk-estimator-id-4\" class=\"sk-toggleable__label sk-toggleable__label-arrow\">StandardScaler</label><div class=\"sk-toggleable__content\"><pre>StandardScaler()</pre></div></div></div></div></div></div></div></div><div class=\"sk-parallel-item\"><div class=\"sk-item\"><div class=\"sk-label-container\"><div class=\"sk-label sk-toggleable\"><input class=\"sk-toggleable__control sk-hidden--visually\" id=\"sk-estimator-id-5\" type=\"checkbox\" ><label for=\"sk-estimator-id-5\" class=\"sk-toggleable__label sk-toggleable__label-arrow\">categorical</label><div class=\"sk-toggleable__content\"><pre>words_text</pre></div></div></div><div class=\"sk-serial\"><div class=\"sk-item\"><div class=\"sk-serial\"><div class=\"sk-item\"><div class=\"sk-estimator sk-toggleable\"><input class=\"sk-toggleable__control sk-hidden--visually\" id=\"sk-estimator-id-6\" type=\"checkbox\" ><label for=\"sk-estimator-id-6\" class=\"sk-toggleable__label sk-toggleable__label-arrow\">CountVectorizer</label><div class=\"sk-toggleable__content\"><pre>CountVectorizer(max_features=5000)</pre></div></div></div></div></div></div></div></div></div></div><div class=\"sk-item\"><div class=\"sk-estimator sk-toggleable\"><input class=\"sk-toggleable__control sk-hidden--visually\" id=\"sk-estimator-id-7\" type=\"checkbox\" ><label for=\"sk-estimator-id-7\" class=\"sk-toggleable__label sk-toggleable__label-arrow\">RandomForestClassifier</label><div class=\"sk-toggleable__content\"><pre>RandomForestClassifier(n_jobs=-1)</pre></div></div></div></div></div></div></div>"
      ],
      "text/plain": [
       "Pipeline(steps=[('feature_preprocessor',\n",
       "                 ColumnTransformer(transformers=[('numeric',\n",
       "                                                  Pipeline(steps=[('scaler',\n",
       "                                                                   StandardScaler())]),\n",
       "                                                  ['star_rating', 'vine',\n",
       "                                                   'verified_purchase',\n",
       "                                                   'sentence_count',\n",
       "                                                   'word_count', 'ARI']),\n",
       "                                                 ('categorical',\n",
       "                                                  Pipeline(steps=[('vectorizer',\n",
       "                                                                   CountVectorizer(max_features=5000))]),\n",
       "                                                  'words_text')])),\n",
       "                ('forest', RandomForestClassifier(n_jobs=-1))])"
      ]
     },
     "execution_count": 8,
     "metadata": {},
     "output_type": "execute_result"
    }
   ],
   "source": [
    "fp_rf = Pipeline([('feature_preprocessor',feature_preprocessor),\n",
    "                        ('forest', RandomForestClassifier(n_estimators=100,\n",
    "                                                          n_jobs=-1))])\n",
    "\n",
    "fp_rf.fit(X_train, y_train)"
   ]
  },
  {
   "cell_type": "code",
   "execution_count": 9,
   "id": "d1263b43-0672-4533-ba93-ba397524471a",
   "metadata": {},
   "outputs": [
    {
     "data": {
      "text/plain": [
       "0.8234990981705745"
      ]
     },
     "execution_count": 9,
     "metadata": {},
     "output_type": "execute_result"
    }
   ],
   "source": [
    "fp_rf.score(X_test,y_test)"
   ]
  },
  {
   "cell_type": "code",
   "execution_count": 10,
   "id": "5c79d7be",
   "metadata": {
    "collapsed": true,
    "jupyter": {
     "outputs_hidden": true,
     "source_hidden": true
    },
    "tags": []
   },
   "outputs": [
    {
     "name": "stdout",
     "output_type": "stream",
     "text": [
      "Validation accuracy: 0.8234990981705745\n"
     ]
    }
   ],
   "source": [
    "y_pred_test = fp_rf.predict(X_test)\n",
    "print('Validation accuracy:', accuracy_score(y_test, y_pred_test))"
   ]
  },
  {
   "cell_type": "code",
   "execution_count": 11,
   "id": "20b239f3",
   "metadata": {},
   "outputs": [
    {
     "name": "stdout",
     "output_type": "stream",
     "text": [
      "              precision    recall  f1-score   support\n",
      "\n",
      "           0       0.77      0.38      0.51       933\n",
      "           1       0.83      0.96      0.89      2948\n",
      "\n",
      "    accuracy                           0.82      3881\n",
      "   macro avg       0.80      0.67      0.70      3881\n",
      "weighted avg       0.82      0.82      0.80      3881\n",
      "\n"
     ]
    }
   ],
   "source": [
    "print(classification_report(y_test, y_pred_test))"
   ]
  },
  {
   "cell_type": "code",
   "execution_count": 12,
   "id": "5764cc66",
   "metadata": {},
   "outputs": [
    {
     "data": {
      "text/plain": [
       "[Text(0.5, 23.52222222222222, 'Predicted'),\n",
       " Text(113.9222222222222, 0.5, 'Actual')]"
      ]
     },
     "execution_count": 12,
     "metadata": {},
     "output_type": "execute_result"
    },
    {
     "data": {
      "image/png": "[encoded data removed]",
      "text/plain": [
       "<Figure size 640x480 with 1 Axes>"
      ]
     },
     "metadata": {},
     "output_type": "display_data"
    }
   ],
   "source": [
    "cm = confusion_matrix(y_test, y_pred_test)\n",
    "# Plotting the Confusion Matrix for easy understanding\n",
    "ax = plt.axes()\n",
    "sns.heatmap(cm, \n",
    "            annot=True, # Show values of each cell in the heatmap\n",
    "            fmt=\"1.0f\", # or \"d\"\n",
    "            cmap=\"YlGnBu\", # color range of the heatmap\n",
    "            linecolor='white', # plot cell border\n",
    "            linewidths=0.1, # width of border\n",
    "            cbar=False, # hide range bar\n",
    "            square=True) # Make the Confusion Matrix Look like a square\n",
    "ax.set_title('Confusion Matrix of Support Vector Machine Classificaftion - Default Parameter Base Model')\n",
    "ax.set(xlabel='Predicted', ylabel='Actual') # Change X and Y axis labe"
   ]
  },
  {
   "cell_type": "markdown",
   "id": "31d46c53",
   "metadata": {},
   "source": [
    "# SVM"
   ]
  },
  {
   "cell_type": "code",
   "execution_count": 13,
   "id": "9aca4900",
   "metadata": {},
   "outputs": [],
   "source": [
    "from sklearn.svm import SVC"
   ]
  },
  {
   "cell_type": "code",
   "execution_count": null,
   "id": "5eb95b06",
   "metadata": {},
   "outputs": [],
   "source": [
    "fp_svm = Pipeline([('feature_preprocessor',feature_preprocessor),\n",
    "                        ('svm', SVC())])\n",
    "fp_svm.fit(X_train, y_train)"
   ]
  },
  {
   "cell_type": "code",
   "execution_count": null,
   "id": "c2f8e1ff",
   "metadata": {},
   "outputs": [],
   "source": [
    "y_pred_test = fp_svm.predict(X_test)\n",
    "print('Validation accuracy:', accuracy_score(y_test, y_pred_test))"
   ]
  },
  {
   "cell_type": "code",
   "execution_count": null,
   "id": "ed57761f",
   "metadata": {},
   "outputs": [],
   "source": [
    "print(classification_report(y_test, y_pred_test))"
   ]
  },
  {
   "cell_type": "code",
   "execution_count": null,
   "id": "b339157e",
   "metadata": {},
   "outputs": [],
   "source": [
    "fp_svm.score(X_test,y_test)"
   ]
  },
  {
   "cell_type": "code",
   "execution_count": null,
   "id": "afca00f4",
   "metadata": {},
   "outputs": [],
   "source": []
  },
  {
   "cell_type": "code",
   "execution_count": null,
   "id": "bf36c0db",
   "metadata": {},
   "outputs": [],
   "source": []
  },
  {
   "cell_type": "code",
   "execution_count": null,
   "id": "e738b8f9",
   "metadata": {},
   "outputs": [],
   "source": []
  }
 ],
 "metadata": {
  "kernelspec": {
   "display_name": "733",
   "language": "python",
   "name": "733"
  },
  "language_info": {
   "codemirror_mode": {
    "name": "ipython",
    "version": 3
   },
   "file_extension": ".py",
   "mimetype": "text/x-python",
   "name": "python",
   "nbconvert_exporter": "python",
   "pygments_lexer": "ipython3",
   "version": "3.11.3"
  },
  "widgets": {
   "application/vnd.jupyter.widget-state+json": {
    "state": {},
    "version_major": 2,
    "version_minor": 0
   }
  }
 },
 "nbformat": 4,
 "nbformat_minor": 5
}
