{
 "cells": [
  {
   "cell_type": "markdown",
   "id": "e538e162",
   "metadata": {},
   "source": [
    "# 4 MODEL"
   ]
  },
  {
   "cell_type": "code",
   "execution_count": 134,
   "id": "29bc6130-ac8b-49c7-94c1-b1dd6a4997d0",
   "metadata": {},
   "outputs": [],
   "source": [
    "import os\n",
    "\n",
    "import numpy as np\n",
    "import torch\n",
    "import torch.nn as nn\n",
    "import pandas as pd\n",
    "from sklearn.preprocessing import StandardScaler\n",
    "\n",
    "from nltk.tokenize import word_tokenize\n",
    "from nltk.corpus import stopwords\n",
    "import itertools\n",
    "from nltk.tokenize import sent_tokenize\n",
    "import re\n",
    "import textstat\n",
    "from collections import Counter\n",
    "from sklearn.feature_extraction.text import CountVectorizer\n",
    "\n",
    "from sklearn.model_selection import train_test_split\n",
    "from sklearn.compose import ColumnTransformer\n",
    "from sklearn.impute import SimpleImputer\n",
    "\n",
    "from sklearn.pipeline import Pipeline\n",
    "from sklearn.ensemble import RandomForestClassifier\n",
    "\n",
    "import string\n",
    "from sklearn.preprocessing import FunctionTransformer\n",
    "\n",
    "from sklearn.ensemble import RandomForestClassifier\n",
    "\n",
    "from sklearn.metrics import accuracy_score, confusion_matrix, classification_report\n",
    "from sklearn.metrics import confusion_matrix\n",
    "\n",
    "import matplotlib.pyplot as plt\n",
    "import seaborn as sns\n",
    "from sklearn import metrics"
   ]
  },
  {
   "cell_type": "code",
   "execution_count": 178,
   "id": "2be305a3-de8b-48f3-b422-4f1c4d34dd6e",
   "metadata": {},
   "outputs": [],
   "source": [
    "from sklearn.metrics import precision_score"
   ]
  },
  {
   "cell_type": "code",
   "execution_count": 29,
   "id": "b1268081",
   "metadata": {},
   "outputs": [],
   "source": [
    "path = 'data/out.csv'\n",
    "out_data = pd.read_csv(path)"
   ]
  },
  {
   "cell_type": "code",
   "execution_count": 30,
   "id": "1d376438-fa4a-4cb6-a5ed-5cb0c573c486",
   "metadata": {},
   "outputs": [
    {
     "data": {
      "text/plain": [
       "(38752, 9)"
      ]
     },
     "execution_count": 30,
     "metadata": {},
     "output_type": "execute_result"
    }
   ],
   "source": [
    "out_data.shape"
   ]
  },
  {
   "cell_type": "code",
   "execution_count": 31,
   "id": "62dcb114-212d-4a7f-b345-ce6753aa9284",
   "metadata": {},
   "outputs": [
    {
     "data": {
      "text/plain": [
       "helpfulness\n",
       "1    29479\n",
       "0     9273\n",
       "Name: count, dtype: int64"
      ]
     },
     "execution_count": 31,
     "metadata": {},
     "output_type": "execute_result"
    }
   ],
   "source": [
    "out_data.helpfulness.value_counts()"
   ]
  },
  {
   "cell_type": "markdown",
   "id": "21e830a0-7e20-4130-a39f-dcf487fa42c3",
   "metadata": {},
   "source": [
    "Resampling strategies for imbalanced datasets"
   ]
  },
  {
   "cell_type": "code",
   "execution_count": 32,
   "id": "8e404d91-2fb9-47a0-a418-7b0fd22b7b66",
   "metadata": {},
   "outputs": [],
   "source": [
    "#count_helpful, count_notHelpful = out_data.helpfulness.value_counts()"
   ]
  },
  {
   "cell_type": "code",
   "execution_count": 33,
   "id": "1c0da21c-6792-4db6-98f3-df3de5f3fde9",
   "metadata": {},
   "outputs": [],
   "source": [
    "# df_helpful = out_data[out_data['helpfulness'] == 1]\n",
    "# df_notHelpful = out_data[out_data['helpfulness'] == 0]\n",
    "# df_helpful_under = df_helpful.sample(count_notHelpful * 2)\n",
    "# out_data = pd.concat([df_helpful_under, df_notHelpful], axis=0)\n",
    "# out_data.head()\n",
    "# out_data.helpfulness.value_counts()"
   ]
  },
  {
   "cell_type": "code",
   "execution_count": null,
   "id": "ae92d386-9dab-459d-8f61-2fcd9198bb2b",
   "metadata": {},
   "outputs": [],
   "source": []
  },
  {
   "cell_type": "code",
   "execution_count": 34,
   "id": "6f870d23-3fca-477a-bfb4-a024f065349c",
   "metadata": {},
   "outputs": [],
   "source": [
    "# split data\n",
    "total_len = len(out_data)\n",
    "val_len = round(0.20 * total_len)\n",
    "\n",
    "\n",
    "y = out_data['helpfulness']\n",
    "X = out_data[['star_rating', 'vine', 'verified_purchase', 'words_text', 'sentence_count', 'word_count', 'ARI']]\n",
    "# X = out_data[['star_rating', 'vine', 'verified_purchase', 'review', 'sentence_count', 'word_count', 'ARI',\n",
    "#        'words', 'words_text']]\n",
    "\n",
    "X_train, X_test, y_train, y_test = train_test_split(X, y, test_size=val_len, stratify=y,\n",
    "                                                    random_state=123)"
   ]
  },
  {
   "cell_type": "code",
   "execution_count": 35,
   "id": "b99739bd-1ba4-4ab9-b715-749e9d5a7f4c",
   "metadata": {
    "tags": []
   },
   "outputs": [
    {
     "name": "stdout",
     "output_type": "stream",
     "text": [
      "(31002, 7)\n",
      "(7750, 7)\n"
     ]
    }
   ],
   "source": [
    "print(X_train.shape)\n",
    "print(X_test.shape)"
   ]
  },
  {
   "cell_type": "code",
   "execution_count": 36,
   "id": "a1212e7c",
   "metadata": {},
   "outputs": [],
   "source": [
    "# 'star_rating', 'vine', 'verified_purchase', 'sentence_count', 'word_count', 'ARI'\n",
    "numeric_features = ['star_rating', 'vine', 'verified_purchase', 'sentence_count', 'word_count', 'ARI']\n",
    "\n",
    "numeric_transformer = Pipeline([\n",
    "    ('scaler', StandardScaler())\n",
    "])"
   ]
  },
  {
   "cell_type": "code",
   "execution_count": 37,
   "id": "3dcd4b51",
   "metadata": {},
   "outputs": [],
   "source": [
    "stop_list = stopwords.words('english')\n",
    "stop_list += list(string.punctuation)\n",
    "stop_list += ['br', '.<', '..', '...', '``', \"''\", '--']\n",
    "\n",
    "# 'review'\n",
    "categorical_transformer = Pipeline([\n",
    "    ('vectorizer', CountVectorizer(max_features=5000, stop_words='english'))\n",
    "])\n",
    "\n",
    "categorical_features = 'words_text'"
   ]
  },
  {
   "cell_type": "code",
   "execution_count": 38,
   "id": "6fea09b3",
   "metadata": {},
   "outputs": [],
   "source": [
    "feature_transformers = [\n",
    "    ('numeric', numeric_transformer, numeric_features),\n",
    "    ('categorical', categorical_transformer, categorical_features)\n",
    "]\n",
    "\n",
    "\n",
    "\n",
    "feature_preprocessor = ColumnTransformer(transformers=feature_transformers,remainder='drop')"
   ]
  },
  {
   "cell_type": "code",
   "execution_count": 39,
   "id": "222f12d0-035f-477c-9cff-e9e8c7bcb57b",
   "metadata": {},
   "outputs": [
    {
     "data": {
      "text/html": [
       "<style>#sk-container-id-3 {color: black;background-color: white;}#sk-container-id-3 pre{padding: 0;}#sk-container-id-3 div.sk-toggleable {background-color: white;}#sk-container-id-3 label.sk-toggleable__label {cursor: pointer;display: block;width: 100%;margin-bottom: 0;padding: 0.3em;box-sizing: border-box;text-align: center;}#sk-container-id-3 label.sk-toggleable__label-arrow:before {content: \"▸\";float: left;margin-right: 0.25em;color: #696969;}#sk-container-id-3 label.sk-toggleable__label-arrow:hover:before {color: black;}#sk-container-id-3 div.sk-estimator:hover label.sk-toggleable__label-arrow:before {color: black;}#sk-container-id-3 div.sk-toggleable__content {max-height: 0;max-width: 0;overflow: hidden;text-align: left;background-color: #f0f8ff;}#sk-container-id-3 div.sk-toggleable__content pre {margin: 0.2em;color: black;border-radius: 0.25em;background-color: #f0f8ff;}#sk-container-id-3 input.sk-toggleable__control:checked~div.sk-toggleable__content {max-height: 200px;max-width: 100%;overflow: auto;}#sk-container-id-3 input.sk-toggleable__control:checked~label.sk-toggleable__label-arrow:before {content: \"▾\";}#sk-container-id-3 div.sk-estimator input.sk-toggleable__control:checked~label.sk-toggleable__label {background-color: #d4ebff;}#sk-container-id-3 div.sk-label input.sk-toggleable__control:checked~label.sk-toggleable__label {background-color: #d4ebff;}#sk-container-id-3 input.sk-hidden--visually {border: 0;clip: rect(1px 1px 1px 1px);clip: rect(1px, 1px, 1px, 1px);height: 1px;margin: -1px;overflow: hidden;padding: 0;position: absolute;width: 1px;}#sk-container-id-3 div.sk-estimator {font-family: monospace;background-color: #f0f8ff;border: 1px dotted black;border-radius: 0.25em;box-sizing: border-box;margin-bottom: 0.5em;}#sk-container-id-3 div.sk-estimator:hover {background-color: #d4ebff;}#sk-container-id-3 div.sk-parallel-item::after {content: \"\";width: 100%;border-bottom: 1px solid gray;flex-grow: 1;}#sk-container-id-3 div.sk-label:hover label.sk-toggleable__label {background-color: #d4ebff;}#sk-container-id-3 div.sk-serial::before {content: \"\";position: absolute;border-left: 1px solid gray;box-sizing: border-box;top: 0;bottom: 0;left: 50%;z-index: 0;}#sk-container-id-3 div.sk-serial {display: flex;flex-direction: column;align-items: center;background-color: white;padding-right: 0.2em;padding-left: 0.2em;position: relative;}#sk-container-id-3 div.sk-item {position: relative;z-index: 1;}#sk-container-id-3 div.sk-parallel {display: flex;align-items: stretch;justify-content: center;background-color: white;position: relative;}#sk-container-id-3 div.sk-item::before, #sk-container-id-3 div.sk-parallel-item::before {content: \"\";position: absolute;border-left: 1px solid gray;box-sizing: border-box;top: 0;bottom: 0;left: 50%;z-index: -1;}#sk-container-id-3 div.sk-parallel-item {display: flex;flex-direction: column;z-index: 1;position: relative;background-color: white;}#sk-container-id-3 div.sk-parallel-item:first-child::after {align-self: flex-end;width: 50%;}#sk-container-id-3 div.sk-parallel-item:last-child::after {align-self: flex-start;width: 50%;}#sk-container-id-3 div.sk-parallel-item:only-child::after {width: 0;}#sk-container-id-3 div.sk-dashed-wrapped {border: 1px dashed gray;margin: 0 0.4em 0.5em 0.4em;box-sizing: border-box;padding-bottom: 0.4em;background-color: white;}#sk-container-id-3 div.sk-label label {font-family: monospace;font-weight: bold;display: inline-block;line-height: 1.2em;}#sk-container-id-3 div.sk-label-container {text-align: center;}#sk-container-id-3 div.sk-container {/* jupyter's `normalize.less` sets `[hidden] { display: none; }` but bootstrap.min.css set `[hidden] { display: none !important; }` so we also need the `!important` here to be able to override the default hidden behavior on the sphinx rendered scikit-learn.org. See: https://github.com/scikit-learn/scikit-learn/issues/21755 */display: inline-block !important;position: relative;}#sk-container-id-3 div.sk-text-repr-fallback {display: none;}</style><div id=\"sk-container-id-3\" class=\"sk-top-container\"><div class=\"sk-text-repr-fallback\"><pre>Pipeline(steps=[(&#x27;feature_preprocessor&#x27;,\n",
       "                 ColumnTransformer(transformers=[(&#x27;numeric&#x27;,\n",
       "                                                  Pipeline(steps=[(&#x27;scaler&#x27;,\n",
       "                                                                   StandardScaler())]),\n",
       "                                                  [&#x27;star_rating&#x27;, &#x27;vine&#x27;,\n",
       "                                                   &#x27;verified_purchase&#x27;,\n",
       "                                                   &#x27;sentence_count&#x27;,\n",
       "                                                   &#x27;word_count&#x27;, &#x27;ARI&#x27;]),\n",
       "                                                 (&#x27;categorical&#x27;,\n",
       "                                                  Pipeline(steps=[(&#x27;vectorizer&#x27;,\n",
       "                                                                   CountVectorizer(max_features=5000,\n",
       "                                                                                   stop_words=&#x27;english&#x27;))]),\n",
       "                                                  &#x27;words_text&#x27;)])),\n",
       "                (&#x27;forest&#x27;, RandomForestClassifier(n_estimators=10, n_jobs=-1))])</pre><b>In a Jupyter environment, please rerun this cell to show the HTML representation or trust the notebook. <br />On GitHub, the HTML representation is unable to render, please try loading this page with nbviewer.org.</b></div><div class=\"sk-container\" hidden><div class=\"sk-item sk-dashed-wrapped\"><div class=\"sk-label-container\"><div class=\"sk-label sk-toggleable\"><input class=\"sk-toggleable__control sk-hidden--visually\" id=\"sk-estimator-id-15\" type=\"checkbox\" ><label for=\"sk-estimator-id-15\" class=\"sk-toggleable__label sk-toggleable__label-arrow\">Pipeline</label><div class=\"sk-toggleable__content\"><pre>Pipeline(steps=[(&#x27;feature_preprocessor&#x27;,\n",
       "                 ColumnTransformer(transformers=[(&#x27;numeric&#x27;,\n",
       "                                                  Pipeline(steps=[(&#x27;scaler&#x27;,\n",
       "                                                                   StandardScaler())]),\n",
       "                                                  [&#x27;star_rating&#x27;, &#x27;vine&#x27;,\n",
       "                                                   &#x27;verified_purchase&#x27;,\n",
       "                                                   &#x27;sentence_count&#x27;,\n",
       "                                                   &#x27;word_count&#x27;, &#x27;ARI&#x27;]),\n",
       "                                                 (&#x27;categorical&#x27;,\n",
       "                                                  Pipeline(steps=[(&#x27;vectorizer&#x27;,\n",
       "                                                                   CountVectorizer(max_features=5000,\n",
       "                                                                                   stop_words=&#x27;english&#x27;))]),\n",
       "                                                  &#x27;words_text&#x27;)])),\n",
       "                (&#x27;forest&#x27;, RandomForestClassifier(n_estimators=10, n_jobs=-1))])</pre></div></div></div><div class=\"sk-serial\"><div class=\"sk-item sk-dashed-wrapped\"><div class=\"sk-label-container\"><div class=\"sk-label sk-toggleable\"><input class=\"sk-toggleable__control sk-hidden--visually\" id=\"sk-estimator-id-16\" type=\"checkbox\" ><label for=\"sk-estimator-id-16\" class=\"sk-toggleable__label sk-toggleable__label-arrow\">feature_preprocessor: ColumnTransformer</label><div class=\"sk-toggleable__content\"><pre>ColumnTransformer(transformers=[(&#x27;numeric&#x27;,\n",
       "                                 Pipeline(steps=[(&#x27;scaler&#x27;, StandardScaler())]),\n",
       "                                 [&#x27;star_rating&#x27;, &#x27;vine&#x27;, &#x27;verified_purchase&#x27;,\n",
       "                                  &#x27;sentence_count&#x27;, &#x27;word_count&#x27;, &#x27;ARI&#x27;]),\n",
       "                                (&#x27;categorical&#x27;,\n",
       "                                 Pipeline(steps=[(&#x27;vectorizer&#x27;,\n",
       "                                                  CountVectorizer(max_features=5000,\n",
       "                                                                  stop_words=&#x27;english&#x27;))]),\n",
       "                                 &#x27;words_text&#x27;)])</pre></div></div></div><div class=\"sk-parallel\"><div class=\"sk-parallel-item\"><div class=\"sk-item\"><div class=\"sk-label-container\"><div class=\"sk-label sk-toggleable\"><input class=\"sk-toggleable__control sk-hidden--visually\" id=\"sk-estimator-id-17\" type=\"checkbox\" ><label for=\"sk-estimator-id-17\" class=\"sk-toggleable__label sk-toggleable__label-arrow\">numeric</label><div class=\"sk-toggleable__content\"><pre>[&#x27;star_rating&#x27;, &#x27;vine&#x27;, &#x27;verified_purchase&#x27;, &#x27;sentence_count&#x27;, &#x27;word_count&#x27;, &#x27;ARI&#x27;]</pre></div></div></div><div class=\"sk-serial\"><div class=\"sk-item\"><div class=\"sk-serial\"><div class=\"sk-item\"><div class=\"sk-estimator sk-toggleable\"><input class=\"sk-toggleable__control sk-hidden--visually\" id=\"sk-estimator-id-18\" type=\"checkbox\" ><label for=\"sk-estimator-id-18\" class=\"sk-toggleable__label sk-toggleable__label-arrow\">StandardScaler</label><div class=\"sk-toggleable__content\"><pre>StandardScaler()</pre></div></div></div></div></div></div></div></div><div class=\"sk-parallel-item\"><div class=\"sk-item\"><div class=\"sk-label-container\"><div class=\"sk-label sk-toggleable\"><input class=\"sk-toggleable__control sk-hidden--visually\" id=\"sk-estimator-id-19\" type=\"checkbox\" ><label for=\"sk-estimator-id-19\" class=\"sk-toggleable__label sk-toggleable__label-arrow\">categorical</label><div class=\"sk-toggleable__content\"><pre>words_text</pre></div></div></div><div class=\"sk-serial\"><div class=\"sk-item\"><div class=\"sk-serial\"><div class=\"sk-item\"><div class=\"sk-estimator sk-toggleable\"><input class=\"sk-toggleable__control sk-hidden--visually\" id=\"sk-estimator-id-20\" type=\"checkbox\" ><label for=\"sk-estimator-id-20\" class=\"sk-toggleable__label sk-toggleable__label-arrow\">CountVectorizer</label><div class=\"sk-toggleable__content\"><pre>CountVectorizer(max_features=5000, stop_words=&#x27;english&#x27;)</pre></div></div></div></div></div></div></div></div></div></div><div class=\"sk-item\"><div class=\"sk-estimator sk-toggleable\"><input class=\"sk-toggleable__control sk-hidden--visually\" id=\"sk-estimator-id-21\" type=\"checkbox\" ><label for=\"sk-estimator-id-21\" class=\"sk-toggleable__label sk-toggleable__label-arrow\">RandomForestClassifier</label><div class=\"sk-toggleable__content\"><pre>RandomForestClassifier(n_estimators=10, n_jobs=-1)</pre></div></div></div></div></div></div></div>"
      ],
      "text/plain": [
       "Pipeline(steps=[('feature_preprocessor',\n",
       "                 ColumnTransformer(transformers=[('numeric',\n",
       "                                                  Pipeline(steps=[('scaler',\n",
       "                                                                   StandardScaler())]),\n",
       "                                                  ['star_rating', 'vine',\n",
       "                                                   'verified_purchase',\n",
       "                                                   'sentence_count',\n",
       "                                                   'word_count', 'ARI']),\n",
       "                                                 ('categorical',\n",
       "                                                  Pipeline(steps=[('vectorizer',\n",
       "                                                                   CountVectorizer(max_features=5000,\n",
       "                                                                                   stop_words='english'))]),\n",
       "                                                  'words_text')])),\n",
       "                ('forest', RandomForestClassifier(n_estimators=10, n_jobs=-1))])"
      ]
     },
     "execution_count": 39,
     "metadata": {},
     "output_type": "execute_result"
    }
   ],
   "source": [
    "fp_rf = Pipeline([('feature_preprocessor',feature_preprocessor),\n",
    "                        ('forest', RandomForestClassifier(n_estimators=10,\n",
    "                                                          n_jobs=-1))])\n",
    "\n",
    "fp_rf.fit(X_train, y_train)"
   ]
  },
  {
   "cell_type": "code",
   "execution_count": 40,
   "id": "5c79d7be",
   "metadata": {},
   "outputs": [
    {
     "name": "stdout",
     "output_type": "stream",
     "text": [
      "Validation accuracy: 0.8190967741935484\n"
     ]
    },
    {
     "data": {
      "text/plain": [
       "0.9940648990387717"
      ]
     },
     "execution_count": 40,
     "metadata": {},
     "output_type": "execute_result"
    }
   ],
   "source": [
    "y_pred_test = fp_rf.predict(X_test)\n",
    "print('Validation accuracy:', accuracy_score(y_test, y_pred_test))\n",
    "fp_rf.score(X_train, y_train)"
   ]
  },
  {
   "cell_type": "code",
   "execution_count": 41,
   "id": "20b239f3",
   "metadata": {},
   "outputs": [
    {
     "name": "stdout",
     "output_type": "stream",
     "text": [
      "              precision    recall  f1-score   support\n",
      "\n",
      "           0       0.70      0.43      0.53      1855\n",
      "           1       0.84      0.94      0.89      5895\n",
      "\n",
      "    accuracy                           0.82      7750\n",
      "   macro avg       0.77      0.69      0.71      7750\n",
      "weighted avg       0.81      0.82      0.80      7750\n",
      "\n"
     ]
    }
   ],
   "source": [
    "print(classification_report(y_test, y_pred_test))"
   ]
  },
  {
   "cell_type": "code",
   "execution_count": 42,
   "id": "5764cc66",
   "metadata": {},
   "outputs": [
    {
     "data": {
      "text/plain": [
       "[Text(0.5, 23.52222222222222, 'Predicted'),\n",
       " Text(113.9222222222222, 0.5, 'Actual')]"
      ]
     },
     "execution_count": 42,
     "metadata": {},
     "output_type": "execute_result"
    },
    {
     "data": {
      "image/png": "[encoded data removed]",
      "text/plain": [
       "<Figure size 640x480 with 1 Axes>"
      ]
     },
     "metadata": {},
     "output_type": "display_data"
    }
   ],
   "source": [
    "cm = confusion_matrix(y_test, y_pred_test)\n",
    "# Plotting the Confusion Matrix for easy understanding\n",
    "ax = plt.axes()\n",
    "sns.heatmap(cm, \n",
    "            annot=True, # Show values of each cell in the heatmap\n",
    "            fmt=\"1.0f\", # or \"d\"\n",
    "            cmap=\"YlGnBu\", # color range of the heatmap\n",
    "            linecolor='white', # plot cell border\n",
    "            linewidths=0.1, # width of border\n",
    "            cbar=False, # hide range bar\n",
    "            square=True) # Make the Confusion Matrix Look like a square\n",
    "ax.set_title('Confusion Matrix of RFT Classificaftion - Default Parameter Base Model')\n",
    "ax.set(xlabel='Predicted', ylabel='Actual') # Change X and Y axis labe"
   ]
  },
  {
   "cell_type": "markdown",
   "id": "31d46c53",
   "metadata": {
    "tags": []
   },
   "source": [
    "# MLP"
   ]
  },
  {
   "cell_type": "code",
   "execution_count": null,
   "id": "48f7640c-af01-4ced-883c-0e15cb2719de",
   "metadata": {},
   "outputs": [],
   "source": []
  },
  {
   "cell_type": "code",
   "execution_count": 43,
   "id": "8d631ee0-97a4-47d1-ae22-05dc8e85001c",
   "metadata": {
    "tags": []
   },
   "outputs": [],
   "source": [
    "from sklearn.neural_network import MLPClassifier\n",
    "from sklearn.metrics import accuracy_score\n",
    "from sklearn.metrics import ConfusionMatrixDisplay\n",
    "from sklearn.metrics import classification_report\n",
    "\n",
    "from sklearn.model_selection import GridSearchCV, RandomizedSearchCV\n",
    "\n",
    "\n",
    "# mlp = MLPClassifier(\n",
    "#     hidden_layer_sizes=(32, 16, 8), \n",
    "#     max_iter=30,\n",
    "#     activation = 'logistic',\n",
    "#     solver='adam',\n",
    "#     # random_state=123,\n",
    "#     #alpha= 0.0005,\n",
    "#     early_stopping=True,\n",
    "#     learning_rate = 'adaptive'\n",
    "# )\n",
    "\n",
    "# param_grid = {\n",
    "#     #'mlpc__hidden_layer_sizes': [ (64,), (32,), (16,)],\n",
    "#     #'mlpc__max_iter': [10, 20, 15],\n",
    "#     #'mlpc__activation': ['relu', 'logistic'],\n",
    "#     #'mlpc__solver': ['sgd', 'adam'],\n",
    "#     #'mlpc__alpha': [0.0001, 0.0005, 0.0008],\n",
    "#     #'mlpc__learning_rate': ['constant','adaptive']\n",
    "# }\n",
    "\n",
    "# grid = GridSearchCV(mlp, param_grid, n_jobs= -1, cv=5)\n",
    "# pipe = Pipeline([('feature_preprocessor',feature_preprocessor),\n",
    "#                         ('mlpc', mlp)])\n",
    "# cv_search = RandomizedSearchCV(pipe, param_grid, cv=2, verbose=1,n_jobs=-1)\n",
    "# cv_search.fit(X_train, y_train)\n",
    "# print(cv_search.score(X_train, y_train))\n",
    "# print(cv_search.score(X_test, y_test))"
   ]
  },
  {
   "cell_type": "code",
   "execution_count": 44,
   "id": "be60618b-fa32-47ae-b91e-7562fd451fd3",
   "metadata": {},
   "outputs": [],
   "source": [
    "#cv_search.best_params_"
   ]
  },
  {
   "cell_type": "code",
   "execution_count": 45,
   "id": "93121a16-1362-4a2c-a09a-ae7516d37456",
   "metadata": {
    "tags": []
   },
   "outputs": [],
   "source": [
    "#cv_search.best_score_"
   ]
  },
  {
   "cell_type": "code",
   "execution_count": 46,
   "id": "94b7db3e-e350-4369-b4e0-39134780133e",
   "metadata": {
    "tags": []
   },
   "outputs": [],
   "source": [
    "#y_pred_test = cv_search.predict(X_test)"
   ]
  },
  {
   "cell_type": "code",
   "execution_count": 47,
   "id": "15ca65cd-97e5-4ce1-8880-703c9ddede95",
   "metadata": {
    "tags": []
   },
   "outputs": [],
   "source": [
    "# cm = confusion_matrix(y_test, y_pred_test)\n",
    "# # Plotting the Confusion Matrix for easy understanding\n",
    "# ax = plt.axes()\n",
    "# sns.heatmap(cm, \n",
    "#             annot=True, # Show values of each cell in the heatmap\n",
    "#             fmt=\"1.0f\", # or \"d\"\n",
    "#             cmap=\"YlGnBu\", # color range of the heatmap\n",
    "#             linecolor='white', # plot cell border\n",
    "#             linewidths=0.1, # width of border\n",
    "#             cbar=False, # hide range bar\n",
    "#             square=True) # Make the Confusion Matrix Look like a square\n",
    "# ax.set_title('Confusion Matrix of Support Vector Machine Classificaftion - Default Parameter Base Model')\n",
    "# ax.set(xlabel='Predicted', ylabel='Actual') # Change X and Y axis labe"
   ]
  },
  {
   "cell_type": "code",
   "execution_count": 48,
   "id": "d9f1524d-b33a-4a2e-86d9-55875b67c123",
   "metadata": {
    "tags": []
   },
   "outputs": [],
   "source": [
    "#print(cv_search.score(X_test, y_test))"
   ]
  },
  {
   "cell_type": "markdown",
   "id": "c57e4cbc-b987-413b-8c02-9a0f8d72cf7e",
   "metadata": {},
   "source": [
    "# PIPE BELOW && GRID SEARCH ABOVE"
   ]
  },
  {
   "cell_type": "code",
   "execution_count": 55,
   "id": "5863be30-4473-4a70-a9c7-3391be824648",
   "metadata": {},
   "outputs": [],
   "source": [
    "\n",
    "mlp = MLPClassifier(\n",
    "    hidden_layer_sizes=(256, 128, 64), \n",
    "    max_iter=50,\n",
    "    activation = 'relu',\n",
    "    solver='adam',\n",
    "    random_state=123,\n",
    "    #alpha= 0.0005,\n",
    "    early_stopping=True,\n",
    "    learning_rate = 'adaptive'\n",
    ")\n",
    "pipe = Pipeline(steps=[('pre',feature_preprocessor),('mlpc', mlp)])"
   ]
  },
  {
   "cell_type": "code",
   "execution_count": null,
   "id": "c2f8e1ff",
   "metadata": {
    "tags": []
   },
   "outputs": [
    {
     "data": {
      "text/html": [
       "<style>#sk-container-id-5 {color: black;background-color: white;}#sk-container-id-5 pre{padding: 0;}#sk-container-id-5 div.sk-toggleable {background-color: white;}#sk-container-id-5 label.sk-toggleable__label {cursor: pointer;display: block;width: 100%;margin-bottom: 0;padding: 0.3em;box-sizing: border-box;text-align: center;}#sk-container-id-5 label.sk-toggleable__label-arrow:before {content: \"▸\";float: left;margin-right: 0.25em;color: #696969;}#sk-container-id-5 label.sk-toggleable__label-arrow:hover:before {color: black;}#sk-container-id-5 div.sk-estimator:hover label.sk-toggleable__label-arrow:before {color: black;}#sk-container-id-5 div.sk-toggleable__content {max-height: 0;max-width: 0;overflow: hidden;text-align: left;background-color: #f0f8ff;}#sk-container-id-5 div.sk-toggleable__content pre {margin: 0.2em;color: black;border-radius: 0.25em;background-color: #f0f8ff;}#sk-container-id-5 input.sk-toggleable__control:checked~div.sk-toggleable__content {max-height: 200px;max-width: 100%;overflow: auto;}#sk-container-id-5 input.sk-toggleable__control:checked~label.sk-toggleable__label-arrow:before {content: \"▾\";}#sk-container-id-5 div.sk-estimator input.sk-toggleable__control:checked~label.sk-toggleable__label {background-color: #d4ebff;}#sk-container-id-5 div.sk-label input.sk-toggleable__control:checked~label.sk-toggleable__label {background-color: #d4ebff;}#sk-container-id-5 input.sk-hidden--visually {border: 0;clip: rect(1px 1px 1px 1px);clip: rect(1px, 1px, 1px, 1px);height: 1px;margin: -1px;overflow: hidden;padding: 0;position: absolute;width: 1px;}#sk-container-id-5 div.sk-estimator {font-family: monospace;background-color: #f0f8ff;border: 1px dotted black;border-radius: 0.25em;box-sizing: border-box;margin-bottom: 0.5em;}#sk-container-id-5 div.sk-estimator:hover {background-color: #d4ebff;}#sk-container-id-5 div.sk-parallel-item::after {content: \"\";width: 100%;border-bottom: 1px solid gray;flex-grow: 1;}#sk-container-id-5 div.sk-label:hover label.sk-toggleable__label {background-color: #d4ebff;}#sk-container-id-5 div.sk-serial::before {content: \"\";position: absolute;border-left: 1px solid gray;box-sizing: border-box;top: 0;bottom: 0;left: 50%;z-index: 0;}#sk-container-id-5 div.sk-serial {display: flex;flex-direction: column;align-items: center;background-color: white;padding-right: 0.2em;padding-left: 0.2em;position: relative;}#sk-container-id-5 div.sk-item {position: relative;z-index: 1;}#sk-container-id-5 div.sk-parallel {display: flex;align-items: stretch;justify-content: center;background-color: white;position: relative;}#sk-container-id-5 div.sk-item::before, #sk-container-id-5 div.sk-parallel-item::before {content: \"\";position: absolute;border-left: 1px solid gray;box-sizing: border-box;top: 0;bottom: 0;left: 50%;z-index: -1;}#sk-container-id-5 div.sk-parallel-item {display: flex;flex-direction: column;z-index: 1;position: relative;background-color: white;}#sk-container-id-5 div.sk-parallel-item:first-child::after {align-self: flex-end;width: 50%;}#sk-container-id-5 div.sk-parallel-item:last-child::after {align-self: flex-start;width: 50%;}#sk-container-id-5 div.sk-parallel-item:only-child::after {width: 0;}#sk-container-id-5 div.sk-dashed-wrapped {border: 1px dashed gray;margin: 0 0.4em 0.5em 0.4em;box-sizing: border-box;padding-bottom: 0.4em;background-color: white;}#sk-container-id-5 div.sk-label label {font-family: monospace;font-weight: bold;display: inline-block;line-height: 1.2em;}#sk-container-id-5 div.sk-label-container {text-align: center;}#sk-container-id-5 div.sk-container {/* jupyter's `normalize.less` sets `[hidden] { display: none; }` but bootstrap.min.css set `[hidden] { display: none !important; }` so we also need the `!important` here to be able to override the default hidden behavior on the sphinx rendered scikit-learn.org. See: https://github.com/scikit-learn/scikit-learn/issues/21755 */display: inline-block !important;position: relative;}#sk-container-id-5 div.sk-text-repr-fallback {display: none;}</style><div id=\"sk-container-id-5\" class=\"sk-top-container\"><div class=\"sk-text-repr-fallback\"><pre>Pipeline(steps=[(&#x27;pre&#x27;,\n",
       "                 ColumnTransformer(transformers=[(&#x27;numeric&#x27;,\n",
       "                                                  Pipeline(steps=[(&#x27;scaler&#x27;,\n",
       "                                                                   StandardScaler())]),\n",
       "                                                  [&#x27;star_rating&#x27;, &#x27;vine&#x27;,\n",
       "                                                   &#x27;verified_purchase&#x27;,\n",
       "                                                   &#x27;sentence_count&#x27;,\n",
       "                                                   &#x27;word_count&#x27;, &#x27;ARI&#x27;]),\n",
       "                                                 (&#x27;categorical&#x27;,\n",
       "                                                  Pipeline(steps=[(&#x27;vectorizer&#x27;,\n",
       "                                                                   CountVectorizer(max_features=5000,\n",
       "                                                                                   stop_words=&#x27;english&#x27;))]),\n",
       "                                                  &#x27;words_text&#x27;)])),\n",
       "                (&#x27;mlpc&#x27;,\n",
       "                 MLPClassifier(early_stopping=True,\n",
       "                               hidden_layer_sizes=(256, 128, 64),\n",
       "                               learning_rate=&#x27;adaptive&#x27;, max_iter=50,\n",
       "                               random_state=123))])</pre><b>In a Jupyter environment, please rerun this cell to show the HTML representation or trust the notebook. <br />On GitHub, the HTML representation is unable to render, please try loading this page with nbviewer.org.</b></div><div class=\"sk-container\" hidden><div class=\"sk-item sk-dashed-wrapped\"><div class=\"sk-label-container\"><div class=\"sk-label sk-toggleable\"><input class=\"sk-toggleable__control sk-hidden--visually\" id=\"sk-estimator-id-29\" type=\"checkbox\" ><label for=\"sk-estimator-id-29\" class=\"sk-toggleable__label sk-toggleable__label-arrow\">Pipeline</label><div class=\"sk-toggleable__content\"><pre>Pipeline(steps=[(&#x27;pre&#x27;,\n",
       "                 ColumnTransformer(transformers=[(&#x27;numeric&#x27;,\n",
       "                                                  Pipeline(steps=[(&#x27;scaler&#x27;,\n",
       "                                                                   StandardScaler())]),\n",
       "                                                  [&#x27;star_rating&#x27;, &#x27;vine&#x27;,\n",
       "                                                   &#x27;verified_purchase&#x27;,\n",
       "                                                   &#x27;sentence_count&#x27;,\n",
       "                                                   &#x27;word_count&#x27;, &#x27;ARI&#x27;]),\n",
       "                                                 (&#x27;categorical&#x27;,\n",
       "                                                  Pipeline(steps=[(&#x27;vectorizer&#x27;,\n",
       "                                                                   CountVectorizer(max_features=5000,\n",
       "                                                                                   stop_words=&#x27;english&#x27;))]),\n",
       "                                                  &#x27;words_text&#x27;)])),\n",
       "                (&#x27;mlpc&#x27;,\n",
       "                 MLPClassifier(early_stopping=True,\n",
       "                               hidden_layer_sizes=(256, 128, 64),\n",
       "                               learning_rate=&#x27;adaptive&#x27;, max_iter=50,\n",
       "                               random_state=123))])</pre></div></div></div><div class=\"sk-serial\"><div class=\"sk-item sk-dashed-wrapped\"><div class=\"sk-label-container\"><div class=\"sk-label sk-toggleable\"><input class=\"sk-toggleable__control sk-hidden--visually\" id=\"sk-estimator-id-30\" type=\"checkbox\" ><label for=\"sk-estimator-id-30\" class=\"sk-toggleable__label sk-toggleable__label-arrow\">pre: ColumnTransformer</label><div class=\"sk-toggleable__content\"><pre>ColumnTransformer(transformers=[(&#x27;numeric&#x27;,\n",
       "                                 Pipeline(steps=[(&#x27;scaler&#x27;, StandardScaler())]),\n",
       "                                 [&#x27;star_rating&#x27;, &#x27;vine&#x27;, &#x27;verified_purchase&#x27;,\n",
       "                                  &#x27;sentence_count&#x27;, &#x27;word_count&#x27;, &#x27;ARI&#x27;]),\n",
       "                                (&#x27;categorical&#x27;,\n",
       "                                 Pipeline(steps=[(&#x27;vectorizer&#x27;,\n",
       "                                                  CountVectorizer(max_features=5000,\n",
       "                                                                  stop_words=&#x27;english&#x27;))]),\n",
       "                                 &#x27;words_text&#x27;)])</pre></div></div></div><div class=\"sk-parallel\"><div class=\"sk-parallel-item\"><div class=\"sk-item\"><div class=\"sk-label-container\"><div class=\"sk-label sk-toggleable\"><input class=\"sk-toggleable__control sk-hidden--visually\" id=\"sk-estimator-id-31\" type=\"checkbox\" ><label for=\"sk-estimator-id-31\" class=\"sk-toggleable__label sk-toggleable__label-arrow\">numeric</label><div class=\"sk-toggleable__content\"><pre>[&#x27;star_rating&#x27;, &#x27;vine&#x27;, &#x27;verified_purchase&#x27;, &#x27;sentence_count&#x27;, &#x27;word_count&#x27;, &#x27;ARI&#x27;]</pre></div></div></div><div class=\"sk-serial\"><div class=\"sk-item\"><div class=\"sk-serial\"><div class=\"sk-item\"><div class=\"sk-estimator sk-toggleable\"><input class=\"sk-toggleable__control sk-hidden--visually\" id=\"sk-estimator-id-32\" type=\"checkbox\" ><label for=\"sk-estimator-id-32\" class=\"sk-toggleable__label sk-toggleable__label-arrow\">StandardScaler</label><div class=\"sk-toggleable__content\"><pre>StandardScaler()</pre></div></div></div></div></div></div></div></div><div class=\"sk-parallel-item\"><div class=\"sk-item\"><div class=\"sk-label-container\"><div class=\"sk-label sk-toggleable\"><input class=\"sk-toggleable__control sk-hidden--visually\" id=\"sk-estimator-id-33\" type=\"checkbox\" ><label for=\"sk-estimator-id-33\" class=\"sk-toggleable__label sk-toggleable__label-arrow\">categorical</label><div class=\"sk-toggleable__content\"><pre>words_text</pre></div></div></div><div class=\"sk-serial\"><div class=\"sk-item\"><div class=\"sk-serial\"><div class=\"sk-item\"><div class=\"sk-estimator sk-toggleable\"><input class=\"sk-toggleable__control sk-hidden--visually\" id=\"sk-estimator-id-34\" type=\"checkbox\" ><label for=\"sk-estimator-id-34\" class=\"sk-toggleable__label sk-toggleable__label-arrow\">CountVectorizer</label><div class=\"sk-toggleable__content\"><pre>CountVectorizer(max_features=5000, stop_words=&#x27;english&#x27;)</pre></div></div></div></div></div></div></div></div></div></div><div class=\"sk-item\"><div class=\"sk-estimator sk-toggleable\"><input class=\"sk-toggleable__control sk-hidden--visually\" id=\"sk-estimator-id-35\" type=\"checkbox\" ><label for=\"sk-estimator-id-35\" class=\"sk-toggleable__label sk-toggleable__label-arrow\">MLPClassifier</label><div class=\"sk-toggleable__content\"><pre>MLPClassifier(early_stopping=True, hidden_layer_sizes=(256, 128, 64),\n",
       "              learning_rate=&#x27;adaptive&#x27;, max_iter=50, random_state=123)</pre></div></div></div></div></div></div></div>"
      ],
      "text/plain": [
       "Pipeline(steps=[('pre',\n",
       "                 ColumnTransformer(transformers=[('numeric',\n",
       "                                                  Pipeline(steps=[('scaler',\n",
       "                                                                   StandardScaler())]),\n",
       "                                                  ['star_rating', 'vine',\n",
       "                                                   'verified_purchase',\n",
       "                                                   'sentence_count',\n",
       "                                                   'word_count', 'ARI']),\n",
       "                                                 ('categorical',\n",
       "                                                  Pipeline(steps=[('vectorizer',\n",
       "                                                                   CountVectorizer(max_features=5000,\n",
       "                                                                                   stop_words='english'))]),\n",
       "                                                  'words_text')])),\n",
       "                ('mlpc',\n",
       "                 MLPClassifier(early_stopping=True,\n",
       "                               hidden_layer_sizes=(256, 128, 64),\n",
       "                               learning_rate='adaptive', max_iter=50,\n",
       "                               random_state=123))])"
      ]
     },
     "execution_count": 56,
     "metadata": {},
     "output_type": "execute_result"
    }
   ],
   "source": [
    "pipe.fit(X_train, y_train)"
   ]
  },
  {
   "cell_type": "code",
   "execution_count": null,
   "id": "ed57761f",
   "metadata": {},
   "outputs": [
    {
     "data": {
      "text/plain": [
       "0.8505806451612903"
      ]
     },
     "execution_count": 57,
     "metadata": {},
     "output_type": "execute_result"
    }
   ],
   "source": [
    "pipe.score(X_test,y_test)"
   ]
  },
  {
   "cell_type": "code",
   "execution_count": null,
   "id": "b339157e",
   "metadata": {
    "tags": []
   },
   "outputs": [
    {
     "data": {
      "text/plain": [
       "0.8783949422617896"
      ]
     },
     "execution_count": 58,
     "metadata": {},
     "output_type": "execute_result"
    }
   ],
   "source": [
    "pipe.score(X_train, y_train)"
   ]
  },
  {
   "cell_type": "code",
   "execution_count": 53,
   "id": "afca00f4",
   "metadata": {},
   "outputs": [],
   "source": [
    "y_pred_test = pipe.predict(X_test)"
   ]
  },
  {
   "cell_type": "code",
   "execution_count": 54,
   "id": "bf36c0db",
   "metadata": {},
   "outputs": [
    {
     "data": {
      "text/plain": [
       "[Text(0.5, 23.52222222222222, 'Predicted'),\n",
       " Text(113.9222222222222, 0.5, 'Actual')]"
      ]
     },
     "execution_count": 54,
     "metadata": {},
     "output_type": "execute_result"
    },
    {
     "data": {
      "image/png": "[encoded data removed]",
      "text/plain": [
       "<Figure size 640x480 with 1 Axes>"
      ]
     },
     "metadata": {},
     "output_type": "display_data"
    }
   ],
   "source": [
    "cm = confusion_matrix(y_test, y_pred_test)\n",
    "# Plotting the Confusion Matrix for easy understanding\n",
    "ax = plt.axes()\n",
    "sns.heatmap(cm, \n",
    "            annot=True, # Show values of each cell in the heatmap\n",
    "            fmt=\"1.0f\", # or \"d\"\n",
    "            cmap=\"YlGnBu\", # color range of the heatmap\n",
    "            linecolor='white', # plot cell border\n",
    "            linewidths=0.1, # width of border\n",
    "            cbar=False, # hide range bar\n",
    "            square=True) # Make the Confusion Matrix Look like a square\n",
    "ax.set_title('Confusion Matrix of MLP Classificaftion - After hyperparameters tuning')\n",
    "ax.set(xlabel='Predicted', ylabel='Actual') # Change X and Y axis labe"
   ]
  },
  {
   "cell_type": "code",
   "execution_count": null,
   "id": "e738b8f9",
   "metadata": {},
   "outputs": [],
   "source": []
  },
  {
   "cell_type": "code",
   "execution_count": null,
   "id": "eae0cf7b-4b4c-4bad-8f7d-9260a12f40bd",
   "metadata": {},
   "outputs": [],
   "source": []
  },
  {
   "cell_type": "code",
   "execution_count": 62,
   "id": "89f31738-7f42-488c-afce-0420f58ade62",
   "metadata": {},
   "outputs": [],
   "source": [
    "from sklearn.linear_model import LogisticRegression"
   ]
  },
  {
   "cell_type": "code",
   "execution_count": 161,
   "id": "5e1f2024-658d-495f-8859-76c23cf4dab6",
   "metadata": {},
   "outputs": [],
   "source": [
    "logisticRegr = LogisticRegression(\n",
    "    random_state=123,\n",
    "    max_iter=1500, \n",
    "    C=0.1,\n",
    "    solver='sag'\n",
    ")\n",
    "\n",
    "\n",
    "\n",
    "# param_grid={\n",
    "#     'lr__C' : np.logspace(1, -1, 5),\n",
    "#     #'lr__solver': ['lbfgs', 'liblinear', 'newton-cg', 'newton-cholesky', 'sag', 'saga']\n",
    "# }\n",
    "\n",
    "# # grid = GridSearchCV(mlp, param_grid, n_jobs= -1, cv=5)\n",
    "# pipe = Pipeline([('feature_preprocessor',feature_preprocessor),\n",
    "#                         ('lr', logisticRegr)])\n",
    "# cv_search = RandomizedSearchCV(pipe, param_grid, cv=2, verbose=1,n_jobs=-1)\n",
    "# cv_search.fit(X_train, y_train)\n",
    "# print(cv_search.score(X_train, y_train))\n",
    "# print(cv_search.score(X_test, y_test))"
   ]
  },
  {
   "cell_type": "code",
   "execution_count": 162,
   "id": "02744b9e-0409-48d4-9df9-137aee9628fc",
   "metadata": {},
   "outputs": [],
   "source": [
    "# cv_search.best_params_"
   ]
  },
  {
   "cell_type": "code",
   "execution_count": 163,
   "id": "b1ad5151-e45d-48f4-ad5c-ed0bf6ec1ad8",
   "metadata": {},
   "outputs": [],
   "source": [
    "pipe = Pipeline(steps=[('pre',feature_preprocessor),('lr', logisticRegr)])"
   ]
  },
  {
   "cell_type": "code",
   "execution_count": 164,
   "id": "4b84c483-512d-4751-9608-b4bdf9791c35",
   "metadata": {
    "tags": []
   },
   "outputs": [
    {
     "name": "stderr",
     "output_type": "stream",
     "text": [
      "/Users/kevinxu/opt/anaconda3/envs/733/lib/python3.11/site-packages/sklearn/linear_model/_sag.py:350: ConvergenceWarning: The max_iter was reached which means the coef_ did not converge\n",
      "  warnings.warn(\n"
     ]
    },
    {
     "data": {
      "text/html": [
       "<style>#sk-container-id-18 {color: black;background-color: white;}#sk-container-id-18 pre{padding: 0;}#sk-container-id-18 div.sk-toggleable {background-color: white;}#sk-container-id-18 label.sk-toggleable__label {cursor: pointer;display: block;width: 100%;margin-bottom: 0;padding: 0.3em;box-sizing: border-box;text-align: center;}#sk-container-id-18 label.sk-toggleable__label-arrow:before {content: \"▸\";float: left;margin-right: 0.25em;color: #696969;}#sk-container-id-18 label.sk-toggleable__label-arrow:hover:before {color: black;}#sk-container-id-18 div.sk-estimator:hover label.sk-toggleable__label-arrow:before {color: black;}#sk-container-id-18 div.sk-toggleable__content {max-height: 0;max-width: 0;overflow: hidden;text-align: left;background-color: #f0f8ff;}#sk-container-id-18 div.sk-toggleable__content pre {margin: 0.2em;color: black;border-radius: 0.25em;background-color: #f0f8ff;}#sk-container-id-18 input.sk-toggleable__control:checked~div.sk-toggleable__content {max-height: 200px;max-width: 100%;overflow: auto;}#sk-container-id-18 input.sk-toggleable__control:checked~label.sk-toggleable__label-arrow:before {content: \"▾\";}#sk-container-id-18 div.sk-estimator input.sk-toggleable__control:checked~label.sk-toggleable__label {background-color: #d4ebff;}#sk-container-id-18 div.sk-label input.sk-toggleable__control:checked~label.sk-toggleable__label {background-color: #d4ebff;}#sk-container-id-18 input.sk-hidden--visually {border: 0;clip: rect(1px 1px 1px 1px);clip: rect(1px, 1px, 1px, 1px);height: 1px;margin: -1px;overflow: hidden;padding: 0;position: absolute;width: 1px;}#sk-container-id-18 div.sk-estimator {font-family: monospace;background-color: #f0f8ff;border: 1px dotted black;border-radius: 0.25em;box-sizing: border-box;margin-bottom: 0.5em;}#sk-container-id-18 div.sk-estimator:hover {background-color: #d4ebff;}#sk-container-id-18 div.sk-parallel-item::after {content: \"\";width: 100%;border-bottom: 1px solid gray;flex-grow: 1;}#sk-container-id-18 div.sk-label:hover label.sk-toggleable__label {background-color: #d4ebff;}#sk-container-id-18 div.sk-serial::before {content: \"\";position: absolute;border-left: 1px solid gray;box-sizing: border-box;top: 0;bottom: 0;left: 50%;z-index: 0;}#sk-container-id-18 div.sk-serial {display: flex;flex-direction: column;align-items: center;background-color: white;padding-right: 0.2em;padding-left: 0.2em;position: relative;}#sk-container-id-18 div.sk-item {position: relative;z-index: 1;}#sk-container-id-18 div.sk-parallel {display: flex;align-items: stretch;justify-content: center;background-color: white;position: relative;}#sk-container-id-18 div.sk-item::before, #sk-container-id-18 div.sk-parallel-item::before {content: \"\";position: absolute;border-left: 1px solid gray;box-sizing: border-box;top: 0;bottom: 0;left: 50%;z-index: -1;}#sk-container-id-18 div.sk-parallel-item {display: flex;flex-direction: column;z-index: 1;position: relative;background-color: white;}#sk-container-id-18 div.sk-parallel-item:first-child::after {align-self: flex-end;width: 50%;}#sk-container-id-18 div.sk-parallel-item:last-child::after {align-self: flex-start;width: 50%;}#sk-container-id-18 div.sk-parallel-item:only-child::after {width: 0;}#sk-container-id-18 div.sk-dashed-wrapped {border: 1px dashed gray;margin: 0 0.4em 0.5em 0.4em;box-sizing: border-box;padding-bottom: 0.4em;background-color: white;}#sk-container-id-18 div.sk-label label {font-family: monospace;font-weight: bold;display: inline-block;line-height: 1.2em;}#sk-container-id-18 div.sk-label-container {text-align: center;}#sk-container-id-18 div.sk-container {/* jupyter's `normalize.less` sets `[hidden] { display: none; }` but bootstrap.min.css set `[hidden] { display: none !important; }` so we also need the `!important` here to be able to override the default hidden behavior on the sphinx rendered scikit-learn.org. See: https://github.com/scikit-learn/scikit-learn/issues/21755 */display: inline-block !important;position: relative;}#sk-container-id-18 div.sk-text-repr-fallback {display: none;}</style><div id=\"sk-container-id-18\" class=\"sk-top-container\"><div class=\"sk-text-repr-fallback\"><pre>Pipeline(steps=[(&#x27;pre&#x27;,\n",
       "                 ColumnTransformer(transformers=[(&#x27;numeric&#x27;,\n",
       "                                                  Pipeline(steps=[(&#x27;scaler&#x27;,\n",
       "                                                                   StandardScaler())]),\n",
       "                                                  [&#x27;star_rating&#x27;, &#x27;vine&#x27;,\n",
       "                                                   &#x27;verified_purchase&#x27;,\n",
       "                                                   &#x27;sentence_count&#x27;,\n",
       "                                                   &#x27;word_count&#x27;, &#x27;ARI&#x27;]),\n",
       "                                                 (&#x27;categorical&#x27;,\n",
       "                                                  Pipeline(steps=[(&#x27;vectorizer&#x27;,\n",
       "                                                                   CountVectorizer(max_features=5000,\n",
       "                                                                                   stop_words=&#x27;english&#x27;))]),\n",
       "                                                  &#x27;words_text&#x27;)])),\n",
       "                (&#x27;lr&#x27;,\n",
       "                 LogisticRegression(C=0.1, max_iter=1500, random_state=123,\n",
       "                                    solver=&#x27;sag&#x27;))])</pre><b>In a Jupyter environment, please rerun this cell to show the HTML representation or trust the notebook. <br />On GitHub, the HTML representation is unable to render, please try loading this page with nbviewer.org.</b></div><div class=\"sk-container\" hidden><div class=\"sk-item sk-dashed-wrapped\"><div class=\"sk-label-container\"><div class=\"sk-label sk-toggleable\"><input class=\"sk-toggleable__control sk-hidden--visually\" id=\"sk-estimator-id-120\" type=\"checkbox\" ><label for=\"sk-estimator-id-120\" class=\"sk-toggleable__label sk-toggleable__label-arrow\">Pipeline</label><div class=\"sk-toggleable__content\"><pre>Pipeline(steps=[(&#x27;pre&#x27;,\n",
       "                 ColumnTransformer(transformers=[(&#x27;numeric&#x27;,\n",
       "                                                  Pipeline(steps=[(&#x27;scaler&#x27;,\n",
       "                                                                   StandardScaler())]),\n",
       "                                                  [&#x27;star_rating&#x27;, &#x27;vine&#x27;,\n",
       "                                                   &#x27;verified_purchase&#x27;,\n",
       "                                                   &#x27;sentence_count&#x27;,\n",
       "                                                   &#x27;word_count&#x27;, &#x27;ARI&#x27;]),\n",
       "                                                 (&#x27;categorical&#x27;,\n",
       "                                                  Pipeline(steps=[(&#x27;vectorizer&#x27;,\n",
       "                                                                   CountVectorizer(max_features=5000,\n",
       "                                                                                   stop_words=&#x27;english&#x27;))]),\n",
       "                                                  &#x27;words_text&#x27;)])),\n",
       "                (&#x27;lr&#x27;,\n",
       "                 LogisticRegression(C=0.1, max_iter=1500, random_state=123,\n",
       "                                    solver=&#x27;sag&#x27;))])</pre></div></div></div><div class=\"sk-serial\"><div class=\"sk-item sk-dashed-wrapped\"><div class=\"sk-label-container\"><div class=\"sk-label sk-toggleable\"><input class=\"sk-toggleable__control sk-hidden--visually\" id=\"sk-estimator-id-121\" type=\"checkbox\" ><label for=\"sk-estimator-id-121\" class=\"sk-toggleable__label sk-toggleable__label-arrow\">pre: ColumnTransformer</label><div class=\"sk-toggleable__content\"><pre>ColumnTransformer(transformers=[(&#x27;numeric&#x27;,\n",
       "                                 Pipeline(steps=[(&#x27;scaler&#x27;, StandardScaler())]),\n",
       "                                 [&#x27;star_rating&#x27;, &#x27;vine&#x27;, &#x27;verified_purchase&#x27;,\n",
       "                                  &#x27;sentence_count&#x27;, &#x27;word_count&#x27;, &#x27;ARI&#x27;]),\n",
       "                                (&#x27;categorical&#x27;,\n",
       "                                 Pipeline(steps=[(&#x27;vectorizer&#x27;,\n",
       "                                                  CountVectorizer(max_features=5000,\n",
       "                                                                  stop_words=&#x27;english&#x27;))]),\n",
       "                                 &#x27;words_text&#x27;)])</pre></div></div></div><div class=\"sk-parallel\"><div class=\"sk-parallel-item\"><div class=\"sk-item\"><div class=\"sk-label-container\"><div class=\"sk-label sk-toggleable\"><input class=\"sk-toggleable__control sk-hidden--visually\" id=\"sk-estimator-id-122\" type=\"checkbox\" ><label for=\"sk-estimator-id-122\" class=\"sk-toggleable__label sk-toggleable__label-arrow\">numeric</label><div class=\"sk-toggleable__content\"><pre>[&#x27;star_rating&#x27;, &#x27;vine&#x27;, &#x27;verified_purchase&#x27;, &#x27;sentence_count&#x27;, &#x27;word_count&#x27;, &#x27;ARI&#x27;]</pre></div></div></div><div class=\"sk-serial\"><div class=\"sk-item\"><div class=\"sk-serial\"><div class=\"sk-item\"><div class=\"sk-estimator sk-toggleable\"><input class=\"sk-toggleable__control sk-hidden--visually\" id=\"sk-estimator-id-123\" type=\"checkbox\" ><label for=\"sk-estimator-id-123\" class=\"sk-toggleable__label sk-toggleable__label-arrow\">StandardScaler</label><div class=\"sk-toggleable__content\"><pre>StandardScaler()</pre></div></div></div></div></div></div></div></div><div class=\"sk-parallel-item\"><div class=\"sk-item\"><div class=\"sk-label-container\"><div class=\"sk-label sk-toggleable\"><input class=\"sk-toggleable__control sk-hidden--visually\" id=\"sk-estimator-id-124\" type=\"checkbox\" ><label for=\"sk-estimator-id-124\" class=\"sk-toggleable__label sk-toggleable__label-arrow\">categorical</label><div class=\"sk-toggleable__content\"><pre>words_text</pre></div></div></div><div class=\"sk-serial\"><div class=\"sk-item\"><div class=\"sk-serial\"><div class=\"sk-item\"><div class=\"sk-estimator sk-toggleable\"><input class=\"sk-toggleable__control sk-hidden--visually\" id=\"sk-estimator-id-125\" type=\"checkbox\" ><label for=\"sk-estimator-id-125\" class=\"sk-toggleable__label sk-toggleable__label-arrow\">CountVectorizer</label><div class=\"sk-toggleable__content\"><pre>CountVectorizer(max_features=5000, stop_words=&#x27;english&#x27;)</pre></div></div></div></div></div></div></div></div></div></div><div class=\"sk-item\"><div class=\"sk-estimator sk-toggleable\"><input class=\"sk-toggleable__control sk-hidden--visually\" id=\"sk-estimator-id-126\" type=\"checkbox\" ><label for=\"sk-estimator-id-126\" class=\"sk-toggleable__label sk-toggleable__label-arrow\">LogisticRegression</label><div class=\"sk-toggleable__content\"><pre>LogisticRegression(C=0.1, max_iter=1500, random_state=123, solver=&#x27;sag&#x27;)</pre></div></div></div></div></div></div></div>"
      ],
      "text/plain": [
       "Pipeline(steps=[('pre',\n",
       "                 ColumnTransformer(transformers=[('numeric',\n",
       "                                                  Pipeline(steps=[('scaler',\n",
       "                                                                   StandardScaler())]),\n",
       "                                                  ['star_rating', 'vine',\n",
       "                                                   'verified_purchase',\n",
       "                                                   'sentence_count',\n",
       "                                                   'word_count', 'ARI']),\n",
       "                                                 ('categorical',\n",
       "                                                  Pipeline(steps=[('vectorizer',\n",
       "                                                                   CountVectorizer(max_features=5000,\n",
       "                                                                                   stop_words='english'))]),\n",
       "                                                  'words_text')])),\n",
       "                ('lr',\n",
       "                 LogisticRegression(C=0.1, max_iter=1500, random_state=123,\n",
       "                                    solver='sag'))])"
      ]
     },
     "execution_count": 164,
     "metadata": {},
     "output_type": "execute_result"
    }
   ],
   "source": [
    "pipe.fit(X_train, y_train)"
   ]
  },
  {
   "cell_type": "code",
   "execution_count": 165,
   "id": "6f9f7efd-2490-41c7-8a90-2e37550ce296",
   "metadata": {},
   "outputs": [
    {
     "data": {
      "text/plain": [
       "0.8300645161290322"
      ]
     },
     "execution_count": 165,
     "metadata": {},
     "output_type": "execute_result"
    }
   ],
   "source": [
    "pipe.score(X_test,y_test)"
   ]
  },
  {
   "cell_type": "code",
   "execution_count": 166,
   "id": "154f8bf1-056b-4e82-b33c-2a77b74f70bd",
   "metadata": {},
   "outputs": [
    {
     "data": {
      "text/plain": [
       "0.8661699245209986"
      ]
     },
     "execution_count": 166,
     "metadata": {},
     "output_type": "execute_result"
    }
   ],
   "source": [
    "pipe.score(X_train, y_train)"
   ]
  },
  {
   "cell_type": "code",
   "execution_count": 176,
   "id": "526045f9-dbdf-4ef2-a927-e03d6c34e655",
   "metadata": {},
   "outputs": [],
   "source": [
    "test_predict = pipe.predict(X_test)"
   ]
  },
  {
   "cell_type": "code",
   "execution_count": 196,
   "id": "83f3cf67-67b9-4e2b-959d-73ef4b42f8dd",
   "metadata": {},
   "outputs": [
    {
     "name": "stdout",
     "output_type": "stream",
     "text": [
      "precision score:  0.8706282383419689\n"
     ]
    }
   ],
   "source": [
    "from sklearn.metrics import precision_score, recall_score, f1_score, roc_auc_score\n",
    "precision_score = precision_score(y_test, test_predict)\n",
    "print('precision score: ', precision_score)"
   ]
  },
  {
   "cell_type": "code",
   "execution_count": 197,
   "id": "41d44c74-513b-44de-bbbd-80696c98cf59",
   "metadata": {},
   "outputs": [
    {
     "name": "stdout",
     "output_type": "stream",
     "text": [
      "recall score:  0.9121289228159457\n"
     ]
    }
   ],
   "source": [
    "print('recall score: ', recall_score(y_test, test_predict))"
   ]
  },
  {
   "cell_type": "code",
   "execution_count": 198,
   "id": "6737a120-3c1a-439f-a48e-fff822dcdb29",
   "metadata": {},
   "outputs": [
    {
     "name": "stdout",
     "output_type": "stream",
     "text": [
      "f1 score:  0.8908955347527131\n"
     ]
    }
   ],
   "source": [
    "print('f1 score: ', f1_score(y_test, test_predict))"
   ]
  },
  {
   "cell_type": "code",
   "execution_count": 199,
   "id": "7cfe7a5f-f5fc-4457-99d6-bd484cbffe24",
   "metadata": {},
   "outputs": [
    {
     "name": "stdout",
     "output_type": "stream",
     "text": [
      "roc_auc score:  0.7407005800063556\n"
     ]
    }
   ],
   "source": [
    "print('roc_auc score: ', roc_auc_score(y_test, test_predict))"
   ]
  },
  {
   "cell_type": "code",
   "execution_count": 200,
   "id": "4c22986c-2be1-4eb1-9d8f-761fcc753ece",
   "metadata": {},
   "outputs": [
    {
     "data": {
      "text/plain": [
       "array([[ 0.96925389,  0.01957251,  0.40256862, ..., -0.0363475 ,\n",
       "         0.00584038,  0.04690701]])"
      ]
     },
     "execution_count": 200,
     "metadata": {},
     "output_type": "execute_result"
    }
   ],
   "source": [
    "logisticRegr.coef_"
   ]
  },
  {
   "cell_type": "code",
   "execution_count": 205,
   "id": "ba820275-f182-45f9-a82e-e2d951c28e83",
   "metadata": {},
   "outputs": [
    {
     "data": {
      "text/plain": [
       "('lr',\n",
       " LogisticRegression(C=0.1, max_iter=1500, random_state=123, solver='sag'))"
      ]
     },
     "execution_count": 205,
     "metadata": {},
     "output_type": "execute_result"
    }
   ],
   "source": [
    "pipe.steps[1]"
   ]
  },
  {
   "cell_type": "code",
   "execution_count": 209,
   "id": "8f9f46dc-7945-4603-922d-cbdb73912adf",
   "metadata": {},
   "outputs": [],
   "source": [
    "model = pipe.steps[1][1]"
   ]
  },
  {
   "cell_type": "code",
   "execution_count": 232,
   "id": "a7476e82-3c2f-4357-92fc-3b2237167001",
   "metadata": {
    "tags": []
   },
   "outputs": [
    {
     "data": {
      "text/html": [
       "<div>\n",
       "<style scoped>\n",
       "    .dataframe tbody tr th:only-of-type {\n",
       "        vertical-align: middle;\n",
       "    }\n",
       "\n",
       "    .dataframe tbody tr th {\n",
       "        vertical-align: top;\n",
       "    }\n",
       "\n",
       "    .dataframe thead th {\n",
       "        text-align: right;\n",
       "    }\n",
       "</style>\n",
       "<table border=\"1\" class=\"dataframe\">\n",
       "  <thead>\n",
       "    <tr style=\"text-align: right;\">\n",
       "      <th></th>\n",
       "      <th>coef</th>\n",
       "      <th>feature</th>\n",
       "    </tr>\n",
       "  </thead>\n",
       "  <tbody>\n",
       "    <tr>\n",
       "      <th>3</th>\n",
       "      <td>0.029132</td>\n",
       "      <td>numeric__sentence_count</td>\n",
       "    </tr>\n",
       "    <tr>\n",
       "      <th>4</th>\n",
       "      <td>-0.673897</td>\n",
       "      <td>numeric__word_count</td>\n",
       "    </tr>\n",
       "    <tr>\n",
       "      <th>32</th>\n",
       "      <td>0.072326</td>\n",
       "      <td>categorical__account</td>\n",
       "    </tr>\n",
       "    <tr>\n",
       "      <th>33</th>\n",
       "      <td>0.021431</td>\n",
       "      <td>categorical__accounts</td>\n",
       "    </tr>\n",
       "    <tr>\n",
       "      <th>966</th>\n",
       "      <td>-0.027285</td>\n",
       "      <td>categorical__count</td>\n",
       "    </tr>\n",
       "    <tr>\n",
       "      <th>967</th>\n",
       "      <td>0.062684</td>\n",
       "      <td>categorical__counter</td>\n",
       "    </tr>\n",
       "    <tr>\n",
       "      <th>968</th>\n",
       "      <td>0.405205</td>\n",
       "      <td>categorical__counterfeit</td>\n",
       "    </tr>\n",
       "    <tr>\n",
       "      <th>969</th>\n",
       "      <td>-0.026219</td>\n",
       "      <td>categorical__countless</td>\n",
       "    </tr>\n",
       "    <tr>\n",
       "      <th>970</th>\n",
       "      <td>0.073432</td>\n",
       "      <td>categorical__country</td>\n",
       "    </tr>\n",
       "    <tr>\n",
       "      <th>1207</th>\n",
       "      <td>-0.092871</td>\n",
       "      <td>categorical__discount</td>\n",
       "    </tr>\n",
       "    <tr>\n",
       "      <th>1392</th>\n",
       "      <td>0.053673</td>\n",
       "      <td>categorical__encounter</td>\n",
       "    </tr>\n",
       "    <tr>\n",
       "      <th>1393</th>\n",
       "      <td>0.090739</td>\n",
       "      <td>categorical__encountered</td>\n",
       "    </tr>\n",
       "  </tbody>\n",
       "</table>\n",
       "</div>"
      ],
      "text/plain": [
       "          coef                   feature\n",
       "3     0.029132   numeric__sentence_count\n",
       "4    -0.673897       numeric__word_count\n",
       "32    0.072326      categorical__account\n",
       "33    0.021431     categorical__accounts\n",
       "966  -0.027285        categorical__count\n",
       "967   0.062684      categorical__counter\n",
       "968   0.405205  categorical__counterfeit\n",
       "969  -0.026219    categorical__countless\n",
       "970   0.073432      categorical__country\n",
       "1207 -0.092871     categorical__discount\n",
       "1392  0.053673    categorical__encounter\n",
       "1393  0.090739  categorical__encountered"
      ]
     },
     "execution_count": 232,
     "metadata": {},
     "output_type": "execute_result"
    }
   ],
   "source": [
    "feature_names = pipe[:-1].get_feature_names_out()\n",
    "\n",
    "coefs = pd.DataFrame(\n",
    "    model.coef_.reshape(5006, 1),\n",
    "    columns=[\"Coefficients\"],\n",
    "    index=feature_names,\n",
    ")\n",
    "\n",
    "\n",
    "coef = np.array(model.coef_.reshape(5006, ))\n",
    "feature = np.array(feature_names)\n",
    "coef_df = pd.DataFrame({'coef': coef, 'feature': feature}, columns=['coef', 'feature'])\n",
    "coef_df[coef_df['feature'].str.contains('count')]"
   ]
  },
  {
   "cell_type": "code",
   "execution_count": 233,
   "id": "0f7b451d-414b-42b4-97cf-4680e1f3f33d",
   "metadata": {},
   "outputs": [
    {
     "data": {
      "text/html": [
       "<div>\n",
       "<style scoped>\n",
       "    .dataframe tbody tr th:only-of-type {\n",
       "        vertical-align: middle;\n",
       "    }\n",
       "\n",
       "    .dataframe tbody tr th {\n",
       "        vertical-align: top;\n",
       "    }\n",
       "\n",
       "    .dataframe thead th {\n",
       "        text-align: right;\n",
       "    }\n",
       "</style>\n",
       "<table border=\"1\" class=\"dataframe\">\n",
       "  <thead>\n",
       "    <tr style=\"text-align: right;\">\n",
       "      <th></th>\n",
       "      <th>Coefficients</th>\n",
       "    </tr>\n",
       "  </thead>\n",
       "  <tbody>\n",
       "    <tr>\n",
       "      <th>numeric__word_count</th>\n",
       "      <td>-0.673897</td>\n",
       "    </tr>\n",
       "    <tr>\n",
       "      <th>categorical__medialink</th>\n",
       "      <td>-0.416213</td>\n",
       "    </tr>\n",
       "    <tr>\n",
       "      <th>categorical__wait</th>\n",
       "      <td>-0.319808</td>\n",
       "    </tr>\n",
       "    <tr>\n",
       "      <th>categorical__hitachi</th>\n",
       "      <td>-0.304326</td>\n",
       "    </tr>\n",
       "    <tr>\n",
       "      <th>categorical__titan</th>\n",
       "      <td>-0.297042</td>\n",
       "    </tr>\n",
       "    <tr>\n",
       "      <th>categorical__sorry</th>\n",
       "      <td>-0.277627</td>\n",
       "    </tr>\n",
       "    <tr>\n",
       "      <th>categorical__state</th>\n",
       "      <td>-0.270263</td>\n",
       "    </tr>\n",
       "    <tr>\n",
       "      <th>categorical__tp</th>\n",
       "      <td>-0.267026</td>\n",
       "    </tr>\n",
       "    <tr>\n",
       "      <th>categorical__form</th>\n",
       "      <td>-0.264486</td>\n",
       "    </tr>\n",
       "    <tr>\n",
       "      <th>categorical__snugg</th>\n",
       "      <td>-0.259465</td>\n",
       "    </tr>\n",
       "    <tr>\n",
       "      <th>categorical__im</th>\n",
       "      <td>-0.255133</td>\n",
       "    </tr>\n",
       "    <tr>\n",
       "      <th>categorical__bigger</th>\n",
       "      <td>-0.251679</td>\n",
       "    </tr>\n",
       "    <tr>\n",
       "      <th>categorical__jpeg</th>\n",
       "      <td>-0.249330</td>\n",
       "    </tr>\n",
       "    <tr>\n",
       "      <th>categorical__benefit</th>\n",
       "      <td>-0.243051</td>\n",
       "    </tr>\n",
       "    <tr>\n",
       "      <th>categorical__thanks</th>\n",
       "      <td>-0.242553</td>\n",
       "    </tr>\n",
       "    <tr>\n",
       "      <th>categorical__physical</th>\n",
       "      <td>-0.240351</td>\n",
       "    </tr>\n",
       "    <tr>\n",
       "      <th>categorical__window</th>\n",
       "      <td>-0.238019</td>\n",
       "    </tr>\n",
       "    <tr>\n",
       "      <th>categorical__surround</th>\n",
       "      <td>-0.232462</td>\n",
       "    </tr>\n",
       "    <tr>\n",
       "      <th>categorical__drm</th>\n",
       "      <td>-0.228438</td>\n",
       "    </tr>\n",
       "    <tr>\n",
       "      <th>categorical__sales</th>\n",
       "      <td>-0.228433</td>\n",
       "    </tr>\n",
       "  </tbody>\n",
       "</table>\n",
       "</div>"
      ],
      "text/plain": [
       "                        Coefficients\n",
       "numeric__word_count        -0.673897\n",
       "categorical__medialink     -0.416213\n",
       "categorical__wait          -0.319808\n",
       "categorical__hitachi       -0.304326\n",
       "categorical__titan         -0.297042\n",
       "categorical__sorry         -0.277627\n",
       "categorical__state         -0.270263\n",
       "categorical__tp            -0.267026\n",
       "categorical__form          -0.264486\n",
       "categorical__snugg         -0.259465\n",
       "categorical__im            -0.255133\n",
       "categorical__bigger        -0.251679\n",
       "categorical__jpeg          -0.249330\n",
       "categorical__benefit       -0.243051\n",
       "categorical__thanks        -0.242553\n",
       "categorical__physical      -0.240351\n",
       "categorical__window        -0.238019\n",
       "categorical__surround      -0.232462\n",
       "categorical__drm           -0.228438\n",
       "categorical__sales         -0.228433"
      ]
     },
     "execution_count": 233,
     "metadata": {},
     "output_type": "execute_result"
    }
   ],
   "source": [
    "coefs.sort_values(by=['Coefficients']).head(20)"
   ]
  },
  {
   "cell_type": "code",
   "execution_count": 234,
   "id": "83734d56-c129-4988-81e7-9602641053e9",
   "metadata": {},
   "outputs": [
    {
     "data": {
      "text/html": [
       "<div>\n",
       "<style scoped>\n",
       "    .dataframe tbody tr th:only-of-type {\n",
       "        vertical-align: middle;\n",
       "    }\n",
       "\n",
       "    .dataframe tbody tr th {\n",
       "        vertical-align: top;\n",
       "    }\n",
       "\n",
       "    .dataframe thead th {\n",
       "        text-align: right;\n",
       "    }\n",
       "</style>\n",
       "<table border=\"1\" class=\"dataframe\">\n",
       "  <thead>\n",
       "    <tr style=\"text-align: right;\">\n",
       "      <th></th>\n",
       "      <th>Coefficients</th>\n",
       "    </tr>\n",
       "  </thead>\n",
       "  <tbody>\n",
       "    <tr>\n",
       "      <th>numeric__star_rating</th>\n",
       "      <td>0.969254</td>\n",
       "    </tr>\n",
       "    <tr>\n",
       "      <th>categorical__videoid</th>\n",
       "      <td>0.635528</td>\n",
       "    </tr>\n",
       "    <tr>\n",
       "      <th>categorical__counterfeit</th>\n",
       "      <td>0.405205</td>\n",
       "    </tr>\n",
       "    <tr>\n",
       "      <th>numeric__verified_purchase</th>\n",
       "      <td>0.402569</td>\n",
       "    </tr>\n",
       "    <tr>\n",
       "      <th>categorical__fake</th>\n",
       "      <td>0.375121</td>\n",
       "    </tr>\n",
       "    <tr>\n",
       "      <th>categorical__damage</th>\n",
       "      <td>0.363783</td>\n",
       "    </tr>\n",
       "    <tr>\n",
       "      <th>categorical__tip</th>\n",
       "      <td>0.320261</td>\n",
       "    </tr>\n",
       "    <tr>\n",
       "      <th>categorical__refurbished</th>\n",
       "      <td>0.318939</td>\n",
       "    </tr>\n",
       "    <tr>\n",
       "      <th>categorical__separate</th>\n",
       "      <td>0.304290</td>\n",
       "    </tr>\n",
       "    <tr>\n",
       "      <th>categorical__quiet</th>\n",
       "      <td>0.286512</td>\n",
       "    </tr>\n",
       "    <tr>\n",
       "      <th>categorical__months</th>\n",
       "      <td>0.283537</td>\n",
       "    </tr>\n",
       "    <tr>\n",
       "      <th>categorical__budget</th>\n",
       "      <td>0.281447</td>\n",
       "    </tr>\n",
       "    <tr>\n",
       "      <th>categorical__basically</th>\n",
       "      <td>0.272442</td>\n",
       "    </tr>\n",
       "    <tr>\n",
       "      <th>categorical__serial</th>\n",
       "      <td>0.272324</td>\n",
       "    </tr>\n",
       "    <tr>\n",
       "      <th>categorical__prevent</th>\n",
       "      <td>0.264773</td>\n",
       "    </tr>\n",
       "    <tr>\n",
       "      <th>categorical__directly</th>\n",
       "      <td>0.264016</td>\n",
       "    </tr>\n",
       "    <tr>\n",
       "      <th>categorical__buyers</th>\n",
       "      <td>0.255482</td>\n",
       "    </tr>\n",
       "    <tr>\n",
       "      <th>categorical__perfect</th>\n",
       "      <td>0.254906</td>\n",
       "    </tr>\n",
       "    <tr>\n",
       "      <th>categorical__copy</th>\n",
       "      <td>0.252712</td>\n",
       "    </tr>\n",
       "    <tr>\n",
       "      <th>categorical__hinge</th>\n",
       "      <td>0.251624</td>\n",
       "    </tr>\n",
       "  </tbody>\n",
       "</table>\n",
       "</div>"
      ],
      "text/plain": [
       "                            Coefficients\n",
       "numeric__star_rating            0.969254\n",
       "categorical__videoid            0.635528\n",
       "categorical__counterfeit        0.405205\n",
       "numeric__verified_purchase      0.402569\n",
       "categorical__fake               0.375121\n",
       "categorical__damage             0.363783\n",
       "categorical__tip                0.320261\n",
       "categorical__refurbished        0.318939\n",
       "categorical__separate           0.304290\n",
       "categorical__quiet              0.286512\n",
       "categorical__months             0.283537\n",
       "categorical__budget             0.281447\n",
       "categorical__basically          0.272442\n",
       "categorical__serial             0.272324\n",
       "categorical__prevent            0.264773\n",
       "categorical__directly           0.264016\n",
       "categorical__buyers             0.255482\n",
       "categorical__perfect            0.254906\n",
       "categorical__copy               0.252712\n",
       "categorical__hinge              0.251624"
      ]
     },
     "execution_count": 234,
     "metadata": {},
     "output_type": "execute_result"
    }
   ],
   "source": [
    "coefs.sort_values(by=['Coefficients'], ascending=False).head(20)"
   ]
  },
  {
   "cell_type": "code",
   "execution_count": null,
   "id": "b9213717-5e87-4190-81db-9298a9153cb3",
   "metadata": {},
   "outputs": [],
   "source": []
  },
  {
   "cell_type": "code",
   "execution_count": null,
   "id": "70a18a03-165c-4114-a701-adc292bf1d03",
   "metadata": {},
   "outputs": [],
   "source": []
  }
 ],
 "metadata": {
  "kernelspec": {
   "display_name": "pj733",
   "language": "python",
   "name": "pj733"
  },
  "language_info": {
   "codemirror_mode": {
    "name": "ipython",
    "version": 3
   },
   "file_extension": ".py",
   "mimetype": "text/x-python",
   "name": "python",
   "nbconvert_exporter": "python",
   "pygments_lexer": "ipython3",
   "version": "3.11.3"
  },
  "widgets": {
   "application/vnd.jupyter.widget-state+json": {
    "state": {},
    "version_major": 2,
    "version_minor": 0
   }
  }
 },
 "nbformat": 4,
 "nbformat_minor": 5
}
