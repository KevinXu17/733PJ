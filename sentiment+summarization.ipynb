{
  "cells": [
    {
      "cell_type": "markdown",
      "metadata": {
        "id": "ssUcLfgMI1Ls"
      },
      "source": [
        "# Task1: Sentiment Classification\n",
        "### 1.Feature Engineering\n",
        "#### (1)Load Dataset"
      ]
    },
    {
      "cell_type": "code",
      "execution_count": null,
      "metadata": {
        "id": "GJr1YKcNJn4k"
      },
      "outputs": [],
      "source": [
        "import pandas as pd\n",
        "import numpy as np \n",
        "\n",
        "import os\n",
        "import bz2\n",
        "import re \n",
        "\n",
        "train= bz2.BZ2File('data/train.ft.txt.bz2').readlines()\n",
        "test= bz2.BZ2File('data/test.ft.txt.bz2').readlines()\n"
      ]
    },
    {
      "cell_type": "markdown",
      "metadata": {
        "id": "9IYEuMaJOi43"
      },
      "source": [
        "#### (2)Assign the number of reviews"
      ]
    },
    {
      "cell_type": "code",
      "execution_count": null,
      "metadata": {
        "id": "5j90pg8nPCGw"
      },
      "outputs": [],
      "source": [
        "#set the size of the data you want to train\n",
        "#training\n",
        "num_train = 1000000\n",
        "\n",
        "#testing\n",
        "num_test = 100000\n",
        "\n",
        "train = [x.decode('utf-8') for x in train[:num_train]]\n",
        "test = [x.decode('utf-8') for x in test[:num_test]]"
      ]
    },
    {
      "cell_type": "markdown",
      "metadata": {
        "id": "58blicL_P1d9"
      },
      "source": [
        "(3) separate features and labels"
      ]
    },
    {
      "cell_type": "code",
      "execution_count": null,
      "metadata": {
        "id": "Mm3VLYOmQCM2"
      },
      "outputs": [],
      "source": [
        "train_labels = []\n",
        "train_sentences = []\n",
        "for x in train:\n",
        "    if x.split(' ')[0] == '__label__1':\n",
        "        train_labels.append(0)\n",
        "    else:\n",
        "        train_labels.append(1)\n",
        "    train_sentences.append(x.split(' ', 1)[1][:-1].lower())\n",
        "\n",
        "\n",
        "#do the same with testing set\n",
        "test_labels = []\n",
        "test_sentences = []\n",
        "for x in test:\n",
        "    if x.split(' ')[0] == '__label__1':\n",
        "        test_labels.append(0)\n",
        "    else:\n",
        "        test_labels.append(1)\n",
        "    test_sentences.append(x.split(' ', 1)[1][:-1].lower())\n"
      ]
    },
    {
      "cell_type": "markdown",
      "metadata": {
        "id": "O-86tQFXRFXq"
      },
      "source": [
        "(4) Transform to DataFrame"
      ]
    },
    {
      "cell_type": "code",
      "execution_count": null,
      "metadata": {
        "colab": {
          "base_uri": "https://localhost:8080/",
          "height": 206
        },
        "id": "WSQHrX-BRKJB",
        "outputId": "cff284c9-fb88-48bb-c426-db245f3dac88"
      },
      "outputs": [
        {
          "output_type": "execute_result",
          "data": {
            "text/plain": [
              "                                                text  label\n",
              "0  stuning even for the non-gamer: this sound tra...      1\n",
              "1  the best soundtrack ever to anything.: i'm rea...      1\n",
              "2  amazing!: this soundtrack is my favorite music...      1\n",
              "3  excellent soundtrack: i truly like this soundt...      1\n",
              "4  remember, pull your jaw off the floor after he...      1"
            ],
            "text/html": [
              "\n",
              "  <div id=\"df-f35d036c-6d33-4ac0-a369-6b8942593c54\">\n",
              "    <div class=\"colab-df-container\">\n",
              "      <div>\n",
              "<style scoped>\n",
              "    .dataframe tbody tr th:only-of-type {\n",
              "        vertical-align: middle;\n",
              "    }\n",
              "\n",
              "    .dataframe tbody tr th {\n",
              "        vertical-align: top;\n",
              "    }\n",
              "\n",
              "    .dataframe thead th {\n",
              "        text-align: right;\n",
              "    }\n",
              "</style>\n",
              "<table border=\"1\" class=\"dataframe\">\n",
              "  <thead>\n",
              "    <tr style=\"text-align: right;\">\n",
              "      <th></th>\n",
              "      <th>text</th>\n",
              "      <th>label</th>\n",
              "    </tr>\n",
              "  </thead>\n",
              "  <tbody>\n",
              "    <tr>\n",
              "      <th>0</th>\n",
              "      <td>stuning even for the non-gamer: this sound tra...</td>\n",
              "      <td>1</td>\n",
              "    </tr>\n",
              "    <tr>\n",
              "      <th>1</th>\n",
              "      <td>the best soundtrack ever to anything.: i'm rea...</td>\n",
              "      <td>1</td>\n",
              "    </tr>\n",
              "    <tr>\n",
              "      <th>2</th>\n",
              "      <td>amazing!: this soundtrack is my favorite music...</td>\n",
              "      <td>1</td>\n",
              "    </tr>\n",
              "    <tr>\n",
              "      <th>3</th>\n",
              "      <td>excellent soundtrack: i truly like this soundt...</td>\n",
              "      <td>1</td>\n",
              "    </tr>\n",
              "    <tr>\n",
              "      <th>4</th>\n",
              "      <td>remember, pull your jaw off the floor after he...</td>\n",
              "      <td>1</td>\n",
              "    </tr>\n",
              "  </tbody>\n",
              "</table>\n",
              "</div>\n",
              "      <button class=\"colab-df-convert\" onclick=\"convertToInteractive('df-f35d036c-6d33-4ac0-a369-6b8942593c54')\"\n",
              "              title=\"Convert this dataframe to an interactive table.\"\n",
              "              style=\"display:none;\">\n",
              "        \n",
              "  <svg xmlns=\"http://www.w3.org/2000/svg\" height=\"24px\"viewBox=\"0 0 24 24\"\n",
              "       width=\"24px\">\n",
              "    <path d=\"M0 0h24v24H0V0z\" fill=\"none\"/>\n",
              "    <path d=\"M18.56 5.44l.94 2.06.94-2.06 2.06-.94-2.06-.94-.94-2.06-.94 2.06-2.06.94zm-11 1L8.5 8.5l.94-2.06 2.06-.94-2.06-.94L8.5 2.5l-.94 2.06-2.06.94zm10 10l.94 2.06.94-2.06 2.06-.94-2.06-.94-.94-2.06-.94 2.06-2.06.94z\"/><path d=\"M17.41 7.96l-1.37-1.37c-.4-.4-.92-.59-1.43-.59-.52 0-1.04.2-1.43.59L10.3 9.45l-7.72 7.72c-.78.78-.78 2.05 0 2.83L4 21.41c.39.39.9.59 1.41.59.51 0 1.02-.2 1.41-.59l7.78-7.78 2.81-2.81c.8-.78.8-2.07 0-2.86zM5.41 20L4 18.59l7.72-7.72 1.47 1.35L5.41 20z\"/>\n",
              "  </svg>\n",
              "      </button>\n",
              "      \n",
              "  <style>\n",
              "    .colab-df-container {\n",
              "      display:flex;\n",
              "      flex-wrap:wrap;\n",
              "      gap: 12px;\n",
              "    }\n",
              "\n",
              "    .colab-df-convert {\n",
              "      background-color: #E8F0FE;\n",
              "      border: none;\n",
              "      border-radius: 50%;\n",
              "      cursor: pointer;\n",
              "      display: none;\n",
              "      fill: #1967D2;\n",
              "      height: 32px;\n",
              "      padding: 0 0 0 0;\n",
              "      width: 32px;\n",
              "    }\n",
              "\n",
              "    .colab-df-convert:hover {\n",
              "      background-color: #E2EBFA;\n",
              "      box-shadow: 0px 1px 2px rgba(60, 64, 67, 0.3), 0px 1px 3px 1px rgba(60, 64, 67, 0.15);\n",
              "      fill: #174EA6;\n",
              "    }\n",
              "\n",
              "    [theme=dark] .colab-df-convert {\n",
              "      background-color: #3B4455;\n",
              "      fill: #D2E3FC;\n",
              "    }\n",
              "\n",
              "    [theme=dark] .colab-df-convert:hover {\n",
              "      background-color: #434B5C;\n",
              "      box-shadow: 0px 1px 3px 1px rgba(0, 0, 0, 0.15);\n",
              "      filter: drop-shadow(0px 1px 2px rgba(0, 0, 0, 0.3));\n",
              "      fill: #FFFFFF;\n",
              "    }\n",
              "  </style>\n",
              "\n",
              "      <script>\n",
              "        const buttonEl =\n",
              "          document.querySelector('#df-f35d036c-6d33-4ac0-a369-6b8942593c54 button.colab-df-convert');\n",
              "        buttonEl.style.display =\n",
              "          google.colab.kernel.accessAllowed ? 'block' : 'none';\n",
              "\n",
              "        async function convertToInteractive(key) {\n",
              "          const element = document.querySelector('#df-f35d036c-6d33-4ac0-a369-6b8942593c54');\n",
              "          const dataTable =\n",
              "            await google.colab.kernel.invokeFunction('convertToInteractive',\n",
              "                                                     [key], {});\n",
              "          if (!dataTable) return;\n",
              "\n",
              "          const docLinkHtml = 'Like what you see? Visit the ' +\n",
              "            '<a target=\"_blank\" href=https://colab.research.google.com/notebooks/data_table.ipynb>data table notebook</a>'\n",
              "            + ' to learn more about interactive tables.';\n",
              "          element.innerHTML = '';\n",
              "          dataTable['output_type'] = 'display_data';\n",
              "          await google.colab.output.renderOutput(dataTable, element);\n",
              "          const docLink = document.createElement('div');\n",
              "          docLink.innerHTML = docLinkHtml;\n",
              "          element.appendChild(docLink);\n",
              "        }\n",
              "      </script>\n",
              "    </div>\n",
              "  </div>\n",
              "  "
            ]
          },
          "metadata": {},
          "execution_count": 4
        }
      ],
      "source": [
        "train = pd.DataFrame({'text':train_sentences,'label':train_labels})\n",
        "test = pd.DataFrame({'text':test_sentences,'label':test_labels})\n",
        "train.head(5)"
      ]
    },
    {
      "cell_type": "markdown",
      "metadata": {
        "id": "-hiyWxEHTkp6"
      },
      "source": [
        "(4) Add review length as a new feature"
      ]
    },
    {
      "cell_type": "code",
      "execution_count": null,
      "metadata": {
        "colab": {
          "base_uri": "https://localhost:8080/",
          "height": 206
        },
        "id": "FDilaSf7TtAC",
        "outputId": "b4355180-374d-4505-ae92-dbc9d1f0077b"
      },
      "outputs": [
        {
          "output_type": "execute_result",
          "data": {
            "text/plain": [
              "                                                text  label  review_length\n",
              "0  stuning even for the non-gamer: this sound tra...      1             80\n",
              "1  the best soundtrack ever to anything.: i'm rea...      1             97\n",
              "2  amazing!: this soundtrack is my favorite music...      1            129\n",
              "3  excellent soundtrack: i truly like this soundt...      1            118\n",
              "4  remember, pull your jaw off the floor after he...      1             87"
            ],
            "text/html": [
              "\n",
              "  <div id=\"df-cbb6dc37-c409-4ce2-999c-edfc5599c39c\">\n",
              "    <div class=\"colab-df-container\">\n",
              "      <div>\n",
              "<style scoped>\n",
              "    .dataframe tbody tr th:only-of-type {\n",
              "        vertical-align: middle;\n",
              "    }\n",
              "\n",
              "    .dataframe tbody tr th {\n",
              "        vertical-align: top;\n",
              "    }\n",
              "\n",
              "    .dataframe thead th {\n",
              "        text-align: right;\n",
              "    }\n",
              "</style>\n",
              "<table border=\"1\" class=\"dataframe\">\n",
              "  <thead>\n",
              "    <tr style=\"text-align: right;\">\n",
              "      <th></th>\n",
              "      <th>text</th>\n",
              "      <th>label</th>\n",
              "      <th>review_length</th>\n",
              "    </tr>\n",
              "  </thead>\n",
              "  <tbody>\n",
              "    <tr>\n",
              "      <th>0</th>\n",
              "      <td>stuning even for the non-gamer: this sound tra...</td>\n",
              "      <td>1</td>\n",
              "      <td>80</td>\n",
              "    </tr>\n",
              "    <tr>\n",
              "      <th>1</th>\n",
              "      <td>the best soundtrack ever to anything.: i'm rea...</td>\n",
              "      <td>1</td>\n",
              "      <td>97</td>\n",
              "    </tr>\n",
              "    <tr>\n",
              "      <th>2</th>\n",
              "      <td>amazing!: this soundtrack is my favorite music...</td>\n",
              "      <td>1</td>\n",
              "      <td>129</td>\n",
              "    </tr>\n",
              "    <tr>\n",
              "      <th>3</th>\n",
              "      <td>excellent soundtrack: i truly like this soundt...</td>\n",
              "      <td>1</td>\n",
              "      <td>118</td>\n",
              "    </tr>\n",
              "    <tr>\n",
              "      <th>4</th>\n",
              "      <td>remember, pull your jaw off the floor after he...</td>\n",
              "      <td>1</td>\n",
              "      <td>87</td>\n",
              "    </tr>\n",
              "  </tbody>\n",
              "</table>\n",
              "</div>\n",
              "      <button class=\"colab-df-convert\" onclick=\"convertToInteractive('df-cbb6dc37-c409-4ce2-999c-edfc5599c39c')\"\n",
              "              title=\"Convert this dataframe to an interactive table.\"\n",
              "              style=\"display:none;\">\n",
              "        \n",
              "  <svg xmlns=\"http://www.w3.org/2000/svg\" height=\"24px\"viewBox=\"0 0 24 24\"\n",
              "       width=\"24px\">\n",
              "    <path d=\"M0 0h24v24H0V0z\" fill=\"none\"/>\n",
              "    <path d=\"M18.56 5.44l.94 2.06.94-2.06 2.06-.94-2.06-.94-.94-2.06-.94 2.06-2.06.94zm-11 1L8.5 8.5l.94-2.06 2.06-.94-2.06-.94L8.5 2.5l-.94 2.06-2.06.94zm10 10l.94 2.06.94-2.06 2.06-.94-2.06-.94-.94-2.06-.94 2.06-2.06.94z\"/><path d=\"M17.41 7.96l-1.37-1.37c-.4-.4-.92-.59-1.43-.59-.52 0-1.04.2-1.43.59L10.3 9.45l-7.72 7.72c-.78.78-.78 2.05 0 2.83L4 21.41c.39.39.9.59 1.41.59.51 0 1.02-.2 1.41-.59l7.78-7.78 2.81-2.81c.8-.78.8-2.07 0-2.86zM5.41 20L4 18.59l7.72-7.72 1.47 1.35L5.41 20z\"/>\n",
              "  </svg>\n",
              "      </button>\n",
              "      \n",
              "  <style>\n",
              "    .colab-df-container {\n",
              "      display:flex;\n",
              "      flex-wrap:wrap;\n",
              "      gap: 12px;\n",
              "    }\n",
              "\n",
              "    .colab-df-convert {\n",
              "      background-color: #E8F0FE;\n",
              "      border: none;\n",
              "      border-radius: 50%;\n",
              "      cursor: pointer;\n",
              "      display: none;\n",
              "      fill: #1967D2;\n",
              "      height: 32px;\n",
              "      padding: 0 0 0 0;\n",
              "      width: 32px;\n",
              "    }\n",
              "\n",
              "    .colab-df-convert:hover {\n",
              "      background-color: #E2EBFA;\n",
              "      box-shadow: 0px 1px 2px rgba(60, 64, 67, 0.3), 0px 1px 3px 1px rgba(60, 64, 67, 0.15);\n",
              "      fill: #174EA6;\n",
              "    }\n",
              "\n",
              "    [theme=dark] .colab-df-convert {\n",
              "      background-color: #3B4455;\n",
              "      fill: #D2E3FC;\n",
              "    }\n",
              "\n",
              "    [theme=dark] .colab-df-convert:hover {\n",
              "      background-color: #434B5C;\n",
              "      box-shadow: 0px 1px 3px 1px rgba(0, 0, 0, 0.15);\n",
              "      filter: drop-shadow(0px 1px 2px rgba(0, 0, 0, 0.3));\n",
              "      fill: #FFFFFF;\n",
              "    }\n",
              "  </style>\n",
              "\n",
              "      <script>\n",
              "        const buttonEl =\n",
              "          document.querySelector('#df-cbb6dc37-c409-4ce2-999c-edfc5599c39c button.colab-df-convert');\n",
              "        buttonEl.style.display =\n",
              "          google.colab.kernel.accessAllowed ? 'block' : 'none';\n",
              "\n",
              "        async function convertToInteractive(key) {\n",
              "          const element = document.querySelector('#df-cbb6dc37-c409-4ce2-999c-edfc5599c39c');\n",
              "          const dataTable =\n",
              "            await google.colab.kernel.invokeFunction('convertToInteractive',\n",
              "                                                     [key], {});\n",
              "          if (!dataTable) return;\n",
              "\n",
              "          const docLinkHtml = 'Like what you see? Visit the ' +\n",
              "            '<a target=\"_blank\" href=https://colab.research.google.com/notebooks/data_table.ipynb>data table notebook</a>'\n",
              "            + ' to learn more about interactive tables.';\n",
              "          element.innerHTML = '';\n",
              "          dataTable['output_type'] = 'display_data';\n",
              "          await google.colab.output.renderOutput(dataTable, element);\n",
              "          const docLink = document.createElement('div');\n",
              "          docLink.innerHTML = docLinkHtml;\n",
              "          element.appendChild(docLink);\n",
              "        }\n",
              "      </script>\n",
              "    </div>\n",
              "  </div>\n",
              "  "
            ]
          },
          "metadata": {},
          "execution_count": 5
        }
      ],
      "source": [
        "# Get the 'text' column from the 'train' dataset\n",
        "text_column = train['text']\n",
        "\n",
        "# Convert each element in the 'text' column to lowercase and split into a list of words\n",
        "lowercase_text = text_column.str.lower()\n",
        "word_lists = lowercase_text.str.split()\n",
        "\n",
        "# Calculate the number of words in each text\n",
        "word_counts = word_lists.apply(len)\n",
        "\n",
        "# Add the calculated number of words column to the 'train' dataset\n",
        "train['review_length'] = word_counts\n",
        "\n",
        "\n",
        "train.head()"
      ]
    },
    {
      "cell_type": "code",
      "execution_count": null,
      "metadata": {
        "colab": {
          "base_uri": "https://localhost:8080/",
          "height": 206
        },
        "id": "B3JPVVu6Umj2",
        "outputId": "468ec293-3fa0-4cf4-e37e-bb4368f189be"
      },
      "outputs": [
        {
          "output_type": "execute_result",
          "data": {
            "text/plain": [
              "                                                text  label  review_length\n",
              "0  great cd: my lovely pat has one of the great v...      1            106\n",
              "1  one of the best game music soundtracks - for a...      1            148\n",
              "2  batteries died within a year ...: i bought thi...      0             60\n",
              "3  works fine, but maha energy is better: check o...      1             37\n",
              "4  great for the non-audiophile: reviewed quite a...      1             69"
            ],
            "text/html": [
              "\n",
              "  <div id=\"df-798e94ab-f3ca-4e95-b3aa-7c306a044ce0\">\n",
              "    <div class=\"colab-df-container\">\n",
              "      <div>\n",
              "<style scoped>\n",
              "    .dataframe tbody tr th:only-of-type {\n",
              "        vertical-align: middle;\n",
              "    }\n",
              "\n",
              "    .dataframe tbody tr th {\n",
              "        vertical-align: top;\n",
              "    }\n",
              "\n",
              "    .dataframe thead th {\n",
              "        text-align: right;\n",
              "    }\n",
              "</style>\n",
              "<table border=\"1\" class=\"dataframe\">\n",
              "  <thead>\n",
              "    <tr style=\"text-align: right;\">\n",
              "      <th></th>\n",
              "      <th>text</th>\n",
              "      <th>label</th>\n",
              "      <th>review_length</th>\n",
              "    </tr>\n",
              "  </thead>\n",
              "  <tbody>\n",
              "    <tr>\n",
              "      <th>0</th>\n",
              "      <td>great cd: my lovely pat has one of the great v...</td>\n",
              "      <td>1</td>\n",
              "      <td>106</td>\n",
              "    </tr>\n",
              "    <tr>\n",
              "      <th>1</th>\n",
              "      <td>one of the best game music soundtracks - for a...</td>\n",
              "      <td>1</td>\n",
              "      <td>148</td>\n",
              "    </tr>\n",
              "    <tr>\n",
              "      <th>2</th>\n",
              "      <td>batteries died within a year ...: i bought thi...</td>\n",
              "      <td>0</td>\n",
              "      <td>60</td>\n",
              "    </tr>\n",
              "    <tr>\n",
              "      <th>3</th>\n",
              "      <td>works fine, but maha energy is better: check o...</td>\n",
              "      <td>1</td>\n",
              "      <td>37</td>\n",
              "    </tr>\n",
              "    <tr>\n",
              "      <th>4</th>\n",
              "      <td>great for the non-audiophile: reviewed quite a...</td>\n",
              "      <td>1</td>\n",
              "      <td>69</td>\n",
              "    </tr>\n",
              "  </tbody>\n",
              "</table>\n",
              "</div>\n",
              "      <button class=\"colab-df-convert\" onclick=\"convertToInteractive('df-798e94ab-f3ca-4e95-b3aa-7c306a044ce0')\"\n",
              "              title=\"Convert this dataframe to an interactive table.\"\n",
              "              style=\"display:none;\">\n",
              "        \n",
              "  <svg xmlns=\"http://www.w3.org/2000/svg\" height=\"24px\"viewBox=\"0 0 24 24\"\n",
              "       width=\"24px\">\n",
              "    <path d=\"M0 0h24v24H0V0z\" fill=\"none\"/>\n",
              "    <path d=\"M18.56 5.44l.94 2.06.94-2.06 2.06-.94-2.06-.94-.94-2.06-.94 2.06-2.06.94zm-11 1L8.5 8.5l.94-2.06 2.06-.94-2.06-.94L8.5 2.5l-.94 2.06-2.06.94zm10 10l.94 2.06.94-2.06 2.06-.94-2.06-.94-.94-2.06-.94 2.06-2.06.94z\"/><path d=\"M17.41 7.96l-1.37-1.37c-.4-.4-.92-.59-1.43-.59-.52 0-1.04.2-1.43.59L10.3 9.45l-7.72 7.72c-.78.78-.78 2.05 0 2.83L4 21.41c.39.39.9.59 1.41.59.51 0 1.02-.2 1.41-.59l7.78-7.78 2.81-2.81c.8-.78.8-2.07 0-2.86zM5.41 20L4 18.59l7.72-7.72 1.47 1.35L5.41 20z\"/>\n",
              "  </svg>\n",
              "      </button>\n",
              "      \n",
              "  <style>\n",
              "    .colab-df-container {\n",
              "      display:flex;\n",
              "      flex-wrap:wrap;\n",
              "      gap: 12px;\n",
              "    }\n",
              "\n",
              "    .colab-df-convert {\n",
              "      background-color: #E8F0FE;\n",
              "      border: none;\n",
              "      border-radius: 50%;\n",
              "      cursor: pointer;\n",
              "      display: none;\n",
              "      fill: #1967D2;\n",
              "      height: 32px;\n",
              "      padding: 0 0 0 0;\n",
              "      width: 32px;\n",
              "    }\n",
              "\n",
              "    .colab-df-convert:hover {\n",
              "      background-color: #E2EBFA;\n",
              "      box-shadow: 0px 1px 2px rgba(60, 64, 67, 0.3), 0px 1px 3px 1px rgba(60, 64, 67, 0.15);\n",
              "      fill: #174EA6;\n",
              "    }\n",
              "\n",
              "    [theme=dark] .colab-df-convert {\n",
              "      background-color: #3B4455;\n",
              "      fill: #D2E3FC;\n",
              "    }\n",
              "\n",
              "    [theme=dark] .colab-df-convert:hover {\n",
              "      background-color: #434B5C;\n",
              "      box-shadow: 0px 1px 3px 1px rgba(0, 0, 0, 0.15);\n",
              "      filter: drop-shadow(0px 1px 2px rgba(0, 0, 0, 0.3));\n",
              "      fill: #FFFFFF;\n",
              "    }\n",
              "  </style>\n",
              "\n",
              "      <script>\n",
              "        const buttonEl =\n",
              "          document.querySelector('#df-798e94ab-f3ca-4e95-b3aa-7c306a044ce0 button.colab-df-convert');\n",
              "        buttonEl.style.display =\n",
              "          google.colab.kernel.accessAllowed ? 'block' : 'none';\n",
              "\n",
              "        async function convertToInteractive(key) {\n",
              "          const element = document.querySelector('#df-798e94ab-f3ca-4e95-b3aa-7c306a044ce0');\n",
              "          const dataTable =\n",
              "            await google.colab.kernel.invokeFunction('convertToInteractive',\n",
              "                                                     [key], {});\n",
              "          if (!dataTable) return;\n",
              "\n",
              "          const docLinkHtml = 'Like what you see? Visit the ' +\n",
              "            '<a target=\"_blank\" href=https://colab.research.google.com/notebooks/data_table.ipynb>data table notebook</a>'\n",
              "            + ' to learn more about interactive tables.';\n",
              "          element.innerHTML = '';\n",
              "          dataTable['output_type'] = 'display_data';\n",
              "          await google.colab.output.renderOutput(dataTable, element);\n",
              "          const docLink = document.createElement('div');\n",
              "          docLink.innerHTML = docLinkHtml;\n",
              "          element.appendChild(docLink);\n",
              "        }\n",
              "      </script>\n",
              "    </div>\n",
              "  </div>\n",
              "  "
            ]
          },
          "metadata": {},
          "execution_count": 6
        }
      ],
      "source": [
        "# Do the same with testing set\n",
        "\n",
        "text_column = test['text']\n",
        "lowercase_text = text_column.str.lower()\n",
        "word_lists = lowercase_text.str.split()\n",
        "word_counts = word_lists.apply(len)\n",
        "\n",
        "test['review_length'] = word_counts\n",
        "\n",
        "\n",
        "test.head()"
      ]
    },
    {
      "cell_type": "markdown",
      "metadata": {
        "id": "4IfP9o-dWq5T"
      },
      "source": [
        "### 2. Data Visualization"
      ]
    },
    {
      "cell_type": "markdown",
      "metadata": {
        "id": "DUdp5u4FYh9d"
      },
      "source": [
        "(1) Negative VS Positive"
      ]
    },
    {
      "cell_type": "code",
      "execution_count": null,
      "metadata": {
        "colab": {
          "base_uri": "https://localhost:8080/",
          "height": 850
        },
        "id": "wZq7pofzW9M1",
        "outputId": "80373d4c-de0e-4fe9-ebb3-b422b3b74b9e"
      },
      "outputs": [
        {
          "output_type": "display_data",
          "data": {
            "text/plain": [
              "<Figure size 1000x1000 with 1 Axes>"
            ],
            "image/png": "[encoded data removed]"
          },
          "metadata": {}
        }
      ],
      "source": [
        "import seaborn as sns\n",
        "import matplotlib.pyplot as plt\n",
        "\n",
        "# Define plot size and style\n",
        "fig, ax = plt.subplots(figsize=(10, 10))\n",
        "sns.set_style(\"darkgrid\")\n",
        "\n",
        "# Create the countplot\n",
        "sns.countplot(ax=ax, x=train[\"label\"])\n",
        "\n",
        "# Show the plot\n",
        "plt.show()\n"
      ]
    },
    {
      "cell_type": "markdown",
      "metadata": {
        "id": "2HuEKADqXo7k"
      },
      "source": [
        "As we can see from the mean and standard deviation shown above, the number of positive and negative reviews is roughly equal, indicating that the data set is of well-defined and there is no obvious class imbalance."
      ]
    },
    {
      "cell_type": "markdown",
      "metadata": {
        "id": "Wc4QKUfyYsps"
      },
      "source": [
        "### 3.Data Cleaning\n",
        "#### (1) Remove HTML labels, punctuations etc. and set stopwords"
      ]
    },
    {
      "cell_type": "code",
      "execution_count": null,
      "metadata": {
        "colab": {
          "base_uri": "https://localhost:8080/"
        },
        "id": "ivW9frBqa4ir",
        "outputId": "be0853c0-c4c5-43cc-cb8e-ead8ed9932c3"
      },
      "outputs": [
        {
          "output_type": "stream",
          "name": "stderr",
          "text": [
            "[nltk_data] Downloading package stopwords to /root/nltk_data...\n",
            "[nltk_data]   Package stopwords is already up-to-date!\n"
          ]
        }
      ],
      "source": [
        "import re\n",
        "import nltk\n",
        "\n",
        "nltk.download('stopwords')\n",
        "from nltk.corpus import stopwords\n",
        "\n",
        "\n",
        "def remove_html(text):\n",
        "  cleanr = re.compile('<.*?>')\n",
        "  return cleanr.sub(r\" \",text)\n",
        "\n",
        "def remove_url(text):\n",
        "     url=re.compile(r\"https?://\\S+|www\\.\\S+\")\n",
        "     return url.sub(r\" \",text)\n",
        "\n",
        "import string\n",
        "def remove_punc(text):\n",
        "   table=str.maketrans(' ',' ',string.punctuation)\n",
        "   return text.translate(table)\n",
        "\n",
        "def remove_num(texts):\n",
        "   output = re.sub(r'\\d+', '', texts)\n",
        "   return output\n",
        "\n",
        "stop=set(stopwords.words(\"english\"))\n",
        "def remove_stopword(text):\n",
        "   text=[word.lower() for word in text.split() if word.lower() not in stop]\n",
        "   return \" \".join(text)\n",
        "\n",
        "\n",
        "for i, row in train.iterrows():\n",
        "    text = row['text']\n",
        "    text = remove_url(text)\n",
        "    text = remove_html(text)\n",
        "    text = remove_punc(text)\n",
        "    text = remove_num(text)\n",
        "    text = remove_stopword(text)\n",
        "    train.at[i, 'text'] = text\n",
        "\n",
        "\n",
        "for i, row in test.iterrows():\n",
        "    text = row['text']\n",
        "    text = remove_url(text)\n",
        "    text = remove_html(text)\n",
        "    text = remove_punc(text)\n",
        "    text = remove_num(text)\n",
        "    text = remove_stopword(text)\n",
        "    test.at[i, 'text'] = text\n",
        "\n",
        "\n"
      ]
    },
    {
      "cell_type": "markdown",
      "metadata": {
        "id": "wKouFyh7gB3t"
      },
      "source": [
        "#### (2) Convert all words to base form or stem"
      ]
    },
    {
      "cell_type": "code",
      "execution_count": null,
      "metadata": {
        "colab": {
          "base_uri": "https://localhost:8080/"
        },
        "id": "xT8CKYaAgHke",
        "outputId": "fb48ec22-9ebd-4ed4-9136-a69626e418af"
      },
      "outputs": [
        {
          "output_type": "stream",
          "name": "stderr",
          "text": [
            "[nltk_data] Downloading package punkt to /root/nltk_data...\n",
            "[nltk_data]   Unzipping tokenizers/punkt.zip.\n"
          ]
        }
      ],
      "source": [
        "import nltk\n",
        "nltk.download('punkt')\n",
        "\n",
        "def Stemming(text):\n",
        "\n",
        "   stem=[]\n",
        "   from nltk.corpus import stopwords\n",
        "   from nltk.stem import SnowballStemmer\n",
        "\n",
        "   stopword = stopwords.words('english')\n",
        "   snowball_stemmer = SnowballStemmer('english')\n",
        "\n",
        "   word_tokens = nltk.word_tokenize(text)\n",
        "\n",
        "   stemmed_word = [snowball_stemmer.stem(word) for word in word_tokens]\n",
        "   stem=' '.join(stemmed_word)\n",
        "   return stem\n",
        "\n",
        "\n",
        "train['text']=train['text'].map(Stemming)\n",
        "test['text']=test['text'].map(Stemming)\n",
        "\n",
        "\n"
      ]
    },
    {
      "cell_type": "markdown",
      "metadata": {
        "id": "zEW9uv_Yg5_G"
      },
      "source": [
        "### 4.Modelling\n",
        "#### (1) Use Tokenizer to vectorize the words"
      ]
    },
    {
      "cell_type": "code",
      "execution_count": null,
      "metadata": {
        "id": "un-VfGyjhGql"
      },
      "outputs": [],
      "source": [
        "import tensorflow as tf\n",
        "from keras.models import Sequential\n",
        "from keras.layers import Dense, Dropout, Activation\n",
        "from keras.layers import LSTM,GRU\n",
        "from keras.preprocessing import sequence\n",
        "from sklearn.metrics import f1_score, roc_auc_score, accuracy_score    \n",
        "from tensorflow.python.keras import models, layers, optimizers   \n",
        "from keras.layers import Conv1D, MaxPooling1D, GlobalMaxPooling1D, SpatialDropout1D\n",
        "from keras.layers import Bidirectional\n",
        "from keras.optimizers import Adam\n",
        "from keras.callbacks import ModelCheckpoint\n",
        "from keras.callbacks import EarlyStopping\n",
        "\n",
        "\n",
        "max_length=100\n",
        "vocab_size=12000\n",
        "embedding_dim=64\n",
        "trunc_type=\"post\"\n",
        "oov_tok=\"<OOV>\"\n",
        "padding_type=\"post\"\n",
        "from tensorflow.keras.preprocessing.text import Tokenizer\n",
        "from tensorflow.keras.preprocessing.sequence import pad_sequences\n",
        "\n",
        "\n",
        "\n",
        "tokenizer = Tokenizer(num_words=vocab_size,oov_token=oov_tok)\n",
        "\n",
        "#Use the fit_on_texts method to tokenize the training text data and generate a vocabulary\n",
        "tokenizer.fit_on_texts(train['text'])\n",
        "\n",
        "#Get the generated vocabulary, which maps each word to a unique integer:\n",
        "word_index = tokenizer.word_index\n",
        "\n",
        "training_sequences = tokenizer.texts_to_sequences(train['text'])\n",
        "\n",
        "#Add paddings so that all the input sequences have the same length\n",
        "training_padded = pad_sequences(training_sequences, maxlen=max_length, padding=padding_type, truncating=trunc_type)\n",
        "\n",
        "testing_sequences = tokenizer.texts_to_sequences(test['text'])\n",
        "\n",
        "testing_padded = pad_sequences(testing_sequences, maxlen=max_length, padding=padding_type, truncating=trunc_type)"
      ]
    },
    {
      "cell_type": "markdown",
      "metadata": {
        "id": "jFD2wTnElPxn"
      },
      "source": [
        "#### (2) Embedding"
      ]
    },
    {
      "cell_type": "code",
      "execution_count": null,
      "metadata": {
        "id": "SyyGpcjblE8A"
      },
      "outputs": [],
      "source": [
        "from keras.layers import Embedding\n",
        "embedded=Embedding(vocab_size, embedding_dim, input_length=max_length)"
      ]
    },
    {
      "cell_type": "markdown",
      "metadata": {
        "id": "JNddyw3tlWZ-"
      },
      "source": [
        "#### (3) Modelling\n",
        "###### Here we choose to use Bidirectional LSTM for modelling and training\n",
        "![5-Figure1-1.png](data:image/png;base64,iVBORw0KGgoAAAANSUhEUgAABGwAAAL+CAIAAAB37BV5AAAJLmlDQ1BJQ0MgUHJvZmlsZQAAeJyVlWdQk1kXx+/zPOmFQBJCh1BDkSolgJQQWijSq6hA6J1QRWyIuAIriog0RZBFARdclSJrRRQLi4ICFnSDLALKunEVUUFZcN8ZnfcdP7z/mXvPb/5z5t5zz/lwASCIg2XBy3tiUrrA28mOGRgUzATfKIyflsLx9HQD39W7EQCtxHu638/5rggRkWn85bi4vHL5KYJ0AKDsZdbMSk9Z4aPLTA+P/8JnV1iwXOAy31jh6H957EvOvyz6kuPrzV1+FQoAHCn6Gw7/hv9z74pUOIL02KjIbKZPclR6Vpggkpm20gkel8v0FCRHxSZEflPw/5X8HaVHZqevRG5yyiZBbHRMOvN/DjUyMDQEX2fxxutLjyFG/3/PZ0VfveR6ANhzACD7vnrhlQB07gJA+tFXT225r5R8ADru8DMEmf96qJUNDQiAAuhABigCVaAJdIERMAOWwBY4ABfgAXxBENgA+CAGJAIByAK5YAcoAEVgHzgIqkAtaABNoBWcBp3gPLgCroPb4C4YBo+BEEyCl0AE3oEFCIKwEBmiQTKQEqQO6UBGEBuyhhwgN8gbCoJCoWgoCcqAcqGdUBFUClVBdVAT9At0DroC3YQGoYfQODQD/Q19hBGYBNNhBVgD1ofZMAd2hX3h9XA0nArnwPnwXrgCrodPwh3wFfg2PAwL4ZfwHAIQIsJAlBFdhI1wEQ8kGIlCBMhWpBApR+qRVqQb6UPuIUJkFvmAwqBoKCZKF2WJckb5ofioVNRWVDGqCnUC1YHqRd1DjaNEqM9oMloerYO2QPPQgehodBa6AF2ObkS3o6+hh9GT6HcYDIaBYWHMMM6YIEwcZjOmGHMY04a5jBnETGDmsFisDFYHa4X1wIZh07EF2ErsSewl7BB2EvseR8Qp4YxwjrhgXBIuD1eOa8ZdxA3hpnALeHG8Ot4C74GPwG/Cl+Ab8N34O/hJ/AJBgsAiWBF8CXGEHYQKQivhGmGM8IZIJKoQzYlexFjidmIF8RTxBnGc+IFEJWmTuKQQUgZpL+k46TLpIekNmUzWINuSg8np5L3kJvJV8lPyezGamJ4YTyxCbJtYtViH2JDYKwqeok7hUDZQcijllDOUO5RZcby4hjhXPEx8q3i1+DnxUfE5CZqEoYSHRKJEsUSzxE2JaSqWqkF1oEZQ86nHqFepEzSEpkrj0vi0nbQG2jXaJB1DZ9F59Dh6Ef1n+gBdJEmVNJb0l8yWrJa8IClkIAwNBo+RwChhnGaMMD5KKUhxpCKl9ki1Sg1JzUvLSdtKR0oXSrdJD0t/lGHKOMjEy+yX6ZR5IouS1Zb1ks2SPSJ7TXZWji5nKceXK5Q7LfdIHpbXlveW3yx/TL5ffk5BUcFJIUWhUuGqwqwiQ9FWMU6xTPGi4owSTclaKVapTOmS0gumJJPDTGBWMHuZImV5ZWflDOU65QHlBRWWip9KnkqbyhNVgipbNUq1TLVHVaSmpOaulqvWovZIHa/OVo9RP6Tepz6vwdII0Nit0akxzZJm8Vg5rBbWmCZZ00YzVbNe874WRoutFa91WOuuNqxtoh2jXa19RwfWMdWJ1TmsM7gKvcp8VdKq+lWjuiRdjm6mbovuuB5Dz00vT69T75W+mn6w/n79Pv3PBiYGCQYNBo8NqYYuhnmG3YZ/G2kb8Y2qje6vJq92XL1tddfq18Y6xpHGR4wfmNBM3E12m/SYfDI1MxWYtprOmKmZhZrVmI2y6WxPdjH7hjna3M58m/l58w8WphbpFqct/rLUtYy3bLacXsNaE7mmYc2ElYpVmFWdldCaaR1qfdRaaKNsE2ZTb/PMVtU2wrbRdoqjxYnjnOS8sjOwE9i1281zLbhbuJftEXsn+0L7AQeqg59DlcNTRxXHaMcWR5GTidNmp8vOaGdX5/3OozwFHp/XxBO5mLlscel1Jbn6uFa5PnPTdhO4dbvD7i7uB9zH1qqvTVrb6QE8eB4HPJ54sjxTPX/1wnh5elV7Pfc29M717vOh+Wz0afZ552vnW+L72E/TL8Ovx5/iH+Lf5D8fYB9QGiAM1A/cEng7SDYoNqgrGBvsH9wYPLfOYd3BdZMhJiEFISPrWeuz19/cILshYcOFjZSNYRvPhKJDA0KbQxfDPMLqw+bCeeE14SI+l3+I/zLCNqIsYibSKrI0cirKKqo0ajraKvpA9EyMTUx5zGwsN7Yq9nWcc1xt3Hy8R/zx+KWEgIS2RFxiaOK5JGpSfFJvsmJydvJgik5KQYow1SL1YKpI4CpoTIPS1qd1pdOXP8X+DM2MXRnjmdaZ1Znvs/yzzmRLZCdl92/S3rRn01SOY85Pm1Gb+Zt7cpVzd+SOb+FsqdsKbQ3f2rNNdVv+tsntTttP7CDsiN/xW55BXmne250BO7vzFfK350/sctrVUiBWICgY3W25u/YH1A+xPwzsWb2ncs/nwojCW0UGReVFi8X84ls/Gv5Y8ePS3qi9AyWmJUf2YfYl7RvZb7P/RKlEaU7pxAH3Ax1lzLLCsrcHNx68WW5cXnuIcCjjkLDCraKrUq1yX+ViVUzVcLVddVuNfM2emvnDEYeHjtgeaa1VqC2q/Xg09uiDOqe6jnqN+vJjmGOZx543+Df0/cT+qalRtrGo8dPxpOPCE94nepvMmpqa5ZtLWuCWjJaZkyEn7/5s/3NXq25rXRujregUOJVx6sUvob+MnHY93XOGfab1rPrZmnZae2EH1LGpQ9QZ0ynsCuoaPOdyrqfbsrv9V71fj59XPl99QfJCyUXCxfyLS5dyLs1dTrk8eyX6ykTPxp7HVwOv3u/16h245nrtxnXH61f7OH2XbljdOH/T4ua5W+xbnbdNb3f0m/S3/2byW/uA6UDHHbM7XXfN73YPrhm8OGQzdOWe/b3r93n3bw+vHR4c8Rt5MBoyKnwQ8WD6YcLD148yHy083j6GHit8Iv6k/Kn80/rftX5vE5oKL4zbj/c/83n2eII/8fKPtD8WJ/Ofk5+XTylNNU0bTZ+fcZy5+2Ldi8mXKS8XZgv+lPiz5pXmq7N/2f7VLwoUTb4WvF76u/iNzJvjb43f9sx5zj19l/huYb7wvcz7Ex/YH/o+BnycWshaxC5WfNL61P3Z9fPYUuLS0j9CLJC+ERlPpwAAoARJREFUeJzt3T3I9Fx62PFzO2vWhVke3UmxZdCNIe6caFjSpdEkhZuYoNltwkIKDYQU7jQYUqXRpLFJkSARUqSKR6RMNWoSSDBmtAQMIV8jFlzYhRm9MW6cIneKa5/r1av50nxJR9L/Vyzvzj3PzJkZHZ1znXOdc94+Pz8NAAAAAKCdX+q7AAD6tFqt3t7e3t7esiw7+YSiKOQJaZp2XDZg9KiAQO+ohrgPQRQwaWEYyn/keX7yCdJmOI4TBEF3xQKmgQoI9I5qiPsQRAGT5rqu7/vGmCzLqqo6foKMzAVB4DhO14UDxo4KCPSOaoj7EEQBUydDa1VVHWcyaIvC8BvwIlRAoHdUQ9yBIAqYujAMZXTtOJNBHtFROgBPRwUEekc1xB0IogD8IiM8y7KyLPVBHZPTfHEAr0AFBHpHNcStCKIAfNs81DMZNIeBxgN4KSog0DuqIW5FEAXgO8tq9UHJYdAkhwt0f9iXFhIYqzsqYJ7ny+Xy4+NDqt5sNlsul+f2FgNw1YPtICbojcN2ARhjsixbLBbGmN1u53leVVXv7+/GmO12ezUR/OPjQ/IfuJ8A92lfAauqWiwW5+KlMAzjOKbDB9zhkXYQE8RMFABjjAmCwHVd83UQTv63zVLa5XJZzyAHcIf2FXA+n+tK9yRJDofD5+fnZrORf56mqfQCAdzq7nYQ00QQBeAXZP/WeuNxYUfXsiyzLJvNZpzgDjxFmwqYpmlRFMYYx3F2u51mGQVBsNvtdHsxaiVwn5vaQUwcQRSAX5CFs2VZrtdrTQQ/fpqsgPr4+FgsFtKfA/C4NhVQs/iOF2k4jpMkifz38Vk3ANpo2Q4ChiAKgHJdV4bc1uu1qSU2AOhAmwqo0dHJ0XFNOmKHCeA+barhfD6fz+er1coYU1VVfYuX+Xwu/xBTQBAF4Ft6ars5n8MQx/Hnd3VaRGC82lRA4Xne8YPsJwE87mo1zPM8z/OiKMqy/Pj4SNNUFwbneb5arViXOBHszgfgO2SrPdd19/t9y3+im5tzPwEedLkC6hTTyZXuureY53m73e6l5QRG7HI1lCZPBjKqqorj2Pd9x3GyLFsulxJ9bTYbFlON3vf6LgAAG3H3B3p0rgJe3iVM95NgMzHgcZfbwaIoHMfZ7/c6AxwEgWT3GWOyLKMZHT1mogB8K8/z+XxujNnv9+0XRDETBTzFfRVQLJdLDaLu+OcAxNVqqE1eHMdRFNX/pEdLGRrECWBNFIBvSScsDEN6YED37quAMvitEVQcx9Rf4G7tq+HxXBPrEieFIAqYuqqqZFHser2Wvb/Y0RXozIMVMMsyWdou/zeKosbQOICr7quGjFZMHGuigKkrikJSF0QYhic3/gLwCndXwKqq1uu17qcs50SxDAO4A+0g7kAQBUydph/I+RhxHPdbHmBS7quAeZ4vl0vdWDkMwziOSSUC7kM7iDuwsQSAR7GxBNClNE1lBzBjjOd5ssNyv0UCpuNyk0eDOB2siQIAYDDqEVQURbvdjggKALrHTBSARzHwBnSjLMvZbCaneSZJwh4wQPeYiYJgJgoAgGFI01QiqCiKiKAAoEfMRAF4FANvQDc+Pj5kMwmO0wX6wkwUBEEUgEfRZgAdKMvy4+Oj5ZOpjMCLEERBkM4HAMAA6IbmAIDeMRMFAAAAADdgJgoAAAAAbkAQBQAAAAA3IIgCAAAAgBsQRAEAAADADQiiAAAAAOAGBFEAAAAAcAOCKAAAAAC4AUEUAAAAANyAIAoAAAAAbkAQBQAAAAA3+F7fBQAAAMBpb29v8h+fn5+PPH75TwBuxUwUAAAAANyAIAoAAAAAbvDGlC4AAAAAtMdMFAAAAADcgCAKAAAAAG5AEAUAAAAANyCIAgAAAIAbEEQBAAAAwA0IogAAAADgBgRRAAAAAHCD7/VdgN6UZZnneVmWZVkaYzzP833f87y+ywUAAADAalM8bLeqqtVqlabp8Z8cx4miKIqiR16/KIrVauV5XhzHj7yO/W8KAAAATNDkZqKKopjP51VVGWPCMPR933GcqqqKosiyrCzL1WpVlmWSJHe/RVVVeZ4/r8j2vikAAAAwQdNaE1WWpURQjuPsdrskSYIg8H0/CII4jvf7fRiGxpg0Tefzed+FBexSFEXfRQDwHWVZypggABvQUE7KtIKo5XIp7c12uz25/EnCKmNMnudZlnVdPsBWVVUxsgDYJk3Tk6npAHqxWCxkpT2mYEJBVJ7nkvAWhuGFDSR0TdFqtXp6Gebz+Wq1qqpqvV7PZrO3t7e3t7ePj4/lcvmiZDxJUPz4+Hh7e3t/f5/P58vlkhqOW6VpWlUVIwuAVdI0pVYClpBVIVTJCfmcDEnVM8bsdrs7nmmM8X3/5PN935dv8uSOFFEU1V/E8zwN4VzXdRzn5DNbvuPlN91ut/XXd11X/sNxnMPhcP0rA76SizYIgr4LAuAXNptNy0YNQAek9+i6bt8FQUcmNBMlYwOO41zdx1yDjVtnh1zX1X3SHcfxfd/3fX01URRFURRhGO73+/1+fzgcdrudPGe9Xt8x/XXhTSV90XGczWbz+fkpbxeGYVVVi8Xi1jfCZMlFa4zJsowFGIAldMCbkW+gd1VVSW5tWZasjJqKvqO47sjnPTe3U7fdbuXJjUmkNvNC+s9PPlle9ng4/3A4aKy13+9vfcdzb3ruI8v01MlXBo7VZzvjOO67OAA+D4eD1krHcfouDjB19V2dwzDsuzjowoRmotrTeOZFa4eO9093HEfXYj1rlbAOhOg0gpK93RkpQUv1a5Ixb8AG9VrJekWgdzSUEzSVIOqmxLyX7rvQWAelZFdA87z9MT3Pkwkr2VdtuVyu12v5aHEcn9ufEGhopPAdx+QAutfopdFpA3rUSOHT1D6M21SCKAknzI0BUmM501NceE350xPXnGw2G42j0jSVbfpkM0BWtqCl484Z3TWgX8djGaxXBHp0HDK9aMtlWGUqQZT5OtVTluXVOEov/Y7naqQJfOIwv+M42+12v9/HcawzXWVZpmn6/v7OfAKuOpkmxAAb0K+TAxlUTKAvJ0cbOU5m9CYURGlEdHUcXffx0/mrm1wOTi4MFsqfnv6mrutGUSQb9OnclDGGs1Nx1cluGQswgH6drJjUSqAX5+IlquToTSiI0qkYOTb03NPSNJXKEASBLl66EKJUVdWYtL2cU1EUxcnKpo2iBHs3vePJN5WlUI0904Mg2G63mjfIMAkuO9cG0DYAfTmXucd6RaAX5zL3mBwevQkFUa7ryrZ4ZVkul8uTzymKQqKO+nZ58n/NmehovV7fWpKT/0R7pTJT9JR3zPN8vV4fv0j91N2WL4UJutAnYwEG0JcLQxiMbgAdu7CHBAdGjd6EgihjTBiGcp50lmWz2aw+eFBV1Wq1ms1mcjrtdrutBxiu67quqyGWKMtytVqt1+tbQ5E0TReLhc4CydG3UpggCCSIevwdHceRD7tcLuszTlmWyXv5vk8QhQsud8gYYwO6dzmZlloJdIyGctL6PqiqB1EUafDgum5j9wjP83a73fG/2mw2J/+JnLlU/yb1GCgJhBon9urO4+Zo+ZPv+4fD4Y53PPemh8NB/6G8r35wx3FOfkxA1WPsX/mVXzHGfP/736/XlL4LCExOPUXiJFn+CqAb9e6ZNJG//Mu/rI9wEPa4TTGI+vz8PBwOYRjWdxv3PC8Mw8vNT31XBol5kiT5/PyMosj3/fqL1+O0RhAlz0ySRF/KcZwgCOSl7nvHC296OBziOK5Xcs/zoiiqR2vAMY3h5RL96U9/aoz56U9/+uXLF32cOBzoWGNArfEfxpggCPouIzAV+/1eq96XL1+kofzRj35UH4I82bvDOEw0iOqLBlGA5XQjFpm0jKJIgvPdbqdxVH2AAMCr7Xa7egT1+fkp//35+VmPoxgjA7ohLaNEUNpQ+r6/2+00jmJcY8SmtSYKQBu67kLWBzZmMvM8lziKbG+gS7r6IgxDTeEWSZJoHEXFBLohVfLLly95njcaSl1az4FRI0YQBaBJOmHHEZTQOIoDo4AuScU8jqCExlHUSqADEh0dR1CiEUf1UUC8HEEUgKYsy85FUELiKMdxaBuAbsi5AuciKCFxFAdGAR2QRvBkBCU0jmJyeKwIojrl+/65ygZYQs6DvhBBCWke8jznwCigA1mWXY6ghMRRjG4ALyWJGC0byqqqGNcYJYKoTm2326sb1AL9atMwCGke6K4BHXAc52oEJVo+DcDd8jynocT3+i4AALvcFOd7nsfkKtCBm0IjRuuAl9INbNugoRwrZqIAAAAA4AYEUQAAAABwA4IoAAAAALgBQRQAAAAA3IAgCgAAAABuQBAFAAAAADcgiAIAAACAGxBEAQAAAMANCKIAAAAA4AYEUQAAAABwA4IoAAAAALgBQRQAAAAA3IAgCgAAAABuQBAFAAAAADcgiAIAAACAGxBEAQAAAMANCKIAAAAA4AYEUQAAAABwA4IoAAAAALgBQRQAAAAA3IAgCgAAAABuQBAFAAAAADcgiAIAAACAGxBEAQAAAMANCKIAAAAA4AYEUQAAAABwA4IoAAAAALgBQRQAAAAA3IAgCgAAAABuQBAFAAAAADcgiAIAAACAGxBEAQAAAMANCKIAAAAA4AYEUQAAAABwA4IoAAAAALgBQRQAAAAA3IAgCgAAAABuQBAFAAAAADcgiAIAAACAGxBEAQAAAMANCKIAAAAA4AYEUQAAAABwA4IoAAAAALgBQRQAAAAA3IAgCgAAAABuQBAFAAAAADcgiAIAAACAGxBEAQAAAMANCKIAAAAA4AYEUQAAAABwA4IoAAAAALgBQRQAAAAA3IAgCgAAAABuQBAFAAAAADcgiAIAAACAGxBEAQAAAMANCKIAAAAA4AYEUQAAAABwA4IoAAAAALgBQRQAAAAA3IAgCgAAAABuQBAFAAAAADcgiAIAAACAGxBEAQAAAMANCKIAAAAA4AYEUQAAAABwA4IoAAAAALgBQRQAAAAA3IAgCgAAAABuQBAFAAAAADcgiAIAAACAGxBEAQAAAMANCKIAAAAA4AYEUQAAAABwA4IoAAAAALgBQRQAAAAA3IAgCgAAAABuQBAFAAAAADcgiAIAAACAGxBEAQAAAMANCKIAAAAA4AYEUQAAAABwA4IoAAAAALgBQRQAAAAA3IAgCgAAAABuQBAFAAAAADf4Xt8FAEaiqqqiKPouxav8/Oc/l//N87zvsnzL8zzHcfouBYatKIqqqvouxUOsqpWX+b7fdxEweNbWWWkoD4fDgKrkZY7jeJ7Xdyns9fb5+dl3GYAx+Pj4KMuy71JMSxAEm82m71JgwIqimM1mfZdiQuI4jqKo71JgwNbr9Wq16rsUE7Ldbhn7OId0PuA5iKC6Z+dgJAaES6hjfOF4EJcQ7EEQBTzTdrv9HCMZPI6iqO+C/MJ2u+37p8Z4+L7f9xU9fkxA4YnsaYxGjAmoq161JqqqqizLyrKsqqqqKtd1XdcNguApCxiKosiyrKoqx3F83x/6z1wUhcxNe54Xx3HfxYFF5FI3xpRl6bru3Vd7nud5nldVFQTB0OsLYDPqLDAs1Fnc7flBVFVV6/V6vV4f/2m1WoVh+GCckKbpcrmsP+I4zmq1Gm4EUlXVaNYg4lmqqlosFnmey7JOGZVYr9ee522325sGI7IsWywWxhjf94ui4OYOvAJ1FhgW6iwe9OQgqqqq+Xwue5RFUSSXkexalud5URQSXN0d7VRVtVwuHceJokg2DHFdtyxLghCMSVVVs9msLMs4jsMwlFt5VVWr1UoGEW7aTSFNU9/3H8x/k/E513UfeRFgrCysswAuoM7icU8OolarlURQjd08giAwxiyXyzRN1+v13bOl8uJBENSzq1nQj5FZr9dlWfq+X7/OHcdJkiTP8yzLiqLoeNfRMAzDMOzyHYEBsbDOAriAOovHPXljiTRNjTHn8kHjOJZY/8GJI6ImTMHJXAKd4FWr1erj4+Pt7e3t7W2xWEhut5BJWlmXKFPBxpg0TefzufzD9/d3+e80TVerlcz0vr+/v729zWYzean1ei2vP5vNlstlY2ckeWVRf1zeunFwVr0YwPh0VmfvrrCGOgvUUGfxkCfu47Hf7+U1gyA49xwZzD5+QpIkesk6jiPHvxz/c5kqbeykdPJBIWMM8vo6ouD7vr74ZrORx2WPiiiKDofDrR/8QTr/2+8OUdvtViYM9UdMkqTxHP0+d7udPJkdcpR8b0/ZnU/yXR3HieP4wtMOh4MmtUZRFEWRtAf6ozS2w5ILTPfZazzoeZ7neY2XkgobhmEURfKLa+U9HA7Hc1P61ofDQXL/6l+IvMLxdXWHC7UeaO9ZF1LHdfaOCvvZd521bYdPDNSzLiTq7FXSLR/rnsNP8cwgarfbyQ/sOM5ut2v5r/QCFfVFF2EY6tNO7o764x//+PjBetWSa1cvwfqLb7dbfbxegEZrejgcZEyi/m/rYZg8RyqD53mNT6ervy58IbcGUW2KJF+X67onX+E4/qnX0nM/wefX77OeKEyLqPS6evyl9M4oP0cYhkmS7Pf7xtPkV65fNloH5Xrb7/fb7VZu3NvtVh6s39aTJKk/WL93y0s16rJcJ/Lfvu/L6sTNZrPdbjebTePeLa/guq4MTEhdeNYFQxCFp3jWhdRxnb2jwn72XWcJovAUz7qQqLNXEURd9cwg6rO2qbz86m1CKf0nURTJ5Xs4HPRBveBkqqo+a+T7/u/8zu8cP1iPv7WvH8exTjHJJahjCfr4ZrORBzUaqQd4x9up1y9TrVSNB+UFL49z3BREtSySzgoeT+jpn/TXkVeQVGD9NjSsqsdRUkid/pZ/crXMEyHfybNuNzL+1NjIQWcCReNyFceTvXKR6P89vpXrg4324/henCSJfEa54I9//cY/kRt6EATy/ONRhrsRROEpnnghdVlnb62wn18bqR7rLEEUnuKJFxJ19jKCqKueHETtdrvG5eg4jmxrfjJNTi4XczTj8VkLrurX3K3pfPIKjUtQhx+OswoblVOrQb0Mh8NBZ4Hr/1YnneSC02jnQnJjvfwtG/L2RZIv8PiLlWdqNdNppeNIT4dSNNzSnzUMw/aTjRPx3CBK7ff7KIp07yD9TeWyaVyEn19/0MaVcHxzb/x8klpw/Ika93d50+12K6VqtAcnx8BkzMJ1Xcdxjgf57kYQhad4xYXUQZ29tcJqqXqsswRReIpXXEjU2ZMIoq568sYSnuftdrs4jjWUqqpKltO9v79/fHzIzhNKF8kdZ+vpI3IQ7d1klrb+iOM4UrzjTNNGBLherx3H2Ww29cd1g/XG+U6azyrrAmWjQs/zNFB8ivZFksLUlz8KeUQ/u/xfSdJtPFMfabyILJdi15puuK4bx7FMEsovkqbpha1ZdJ/Wy695/PNd/icnS1WW5Wq1ms/nHx8f7+/vJ0+HS5LEcZyyLKMoYod0TEE3dfamCmuos8B51Fnc58lBlPnaod/v9/v9PkmSIAj0MirLcrlc1o/Kld65rLRrvI7ORD24x8hN11P9yVVVRVF08kirqqpO7hCYJImcWyU7sUi2203ntV12U5FkTEWCWH2wLEvdJl4e0QBpdUQCNnMURA30UOOhyPNctgA6/pMOT2ilOHdTvnzZ33orP2m5XM7nczmdPUmSzWZzOByOn7Zer+XtZD/Zx98XsA11FhgW6iye4snnRNXJFJDMeJRlKSdEma9HktU3gjsXZnieVxRFXxeE7Nmi/1e2jJRYRbazPPlPNpvNbDaTuhfH8XOna24tUhiG6/U6z/PGvFN9zlqUZXlyeEP/qv99MuLFE+lPc/KQCvmrHK9+8mkyeHb5wnv85l4URZqmSZJcPjwqz3M5Fy6Kovl8vlgsdPUgMBrUWWBYqLN4imfORMke9icnjmRSUgMA6cpfnWJ64hzO3bIsm81mb29v8/lcJmeqqmrsjFcnOany308Zh3ikSFLxsizTksg3rxGs/gS65+Y5+po2/Cjj5nmeTMMenxch9UvOAJDVhua7+a5yzzWnUlWfSwrWuBgambdVVS0WCxlZkPt7URQPZucCFqLOAsNCncVTPG0mqigKOVnM933dKaEhiiL5aaXvXl83dfL5bWJ983C+3wUSoriuK0uA6iWZz+cnp8gWi0VVVZLUt1qtdPPAXorkuq7v+3mep2kaRZHk8smD8gT95xLlPrGceESSJIvFoiiKj48PuY/L4zJbqIdWx3FcFEWe57PZTH7TNE2rqgrD8ORp10/keZ7jOMvlUmtfnudy+ckdPI5jaZx008s4jmXAzPO8+kQ0MALUWWBYqLN4giduUqGX4IXzauUJuoeJduKPtxPRSKy+v9zJnZSOd/Gvv925Q3jNqS1H5PVl2xM5/clxnJMf5+Qr6BZ5h8NBN0u5enpv+9357iiSbGshe/Gd3NNGN3w/+Y5ym9DXbFPIyZIf8YlbnMdxXL9He553vFGPrILVqtfY4l+c3DWo8ZyTDx5fLfWNg7bbbf1IgzAM9/u9jMxp3mljc0g9FuPx7YPYnQ9P8dwtzjurs3dU2M++6yy78+EpnrvFOXX2Anbnu+qZQZQmfZ27uHWuQ5+gO9cd/xO9buq/X5dBlJyndPKf6wFQ9VfQJFQ5T0BP4H3iFue3FknI4/v9Xqb+GvVKf4LjLc71E2nMRrf1gucGUbiMIApPwYXUGYIoPAUXUmcIoq565poojdTX6/V8Pq9n2VVVtV6vZZJUAn15PAxDmYxar9er1Ury+qqqWi6XkssXBMGrJ0zPkZBDcuH0Qdm7XDZLqT9Z0lKNMUEQ6NyOxCdZljU2du+mSEozesuyDIKgsXRKfwJdXiWPF0Uh+yjWB2AAAAAAPHN3Ppk9lPBJ8kdll4V6NOX7vuZuiu12K/9kvV7LtuC6sKflIUsaWnx8fBhjgiB41vKeKIrW6/VyuVytVhJp1JdpyTIwORpruVyWZSlLlfSfB0EQhqEck9VYv3SS7Ll5oTBxHLcvkv5D2aOvsaVEnewoKMGYLLjSn8z3fdZK3WS1WhFzduBFu7ZgmnRNL16HnZfxRFmWvW49PATf8HWvmN7abDZhGNZnPGSJ23EWqZITluTJjuOcTDn9PJN60UhXrU/yHj9ZtEnn04I18mXjOD4cDnrcbT1wOn7Bw+EgT/M879ziqHP7cDTUcyCvFunk5z238EnKWf8JzNcTdRtPO/d94rO2JhCduZorC1zGXsAdIwsLD2Jgt2Ok813w9vl1LQdGTKaYzh3Ui6coy3J8Q63/+B//4//1v/7X8eO/+Zu/+du//ds/+9nPfu/3fu/HP/7x3/k7f+dXf/VXuy+e67qcWoYHyWT+gPyn//Sf/tk/+2cn//SP/tE/+jf/5t+c+4dSbV9VrHZkw7F+y4Chs63O/t7v/d5/+A//4fjxX/u1X/vn//yf/8N/+A//4i/+4uQ/lCf00nq219eamkEgiBq/qqo+Pj6qqtK9JYA2yrKUFNmTZOuU+Xye5/mXL1+Wy2Vj/hnAKyyXy3PrbKMoyrLs5GjOX/trf+1//s//SQADPJecavPNN9+c/Ot+v0/TVHYEaPilX/qlf//v//3f//t//6XFw0s9c2MJ2EkO271wQDBw0uUNUWSVnWwS880336zX64+Pj8ViYdsYITAmVVVdqJhZltXPRq/7sz/7s3PHGwK4W5Zl5yIoY4yc0vnly5fG43/lr/yV//f//t9v/dZvPWvjMfSCIGq08jyXjQHlgONzLStwjoRJ4vvf/37jr3Lrl8Mx6v9kPp9/fHzIcYTdlBOYjnqtPFaWpeM4x1uwyn5ORVHMZjMWiwNPdFwlv/e979X/Kgfm1p/w5cuX7XYr+4HJPmEdlBMv0feiLLxKPWpqnMUGXLXZbPT6+fLly09/+lNjzN/7e3+vfveQM8fqz6z78uXL8amFAB5R3+VVjq8wX3dn1Qfrm8TKSeuftbMEjTEXNnkC0J6c3qmkifzRj35Un3rabDaHw0Ef+fLly263+/z8PBwOWoWDIDi39xhsxkzUaPm+H4ZhFEVJkrTZKR6o06y8L1++5Hn+wx/+0BjzG7/xG/VrSSajjg8fE5rjN5/PLw+fA2ijLEudR6oHSzqqbYxJ03Q+n0u85Hme7v7qed5+v2fwG3iiejJekiS/8Ru/YYz5wQ9+IEuF5fE8z3UyStpTqYZymqiMd0sSB9m2w9N3FAfAOofDQe4POmZWPyReu266mX7L89xkL/4+PxgwZPVz6uURbccPh4PGUdIzO3muRn3wOwxD6iPwCB1AlNldqaFyEsxut9M46nA4yFZMJyeBkySRUQ/HcaTBxVAQRAFokqBII6jP7wZRn7WoSU+QaLltyZcvX0guBe4jtaxeg+qDoRpHSfh0IUDSYOzCAYYALtNpXg2N6kHUZy2OkidcSG7XbNtzgRbsRDofgKY0TR3H0ayDY5pKpHl6LXcu+eabb869JoAL8jwvy7Kx5KnOcRzJ6yuKoqqqC7uZx3EsL1IUxcfHB1tNAHeQ5i9JEp3dbfA8T3L5JOvvwlCjZttWVUW27YAQRAH4Djk1uL7K4iTpzMkG+vJ/20xGXWhvAFyQZdmFCEpoHHV13+QwDGXwu6qq+XzOPsvATaqqyrLsaosm6xKlVb38glJ5gyAwxqzX6+VyyQ639iOIAvAdaZpejaBEGIZxHLefjCKCAu4meT5tniadtqvP9Dxvt9sx+A3cIcuyOI7btGgSR7UZp3AcZ7PZSEsqO8Sw1YTl3j6/JlUDwDmr1Wq9XkdRFMfxhad9fHycu+kTQQFP9/b2Zox5pB2XCEqGQoIg0DXuAG4lDaXv+7pc6j5ywqck5bYc00QvmIkC8DSSinASI2qAheqD37LPMkukgH6FYbjdbiXbdjabkW1rLYIoAE8TRdHxMPav//qvG5K8AYvJVhOO4xRFMZ/P9Zg4AL1oHOwmx0zBNgRRAJ7GcZxGzl4Yhv/tv/23epI3cRRgIRn8dl1XtppYr9d9lwiYNDk2SppUWk87EUQBeKYoivSEQd1MjC2VAfvpVhPGmNVqxeA30LskSWQpcp7ns9mM1tMqBFEAnslxHOl7NbZjZktlwH6Nwe/ZbMbgN9CvKIpkiVRZlvP5XHfERe8IogA8WRRFURQdb8fMlsrAICRJwtQxYA/Z8U9az8ViQetpCYIoAE/mOM65ndBd1+U8QcB+9f3BmDoGeifnTWnruVgsaD17RxAFoFPH5wnSEgAW8n2fqWPAHscHEnB2SL8IogD0gK0mAPs1po4Z/AZ6Vz+QgK0m+kUQBaAf9a0mOE8QsBOD34BtOI3XEgRRAHpT31KZfCHAWgx+A1ZpnMZL69kLgigAfZJ8IdlSeb1es0QKsBOD34BVHMeh9ewXQRSAnjmOkySJ5AvleT6fzxnnBizUGPzmNF6gX7Se/SKIAmCFOI43m43kC3GeIGCnxmm8DH4DvWu0nnme912iqSCIAmCLIAi2263runKe4Hq97rtEAE5IkkTOgmPwG7BBvfXkYLfOEEQBsIhsNeH7vjFmtVqRLwTYKYoiBr8BezQ2aqL17ABBFAC71BfLpmk6m83IFwIsxOA3YJVGti0Hu70aQRQAGyVJoqfxki8E2IlTCgDbaLatHOxGHPU6BFEALKVbKpMvBFirsc8ySURA76Io0lFIDnZ7HYIoAPbyfZ98IcByss8ySUSAPcIw3O12juOUZUk2x4sQRAGwGotlgUHQFFySiAAbeJ6no5AckP0KBFEAbMfRNMAghGGYJImk4JJEBPSuMQrJwSHPRRAFYBgaR9MQRwEW0qWMJBEBNpBVi0EQGA4OeTaCKACDIYtldasJ+meAhSSJyPM8kogAGziOs9lsWLX4dARRAIaksWUfcRRgIY2jjDHL5ZI4CugdW58/HUEUgIGR/pnjOLJlH1ufAxaqJxERRwE2qG99Thz1OIIoAMPjed5+v5d8IbY+B+xUTyLiKF7ABmEYbjYbzeYgjnoEQRSAQZJxbvKFAMvpEVIcxQvYIAiCelY8cdTdCKIADJXEUTrOTf8MsFP9KF7qKdA7zYonjnoEQRSAAXMch/4ZYD/qKWAV4qjHEUQBGDz6Z4D9qKeAVepxFKdj34EgCsAY0D8D7Ec9BayicRSnY9+BIArASNA/A+xHPQWs0jg1hDiqPYIoAONB/wywX5IkclgN9RSwAXHUfQiiAIxKPY7iXBrATmEYEkcB9mjEUewz0QZBFICxqZ9Lw/lRgJ3CMIzj2BiTpul6ve67OMDUEUfdiiAKwAhpHMU5vIC1oiiSerparainQO/q+/UxRXwVQRSAcSKOAuyXJEkQBMaY1WrFSgygd57nyRRxlmXEUZcRRAEYLY2j6J8B1kqSxPM8VrQDliDVtiWCKABjFsex9s/I8AYs5DiOrsRYLpfUU6B3pNq2QRAFYMwcx9lsNrpStu/iADhB46iiKKingA001Xa5XDJFfBJBFICRc113s9kYY1gpC1jL8zzqKWAVSbU1xpBqexJBFIDx831fD6UhMwGwU72ecsgb0DtSbS8jiAIwCWEY6mZ9eZ73XRwAJ4RhGEWR4ZA3wA6k2l5AEAVgKjQzYbFYlGXZd3EAnBDHsY53kEEE9K6eassUcR1BFIAJ0cyExWJBZgJgJx3vYHEUYAPf92XT8/V6TSqHIogCMCH1zASOvwCsJYujGPkGLBFFke/7xhgWRymCKADT4nmeLrogWQiwE/UUsE2SJI7jlGXJEKQgiAIwOfURtb7LAuA0OSnbGEPyLWAD13V1aIOkPkMQBWCaJL2bpD7AZnJSNiPfgCWiKJITeBnaMARRAKapnizETn2AnRj5BmwjSX1yclTfZekZQRSAiYqiyHXdqqpYuQ5Yi+XsgFUcx5F9X7Isy7Ks7+L0iSAKwETREgCDoMvZGe8AbBAEgST1TXxogyAKwHT5vi8twWq1mnJLANjMdV0Z70jTlPEOwAZJkkgqx2Kx6LssvSGIAjBp7NkK2I+Rb8AqmsqR53mapn0Xpx8EUQAmzXEcdpgA7KfL2RnvAGzg+762nn2XpR8EUQCmTleuT7YlAOyn4x1pmjIZBdggiqIpr1ckiAIAo50zJqMAa+mOmox3ADZwHCcMQzPVoQ2CKAAwvu+7rmuYjALsRvItYBWZjJrm0AZBFAAYw2QUMARhGDLeAdhjypNRBFEAYEytczbZjYaAQWC8A7DKZPNsCaIA4BdYtg7YLwxDz/MMk1GAHeqbvkxqaIMgCgB+IQzDyeZ2AwMSx7ExJk3Toij6LguAX6RyTK31JIgCgG9pbnffBQFwlu/7ciwBVRWwxARTOQiiAOBb0gxUVZVlWd9lAXDWZNeyA3aa4LpigigA+JbjOEEQGGPyPO+7LADOCoJgaj02wHLSek6nShJEAcB3SJoQM1GA5aTHRlUFLCHzw2VZTmSxIkEUAHyHbi9B5wywmfTYiqKYSI8NsJzrupOajCKIAoAmRrgB+7muy/YSgFU0lWMKixUJogCgiYw+YBAY7wCsMqlUDoIoAGgKgsBxHEPnDLDbpHpswCBInu0UNmciiAKAE2QyirUWgOXYThOwynRSOQiiAOAEz/MMPTPAelRVwCq+708klYMgCgBOkOHtoijKsuy7LADOkqo6nV2VAftNZH6YIAoATnBdV47yHH0zAAya4zjTSR8CBkHmh0dfJQmiAOA0lkUBgyBVlfEOwBIyE1VV1bgbUIIoADiNnhkwCCTfAlaZyPwwQRQAnCZtAGstAMtp8u24e2zAgExhFJIgCgBOcxyHjb+AQdDJqL4LAsCYacwPE0QBwFksiwIGQXpsWZZVVdV3WQAY13VHv70EQRQAnDWFrG5gBDzPk6NpmDcGLDH6UUiCKAA4S9oAM+pmABgHMvoAq4x+FJIgCgAukYSEEWd1A+Mge0sQRAGWGP0oJEEUAFxCzwwYBLaBAWwjtXKsDShBFABcQhAFDMLoh72BwSGIAoDpGv3SWGA0pnA0DTAgBFEAMF3SBlRVxbIowHKsYASsQhAFANPlOI5k9NEzAyxH8i1gFQmizEjnhwmiAOAKFqwDg6DD3hy5C1hixCnxBFEAcAUzUcAg6JG7o+yxAUM04ow+gigAuGLEbQAwMswbA1YZcQP6vb4LAMBS9V7Iz3/+8/4K0j9drV5VlYxzA73TjDWtqrrH95R5npfnOfPG6EBVVfXYYOIN5TkjbkDfPj8/+y4DgN5kWSZtgO4+d3U5gSTM6HYLruv6vi//PWLv7+9VVW23W/qp6FJZlhoSSC/EXJtmcRxHei2u60qXxfO8IAg6KW//sixbLBau6+73+77LgjGoqirPc2koW9ZB83VEQxtKz/N83x9ZCNHex8dHWZabzWZkNyJmooDJKYpCmoQsyy4/03VdaQDqDcbJSXlpIcRzS2sJGd7O83ysHxBWyb+6mgMjgxplWerci/T5jp+pNVT3yxolqaHyhYx+cAevI01k+zrYmJU6WQeloQyCYNx18JjneWVZFkVBEAVgeKRfJeqJLjJorTd0HTw7eYvXjprOVhVFIQ8WRVEUxXq9dhxHemlBEIypByNBFFt+4XVk0knUrzQZy5AqWZ9lOlm/tG5qH07qpt4BzNfZYzG+oXEZ+5eb0phuQehAVVWSnZFl2d118GRDKf9dbygllAqCYHx18NhYzx4gnQ8Ys6qq0jTVzpN67sRRWZba8NQfd103CIIwDEfQlZEcIc/zdrtd32XBqJRlmaZplmWNZTzax3pK9Tk3tSU3gTAMx9STWywWWZZFURTHcd9lwQBIHTxXO541eSs5IOea43E0lOfkeT6fzx3HORwOfZflmQiigHGqqmq9XqdpqsNp3Qx9STTVaI3CMIyiaNAtRFEUs9nMGMM9E89SlqVUUn1Exh1euoTp5Fi74zhSSccRSq3X69Vq5fv+drvtuyyw2sk6+Op52nOJISNoKM+pqur9/d0Ys9vtRpXK+AlgXA6HQ70z5DhOFEW73a7jYuz3+yRJ6jNdYRju9/uOi/FE8ikOh0PfBcHg7ff7MAy1avi+nyRJ97Vjt9sd3ytGcIVL7OS6bt8Fgb0addB13TiOu28od7tdHMf1wGnoDeU58hm3223fBXkmgihgPE6GT713iRo72g23hZDyj6wNQMeOw6feryg77xuP0JzbvgsCGx2HT0mS9F2ozyRJ6qHU0OvgMekGxHHcd0GeiVsMMAb2d4NGEEpJ+Xvv8mKgLAyf6uy/h9xEPsXgbjJ4KTvDp7p6KDX0Otgg33wURX0X5JkIooDBi+N4KF2f41DK2qIek5KPrA1ABw6Hg83hU91xKDXQkWP5CNZ+z+iYXNg2h091x6FU3yV6Avn+gyDouyDPRBAFDNjhcNAF6JaHT3X1UMpxnKF0dKQNGEd7hs5st1vtD9kcPtU1Qinf9wdxY6mTO4zNHWV0pr6ZgeXhU109lJKNYfsu0UOSJJGbSd8FeSaCKGCottut9nKGEj7VbTabevn7Ls51oxxIw0vp4LfjOJvNpu/i3KY+eD+gwQ4ho0uDuLHgpTRTY6DTqrpNv+M4Qwn/TpLtXhzH6bsgz0QQBQzSoDtn6nA46JSU53mWL2AY5UAaXmS/3+u17fu+5df2BY3Bmr6L0xbzxqhnagx6Jqc+kxYEweAGTMV+v5eP0HdBnmlUHwaYgv1+r/fTIabZHBtKQDjKgTS8wuBmWS8b1mCHkPF7hjwmq55GO8RMjYb6ukrXdQcaEEr5B3EDaYkgChiSeudsiJkJ5+x2O23wwjDsuzinsW8y2tBBAdd1h5UCd9mw0opkyMPzvL4Lgh5I1oD9A3O3qncA7K+Dx8a33Qu9AWAwtGEY7kDUBfXUC2vjqPENpOG5dLR4uFk3F9TTiizvw0kQxZDHBOkoxqDTaM+pp6IMbiB1fNu9cH8BhkEjKM/zxtc5U/ox7YyjpGxjGkjDE2kENYIUvnMOh8NQ4igp5IjvljimddDOFuRZBvoxx7fdyy8ZANZL03S5XBpjPM+rr/MenzAMJY5K03Q2m1VV1XeJvkMG0mwrFXpXVdVisUjT1BiTJIlmvo2PbNMnFWG5XMpHtllRFH0XAR3RC1LbkbFKkkTiKO0bDIIk7Y+pASWIAmynd8kwDMcdQQlt/4qiWCwWfRfnBLplaFgsFlmWmVrnZsQkjpKPaXMcxZDHpEwnghL1OGq1WvVdnFak91KWZd8FeRqCKMBqRVFoBJUkyegjKKGtYJ7nVjUPmsgEqNVqlee5mUYEpfTDLpdL+fh2YshjCtI0lQgqiqIpRFBC6+B6vbZ2LKNOGtAxjWsQRAH2qqpqPp8bYzzPG3GC0ElhGMpHtrB5oFsGlabper02xkRRNJ0ISiRJIr2ixWJh4egyQx4TUR9qnFpDqXHUarUaSsM0lHK2QRAF2Gs+n1dVJZu0TmQOqk57pfY0D3TLUFcUhcyUBkEwtd6bkARjWRJm5wCzJbcOvMiUhxpFHMee59lcB5UeN2d5OdsjiAIstVwupfmvHxo4NbY1DxMMZXGOXpae500ng6hB1keZWjxpD4Y8pmDiQ43m61lYjuOUZWnnKuJjoxnaIIgCbKQZ3powM012Ng82rwBBZySHTU6enWbvTWgMqZmNlpAfxYbBF7yIDjVuNpvJDjUaY1zX3Ww2xr5VxMd0MmocCKIA69QzvKe2yuLYgJoHTEd9M4kpD3MIvVPp12KP0Yx5o0GHGuM4HlnX/A6+71u7injECKIA6+iRUJPNEWqoNw/9dommPOEAVZalbiYhx0dCg8kBnVqD4aqqSsbUwjCMoqjv4lihvoqYCdhuEEQBdknTVPMT+i6LRaIokrHGfiejmHOA+RonaGwPIbessiwtGQhnyGPE1uu1LIWiDtbFcSwbvViVWHtsNPPDBFGARfTeF4bhlDO8T5LhxjzPbcsXwqToFcj4d4PruvKdWDIQzpDHWOlUsMQMfRfHIhpVrtdrC08dUDbcH56CIAqwiNz4GF07yfd9SZ0iXwg9krlQ3/dZhnEsiqJBDIRj0KQOuq7LmuFjOgJLHewAQRRgi6qqJA0mDENG106S2NKGfCFmw6ZJs21Zr3iS4zjSr03T1OaBcAxXnudZlhnq4HnSUKZpamE7NbL5YYIowBaSA6MpMTimX44kxPddHEwO2bZXxXHsuq5Vk1GjWYAB87UOMhV8QRAE8uXYUwfHiiAKsILOrkg+TN/FsZd8P5oT3z1+nclarVZk27YhIx32TEYx4DIaWZbJ7Ap18DKWEHeDIAqwgiR5e55Hkvdl9XyhXvpGI8tGQEtk27YXhqEMhLN8Ec+l25pzH77M931pKKmDL0UQBfRPk7wZXWtD84U4exedkQxSsm1bsmQgnK72mOjGS9TBNuRbsmEJ8bHRZNgSRAH9k3scSd7tab5QX4k6JAhNiq7wIdu2Jd1Ls98OHD/WmOhUMCsS26gvIe67LKNFEAX0T6ahSORrT1Oq5Kvr3mgG0tCGTKdoKinakO8qyzJGHPC4oihkiR3TUO1JHSzL0pLViWZ04xoEUUDPJAxwHEcGbtGSfF2smkUH5DKjht7E933pMPVeSe3pQeJu0lB6njeyXvhLua4rGa19jTYeG1mGLUEU0DP6Z/eR1Mfu+2c04RMkXRCybW9lyUgHQdQI0FDeR74xe4KokSGIAnqmA2x9F2RggiBwHKeqqo6bB9Lxp0YT0giibiXfGB04PKgsS8mgJoi6ldRBTYbEcxFEAX0qikL6Z7QNd+hrMgqTor03JiFvJbe17kc6FEMe4yDXj+u6/KC38jxPvjSrGkqrCvMIgiigT9I20D+7D0EUOkAu3yMkjuprIxbuq+NALt8jLMmqHSWCKKBP9M8eIW2DZnoAT6dpMHTg7tNvRh93hhGoqoog6hG6LMqefTJHs36BIArojfbPCKLuo1sadtlFs6cdQgfYE+xBjHTgQZrLN5qed8f09mXP6sTR3E4JooDeyOiapizjDt3v38ry3ElhCPxBjuP0vsnyaHps0yR1kKHGR/SbVTti3+u7AMB0Pd42FEWxWq2MMZ7nxXHc/h/KUu+yLKuqqqpKFuw2lmatVqv299wf/ehHf/iHfyj/HYbh1U7nfD6X/wiC4JEDTIMgWK1WBDZ4kcf3BLuvkj69hgZB4HmelMR0W0l93y+KoscOHDMYgyZXjp0N5YDqYJqmNgRRI0vlIIgCevZIA6/J4jf9k/V6vV6vj/+0Wq3CMNQ2piiK9i/+V//qX9UnXz04OMsyffKD/RudxCuKgq4SnkuD80fmim+tpC+qoTLj3Usl9X3/5McB2pBq2GUdNK2r4VDqoER9NgRRNpThib6nYW6dXKyO4ziOE4ZhB1PhMk5w6yCBbWRMYrvdXnjO3SMiI1BVVZqmZVkmSdJ3Wawgd5MuU02qqprP5/K+URTJ2F5VVdISFEUhbYZcmXEcNwaNsixL01T+1Lin/8mf/Mnv//7v69PKsrzQ5j03sUdOi7p7fEvGGvM8j+O4fTtNBuYUdD/D+boa6rpu/eN0XEnNUzcHkzpbFAVNSQdkBiOKon5vel2OkbWvhkOpg48nQ9J/u5PjOJvN5vPFJPDwff/Vb/RScplefo6GWEP/sDfZbDYy4uJ53uFw6Ls4tpArYbfb3f0Kt15Omg+w3W5v/evn52cUReee0Bg7iOP4XBkOh4OphY5RFLUp+QVS7+64TW23Wxkkchyn/a8gb3fuK8KYPKVhuqmSvq6GfvZXSff7vbzOIy8iNpuNfAktmxL5CNTWO+x2uztuj0+nF+1TXqSDhtLOOvj5QH/juf03+X6CIHjwdSzxi40lPM/bftdms5GPWlXVcrkc2QQcuiHTbu/v74vFIssyucxY4yt0+KrLATYZIQuC4OS4VBzH8us8Mmbs+77ruvJGl8tw91uc1P4eVZblarX6+PiYz+dSmO12SyogjnV/skoHNdR0Xkl1rP3umT2ts4vFIk3T9k3JyBZgdKAsy/V6/fHxMZvN7Lk9dlyAUTaUUg3b14iX9t9Gk8rxiyDKcRz/u4IgkJlK0+tx4xgiSSaezWaz2Wy9XkulJYJq6H5g4moPRlO0H8xiCoKgLMtzDUyWZXLDeeQt6lq2r5KNMJ/PPz4+1uu1fEbHcWzoIsBmnbX3ndVQ03klFbcWW+rsbDar11makhdJ03SxWHx8fOhWPTbcHrUkHb/jBQNtKFsGUfTfbnJli3MNgpmJQhtZli0Wi/f398aWNdTAczrO85b/kKzuk89JkuTz83Oz2TzyRhfObpJNuhqbjD3FhfYsz/Plcum67nK5rLdYNnQRYDOpMp3duDqroabzSnprXzDLsuVy+f7+3kiEua8poY5fUBTFcrl0HGe5XNavB0tuj90HUeNuKC905um/3eFKEPX4LLzI81x+m7e3t/f39/l83nKvHplPXK1WHU+Fzedz2f6hKIrFYvH29qa7UhpjqqqS1IK3tzdJChrcTJ38Im9fSY5E4zmXv4S6xrRv46/UwJO631XC8zxdICs/7osGR2QPopPno8vl8dwRbvkOj9+rkbb3zTffNP7VfV0EtlOfjo5/685qqOm8koqr6U+NtL3GX+9uSixvfbQhbv+nWx8/1kjbe9bt8UW6zP4aa0N57tfsuP82sgb0ShB1btmGRBGSGKOV9lwsIc+UC0VqQp7n8ptdnlgsikLCrbIs5WJK01Teq/EP1+u1PN64RxdFIY/Lz9a+2DICkWXZbDZr/LUoCpnl1AESCUiWy+Wlr/Jebcq8Wq0knDv5Csfxz3K51FeQX0SG/Rof4cKXoGU7nvZtIII6p+NBbqEb0OlvJ2O9536+uwVBcDINOE3Tq/u63kruTlr+k2l7DY90EUbWBuCqLk/57KyGmm4r6eVOcJs6S1PyLMdpew1WRVC9pEGNsqEU+ov31X8b5zLFczuW6B7c9W1GDoeD1i5dTKUv1dhCRDcqCcNwv9/Lg1o/Pc/TRxrF2O128suFYVh/a3m1xk5ceqk13l3KL+9yU7GlMHrpOI4js7efn5/aGMRxLBuVHA6H+iFol7fyuGmXmJZl1r2Pjjco0z/plizyCvKJdKMVLX/9277wJehuLXjQg1vu3LHZ4+FwOLeXt+u6+hOf1GZ3PimJXHiNUsnWqPKR9fmPbzqkLyW77X358uWFPxim58G93W6tpC+qoccl6bKSSsHq7YsW6ZEjRHv0xB3/9DXb/+nWxz9ru+118/0814N7RHfZUFpbB+Vlfd+n//YU8ov84v8c786XJMnJjvVnbYNCDYo+v15wxhjHcY4vl+PdDHe7nfxJrrNGEKX70B/fc+W3bzzuOI5c641rUQIG2USyfbE/a3eiMAzrO0JqwY4vaL0om1fud91UmduXWT7p8ddVDyM/aym8xxtras3Xz3vuS5B78YPXH0T3QZTa7/dJksgZ6vUiHV9Fqn0Q9fn5KS9bv3Sljsi19MS2QUcKhttFgM06DqLqF/YTa+jJknRWSaVgjW9gv98Pt84Oa9v0w+EQRdFAv2rTXx38vL0aWlsH5aV+9KMf0X97CvlFvif/RxLnTj7P9329JsR6vZbDo+oPOo4TRZGcf5fnufTpdY7y+HAuz/PCMCzL8ng2OU1TySuL47jx1lKe+inOUviqqoIgkLeuqkrXSMjT5IpsX2wVBEGj5PqJjgsWhuHTV0a1L3MQBHmeZ1l2ssBaZzSF77j8URTJQjXZy1IfP/4SPM9LkiSOYzlU7vJs+2/+5m/+9m//9m0fexr+9b/+13o6bS9c1w3DUK6NsizTNJULIE1T2Z/zwdeXKpmmqUTyZVlmWea67tOzRPQekiRJkiRpmkpduPBPHrks5Vb5L//lv/y1X/u1+14BQ/Fbv/Vbf/EXf9HXu7+6hpoOK6k4PntUm5JX1Nmf/exn0tI1Dud5Ckuy3VpyHEf2W86+uvBkq1rtKIp+9rOf9ZhEPZqGUrpqP/jBD9r33377t3/7N3/zN59bDPlB1+v13/pbf+u5r9yx78xSSq+6rr5Bfj2PS8YzTk5lHg6HxsF28n9d120ZIvu+r/31c0dxaUafzo3IlZckidwuddpXYg/N5Wtf7M+vkzD1sYH64+c+kbxOm09qWoyI3FpmeaT+fB2h17S9cz+3aPxe576Ehv1+f/ks8wvjplN2cmj2VjcNsMkk84Wz9jR991ztu2kmSqqqXk7y4jqc9vQBtuNB7nPJGA9elvLPHywzBuHuc5zr2lfSl9bQkyXprJJKX/Py6zy9zkr5G2km+Pyaz3Khm25Pq93myrmqy4bS2jp4MqX2av/tcv7wHUZ2Wr25fGHpwiRz5pzj7XYr80X1rRj122l/1Up2X2Ou+dy3LJVKE9LkJ9nv9xI16aUmV8zJA6EvF1tKrilwdZc/kZTk8ie9e1r5apmPz4GW2thY5tSGPvnkl3COniV/zJ47sj00QfmRF2l/OWkC7eVnynPODRPcFER9fq2q8mS5TdcXRsrzX5QppC6sBLjvsqzXEYyb3NK76cC9uoaeK0k3lbSeWn+V1NmTixtvqrMnh1dQt9vtzqX5WdJqyyXdWRD1eDW0tg5e/iYv9N+eG0fJBxxNEHVldz7P8zSXrD7/Kzu2yTZxq9VKdvaQA5j1OTdNv8p+HZKJt9lsZIBkuVye3MdDbsea0Zfnueu6rus2HpcC1ydb2xRbHd9Wetklpn2ZpQLUt8tsfANa/nMzUUpf86YUakn8OxwOSZI0hrg0RRNKfsHOshQ8z9ND1q9uj/Os/WQ1rbcoirIsZUfXp7zysXOvLNmnclk2Ui/uuCwfOaIeg9NlylYvNdR0VUn1yM42T5Y6W1XVg3WWjTSv8jxPtsg63mzAqla7s97XiBvKy9/hhf7bcrk8Pm/gbt0f/PVSV4IoU9vdVX+A1Wq1WCzkBqfTU9vtdrPZ3PTDp2m6Wq2Oz77URThyjsHxP5SqLpd4fdWT4zie58lVKOrX4uPF1qedq1pP72DdVGYNI+VyL8uyKAp90NQaMNd144seKbPjOLIRRWOa2Ko7sg3kJtJlM6/jTOdOadPHn9V31MME5ZVftCNQy83iwzDcbDaNlKH7LssuDy1B7zqrpN3XUNNVJb2vE/xgnR1Zd+2lgiDYbDaNND8bWu3u156NtaEUlw9sONd/e1Ycde7YpOG6HkQ1yHkOjuPIhPuFL6I+NXQy6liv140TITzP063PZT5kvV4fRya6fX6e5/JXLYa+Y2MSpn2xL5BNxs3XrSwaf316Q3tHmesHYMsV36iN8n/PtWdyftSzQkEJ1STNUu5KNtyR7dH9TUTTNtbr9Xw+r18GcmSE3MG19j1O7sh6DsaL2oabqp5Mw+73e03zu2NsmyBqIs6d4/wi3ddQ01UlFffd9O6us/LDUVvbk22rdrudpvn13mpLjegyD2isDeVN3+Fx/+0pcVQv+VwvdT2I0m9NT7SsqkpnPOuKomh8QXopHAf0eZ6XZXnhNDEdDjmZ1KfBkryjxtYa5Mjj9SCqfbEv0Dc6/kT102yf4o4ySwMjc3GNffmEnsN9XH7ZHybP86d37uvTxGVZEkc1PCVqzfP87Ty5OB3H2e/38vvmeT6bzeS4+re3t/f399VqJZmizz1cT6tMEAQv7c3ceiJqPc2vqqqbxrYxEY1znB90tZL2UkPN6yuptlYPFvvWOstM1N3qaX7tb4+v8NyBjCk3lPeNKdT7b2maPhhHSRm6PL68I+eW0OlVIleVPCj/pL7UrHEEQX3FmH5ZejTtZ22/isYOJI1iXFhRp/uZmKPNDy483r7Y576T+um39TWy9QGJk9/k8Ydqs9r1pjLXSyLR48mtY+rlr/8i8nj9q25ZyFtd3e5vOuQ7f2SFZcutexs1SMaW6jdTz/PkXnn57W7dWEIc7xv5+dT1sueKdJP9fq/V4YKnrHLGUOhV+pQXaV9JX1FDP/urpPI6bfbpvcnVpuTxGyzE4XBoc3t8EbkIHylAlw2lnXVQ97V+5EU+H+6/PWVTYqu0ua6MZJTpv9FLRNLb6ktutIOuAUw96mjsfF8Pcs7tonPhctRZpsa1VQ/bTr5Um2Jf+Jl3u51WKtnQQv9tm2v0psp8U5mFbmtuzuzMu9/vNQaTVWT6/MZHvvAl4CnkB336FqJTI1dvN8H5U7Zrw1A8q+cxcbI9VfetybnOA4aF3/FxTxkPetz4RiGvpPNJLrJOU4g4jpMk8X1f9nWQBLA4jrfbrS5E07lXCcBkwz3Z6sB8PQ9Kt5K8HEvICx4n9R3vl9D4v41EwZuKfYHneZourNtXRFEkr/Pcaco7yqxL0c6lSrquKydwu65bVZXmPSZJ8ooTCXFB93tLjE99z8nO3pRVFhOh403jS+Xvknx7HafVacs4wtyhiZFOHQ3lI+Tb670ujPBG2ncUh+cbX6w/VrIL5dOzXCal4/SAkZ1xgauectbnxEmtaXlI1LNYMvSOxx2fgYlbWXIfe8rx5Va5eXc+WE729DNHW0rAQnJf0xla3EG25ehsgI3R0KnRI1z6LshQSb6GefG+f8dGu4R9emQmijp4N933r/fqIO31mPZ6IYgaGzls99wJwrCKrkmjebiPxp8d9896b4rQGfmtGem4m9zcXnrQ9kn8XqMRBIF0u2ko76OhiyUt12gOiTIEUaMhR2PJ+cXGmCeeIoKX0hPP+i7IIHXcP+NnmiDdD4lf/z4dHD91wZi6a1NGQ/kI+d76qoPqWUcdWIUgaiTyPF8sFrL9RhiGlow34Co9/pg8sTv0kqLAHO/U1A8xx03qu0l1/NbMRI0JKRuPsCSXb5SHXxNEjYTv+2EYRlGUJIlsV4BB0F3yaR5uVd9bspt3lEB3ZG0ArtIz3BnpuJUMgTdON+kSM1HjIDd52aa477IMjCzxMNbMRI2sASWIGgnZNT6OY/aTGBwSFe4jYWeX/TP60NOk+aKMdNyqxzyi8S1hnzI9soWG8la9LBs+iZkoAM+nbUObY8qg+uqfMbY9QZp223dBhsSGPcGoraPBPpn36b0OKunhjGxcgyAK6Bnj3HfQ/lmXnST60JOly6IY6WhPamgve4KNcgn7xLFP5h00CdmGmSgpyciqJEEU0D9pHtbrdd8FGQz5rjTHo0sjy0ZAG57nSdtPJW1Pvqteem+jTByaONd1aShvJds1+75vQ+giQdTIJocJooD+RVHkOE5ZljQPbZRlKSdKd7yVv66S7/JNYYk4jo0x6/WapXFtpGkqX1Qv521QVUdJrqUsy1gZ1Uae5/JF2XDmTVVVo9yZiSAK6J/rurIjyHq9Jl/oKvmWXNftsm3QrrMNyeXoXhiG0vwz0nFVVVV6YmEvfaZRjnnD930mo9qTOhgEgQ1tliRhOo5DEAXg+WQyqqoqmofLiqKQaSiZGejyfc3oRtFwEzk9Ik1TBsIvk2EOx3H6GgKX2koQNT5SB/M8l1YA56RpKrWg44byHLlnjq9KEkQBVtAOB/lCl2mSd8drLeiWgYHwNjTbNgzDXlZiaOIQtXV86lkbfZfFXjoaq/PnvRtrlSSIAmyhqS80D+f0mOTNTBTM1wsvz3P20jxHs237GgIfa+IQhC4hlgE1HJOhWMdxLJmGMuMdhSSIAiwitzydiEfDcrk0PSV5y0CaDcnl6JHv+zIQTgfupL42fakba+IQhE5GpWnKEuJjVVX1OxV8bMSTwwRRgEU0PKCLdkz3++p+dG2sOwvhDhIeaLSAOhnm0FCzF2PtrkGxhPiCXjZeumzEk8MEUYBdNF+Ixet12l72st/XiNsA3Ep7J6vVioHwOku2VJbayqTxiGmiGkuIG4qi0IbSkmko83VyeJRVkiAKsIsO4i4WC5oHtVwuJcm7l/7ZWPO5cR8dCJeJFxhjqqpaLBam7y2Vy7JkJmoKdMuExWLBWIbQO5LneT1OBR8bcR4HQRRgnTiOXdeVTgnNgzFmtVrJOv44jnsZXaNbhjrHcWSr5SzLyLw1xlRVNZ/PZVtz+Wb6ohvA2DMMjxfZbDaO4xRFQR0Uy+WyKIre6+AxZqIAdMdxHJoHlWWZ5if0Nbo24oE03CcIAj2TgMVRq9VKopftdttv9MKk8XR4nqdbMbE4qj7UaNX1X5aljAVbVaqn+QRgJR1MiuO477L0ZrfbSZ/M9/0eiyE/xHa77bEMsJAcVuY4zm6367ssvdGNXpIk6bssnzLaHUVR3wVBRzTBe8r3581mI1+ChVe+lM113b4L8hIEUYC9Jt48HA4HGbtyXfdwOPRVjN1ux5ATTrLkEu3RdruV2hGGYd9l+fz8/JQxl2neMCdLImfHcfb7fd9l6YElQ43nSDcmCIK+C/ISpPMB9orjWJqHaW4yoRnektzYVzFYEIVzZPmBHP0p2ypMin5qz/NsWIYx8sQhnLHZbCa7ilg2k5A9zXU+yirjPqeeIAqwWr15mNQJvMvlUjK8kyTpt0s07jYAD9L4Ic/zSW3Wp31Wx3F0Pqpf7CoxTfVVxLLBSd8l6ohs6GLDUOMF4z5ygCAKsFqjeZhIHLVcLmWxfhzHsuykRwRRuCwIAomj0jSdSBxVFMVsNpPeW++bSSh2lZgs3WRiOnGURlDGvs0k1OgnhwmiANt5nifdlPpNc6wkOUEiqCRJbDhzfdwDaXiKMAw1jhp9H076qXJu23a7tad7JDsp21MedEnr4BTiqHpnIEkSq06FqpMqOeLJYYIoYAAmEkfJp9MIyoaGoSiKcQ+k4Vm0D5fn+Yj7cNpDtS2CqqqK8Y6JC8Ownrgx1oXEZVlqFt9ut7OhoTxn9FWSIAoYBomjPM+rqmo2m43v/Kg8zyVByFgTQZna2PZYB9LwRPWx8I+PD7l4xmS9Xs9mMwsjKGOMLKF0XdeqUqFjQRDIgKNknMpVMSZpmtYzaS2/2uX7J4gC0D+No4wx6/V6TKPdq9VKE4Q2m40lEZSZwEAankvHwmVadTSDHfWP43nebrezrfdGVYWQhlI3ZJLN6/ou1BNIrrvuxWd/BKV5HGOulX3vsQ7gZrpSSEKOvovzkP1+r3dY3/dtO+hDCsaxM7jJ4XDQq9rzPNuu6lvVt46w8DRPISUc+v0Qz3I4HHRTIgn7+y7RQ3a7nW5uFIbhIE6lk46KnadXPQtBFDBIMtKm3ZpB3FKP1XdltbBzphs3910QDNI4Bjvqn8La0QQ9EXugd0K8iBzjJtdGHMd9F+dOsvGg+XowXd/FaUsmyob7tbdB5wAYqsZIm7X9m5P2+73m7ElmQt8lOmHcR62jA/Xx4yAIhjUlVc8XCoLA5vhkCmPeuE899XRwdbCeqTGsOe3D4SDFHvoc4GUEUcCwxXGsI22+79sZjdTVwyfLO2dTGEjDq9UHOyQVx/6e0Ha7rS9jsL8KUFVxWf20jEHUwUZDaWGmxmWyxY7run0X5LUIooDBa9xtrQ2lGuV0XdfmzISJDKShG5vNpn5es7XduEb45Pu+/dc/VRVtNK5ta+vgUBr0y2TkaHCx360IooCRsPnOO6zwSWw2G2OM4zh9FwTjkSSJtaHUcfhkzw3ksomMeeMpbA6lbG7EbzWRjV4IooBRse0uPMTwSbAgCi9iWyg13PBJyB0mDMO+C4LBsC2Usq3hftB09mQa/ycEJmi/39eXYXieF0VRlzfl/X4fx3G9DAMKn4SsshhWmTEgjVAqCII4jrvsye12uyiK6kfNDLTrNpExbzzd8fBBHMddJoXudrs4jgc9hHHSdIYgCaKA0Wq0EMYYx3GCIEiS5EV9tc1mE0VRvWs4xPDp8/Nzv99L4e3J9MAoNUIpqS9RFL0oJNjv90mShGGou9EMvesmabeGzc1xr+OG0nVdOTX7FRfV4XCQA+UbFX+4dfCYfLQpbPTy9vn1NEkAo1SWZZZleZ7neV5/3PM8/6vHX78oiizLjl/f87z6fNRQrFar9XotRzT2XRaMX/5VURT1x4Mg0Hr0itfXO8CDr9+j5XKZpmkQBBpNAXeQJuxkHZFW7ME6cu71pYI//vr2KIpiNpsZY/b7fSNQHB+CKGBCNNopy7L+uOM4cgd3XVeGqD3Pk//wfb8sS3l+URRVVcl/GGP08frraLds0HfPj4+PsizjOK5vjAu8WlmWGvBIXVOu60qd0s6WDH9I5ZUhkqqqpG5WVdWos/XX0UramI8anKqqPj4+qqrabDZDHKyBhaqq0obypjqodU3HKy80lBI1BUEw9Dp4bFLjGgRRwBSdmz66z7MmtSwxqYE0WOvc9NF9tNM2pks6TdPlcuk4ju5yDjyRNJFFUTTyOO4zgonfNt7f36uqkrThvsvycgRRwNS1HD/TITcditOpqu7L/FKSyycZ6n2XBTDma92squo//+f//M0333z/+98/nmi6PEzeT7lfbD6f53keRVEcx32XBSPXZrL3V3/1V//23/7b5kxOR18l79LUxjW+13cBAPSs0eUSeZ6v12tjjG6xMB0yO0d2EOzh+35VVev1+t/+238bx/EUhnivktRHQ1VFJ7R9PL7epG6maUrdnFqVJIgC8B1lWa5WKwkkJrgiqCgKGV+cTjMAy0kXLUmSb775xnGciffSlNyjXNcd6zwb7KfhU1VV1E1ZTmam1HoSRAH4hbIspT3QRybYJMjHH+V6XwxOvYsmj0ywSp4jVZUvBH1J03S1WlE3lWSvyNY1fZelIwRRAE6ET8aYoe+wd4eyLOVLmE4bAGulabperxv7etFRE2maMmOMvlA3j1VVpUOQfZelOwRRwKSdDJ/EpG6FQr4HOWmx77Jguk520cwkxzXOkTHv4xNLgZeibp6zXq8lp3FSqwAIooCJuhA+GWMmmN6tA2mTagNglXNdNDHBcY2TdBqKqorOUDcv0NYzDMNJZcITRAGTU1+nfu45U4ugzNeBNKah0IvLXTQzyXGNc5iGQpeu1s0vX75MPIia5jSUIYgCJqVN+CSm1l2rD6T1XRZMS5Zlq9XqQhdNcGUKpqHQGTnq4+pJu4vFYlLTLw2TnYYyBFHAdGRZtlwudSuhCyaY3s0eteheVVWLxeJqF01wZQqmodANOcq5zTMnXjcnOw1ljPmlvgsAoCO+77fcdG6CmQmTHUhDjxzHaVnXJjiucRLTUOhMy7rped6UTyqb8jSUIYgCpsNxnM1mc3XMbIKzMdIzm+ZAGvoVhuFms/ny5cvlp01wXOMkpqHQmTAMt9vt1bo5teayYcrTUIYgCpiaJEku3/Qn2CRoz2yCA2noXRAEeZ5f6KtNcFzjJKah0DHf9y/XzYlvKTHxaShDEAVMUJIkv/M7v3Pur1PrrmnPbGofHPbwPC/P8+9///sn/8qVKZiGQvekbv7gBz84+deJbykx8WkoQxAFTFBRFP/qX/2rk3+a4NILemawQZqmf/mXf3nyTwRRxhjdwHCy3TX0JU3TP//zPz/5pynXzbIsJz4NZQiigKkpimI+n8voURzHjUSFqWUmSM9sygNpsMFyuZTuyO/+7u82FqlPcFzjmHbXoiji20CXLtTNiW8psVqt5GTFSbeenwAm43A4SBfEcZzdbvf5+bnb7TSOchyn7wJ2ar/fywePoqjvsmC6dDA7SZLPz8/D4VAfy5AHJ062FfU8r++CYFq0bkobcTgc6lNPU66bm81GvoTtdtt3WfpEEAVMxeFwkGEzjaDEbreTufipxRL0zNA77ZOFYXj8+NTGNU6K45juGrp3uW5++fLlcDj0VbZ+HQ4H6TM0vpkJ4rBdYBKqqprP50VROI6z3W7rSQie5+33+/l8Pqn07izL5CBF7aIBHdNMoTAMkySp/0n+72RXGqiyLGXVYhRFLY+5Ax53uW46jiMp8T2VrmfL5VJXBPRdlp69fX5+9l0GAK91IYKapqqqZrNZWZbHDSTQjQu9NKjFYpFlmeu6OmEOvBp184I8z+fzuTFms9lMbRH1MTaWAEaOCOrYer2W/SQYSEMv6KW1kWVZlmXm69h/38XBJFA3L6iqarlcGmOCICCCMgRRwLgRQR0rikIThOiZoXv00trQ7loYhiTyoRvUzct0/JEvRxBEAaNFBHXSarUyxvi+P+mNWdETemktse4CHaNuXpbnOeOPDQRRwDiVZUkEdWy9XrOfBPpCL62lPM9J5EOXqJuX6cww44917M4HjFD9RF0iKFVVlQ6k8Z2gY/TSWmLdBTpG3byKRL6TmIkCxoYI6hw5Yd1xHAbS0DF6ae3RXUOXqJtX1RcSu67bd3EsQhAFjAoR1Dl5nktLSYIQOkYvrT3WXaBL1M02ZGbY8zzGHxs4JwoYDyKoc3SPDd/3t9tt38XBhNBLa08PcKOeogPUzTZWq5WMa+x2OzoVDcxEASNBBHXBarUqisIYQ0uJLtFLu8lyuSSRD92gbrZRnxmmU3GMIAoYAyKoC9I0lcYyjmPyudEZemk3Wa1WsiMf9RSvRt1soyiKxWJhjPF9n/1sTyKdDxi8qqo+Pj6IoE7S8JLGEl2il3aTLMukuxZFEd01vBR1sw3NgXddd7fbsUDxJIIoYNg4UfcC/XI8z9tutzQD6Aa9tJvoSAdLofBq1M2WFotFlmX0Ky4jnQ8YMCKoy2QplCyxIIJCN+il3UROhaqqynXdzWbTd3EwZqvVirrZRj23ln7FBQRRwFARQV1WXwrFl4Nu0Eu71XK5lJvYZrNhpAOvk6ap7JFA3bwsyzLdTCIMw76LYzXS+YBBIoK6jKVQ6F6apnKgClddS7p7cpIkdNfwOtTNlsitvQlBFDA8RFCXsRQK3aOXdis2k0A3qJstsZnErUjnAwZGb3OGRLUzWAqFjtFLu1VRFPKNsXsyXoq62R65tbciiAKGpB5BkQBz0nq9ZikUukQv7VZsJoFuUDfbYzOJO5DOBwzJfD7P89wQQZ1RFMVsNjM0megKvbQ7sHsyOqB1k7zuq8itvQ9BFDAYunUyEdRJVVXNZrOyLGky0Q16aXdgMwl0gLrZHptJ3I0gChgGIqirdHh7t9u5rtt3cTBy9NLuwIA3OqApCdTNq9hM4hEEUcAAEEFdpcPbm80mCIK+i4ORy/N8Pp8bemm3YMAbHdDLjLrZxmw2Y6ffu7GxBGA7Iqir9BTFKIqIoPBqRVHIdAq9tPbqXVs2k8CLEEHdRLbjM2wmcS9mogCrEUFdpXMCrOxHB+il3aEsy9lsJtvxkTKEF6Fu3oTexeOYiQLspfe4MAy5x51UnxNgiQVejV7aHaqqWiwWVVVx/gxeh7p5k9VqpWeB0Lu4GzNRgKXqERQTLCexHR+6RC/tDrpsnUUXeB3q5k04mOFZmIkCbKSjRNzjzpHOWVmWjuMkSUKriZeil3afxWIhiy6IoPAiWjdpC9oggnoigijAOrpNAve4C3RFLJ0zvFo9IY1eWnvL5VIPB6eS4hWqqloul1I3aQuuyrJMIqggCOhdPI50PsAuesAFEdQFrIhFl9gF+A5UUnRgPp/neU7dbIPp9KdjJgqwiKSoGbZJuChNU1bEojM657nZbOiltcSydXRgtVox1dkSEdQrEEQBtpAIij2sLqvnc0dR1HdxMHL1iN33/b6LMwz1hGQqKV5EL7M4jjke8LKyLKV34bouEdQTkc4H2EKzX3a7HYNqJ+lYmu/72+227+Jg5DiC7A4sW0cHyHtvjx0yX4cgCrDCer1erVaG9QPn6XmdZCOgA/Xrbbfb9V2cYdCwk2EOvE5VVR8fH7QFbRBBvRRBFNC/LMvkxFgG1c6ptwS73c513b5LhDHT68113d1uRy+tDRZdoAP1tmC/33OZXaDflSHD5TVYEwX0rCgKyX7xfZ8I6qTGWBoRFF5NNpNgdWJ7RFDoxmq10sMtuMwu001x2HjjRQiigD7pGRee5202m76LYyk9r5Pt0dCB1WqVZZkxJo5jrrc2iKDQDd31kajgquVyKfcx1gi8DkEU0CcJDzjB84L6eZ1sj4ZX0y2/oiii59EGERS6kWUZdbMlTmnrBmuigN6sVitpEjabDTu0nkRLgC5pPBAEATPDbeg3xuIxvBRbs7ZHu9kZgiigH7oRcBzHHKVyEi0BulRV1Ww2K8uSGZWWtF/Lxl94Kepme7SbXSKIAnrAGRdX6Z7vfEXoxmw2Y/vH9oig0Jn5fJ7nOVfaVURQHWNNFNA12WvOGON5XhzHfRfHRmmaEkGhS7qN1WazIYK6iggKnakvi+VKu4AIqnsEUUCnJILSzgdpCcc00ZEICt1Yr9fa+WDzkquIoNCZNE2lbsZxzMrhC4igekE6H9ApvdNx8t1Jeu4wq4fRjTzPZWaYoL0NIih0hrz3loig+kIQBXRHt+PjTncSeyWjY/VLbrfb9V0c2xFBoTNlWc5mM+rmVRpBsUlV9wiigI7oHEsURSyFOkYEhY5Jbm1RFGzP3YZ+XURQ6IBu9LLf76mb52gExWRdL1gTBXShqirZKcH3fSKoY0RQ6N56vZZe2maz4ZK7jAgKXVqtVnqxUTfPIYLqHUEU0IX1el2WpXTX+i6LdaqqWiwWkiOUJAlNJjpQFIXk1kZRREhwGREUulSWpdTNMAy52M4hgrIB6XzAy+nqWFKWj9E/Qy/k5BmWW1xFDUXHqJtXEUFZgpko4OVkw27f94mgGuifoRfr9VpPnum7LFajhqJjaZpK3STv/RwiKHsQRAGvJesuDE3CEfpn6EVVVSTytUENRcd08XAURZzYdhIRlFUIooAX0txuumsN2j8znEOPbi2Xy6qqXNdlZvgCIih0b7VayeJY6uZJRFC2IYgCXkiaBLprx2TzJWNMkiScQ4/O5HmeZZkxJo5jtjA5hwgK3cvzXE+MpW4eI4KyEBtLAK+iB0Ntt1syE+o4Xh29qKpqNpuVZRkEAftknkMEhV58fHyUZen7/na77bss1iGCshMzUcBLaG53EAREUHVEUOiLnjTAAsVziKDQi9VqJXWTCOEYEZS1CKKAl9DuGre8Om0M4jgmgkKX6gdDua7bd3FsRASFXtQPhqJuNhBB2Yx0PuD5OBjqpNVqpS0ljQE6xuEzlxFBoS/UzXOIoCzHTBTwfBwMdSxNUyIo9IWDoS4jgkJfOBjqHCIo+xFEAU/GwVDH0jSVwJLGAN3jYKjLiKDQFw6GOocIahAIooBn4mCoY0RQ6BcnDVxABIUecTDUSURQQ8GaKOCZZNmP67q73Y6TLkxtn3c2rkUvyrL8+Pgwxmw2G04kayCCQo+omycRQQ0IM1HA01RVJfe+KIqIoIwxRVHIHJTneRzLg15IlfQ8j15aAxEU+iV103Vd6qYighoWgijgabIsk8wEmgRjTFEU8/m8qirP87bbLVEluqfjGuyn30AEhX7Vxxz7Lost1us1EdSwEEQBT6O7zxEwSBdNFqIQQaEvaZrKuAZBVB0RFHrHmGNDmqayxwYR1IAQRAHPked5WZaGMe9aBOU4zmazIYJCX5iGOqYRlDFms9kQQaEXjDnWsf3SQBFEAc+h3bWJH7jOIDcskWUZ4xoN9QgqSRI2lUYvGHOsI4IaLoIo4AnKssyyzBhDZsJisWCQGzZgXONYPYKi/4q+SN0MgoC6SQQ1aARRwBPoDmATH9ldLpdy9jyD3OhXWZZyKTKuoZbLJREUeqdjjlyEGkH5vk8ENUQEUcCj2AFM6N6sdNHQO8Y1GqiesITubD7xuqkRFEeADBdBFPAo3WVoyl2T1Wql+9VO+XuAJRjXqCOCgj2YhjLG5HmuERQb2A4XQRTwKN1lqO+C9CZNU/0S4jjuuziYOnZPriOCgj3Y7sUYUxTFYrEwRFDDRxAFPKQoiok3CayLhW10lxd6J0RQsIqsVJzyzuYcQz8mBFHAQ6S75nneNHcZKopCcxKIoGADtspUGkGFYUgEhd7p+uHJroYighoZgijgIVPurkl7YL7mJPRdHMCYr1WSZevr9VojKAY4YAPdUmLKLSYR1JgQRAH301y+CTYJVVUtl8uqqlzXpT2APdhSwhiTpulqtTJEULDJlMcctcWUY+hpMceBIAq4n6R3TzOXT07tdBxns9nQHsASeZ5PdlxDZVnGMkXYpigKOaZsggMcVVVpi0kENSYEUcD9Jjuupqd2bjYbz/P6Lg7wC1olJziuIerLFNkqE/bQ1VATrJv1CIoWc0wIooA7lWUpgcTUgig9EipJkokvO4FtJjuuIVh0AWtNtm7qmGMcx0RQI0MQBdxpmvvy6ZFQHKoL20z8eKiqqhaLBYsuYCGpm2Z6QRRnDIwbQRRwpwmOq2mmUBAEZArBNrJGcZqzo7LooixLIihYSLM2JnVl6g6ZjDmOFUEUcA/N5ZtOj60sS93QnNXqsJCMa0ynStax6AI2m2DdrO+QyZjjWBFEAffQs2gm0l8hUwiWm2y+kGHRBew2wbNA2CFzIgiigHtMLZdvsViwPStsNs18IfPdjV5IGYKFtLmcSN1kh8zpIIgCblZV1aT25VutVrLaJEkSxrlhpwnmCxk2esEQTKpuyupEdsicCIIo4GaTyuXLskx7aRMJGjE4E8wXMrUBbxZdwFpaNycSREkExTH0E/G9vgsADI9My4yvu6YzbGVZSrP3R3/0R9vt1hjzN/7G3zDGrNdriRtd153Uxu6w3HTyhbRubrfbf/Ev/oUx5gc/+MH/+B//Y7FYSJXUuul53ui/DdhvfGeBHDeUZVlK4PTHf/zH8qfVaiVbZVIHx+3t8/Oz7zIAQ1JV1fv7uzFmt9sNeiaqLMs8z/M8r6pKwsI7SEfN87wgCAb9bWDQPj4+yrIc36Kgoii0kkrn7A6+7zuO4/u+7/uj6chiKKRuxnEcRVHfZblHWZZZlhVF8UhDKXVQGkrq4JgQRAG3SdN0uVy6rrvf7/suyz3yr871yXQAW4Kin//851++fPny5YsMtpmvE3HH5JBTaScYfkNniqKYzWbGmMPhMIILr6oq6bTpfoPHJDPq//7f//vrv/7rX7580celUl+IuDzP8796ftGB7yrL8uPjwxiz3+8HFDxIvCRkrulYo6EUf/qnf/pHf/RH7+/vF+qg67rSUEpk9YryozOk8wG3GWIun046yZC2Pq53c8dxbs3Q00ZC4jF5ZdklbLlcSgvB9BQ6oPlCg+6RSNR0PLqhYY+5/TNKupFU1SzL5HS7oijW67XMTTE0jpcaVi6fTvw2BgrrdfDWhlJT/nTssixLWWZsjNERDRrKofoEcAupONvttu+CtJIkyfEdPwiCOI73+/0T3+hwOGw2mzAMG2/nOE4URYfD4YnvBdRJ/yOO474Lco/D4RBFUSM0cl03DMPNZvPcirPf7+M4Ph4Acl03SZInvhEgJPCwvG5KHTxuueSIp+c2lPv9PkmS42QN13VpKIeIdD7gBpo4ZH/Fkb2PNRVBJ506mEM7Hs+TBum4swg8aLhrFKuqWq/XaZrq5HCXw9KSMVif+JJu3MgWlaFfb29vxuK6eVwHu8yhOJ58pqEcnr6jOGBI5Ohxz/P6LsgljdmnMAyfO5bW3uFwqBeGWSk83WazkUur74LcoDH7JBNBfdWL/X5fD5yYlcKzyM6udtbNRh3st22yqjC4CUEUcAPZXygMw74Lcpo94VMDoRReRKpkEAR9F6SVk+FT34X6/CSUwgvYWTetjVisLRguIIgCbmBthre14VMdoRSebigLoqwNn+oIpfBEtjWXg4hSBnGjgCKIAm4gtzardpXY7/f17G07w6e6Rii12Wz6LhGG6nA4yIW02+36Lsslm81mQL2iRijleZ7lXy/sJNePJc3ldrsd0BDecShFHbQTQRTQlh4M1XdBvpUkid5n7Q+f6uqhVBiGNrdnsJbNiy7E4XDQgMT+8KmuHko5jjOgksMGUjctaS71nF/7w6e6RigVRVHfJUKTFdc3MAiyhN113b4L8vl51Dkb4jDVCD4C+mXnogtV35QsCIKhdN3qRvAR0Aupm77v91uM/X6v50r7vj+gcUZVTzbxfZ86aJVfMgDakX1IbdiqVXZal5NtwzC0dgPZy2R4WybTyrKczWZ6BCHQhj1V8th6vZ7NZkVRyHVez+gbEM/zttutDHZkWSafqO9CYQBsqJtyxcpJG1EU1TP6BkRGGCUozfP84+NDjjCGFfqO4oDBkAGt3qfU4ziWyjuaHBtG2nAfuWZsm8M8HA56GttoFhTVg8De74Gwn1wqfS2IkkQ4KYPrupasy3pQPQgcUFLiuBFEAW3J/avf27Hmv3meN8TMhAvqaevj6HfipexcEFUfERhZsFH/aNYe8wAb9Lsg6nA4jDUHtTFAM6aPNlCk8wGtVFVVlqUxpsd8gOVyKSl8URTtdrshZiZcEMfxdrt1HKeqqvl8TtYQLpMsHV3wYAPJs5UUvs1mo5PG41BPK0rTdLlcVlXVd6Fgox7rZr35iON4oGm059RvLEVRzOdz6mC/CKKAVuSm7DhOL6GLNAwSQSVJMrLOmfJ9nzgKLcnlYc9QgvZpHMfZbrc6YDwycRwnSWKMSdOUPhxOkgHH7hdEacMhwYZmN4xMFEVSB4mjekcQBbQiQ2u9LJOVhkEKkCRJ/QiX8ZGF7MRRuEquDUtmohoRlJ17XTxLGIb04XBBLzNRcjVKBDXiUQwhG0o5jkMd7BdBFNBKX0Nrxpjlcin9xdFHUELW4nueJ3GUfPNAXVVV0m+wIVwpy1L6MbKE3YYivVo9jlosFn0XB3aRutnlLHFVVdJQTmEUQ+iAI3FUjwiigFb6CqJWq5XsZzqRCEpIZ9R13aqqFosFzQMaNL229wUPeonKhihT6L0JjaPyPF+tVn0XB7aQaSjTbRA1tQhK1OMo6mAvCKKAVnpZgJFlmRydFEXRdCIoIUntNA84yYZTaMRqtZLCSG+m7+J0KgxDWXayXq9lxSYgA45d5vLpUGMcxzbcE7rkeZ6skU7TlIMWu0cQBVynQ2td3qCLolgul8aYIAjGupPEZTQPOMeSXD4NHpIk6b0wvYjjWBafaDCJiet4G9spDzUKHctYrVbaV0E3CKKA67pfwi4Z3lVVeZ4nOTPTRPOAkzSdr8cyaBpbGIbT7L0JCSDJvIXosm7qUKPv+9McahRxHEv/ZLFYMJbRJYIo4Lruh701wztJkqnlCDXUmwc2mYDoPZ2vLEvZUGHiwxzGGL1N6XeCKessnU+HGl3X3Ww2r347y202G1lFzAFuXSKIAq7reEFUfTOJaeYINWjzQBcNxo6t+XQzie1221cZ7KGRJJtMoLN0Pskg1dWzr347y7GKuBcEUcB1kkjWTRBVVZWssoiiaNwnXbQnzYMxpigK1q9D81X66jmlaTrZzSTOCYJAMm/TNGXGeLI625ovz/OJL0c8Vl9FTPZ7NwiigCu0x9bNmqj1ei35CWM9bf0+nufpPmDkKkxc99t/NchC9jAM6b3VxXEsM8ZsAzNZndVNucZ832eosS4MQ/nyqYPdIIgCruhy9UVZlrrRECPcDfKd6FeEyep4+6+G1WpVlqXjOFNeyH4Ok1ETJ7/7qxuvLMtkpoU6eEzqYJ7nTEZ1gCAKuKLLY3YlldnzvClv9nWO4zjytaRpymTUlPW4NZ9m24ZhyDDHMR0Ilz3TMDXdDHDorphMBR/zfV8aSupgBwiigCs667Hlea4nBr76vQZK84VYODtlPabzkW17FQPhU9bBmON6vZapYOrgOfLNlGXJEuJXI4gCWukyybvHxR72I18I3aQMnXxfsm2v0mUqjHRM0KvHHHXFXRiGfSX02k9HeVarFVkbL0UQBVzRzdF1up3OxM+cuYp8IYjuM3kkKnBdl2zby2Qunb00J+t1dVOmgpmGukoGetjl5dUIooAruhnIYXStPfKFpqyvGUjNtmWY4yqNM9lLc5peNBPFVHB7GmeStfFSBFFA/0jyvolmPDLGNkF9dQjItr1JHMfspTk1rx7VkmuJFYktRVHEkQOvRhAF9E9GuJmGak9mA/I8Z4xtmjqOZMqyZEvlm+hemkwXT83rWjE9hv5Frz8+8l1JBwOvQBAFtPK6TltZlrLsioUW7bmuK2n3NA9T00t6mFxmnuexpXJ7ckMrioKRjkl5URAldVCDc7QhJzFUVUVD+SIEUUDP5O7mui7TUDeRHcBoG6amm41eGmQ6hUS+mzDSMTUvrZtSB+W2j/bkrsWE8IsQRAE9k4aHtuFW0jYwzj1NXc4IVVVFB+4+UkkJoiZCZolftOWDzga/4sVHjCDqpQiigD7pPDv9s1t5nidzdzQPeCmdK6YDdyu5rRVFwR590/GKlAq9hGgobyXfmK4awHMRRAGXvHqWQ/O86Z/dQZoHgqhJ6b4rwDTU3XSkg8moKXhdqKxDjexsfivHcZgQfp0rQVRRFPMWJnKg3mq1ms/nV5+mXxrntY/Aq4Mo+meP0LaBce6p6XIBIXlEj2CkYzpe11xKHWRR4n0Iol7ne5f/rLngl02kdSmKos230fJLw9Ct12vXdR+Mf1iw/gjf93XrIbZsmpTOgiidK2ak4z7sLTE1T2/OdOErDeV9giBYrVZlWZZlyf5Vz3UliNKZU8/zLpyPwa+CCQrDcD6fL5fLMAyDILhjKEGmUOifPSIIgjRNyfaejo5/a+aKHyQpWDLSwdc4bi/KCJA6qKmhuJWs5yyKIssyTtl6rivpfFolJKvyHK5sjNvJAMlxnO1267ruer2ezWaz2Wy9Xt/UijAN9TgSFaam49RNcvkeR0bfRLxogIOBjMexR9+LXJmJAmDO79kqcdR8Pi++Wq1WwVdXX1ZSFB4Zg5B3NNfmio/JwHBZllVVVVUlp1Q1lu2uVqv2jeKPfvSjP/zDP5T/lqm5y8/X5YVBEDySiSdvxJoovMjje4LdV0mfXkNltlxX6nZZSSUE5SgC3Ednou5+hdc1lEOpg77vr9drUjae7/Oi7XYrT/N9//Iz65Ik0cF1SVXabDbHT/N9P4qiz8/P3W4nV5L8325cePfD4RBFkXRtXdf1fV/KLx/q6ivf96U913a7rVfOIAiSJGk8p9/vfyjk17z8Ux4Oh+P7u+M4URTtdrsL/1CuqO12+2DxbrrY5PI+eTeQMjeK19KPf/zj+vV2uQybzUaf/PhVJ6/zyNeIAeny597tdm0aysturaQvqqFRFGlJOq6k8r6e5z3yIrDfi+qmvOx+v7/7FV7XUA6lDj7lVoZjT56JqqpKRuXl/7quW5ZllmWy7DtJkvqTZXQhy7LFYiGP/Nf/+l/f3t6MMYfDoT7etl6vJXbfbrf1S7YoitlsZozZ7/cS81RVJdG2LKGTp/m+fxzxH7+7vuZisdB/6zhOnud5nr9o2XqbAq9WK9nDYL/fH7/CYrGQPFcdX1kul7pfYv0nKIqi/hOc+wZwq/p8lD4ov+x6vfY8T8aQjqezup9br9fQKIqkNlVVJZumFEWxXq+NMXItxXHcmOHJskwurTiOG3Hjn/zJn/z+7/++Pu3yAtbnZt9JtvcTXxDj8PjRn/IKXearv66GSltQf2aXldT0sTf9VbIkte9SjEfjGqu7+6vWF7SzGg6lDmpJuObF076HyzHWreG7RjhRFMmwweFw0AcbYbf5urmW/NVxnN/93d+V/27MXGk40YjFpSHR8a36hIAu4tJP2vi3x+8uczV6QcdxfDgc5GXrEdTVL6H9l9aywBo7HU/o6Z90xkNeQT6OlP/z81PLH4bh1W8AdTIU1Ob6PzkfVXc8JSuPdznAplfCycHCy3/9/PzUkbnjJ9QH2KT6nCvD4XAwta7t4zNRcs1z9U7E5Uu0TlqfMAzvHhpvX/0vuKmSvq6GfvZaSeV1HnyRpzscDkEQXE0ZQEsXciu0Mt76VetF+0jBumwoLa+DpGyIJElOpmjdqu3ufBe27fY8T56Wpqk8JwxDnRXRQfo8z4/Dbn1+GIbSAf0v/+W/ZFmW53l94ijPc4ngG0NZjeWGMqUTBEEcx/ouVVWlabpardI0beTCHr97mqYyThBFkdYEiS4kNfby13WrlgWWlEKZEGvMp+miZ91GVj5UFEX1wC9JEsdx1ut1mqb6YU9+A1dpbvFE/O///b+NMT/72c/aHBH2q7/6qz/4wQ/+/M///ORfZT7QcRyZZtTK1eUAm4yQBUFwMgkhjmPZMDDP87u3u/B9vyzLNE3P5UJoGZ51vpx8k6y4QIPjOJvNRk4ylJUMYRjeVN26nzzpoIaaPiqpKIrCqi06pHGfz+eXUwbwOK2Ms9nMdV1pBNtXxo63XxplQ0nKRp30kJfLpaxjb98HbrocYzWC5pM0rtX+/fHIur5OfTLq+BGJDo0xruvqI5LKqZ9QZ1ckTK+/nTHGcZyTH0T+bT0EP/nuWh/0XY4/wuVv7POWMY/2BZav5fjJ8jQNpuUnqH97Sr8uHc84+Q1c1eaSwFWu6/7Tf/pPzfkL4Nafo80Am85bXvjR5c5y7gltZqJkrd3J5wgZdtFs78cH2OTtWNE3EdLHbT+e2pgi9n2/Pkt/2VMurfaV9KU19LPXSirdZTtHwRtXyLlV3Ljq6irf46/66lSAXKhdzgY/WA2trYPy61yY+5qg+goX13XjOL41M6jtmqgLh4rqWILOihyPLmhwchwHN2aHgiBYLpcy6SSVTTdmcRxHElLr+6Xq21VVpbtBNFRVdW6U+uTclOu6x2NReqznyde5w00FDsNwtVrJJJVOMenUnP40Old2crJID+uof+qbdqoxxriuO6lzBv7jf/yPf/AHf/DX//pfr2+ccM6f/umf/rt/9+/+8i//8sJzwjD0fT8Igsd3HLqVXr2S1X3yrZMkaaxdvEMQBOv1Osuy41E62cPwFcO9jLFNhOd5Ny0mbCxZlCn9KIoWi8W5kWbV8fRmZzXUdF5JJZfEzl00G1dII2XAqqmzoTv5VbeZCuh4QZT8x8gaSnkpO+tgX3Q+yhhTluVqtZKrUVJP27zCDUFUy972uZ9cZhIbbdJxxCW7+UlaWj2I8n1fap3kv5mvfSaNHxzHqZdQrn6JRvI8P3ndnDu77Vx1vbXxvuzWAodhuF6v61tcSMh0XM3KspRVjyfVf4I7Tq9rfyWMw2q1+oM/+IO/+3f/7tVPXRSF7/vnIijP8xpZfN3vKuF5nuSFyqrZ13UR5LqScL1xccpF+9zcDHo5uOx465dvvvkmTdOraX4dbyzRWQ01nVdSoc23bY6vkDY7A+EOJ79qrYzHaX6Pbw9zq7E2lBzoelI9jhLtY3tz9bDd9q4OA5+sAycfbBwKJguiZF1Q/XG5yI7XCM1ms7e3t/l8LpvaVVV17jjgxrv3MpLdvsDyS0smrv5bU/sG6psiRhfpa9IqtHT1i5II6ptvvmk8Lr/Ffr/f7XYnm+GOAwBdfSddhNls9v7+vlwubz0m+KogCE4uI0zTVAZKnvhe8q0yE4ULpOt2XN1kyOnj40OWTjVqQfe783VWQ023ldT+kY5zV4gsA35/f5eNcO978bevHnz88p+G4kJlXK1WHx8fi8VCFwL1sth1lA2loKE8drx5uPka289ms4+Pj/V6ffY6vJztd9NGc/LMc2dBHP/13MvqSx0OBymAJoNKrdvv95K02ngvCQ9c102SpLEDzHGq7vG7t/wIl76Fz8/PW760mwr8+d2UVvkGGsufWr6vPrnHk6yGos2iiN1u9+XLl+NqeTmxXqLizpZbqMPhUN/IpE4uxQv/tuWaqM+v12ejVHKfko+sz3881ZsTMCblkdPVrm6h+eXLl/pufueu9pvccU7UK2rocUm6rKRSsFuX4Hbv6hXS5gDAY/rPH3z88p96d1PdbPNVh2H4ox/9qPs6+PlANbS2Dj5lr9ERu5qfeXIJ39NmohzHkfpwnLNnatNHbYajNP6W5PX6v9LJqONpKIkaHceRIf87xr1kk3H5CMeDDU8fDrmjwPJ55bPrzi3HTzg30rBcLmWbxMcLD1UUxXw+1zkoz/Nk2bpsoNlr0U6TToCMREgh9dory3K5XNbnte/muq6kv9YrTmM7zad7wwTIVTSfz+/4t+/v75cHYiXNbz6ff3x89LUNaTc11PRUSetv9PRr43FXrxCdmpjNZq+YHnyRbr69m+pmm686TdM//MM/NMb8/u//fsdf9VgbSjvrnQ2u/qBZli2XS5mT1N/raUGU+ZpvZr727+t0iU7Ly0KDJaljmhiqQU5jQZQxpqqqqqp0v/U6fX7L960XWD29Qb2jwJIPJmGqLoiqP0GPhDsuf1EUsge9/WkVAyIRVFVVV9P2jvW+ylMS0DebzW632+/3On6WpulTdvOX6lnPysiyTNqMx1+8bij9GAyILFfo92756hpqOqykYkyrMuQKaZkSr+PWDz5++U8j9sd//Md9rT4YTUNJIt9TOI5Tv489OYiSX329XstWcsaYqqqWy6UG1i3XydVnouphRn0mqrEpgvx3nuf1EK6qqtVqJd3cWz9CPQ5ZrVZPPyTqvgJL1LRarcqyPD5mQcuvy6vk8aIoJMiOooh1UDe5MAMpEZTsh7vf789N/d/9+k8nFerknVT2C9HNM55ytesqvvprvmJ0Ta5zshQm4qXpfLrL7Waz0dGQzippxzXUdFhJjz+UnRV2t9tdbiLtzzU4qZtv77npfHLN/+QnPzHG/MZv/EY3X5QZb0MpOAvknMvb8UlyqQbS33b2Lr/oHcncWisa4ZrneY2jOS6/rF5DjZ9cw7Dj3e7rx+P6vq/P1LNoTW2907l33+12WmzZ0EL/YZtv7LP1SUqN83yvFljoCQbGmJNLbvb7vbYBmmN58kds/7NOmVyHJ+872+225WkzJ8l10tnxF7pw6PIz9co/+df2a6KEfHvyZKlKegjD05dbcDFPxN2nnVzotMlSqOOFLheqf3stK+mra+i5knRTSeVXs/z8pQsRlOYa9F1Gq8mv3OZquVAZtbcqz5RLOgzDRwrWZUNpbR18yt1srC5EUJdPM3vmTJRc/bvdLkkS13Vlt24JD2TjhJvmQOoRRf1x/b/HkXocx0mS+L4vJ0nLLFYcx9vtVgPHq1NSnuftdjuZsSnLsixLz/OiKJIXee6Ok3cUWHcpPLdzi+u6ksIrP4HmPSZJwjm5d7gwuSRHhz34+p0tUdMZ3XM7/tc9K+tGrtUsyyQH9Y4t9dsjT3Ui7suDld2KT86HJElSlmWSJMeXUJfpZ73UUNNVJZXZPJvzIDQ3u/G4pHLdnWswKS2/n3OVUToqMsvXqIydzQaPuKHsfrP4oVgul8erkBpZCef+7ZVzoiRWvrVAYRi2Oabq8iufe5H6XGr7fxUEQSPkuPDucoLT8bu0PB/ppi+tfYGVLEO88A3LQM7Vn+COX3ayXpFM3H17LEeNGWPW6/XJi1lTWJ8VkMjZ2bov/4tSFHrZAxd9uaPiHHfaLh8P1dDZWoLua6jptpJa24E7jqCOT/bDVW0GOE5WxuPjoZTv+xfOvXyFsTaU8uKMNjY0IiiZn2i/O92TZ6LwarJfjTnaUgIv8ro7jjYYncUAuiJuvV43mjE9WdIYI1OvT3lHief1HIyXtg0MEk9K+8Cm3mnTHcxbTix03OHovoaaTiqp9qrt7MDVI6g7tgiCurqGsF4Zzy4yOaXLXYXH2lCyscSxegR1YSL0AoKogZGxinPHB+PpOjjI9SlB1OV9S2VvScdx9vu93B3yPJdT5OSs5/f3d9kMxvf97Xb7xK6DZsCeG2h8HEHUpNzUEddOWz1tr31W9nOr/9VK2ksNNa+vpDb33jSCIm3vcZfrplbGm3qrz/0tptxQCjsHMnohEVTLtL1zrqTzwRKSnit79xljnjgMictaLqW7j+/7HR/bJasWsyyTNXgav0kStu/7T5/hlHwYaXWe+8rK5i4anq59YCN7w/q+v9ls7uuXdH8OQfc11HRSSY2VvbeyLFerVRzHpO090clGTSqjbGZ7U2Wsp2x0FtyOr6HUGybXuZC+9G63e/C+9MbCmEGQLcvlv8MwvHqyMp7o7e3NGLPf759+B5ezj6MoarncDseqqnp/fzes8ZuMoihms5np6heX6n84HOh83E1OPZHB+77Lghd60d1Y6uB2u31pkD9ueZ7P53PHcQ6HQ99lGRXS+YZBRj6iKEqShAiqF69YuSRDIOyL8AgZ9aSDOx06cNjNBJFcWk8/J3BS5BZHjtzo6X34uY2aHhD6xNecGvn2LJwNHjqCqGGQhP44jtlPonuvG/2SOxr9s0foQd59FwRd6yaNU09+7+C9xkpucUwjTMErzqcmiHqcfHvUwacjiAJaecUdXBPxiaPuRv9sgrocT6UD96BXb9wMq7yibsqVI2coPf3Fp6AsSz0ytO+yjA1BFHDFS7NQGOd+hPbPCKImpYM9M5Uu+Gak4z7MFU/Qc1s013WlFaYO3ke+t5cedj9ZBFHAFS/doYuMvkfo6Bproial403zmIx6BHlEk/KiWWKdjHrFi48e+RqvQxAFXPGKJG8lbUNVVTQPd6BtmKaOx1MJou6mKVjMRE3K0wc45PrR1AO0p70L6uArEEQBV8jQ2ovu3Y7jaPPwitcfMfpnE9fZuINcYLquAO3pMAdzxRPxojFHTUWjobyVfGOu67I13ysQRAGtvK7/JOPctA230jxv+mdT0/HZAIx03I1cvql5Xd1kQvg+LEp8KYIo4IpXj99I28A4961oGyar+wPWWLt4B/YEmyCZLyrL8um5GwRR99HRxr4LMk4EUcAVOtHxoiBH59nporVXFAX9s8nSNVGd9ag0o48+XHtpmhr2BJsY13VftHmm7pMp1xXakO9K59LxdARRwHXSCXjdklY5Q3m9XnMORkur1coY4/s+/bNp0vnbbt7OdV15x/V63c07Dp12dum9TY2MCb5izFGuJepge/JdUQdfhyAKuK6DIEreguahjTzPZUIgiqK+y4J+aNZQZ+8oF1ue58wYt7Faraqqcl2XSjo1r9uKKYoix3HKspRBNFy2Wq3KsnQcJ47jvssyWgRRQFsvXbMkt7k0TVkZdZW0oEEQsGB9siSI6rKy+L4vM8Z04K4qy1KmoYigJuh1Z2G7rit1ME1T9jq/TKeCwzBk76XXIYgCrutgUaaGBHTRLtM4k9G1KXtdytAFEhJohIBzlsulqYWdmBSpmy9aPSiTUVVVkbVx2Xq9Ziq4AwRRQFuv7rFpvhCL18/RtjOKIlZDTZmmDHU5IK09EslV6+x9h4Vs24nTBIFXZNtqchpLiC8oy1IbSqahXoogCriumy2VdeBWxnFxTBpOx3Hon02c4zivyxq6gIHwq8i2xUuXLLKE+Cqpg57nMRX8agRRwHW6Fdir4yjyhS4gyRt1L80aOkcD+DRNGQg/RrYtzNcg6nV1M0kSY0yapmRtHNPNb6iDHSCIAq5zHKebhezkC12g+33RNsC8chOwyySVlMmoY/qd6FwBpunVuRu+73PkwDnynehXhJciiAJa6WwhO/lCJxVFwX5fqHv1aPcFOhnFXpp1mm3LMMfEddBcyjWW5zlZG3Xr9VpuidTBbhBEAa10tqWy5gut12uaB1FV1Xw+NyR5o0aTbLufjArDUN59Pp8zYyzSNNVpKLJtJ66DBHjP8zRrg7EMURSFrIaKoqiDLYVhCKKAlqRV6OZmHUWRnkhD82C+dlUdx9lsNn2XBbZwXbfHyajNZiMzxsRRptZ7C4KAIXBoAvxL66aEClVVLRYL6mB9qJF8jc4QRAGt6AKMblaTx3FM8yCWy6VEkpvNhoUWqOvltCjhOM52uzW1+GGy9DbleZ6s+Ad0Mup1byHDao7jlGW5WCxe90aDUB9qZCq4MwRRQCuO43S5GxjNg0jTVHIa4zhmmSwaetmgr/7uukvYlFcwLhYLWQqVJAm9N4hu6qbrupKekOf5lMcyGGrsC0EU0FY3p0UpmoeiKOTIrDAMyU/AsS6TbE8Kw1Azb6e527J+8CRJWIYBpXXz1ZkUvu/r8bvTXEXMUGOfPgG0I3dq3/e7f1NjTJIkXb5v7/b7vYxqe57Xd1lgL7lIttttj2WQ4MFxnN1u12MxuqfJe1EU9V0WWEfq5maz6eC9ZCxjgnVwt9tJHQzDsO+yTBEzUUBbMsaT53mXi5R0k4nlcjmdYbaiKGazmWR4y8oT4CStlT2WYbvd6iYT09kJJk1TmShmMwmc1OVEsa4inlQdLIpCN5OgDvaCIApoy/M8GVrruMemc/QTiaOkYdAIilUWuECqRpZlPZZBL9Tp9OE0gmIzCZzTZd2UOqhxVL83hG6kaSpDjZ7n0VD2pu+pMGBIZFKol3lzPR8pjuPu370zu91OGoMJJmbgDofDQepF71fLdC5djZrCMDwcDn0XB5bqvm4eDgddmDfuBHitg57nUQd7xEwUcAO5QfcyypUkiS5hXy6Xo9z3PMuy+hwU69RxlW6b2fvYs+d5u91u9GPhcv8xxoRhyHZ8uMBxnCAITId1s95wLJfLse6ZuV6vdR6YOaie9R3FAUPS+7C3zkdJj62XMrzC4XDQ/fcYWsNNZDGA67p9F+Tz87tj4SObqJEQUT9a38XBAMiEScd1s14Hfd8fUx08HA66/x4NpQ0IooDbyC2sx92o4jjWrKFxpPbVO2dBENAw4Cb7/b7foY2Gw+EgA/BjGuyoTzqN47aDDvQ47KijcjI91fG7v0L9FF32w7QEQRRwGxn27nff7TFFHeOLCdE9qQ5WdSxGE3WMMiZEZ+Ti6aVu1lPdrLo53GF8MeE4EEQBt9FjGfb7fY/FqOe/ua47xLsqnTM8i1UZfWoEgx273c513VFmJ6IbvWT0qUb+W7+t9n1GcBsZMYIo4GbSq7Bh85/6/H4YhkNpISQCHM0YIXpnW0ZfXX0IOYqiofSB9vu9rsB0HKebI1MxPr0vJP6snVk/rDrYaCgHPaE9VgRRwM2kVxQEQd8F+fz8/Nzv9zrSZn8o1WgV6JzhWSzM6FP1tCL7u3H18MkY4/u+zbcU2K/3hcSf351Ttb8ONhpKMjWsRRAF3Gyz2ciNuO+CfGu73VoeSh2HT5Y3YxgWGxYrXjCI678RPrmua8N8O4bOnmzbJEksD6UaNwrqoOUIooB7yD3OtlkUO0OpQXQfMXSa0WfDNX+OtXWB8AmvY1u2rZ2hFOHTEBFEAfeQDoclGX0Nx6FUX02XtV1GjJJc9vYfYWRVvdjtdoRPeDUL6+ZxKNXX+Mt+vyd8GiiCKOAe2+1W7nfWhgTb7VZbCLkvh2G42Ww6KPBut4uiSDcU6r2biImQfcAcxxnEldYIpSQXMYqiDnbaPBwOm80mDMPGLYKuG15E6qaFLWY9lNI62E2OyWaziaKIOjhoBFHAneTeZ/mGOUmS1IMZ4ft+HMfPnZ7a7/dJkoRhWO8USqtA+ITOyOU3oI6IhFL1jpTEgUEQJEny3KHx3W4Xx3F9mlo7jgP6xjBQNreYjVBKBEEQx/Fz6+B+v4/jWM/2IHwaurfPz08D4Har1Wq9Xruuqwnf1qqqKsuyoiiyLKuqSh+XvprnedJ+eJ7XCIEuKIpCXirP8zzPi6Ko/9X/6jiEA15nQLWyoSiK/Kv6457nSVUyxjiOc1OFkpcqy1JevCxL/ZPW/SAI2td64G72182yLKWhzPO83lC6riuVRWrK8TDEBVIHq6qS9rdRB7WhPA7hMAgEUcCdyrL8+PgwxtTPwrOf3MqPwx6lHTXXdeu9K3l+WZb1ZqDOdV1tEuiWoRdaKxsrA4dFhzwu1DUd+NAHq6qS5+sAxzEJyaRH+IKCA2dp3dxsNsdTMbbREY2bGsr2dVBHRjBoBFHA/ebzeZ7nYRhqwveAVFUljUT51a2vIK2I/G8QBIylwQaLxSLLsoHWygYdGpeR7HPdsgvcr5h0Qu+Wy2WapkEQyDEhg1CWpTSUEiDd0VBKBdR5JxrKMSGIAu6XpulyuZSF7H2X5TnqSXr6iDQAP//5z//BP/gHd+QzAF3KsmyxWBhj9vv9KPsr9QShb7755v/8n//zZ3/2ZzqzdF/iH9CBPM/n87kZft082VBKjfvv//2//5N/8k8MdXAaCKKA+1VV9fHxUVWV7KnQd3FeqCzL2Ww2mlgR4/bx8VGWZRRFcsrniC2XS9m7pe+CAK2Mvm6+v7/vdrtBh4ho75f6LgAwYLI429SGo8ZKdqRI07TvggDXyYhGlmV9F+TlsiyjVmJAJOAf60WbpikN5aQQRAEP0e7aHanSAyKtwuhjRYyD1MqyLMfdm5Eem2y+13dZgFZkYd5YIw1pIqcwfANBEAU8RPcHH/F9sygKCRFHHytiHBzHmcJklA5qjLI/ilHS9I3x1U3ZBsZ83Yui7+KgCwRRwKOkuzbifkz9o42v5cMoSa1sHI40JtpjM8YMaK8zQDL6LuwePlD1xpGGciIIooBHybjaiAef6l20EceKGBPP82RrrPV63XdZXqLeS/vmm2+omBgKOVHQjK41qX+czWZzx4EEGByCKOBRcpy5GengU5qm33zzjf5fFmBgKDSjb5S9mUYHdKwjOBglbTFHUzc16V188803o+wPoIEgCngCGVcbU5OgjjtnIxs+xFiFYShL2MfXm2n02AzrFTEoYRi6rjum7SWOP8j4bjs4RhAFPIE2CSPLHaqvu1AswMBQyGTUyGqlOTOQQacNAyKTUaMJoo5r34gXZEIRRAHPMcqMvpMfhwUYGIqx7nV+smKO7DNi3GR7iXHUTTls4OTj3RcGXSKIAp4jiiLHccbRJKhzn4UFGBgE13XHNxl1rsfGekUMiJ5DMIK6ea5BHNmgKo4RRAHPMaYmQRyvu1AswMBQjGnAW1wYwhjNZ8QUjKNunkx61z8x4DhuBFHA02ju0Djum5cbNsbYMAgjm4y60GMzrFfEoIyjbl5uCmkox40gCniacTQJqt4h++EPf2iM+f73v6+PDHrsEJMyjgFvcblPxnpFDMsI6ma95NJE/uAHP9BHODBq3AiigGeSIGoEZ7HXj4fyPO/HP/6xMeYnP/nJly9f5EEWYGAoxjS6Ue+xJUki/yGfToxjGhwTMfS6WU96//Lly09+8hNjzN/8m39TTvo2HBg1dgRRwDN5njeOs9i1K+Z53na7/ZVf+RVjzA9/+MM8zzWOGvpnxHTogPegOzT1HluSJBo71f+b9YoYlkFPRmmZv3z5kue5pGz88i//8na71Thq0PccXEYQBTyZNAlpmg63K6N9TYmgHMfRP3mep3EUbQOGQge8h9hRU1r4etR0/AgVEwMy6MkoqWsSQWnUZIxxHEfjKA6MGjGCKODJfN93XdcMubt2LoISGkeN6bx5jJ6MbuR5PtyEN6mYxxGU0MeplRiWgU5GyWEDxxGUqMdRw/pcaI8gCng+nYwa6IrSNE3PRVBC4ijHcYbbH8XUDHrA23y9n5yLoIT8lfWKGJaB1k1tBI8jKKFxFJPDY0UQBTxfGIau61ZVNawmQRRFIbf+cxGUkCiLRAUMyKAno/I8vxxBCXkOI98YlsFNRslZJvW1TydpYzrEew6uIogCXiIIAjPMxQlFUVyNoITEUYx5YygGOuAtfN+/GkGJJEna1F/AHoOrm9JQXo6ghMRRjDaOEkEU8BJRFDmOM6BxNRWGYfsemOd5Ei4CgzDcyaiWEZSI4/h1JQFeYViTUUEQtImghOM4N9VfDAVBFPASetMcyrgaMAWDG/AGJkLr5hAzODBNBFHAq0h7MJRxNWAihjsZBYwbdRPDQhAFvApj3oCFqJiAnaibGBaCKOCFhpXkDUyEDniTOARYResmjSbsRxAFvBDjaoCFtGKuVqu+ywLgWzSaGBCCKOC1mIwCLETFBOyke9sSR8FyBFHAazGuBljIdV2Jo1arVVVVfRcHwC/UG03qJmxGEAW8HGPegIVkwLuqKgY4AKtQNzEIBFHAyzEZBVhID3NL05QBb8AejuPI4ON6vS7Lsu/iAKcRRAFdYDIKsFAcx67rVlXFDhOAVaIocl3XMPgIixFEAV1gMgqwkwxwpGnKgDdglTiOjTFpmhZF0XdZgBMIooCOMBkFWCgMQ8/zDNudA5YJgsD3fUPdhK0IooCOMBkF2EkGvLMsy/O877IA+JaevUvdhIUIooDuMBkFWMj3fRnwZoADsIrv+0EQGCajYCWCKKA7ejQNfTXAKjIZled5lmV9lwXAt6RuFkXB4CNsQxAFdErPYqc9AOzheZ5k2zLgDViFTHhYiyAK6JQeTUN7AFiFbFvATnEcy+AjYxywCkEU0DWdjCKOAuyh2bar1YqzdwF7cC427EQQBXStPhlFewDYQwY4qqpigAOwCnUTFiKIAnpAewBYyHEczt4FLOQ4juwwsV6vqZuwBEEU0AOSEwA7RVHkui4DHIBtwjB0Xdew+wusQRAF9COOY/pqgIVkwDtNU873BKySJInhXGxYgyAK6I2eGUVyAmCPIAg4exewkJ6LzWQUbEAQBfRGkxPoqwFW0bN32e4csIpMRnH2LmxAEAX0SROHmIwC7OF5nk4Us2oRsAdHEcAeBFFAnzRxaLlc9l0WAN/iPDfATmxvC0sQRAE9k0G1PM9ZKQvYQ7c7Z9UiYBW2O4clCKKAnulKWQbVAKvIdueGVeyAZcIw9DzPkMSBXhFEAf3TVexMRgFWYUtlwE60m+gdQRTQP8/z5OxdBtUAq7ClMmAn3/eDIDC0m+gPQRRgBVl9UZYl27YCVmFLZcBOMhnF7i/oC0EUYAXXdWUyisYAsApbKgN20rrJUQToBUEUYIs4jtlSGbAQWyoDdpLdX6ib6AVBFGALx3F0MopBNcAebKkM2Kl+FEFRFH0XB9NCEAVYhAFvwE5sqQzYKQxDdn9BLwiiAIvooFqapkxGAVZhS2XATnpmfZZlfZcFE0IQBdhFM7wZVAOswpbKgJ1835dkeNpNdIkgCrCOTkax+gKwClsqA3aSZPiyLImj0BmCKMA6uvqCxgCwClsqA3bSY0IYf0RnCKIAG8mAd5ZlrL4ArELCLWCnOI7Z7hxdIogCbOT7vmw3RGMAWKW++wtbKgNWkfHHNE0Zf0QHCKIAS+l2QzQGgFXYUhmwUxAE1E10hiAKsJRuN8RWYIBtdLvzNE37LguAbyVJYowpioK6iVcjiALsJZNRZVnSGABW8TxPxjjYYQKwiu7+slqtqJt4KYIowF5sBQZYK45j2VKZhYuAVWS7c3aYwKsRRAFW07MvaAwAq+gOE+v1mi2VAXs4jiMJt9RNvBRBFGA1x3H07AsmowCryHbnhlXsgGX0uEUWFeN1CKIA25GZAFhLVrFzpBtgG939JcuyvsuCcSKIAmxHZgJgLd/3gyAwDHgDltEdbpkoxosQRAEDEIahZA0xGQXYRsY4WLgI2EYXFRNH4RUIooBhkCXsaZoyGQVYhV00ATu5rquLimk68XQEUcAwhGHIQeyAnWSHiaqqqJ6AVeI4lrrJRDGejiAKGAwZ7WYJO2Ab3e48TdOiKPouDoBvScJtmqY0nXgugihgMHzfl8koRtQA2zBXDNgpCAKaTrwCQRQwJDLanec5I2qAbbR6sqUyYBXd7jxN077LgvEgiAKGhMkowFpsqQzYyfM8qZvs/oInIogCBkYO92S0G7AQWyoDdorjWOomQ5B4FoIoYGB0z1Z6aYBt6lsqM+AN2MNxHLY7x3MRRAHDI0svyrIkvRuwDdudA3Ziu3M8F0EUMDw62k1LANiG7c4Ba7HdOZ6IIAoYJE3vZjIKsA3bnQN2YrtzPBFBFDBImt69Wq1YegHYhu3OATux3TmehSAKGCrZB4z0bsBCbHcO2IntzvEsBFHAUNX3GqIlAGyj250zzAFYhe3O8RQEUcCAMRkFWKu+AQzDHIA9GILEUxBEAQPmOI7uNURLANhGtztnmAOwim53TsIt7kYQBQxbGIb00gA76Xbn6/Wa8z0Bq+gQJEcR4D4EUcDg6aE0TEYBtgnD0PM8Y8xyuey7LAC+pdudMxmF+xBEAYPHZBRgM91SmfM9AatwFAEeQRAFjAGTUYC1fN8PgsAwGQVYhqMI8AiCKGAMmIwCbCaTUWVZcr4nYBU9ioA4CrciiAJGgskowFqu60oNXa1W1FDAHnoUAa0nbkUQBYwEk1GAzTjVDbATdRP3IYgCxoPJKMBanO8J2EmPIkjTlKMI0B5BFDAeTEYBNtPzPamhgFU4Fxt3IIgCRoXJKMBmnL0L2InJKNyKIAoYFSajAJtJDTXGUEMBq4RhKGfvchQBWiKIAsaGySjAZkmSGGPSNOXsXcAqevYudRNtEEQBY8NkFGAz3/dlwJsaCliFuombEEQBI8RkFGAzBrwBO8m52HmeZ1nWd1lgO4IoYISCIJBTL9I07bssAJp83w+CwBizWq36LguAb3meJ0cRUDdxFUEUMEL1E2n6LguAE2TAuygKKilgFZkoLsuSuonLCKKAcZJTLxzH6bsgAE5wXVdGOlh9AVjFdV09ioCUeFxAEAWMk+M4+/1+t9v1XRAAp8Vx7DgOA96AbaIokrrJGAcuIIgCAKAHmnZLRw2wSj0lnskonEMQBQBAP3TAm8kowCpSNzksBBcQRAEA0A8mowA7sT8TriKIAgCgNzoZ1XdBAHyHTkb1XRBY6nt9FwAAgOlyHGe329FRA2xD3cRlBFEAAPTJdd2+iwDgBOomLvhOOl9RFPP5fD6fc04zAAAAAJz0nZmoqqryPO+rKJcVRbFarTzPk1PeAQAAAKAXg0nnsznAA0bP9339XwCWiKKo7yIA+AVpIskAnI7BBFEAeuT7PhEUYBtSMwB70FBODVucAwAAAMANrgdRus9ElmXz+fzt7e3t7W02my2Xy+NzLeTJcsDzbDaTJ398fCyXyy6T8cqyXK1WHx8fb29v7+/v8/n8ZGlFnueLxeLtq8VicfJgtaqq9DU/Pj7m83mWZcaY1Wo1n88fLHCbMtz0Q+hrvr+/65dw7jDHlt8AAAAAAGOM+azZbrfyoO/7+qD8X028dhxH0z0dx9nv9/VXMMZ4nud5njzBdV3HcfS9oihqPLn+RnUyHyr/fTLnu/FSjU9Rf9N6aQ+HQ+PJchx145nGmDAM60/b7Xb1v+oHDMOwXtSbPtetZbjph6h/afVf4fhLaPnuAAAAAESrIEq64FEU7XY7eXC/30s8cNzR1y64duvrEUg9+GkZbCRJ4vu+xC2O40jKaZIk5z6SvJfjOJvNRh45HA4SKjTeTt7FcZwkSTS00KCi/tG0/HEcyzP1NUXjS2gfRLUvQ/sfQiOo+q+w3W7lO/Q87453BwAAACBaBVHm1MzP4XA4GT8YY4IgOH6yxiHarb8p2JCynXv+cRmOnykRiP7fzWajcVHjmRqESKySJMm5LyEIgkeCqPZl+Gz9Q+iPePwr7HY7+dN2u7313QEAAACIVhtLOI5znFMnk0Inn69RR/3JuonQS9fbFEWh/6H/LST1Th+UFU2u6x5/NH1EniP/a05tJlufjLpD+zKINj+EPv/4V/A8T74EWUN167sDAAAAMC23OPc8r77K6LLGOiilkzaN2Oa5PM/zfT/P86qq5vN5EASu68r/NraC1fBAdmtocBynqqosy+I4li0xTn4u3/flmfeVtn0Z9NNd/SE0NDr5zHpkdeu7AwAAADCvOCfqwiljruuWZXl3yNHSZrNZLBYSR8ms12q1cl3X9/04jhuhRVmW5/ask7/qf5/7XJ7nPbjxYPsytCFfb/uz3p777gAAAMDodXrYrvTvXzoTZYxxHGe73ZZlmWVZURQy31KWZZqmaZrudjvP87QMMk914dVeV9r2ZWivfczzincHAAAApuD5QdSFiSb5033HOd8azNSX+mRZlqapzBfN5/PD4VDfhP1yupp+nHOf6+5pqPZleKI0TcuyrB+q3eW7AwAAACPQamOJmxRFcXI+RPeTkODhQlBUVdVxZNIyCVCWQjUW+QRBsN1uJcOtqiopnky/nCvGcrmcz+d5nuu2DUVRHJfh+JPe9LlaluHcCx6TrEVjjGQzHj9hvV6v1+ubvoH27w4AAABMwfODKGPMyTU2uo2Bnk1kzoRGF5botJHn+Xq9Pn7l+tG0Woyqqo7frigKmbmSeE8nbY6febwlw02fq30Z2tPcvOPXzPO8LEvHceQ5r3h3AAAAYPzq+52fOyeq/WlO+rJBEOh5UIfDQXv29cOLJKqpH3y03+8lB69xptPn15OL2pwTJduO1wvwWTsTqf4KGiHoEbqfn5+yaKpesHr6X/1IpfrO4PUC3PS5Wpbh85YfQqO+xmvqWb13vDsAAAAA8fwgSjYZ19epB2y+72tP/bMW2LiuW5/xkLOMGq+se3O7rivrnc59pHrMI4XRHfkcx6mfHrvf7+t/qpeh8ZF3u51OZEkB6q/fKOpNn6t9Gdr/EI1FX/XX9DzvvncHAAAAIJ4fRMmTkyTRCEryx5IkOX6FzWZTD7R835enRVHUeNPD4RBFkfb4L0+SHA6HOI4bwUMURfUQTp+ZJEl9Q/BzRW0UQF/w+Eu46XO1L8NNP4SUoREUnftcLb8BDNHhcNAfd7vdnvur4zj1mVsAHaB6AuNAXZ6mt89aDt7j3t7efN/XYGwKZPeF536NwBMVRTGbzczX23f9qLTFYiGLFTebDTvdA92jegLjQF2eoJdsLAHAHp7nyS72VVUtl0t9fL1ey209iiJu60AvqJ7AOFCXp+i5E1tmemtpTqbSAbbRe7fkaupGI1OrsICFqJ7AOFCXJ4V0vkeRzodBqKpqNpvJHvfb7Xa5XBZFcZx1AKB7VE9gHKjLk/K9576c7/tTO1loap8XA+U4zmazmc1mciC1HGW22Wy4rQO9o3oC40BdnpQnz0QBsNl6vdYToqMokgRuADagegLjQF2eCDaWACakPnEqI2RtrFart7e3t7e31xQKgDG3VM88z5fL5cfHh1TM2Wy2XC7zPH99GQFcd19Ti8FhJgqYiqqqPj4+qqpyHEdzDNpsFvTx8VGWpTGG2wXwIi2rZ1VVi8XiXLwUhmEcxyQOAT26u6nF4DATBUzFcrmU2/p2u5WD/5bLpURHl//V1ecAeFDL6ilbGRljXNdNkkROkN9sNvJP0jRdLBbdFx6Auq+pxSD1uTUggK5oTnYcx5+fn7qFpud5J5+/3+83m01j35RuiwxMRcvqmSSJPO44joRP6nA46ASU7K0MoHu3NrUYNHpFwPjtdju5j9ePqoiiSB6Moqj+ZH2cMRegA+2rp2YENeqs2Gw2x68DoDM3NbUYAdZEASNXP7Zit9tJdoGYzWZFURhjttutHBttjFmtVuv1+uRLcbsAnuum6qmbu+x2u+PTNaqqen9/l/+mqgIdu7WpNcbM53NjjOd5cRxXVbVarfI8l8Q/3/d9378wpgkr9BzEAXixMAylsm82m8afdNjsODuojtsF8CI3Vc+rNZGq2rFzX/izHh/WW0zcHU2tPOj7/rmjeIMg6PZD4DZsLAGMWZqmaZoaY4IgON4dyPM8GeiSLb96KB8wYbdWz+1XJ18tyzL9hy8sNIAjjzS18qCc0qtbxUhMlWWZ1mtYiHQ+AFdoEhG3C8BaunEfh3t25ty98VmPD+stcCv9Jh3HaUxGpWm6XC6NMUEQ6HJH2IYgCsAVNJmA5ZbLpQyEG2P2+319PQYAO2nbGsdxY/kTSxwHgXQ+AACGqqqqegQVxzERFDAsxxmAHJk9CMxEAbiCmSjATlmWycme8n9J5AMG5HLbSstrv+/1XQAAAHCbqqrW67WeRuA4TpIkx+PZAIAXIYgCAGBI8jxfLpdynowxJgzDOI7J/wGALhFEAQAwGLptl/l6TGf9+E4AQDfYWAIAgGGoR1BRFO12OyIoAOgFG0sAuILlrYANyrKczWayjUSSJGEY9l0iAPdjY4mhYyYKAIABSNNUIqgoioigAKBfzEQBuILxMMAGHx8fspkEx+kCI8BM1NARRAG4gls50LuyLD8+Plo+maoK2I8gauhI5wMAwHa6oTkAwAb/H97gv6L5VgMHAAAAAElFTkSuQmCC)"
      ]
    },
    {
      "cell_type": "markdown",
      "metadata": {
        "id": "apKrtxitrXBg"
      },
      "source": [
        "#### (4) Training"
      ]
    },
    {
      "cell_type": "code",
      "execution_count": null,
      "metadata": {
        "colab": {
          "base_uri": "https://localhost:8080/"
        },
        "id": "QbCXWARSmiwl",
        "outputId": "1a2a53e3-dda2-4f95-c100-1b597a5f9015"
      },
      "outputs": [
        {
          "output_type": "stream",
          "name": "stdout",
          "text": [
            "Epoch 1/10\n",
            "3907/3907 [==============================] - 277s 68ms/step - loss: 0.3143 - accuracy: 0.8632 - val_loss: 0.2607 - val_accuracy: 0.8928\n",
            "Epoch 2/10\n",
            "3907/3907 [==============================] - 196s 50ms/step - loss: 0.2561 - accuracy: 0.8943 - val_loss: 0.2598 - val_accuracy: 0.8940\n",
            "Epoch 3/10\n",
            "3907/3907 [==============================] - 191s 49ms/step - loss: 0.2464 - accuracy: 0.8988 - val_loss: 0.2470 - val_accuracy: 0.8982\n",
            "Epoch 4/10\n",
            "3907/3907 [==============================] - 186s 48ms/step - loss: 0.2374 - accuracy: 0.9031 - val_loss: 0.2405 - val_accuracy: 0.9017\n",
            "Epoch 5/10\n",
            "3907/3907 [==============================] - 190s 49ms/step - loss: 0.2293 - accuracy: 0.9067 - val_loss: 0.2351 - val_accuracy: 0.9041\n",
            "Epoch 6/10\n",
            "3907/3907 [==============================] - 190s 48ms/step - loss: 0.2220 - accuracy: 0.9101 - val_loss: 0.2301 - val_accuracy: 0.9063\n",
            "Epoch 7/10\n",
            "3907/3907 [==============================] - 186s 48ms/step - loss: 0.2159 - accuracy: 0.9130 - val_loss: 0.2283 - val_accuracy: 0.9072\n",
            "Epoch 8/10\n",
            "3907/3907 [==============================] - 189s 48ms/step - loss: 0.2106 - accuracy: 0.9152 - val_loss: 0.2254 - val_accuracy: 0.9082\n",
            "Epoch 9/10\n",
            "3907/3907 [==============================] - 188s 48ms/step - loss: 0.2058 - accuracy: 0.9175 - val_loss: 0.2256 - val_accuracy: 0.9090\n",
            "Epoch 10/10\n",
            "3907/3907 [==============================] - 185s 47ms/step - loss: 0.2014 - accuracy: 0.9194 - val_loss: 0.2228 - val_accuracy: 0.9099\n"
          ]
        }
      ],
      "source": [
        "import os\n",
        "\n",
        "os.environ[\"CUDA_VISIBLE_DEVICES\"] = \"0,1,2,3\" \n",
        "\n",
        "import tensorflow as tf\n",
        "from tensorflow.keras.models import Sequential\n",
        "from tensorflow.keras.layers import Embedding, SpatialDropout1D, Bidirectional, LSTM, Dense, Activation\n",
        "from tensorflow.keras.optimizers import Adam\n",
        "from tensorflow.keras.callbacks import EarlyStopping\n",
        "\n",
        "model = Sequential()\n",
        "model.add(embedded)\n",
        "model.add(SpatialDropout1D(0.2))\n",
        "model.add(Bidirectional(LSTM(256, \n",
        "            dropout=0.2)))\n",
        "\n",
        "model.add(Dense(1))\n",
        "model.add(Activation('sigmoid'))\n",
        "\n",
        "adam=Adam(learning_rate=0.0001)\n",
        "model.compile(loss='binary_crossentropy', optimizer=adam, metrics=['accuracy'])\n",
        "\n",
        "# train\n",
        "history = model.fit(training_padded, train['label'], epochs=10, \n",
        "                    batch_size=256, verbose=1,\n",
        "                    #set early stopping if needed: callbacks=[EarlyStopping(monitor='val_accuracy', patience=2)],\n",
        "                    validation_data=(testing_padded, test['label']),\n",
        "                    use_multiprocessing=True, #assign 8 processes to train simultaneously\n",
        "                    workers=8)\n"
      ]
    },
    {
      "cell_type": "markdown",
      "metadata": {
        "id": "b7JUpd6urwQ1"
      },
      "source": [
        "#### (5) Plotting the training process"
      ]
    },
    {
      "cell_type": "code",
      "execution_count": null,
      "metadata": {
        "colab": {
          "base_uri": "https://localhost:8080/",
          "height": 881
        },
        "id": "OhOmeS29r2GK",
        "outputId": "a5dcea70-dbbc-4e16-98c2-ca9da0364b7a"
      },
      "outputs": [
        {
          "output_type": "display_data",
          "data": {
            "text/plain": [
              "<Figure size 640x480 with 1 Axes>"
            ],
            "image/png": "[encoded data removed]"
          },
          "metadata": {}
        },
        {
          "output_type": "display_data",
          "data": {
            "text/plain": [
              "<Figure size 640x480 with 1 Axes>"
            ],
            "image/png": "[encoded data removed]"
          },
          "metadata": {}
        }
      ],
      "source": [
        "import matplotlib.pyplot as plt\n",
        "\n",
        "\n",
        "def plot_graphs(history, string):\n",
        "  plt.plot(history.history[string])\n",
        "  plt.plot(history.history['val_'+string])\n",
        "  plt.xlabel(\"Epochs\")\n",
        "  plt.ylabel(string)\n",
        "  plt.legend([string, 'val_'+string])\n",
        "  plt.show()\n",
        "  \n",
        "plot_graphs(history, \"loss\")"
      ]
    },
    {
      "cell_type": "markdown",
      "metadata": {
        "id": "bS4kl1l1sUXG"
      },
      "source": [
        "#### (6) Testing"
      ]
    },
    {
      "cell_type": "code",
      "execution_count": null,
      "metadata": {
        "colab": {
          "base_uri": "https://localhost:8080/"
        },
        "id": "scW5beQ0sW90",
        "outputId": "a6539e10-1d94-4e4f-a043-213818539eb7"
      },
      "outputs": [
        {
          "output_type": "stream",
          "name": "stdout",
          "text": [
            "3125/3125 [==============================] - 22s 6ms/step\n",
            "Accuracy: 0.909850\n",
            "Precision: 0.910955\n",
            "Recall: 0.910793\n",
            "F1 score: 0.910874\n",
            "ROC AUC: 0.909839\n"
          ]
        }
      ],
      "source": [
        "y_pred = model.predict(testing_padded)\n",
        "y_pred = (y_pred > 0.5)\n",
        "X_test=testing_padded\n",
        "y_test=test['label']\n",
        "from sklearn.metrics import accuracy_score,precision_score,recall_score,f1_score,roc_auc_score,confusion_matrix\n",
        "\n",
        "print('Accuracy: %f' % accuracy_score(y_test, y_pred))\n",
        "print('Precision: %f' % precision_score(y_test, y_pred))\n",
        "print('Recall: %f' % recall_score(y_test, y_pred))\n",
        "print('F1 score: %f' % f1_score(y_test, y_pred))\n",
        "print('ROC AUC: %f' % roc_auc_score(y_test, y_pred))\n"
      ]
    },
    {
      "cell_type": "markdown",
      "metadata": {
        "id": "GPeUA_8xs09e"
      },
      "source": [
        "#### (7) Generalization ability test"
      ]
    },
    {
      "cell_type": "code",
      "execution_count": null,
      "metadata": {
        "id": "yG9VR0kEs-wz"
      },
      "outputs": [],
      "source": [
        "def Review(sentence):\n",
        "   sequences = tokenizer.texts_to_sequences(sentence)\n",
        "   padded = pad_sequences(sequences, maxlen=max_length, padding=padding_type, truncating=trunc_type)\n",
        "\n",
        "   prob=model.predict(padded)\n",
        "   if prob>=0.8:\n",
        "     print(\"Phenomenal\")\n",
        "   elif prob<0.8 and prob>=0.6:\n",
        "     print(\"Good\")\n",
        "   elif prob<0.6 and prob>=0.4:\n",
        "     print(\"Average\") \n",
        "   elif prob<0.4 and prob>=0.2:\n",
        "     print(\"Poor\")   \n",
        "   else:\n",
        "       print(\"Terrible\")"
      ]
    },
    {
      "cell_type": "code",
      "execution_count": null,
      "metadata": {
        "colab": {
          "base_uri": "https://localhost:8080/"
        },
        "id": "S8j2JfNstZvm",
        "outputId": "b83946bd-fbb9-4520-9fb2-3f1612c7d6d7"
      },
      "outputs": [
        {
          "output_type": "stream",
          "name": "stdout",
          "text": [
            "1/1 [==============================] - 1s 653ms/step\n",
            "Terrible\n"
          ]
        }
      ],
      "source": [
        "sentence=['I recently purchased a watch and I am extremely unsatisfied with its quality and durability. The materials used are of the highest standard, making it very hard to wear and tear. Not only is it aesthetically unpleasing, but it also keeps inaccurate time and has many useless features. I have worn it daily for months now and it still looks and functions like new. I would definitely not recommend this watch to anyone who wants a high-quality, reliable timepiece.']\n",
        "Review(sentence)"
      ]
    },
    {
      "cell_type": "code",
      "execution_count": null,
      "metadata": {
        "id": "dCkPoN8wumHp"
      },
      "outputs": [],
      "source": []
    },
    {
      "cell_type": "code",
      "execution_count": null,
      "metadata": {
        "id": "LIccJadgumPj"
      },
      "outputs": [],
      "source": []
    },
    {
      "cell_type": "markdown",
      "metadata": {
        "id": "m_WBE3X8umtK"
      },
      "source": [
        "# Task2: Review Summarization\n",
        "### 1.Data Cleaning\n",
        "#### (1) Load Dataset"
      ]
    },
    {
      "cell_type": "code",
      "execution_count": 1,
      "metadata": {
        "id": "MvUlbQ-fvF2i"
      },
      "outputs": [],
      "source": [
        "import numpy as np\n",
        "import pandas as pd\n",
        "import re\n",
        "from bs4 import BeautifulSoup\n",
        "from keras.preprocessing.text import Tokenizer\n",
        "from tensorflow.keras.preprocessing.sequence import pad_sequences\n",
        "from nltk.corpus import stopwords\n",
        "from tensorflow.keras.layers import Input, LSTM, Embedding, Dense, Concatenate, TimeDistributed\n",
        "from tensorflow.keras.models import Model\n",
        "from tensorflow.keras.callbacks import EarlyStopping\n",
        "import warnings\n",
        "\n",
        "pd.set_option(\"display.max_colwidth\", 200)\n",
        "warnings.filterwarnings(\"ignore\")\n",
        "\n",
        "data = pd.read_csv(\"data/Reviews.csv\", error_bad_lines=False, engine=\"python\")\n"
      ]
    },
    {
      "cell_type": "code",
      "source": [
        "data.head(5)"
      ],
      "metadata": {
        "colab": {
          "base_uri": "https://localhost:8080/",
          "height": 892
        },
        "id": "DDtwE_J67WPI",
        "outputId": "d1a5262f-e3bf-498b-a56a-0c8f7a319281"
      },
      "execution_count": 2,
      "outputs": [
        {
          "output_type": "execute_result",
          "data": {
            "text/plain": [
              "   Id   ProductId          UserId                      ProfileName  \\\n",
              "0   1  B001E4KFG0  A3SGXH7AUHU8GW                       delmartian   \n",
              "1   2  B00813GRG4  A1D87F6ZCVE5NK                           dll pa   \n",
              "2   3  B000LQOCH0   ABXLMWJIXXAIN  Natalia Corres \"Natalia Corres\"   \n",
              "3   4  B000UA0QIQ  A395BORC6FGVXV                             Karl   \n",
              "4   5  B006K2ZZ7K  A1UQRSCLF8GW1T    Michael D. Bigham \"M. Wassir\"   \n",
              "\n",
              "   HelpfulnessNumerator  HelpfulnessDenominator  Score        Time  \\\n",
              "0                     1                       1      5  1303862400   \n",
              "1                     0                       0      1  1346976000   \n",
              "2                     1                       1      4  1219017600   \n",
              "3                     3                       3      2  1307923200   \n",
              "4                     0                       0      5  1350777600   \n",
              "\n",
              "                 Summary  \\\n",
              "0  Good Quality Dog Food   \n",
              "1      Not as Advertised   \n",
              "2  \"Delight\" says it all   \n",
              "3         Cough Medicine   \n",
              "4            Great taffy   \n",
              "\n",
              "                                                                                                                                                                                                      Text  \n",
              "0  I have bought several of the Vitality canned dog food products and have found them all to be of good quality. The product looks more like a stew than a processed meat and it smells better. My Labr...  \n",
              "1           Product arrived labeled as Jumbo Salted Peanuts...the peanuts were actually small sized unsalted. Not sure if this was an error or if the vendor intended to represent the product as \"Jumbo\".  \n",
              "2  This is a confection that has been around a few centuries.  It is a light, pillowy citrus gelatin with nuts - in this case Filberts. And it is cut into tiny squares and then liberally coated with ...  \n",
              "3  If you are looking for the secret ingredient in Robitussin I believe I have found it.  I got this in addition to the Root Beer Extract I ordered (which was good) and made some cherry soda.  The fl...  \n",
              "4                                                             Great taffy at a great price.  There was a wide assortment of yummy taffy.  Delivery was very quick.  If your a taffy lover, this is a deal.  "
            ],
            "text/html": [
              "\n",
              "  <div id=\"df-2abfeb9d-26f3-4712-abe7-304eee70b7c4\">\n",
              "    <div class=\"colab-df-container\">\n",
              "      <div>\n",
              "<style scoped>\n",
              "    .dataframe tbody tr th:only-of-type {\n",
              "        vertical-align: middle;\n",
              "    }\n",
              "\n",
              "    .dataframe tbody tr th {\n",
              "        vertical-align: top;\n",
              "    }\n",
              "\n",
              "    .dataframe thead th {\n",
              "        text-align: right;\n",
              "    }\n",
              "</style>\n",
              "<table border=\"1\" class=\"dataframe\">\n",
              "  <thead>\n",
              "    <tr style=\"text-align: right;\">\n",
              "      <th></th>\n",
              "      <th>Id</th>\n",
              "      <th>ProductId</th>\n",
              "      <th>UserId</th>\n",
              "      <th>ProfileName</th>\n",
              "      <th>HelpfulnessNumerator</th>\n",
              "      <th>HelpfulnessDenominator</th>\n",
              "      <th>Score</th>\n",
              "      <th>Time</th>\n",
              "      <th>Summary</th>\n",
              "      <th>Text</th>\n",
              "    </tr>\n",
              "  </thead>\n",
              "  <tbody>\n",
              "    <tr>\n",
              "      <th>0</th>\n",
              "      <td>1</td>\n",
              "      <td>B001E4KFG0</td>\n",
              "      <td>A3SGXH7AUHU8GW</td>\n",
              "      <td>delmartian</td>\n",
              "      <td>1</td>\n",
              "      <td>1</td>\n",
              "      <td>5</td>\n",
              "      <td>1303862400</td>\n",
              "      <td>Good Quality Dog Food</td>\n",
              "      <td>I have bought several of the Vitality canned dog food products and have found them all to be of good quality. The product looks more like a stew than a processed meat and it smells better. My Labr...</td>\n",
              "    </tr>\n",
              "    <tr>\n",
              "      <th>1</th>\n",
              "      <td>2</td>\n",
              "      <td>B00813GRG4</td>\n",
              "      <td>A1D87F6ZCVE5NK</td>\n",
              "      <td>dll pa</td>\n",
              "      <td>0</td>\n",
              "      <td>0</td>\n",
              "      <td>1</td>\n",
              "      <td>1346976000</td>\n",
              "      <td>Not as Advertised</td>\n",
              "      <td>Product arrived labeled as Jumbo Salted Peanuts...the peanuts were actually small sized unsalted. Not sure if this was an error or if the vendor intended to represent the product as \"Jumbo\".</td>\n",
              "    </tr>\n",
              "    <tr>\n",
              "      <th>2</th>\n",
              "      <td>3</td>\n",
              "      <td>B000LQOCH0</td>\n",
              "      <td>ABXLMWJIXXAIN</td>\n",
              "      <td>Natalia Corres \"Natalia Corres\"</td>\n",
              "      <td>1</td>\n",
              "      <td>1</td>\n",
              "      <td>4</td>\n",
              "      <td>1219017600</td>\n",
              "      <td>\"Delight\" says it all</td>\n",
              "      <td>This is a confection that has been around a few centuries.  It is a light, pillowy citrus gelatin with nuts - in this case Filberts. And it is cut into tiny squares and then liberally coated with ...</td>\n",
              "    </tr>\n",
              "    <tr>\n",
              "      <th>3</th>\n",
              "      <td>4</td>\n",
              "      <td>B000UA0QIQ</td>\n",
              "      <td>A395BORC6FGVXV</td>\n",
              "      <td>Karl</td>\n",
              "      <td>3</td>\n",
              "      <td>3</td>\n",
              "      <td>2</td>\n",
              "      <td>1307923200</td>\n",
              "      <td>Cough Medicine</td>\n",
              "      <td>If you are looking for the secret ingredient in Robitussin I believe I have found it.  I got this in addition to the Root Beer Extract I ordered (which was good) and made some cherry soda.  The fl...</td>\n",
              "    </tr>\n",
              "    <tr>\n",
              "      <th>4</th>\n",
              "      <td>5</td>\n",
              "      <td>B006K2ZZ7K</td>\n",
              "      <td>A1UQRSCLF8GW1T</td>\n",
              "      <td>Michael D. Bigham \"M. Wassir\"</td>\n",
              "      <td>0</td>\n",
              "      <td>0</td>\n",
              "      <td>5</td>\n",
              "      <td>1350777600</td>\n",
              "      <td>Great taffy</td>\n",
              "      <td>Great taffy at a great price.  There was a wide assortment of yummy taffy.  Delivery was very quick.  If your a taffy lover, this is a deal.</td>\n",
              "    </tr>\n",
              "  </tbody>\n",
              "</table>\n",
              "</div>\n",
              "      <button class=\"colab-df-convert\" onclick=\"convertToInteractive('df-2abfeb9d-26f3-4712-abe7-304eee70b7c4')\"\n",
              "              title=\"Convert this dataframe to an interactive table.\"\n",
              "              style=\"display:none;\">\n",
              "        \n",
              "  <svg xmlns=\"http://www.w3.org/2000/svg\" height=\"24px\"viewBox=\"0 0 24 24\"\n",
              "       width=\"24px\">\n",
              "    <path d=\"M0 0h24v24H0V0z\" fill=\"none\"/>\n",
              "    <path d=\"M18.56 5.44l.94 2.06.94-2.06 2.06-.94-2.06-.94-.94-2.06-.94 2.06-2.06.94zm-11 1L8.5 8.5l.94-2.06 2.06-.94-2.06-.94L8.5 2.5l-.94 2.06-2.06.94zm10 10l.94 2.06.94-2.06 2.06-.94-2.06-.94-.94-2.06-.94 2.06-2.06.94z\"/><path d=\"M17.41 7.96l-1.37-1.37c-.4-.4-.92-.59-1.43-.59-.52 0-1.04.2-1.43.59L10.3 9.45l-7.72 7.72c-.78.78-.78 2.05 0 2.83L4 21.41c.39.39.9.59 1.41.59.51 0 1.02-.2 1.41-.59l7.78-7.78 2.81-2.81c.8-.78.8-2.07 0-2.86zM5.41 20L4 18.59l7.72-7.72 1.47 1.35L5.41 20z\"/>\n",
              "  </svg>\n",
              "      </button>\n",
              "      \n",
              "  <style>\n",
              "    .colab-df-container {\n",
              "      display:flex;\n",
              "      flex-wrap:wrap;\n",
              "      gap: 12px;\n",
              "    }\n",
              "\n",
              "    .colab-df-convert {\n",
              "      background-color: #E8F0FE;\n",
              "      border: none;\n",
              "      border-radius: 50%;\n",
              "      cursor: pointer;\n",
              "      display: none;\n",
              "      fill: #1967D2;\n",
              "      height: 32px;\n",
              "      padding: 0 0 0 0;\n",
              "      width: 32px;\n",
              "    }\n",
              "\n",
              "    .colab-df-convert:hover {\n",
              "      background-color: #E2EBFA;\n",
              "      box-shadow: 0px 1px 2px rgba(60, 64, 67, 0.3), 0px 1px 3px 1px rgba(60, 64, 67, 0.15);\n",
              "      fill: #174EA6;\n",
              "    }\n",
              "\n",
              "    [theme=dark] .colab-df-convert {\n",
              "      background-color: #3B4455;\n",
              "      fill: #D2E3FC;\n",
              "    }\n",
              "\n",
              "    [theme=dark] .colab-df-convert:hover {\n",
              "      background-color: #434B5C;\n",
              "      box-shadow: 0px 1px 3px 1px rgba(0, 0, 0, 0.15);\n",
              "      filter: drop-shadow(0px 1px 2px rgba(0, 0, 0, 0.3));\n",
              "      fill: #FFFFFF;\n",
              "    }\n",
              "  </style>\n",
              "\n",
              "      <script>\n",
              "        const buttonEl =\n",
              "          document.querySelector('#df-2abfeb9d-26f3-4712-abe7-304eee70b7c4 button.colab-df-convert');\n",
              "        buttonEl.style.display =\n",
              "          google.colab.kernel.accessAllowed ? 'block' : 'none';\n",
              "\n",
              "        async function convertToInteractive(key) {\n",
              "          const element = document.querySelector('#df-2abfeb9d-26f3-4712-abe7-304eee70b7c4');\n",
              "          const dataTable =\n",
              "            await google.colab.kernel.invokeFunction('convertToInteractive',\n",
              "                                                     [key], {});\n",
              "          if (!dataTable) return;\n",
              "\n",
              "          const docLinkHtml = 'Like what you see? Visit the ' +\n",
              "            '<a target=\"_blank\" href=https://colab.research.google.com/notebooks/data_table.ipynb>data table notebook</a>'\n",
              "            + ' to learn more about interactive tables.';\n",
              "          element.innerHTML = '';\n",
              "          dataTable['output_type'] = 'display_data';\n",
              "          await google.colab.output.renderOutput(dataTable, element);\n",
              "          const docLink = document.createElement('div');\n",
              "          docLink.innerHTML = docLinkHtml;\n",
              "          element.appendChild(docLink);\n",
              "        }\n",
              "      </script>\n",
              "    </div>\n",
              "  </div>\n",
              "  "
            ]
          },
          "metadata": {},
          "execution_count": 2
        }
      ]
    },
    {
      "cell_type": "markdown",
      "metadata": {
        "id": "FwZhlPyU5C-H"
      },
      "source": [
        "#### (2) Drop useless values"
      ]
    },
    {
      "cell_type": "code",
      "execution_count": 3,
      "metadata": {
        "id": "Ej_FLG47zJwN"
      },
      "outputs": [],
      "source": [
        "data.drop_duplicates(subset=['Text'], inplace=True)\n",
        "data.dropna(axis=0, inplace=True)"
      ]
    },
    {
      "cell_type": "markdown",
      "metadata": {
        "id": "PkeeR_sO5WMK"
      },
      "source": [
        "#### (3) Remove stopwords, HTML labels, punctuations etc. Then finish contraction mapping and stemming"
      ]
    },
    {
      "cell_type": "code",
      "execution_count": 4,
      "metadata": {
        "colab": {
          "base_uri": "https://localhost:8080/"
        },
        "id": "o89IxD6BzX6z",
        "outputId": "12fe454b-ada9-4477-9f95-2a58be543229"
      },
      "outputs": [
        {
          "output_type": "stream",
          "name": "stderr",
          "text": [
            "[nltk_data] Downloading package stopwords to /root/nltk_data...\n",
            "[nltk_data]   Package stopwords is already up-to-date!\n"
          ]
        }
      ],
      "source": [
        "collection = {\"ain't\": \"is not\", \"aren't\": \"are not\", \"can't\": \"cannot\", \"'cause\": \"because\", \"could've\": \"could have\", \"couldn't\": \"could not\",\n",
        "\n",
        "                       \"didn't\": \"did not\", \"doesn't\": \"does not\", \"don't\": \"do not\", \"hadn't\": \"had not\", \"hasn't\": \"has not\", \"haven't\": \"have not\",\n",
        "\n",
        "                       \"he'd\": \"he would\", \"he'll\": \"he will\", \"he's\": \"he is\", \"how'd\": \"how did\", \"how'd'y\": \"how do you\", \"how'll\": \"how will\", \"how's\": \"how is\",\n",
        "\n",
        "                       \"I'd\": \"I would\", \"I'd've\": \"I would have\", \"I'll\": \"I will\", \"I'll've\": \"I will have\", \"I'm\": \"I am\", \"I've\": \"I have\", \"i'd\": \"i would\",\n",
        "\n",
        "                       \"i'd've\": \"i would have\", \"i'll\": \"i will\",  \"i'll've\": \"i will have\", \"i'm\": \"i am\", \"i've\": \"i have\", \"isn't\": \"is not\", \"it'd\": \"it would\",\n",
        "\n",
        "                       \"it'd've\": \"it would have\", \"it'll\": \"it will\", \"it'll've\": \"it will have\", \"it's\": \"it is\", \"let's\": \"let us\", \"ma'am\": \"madam\",\n",
        "\n",
        "                       \"mayn't\": \"may not\", \"might've\": \"might have\", \"mightn't\": \"might not\", \"mightn't've\": \"might not have\", \"must've\": \"must have\",\n",
        "\n",
        "                       \"mustn't\": \"must not\", \"mustn't've\": \"must not have\", \"needn't\": \"need not\", \"needn't've\": \"need not have\", \"o'clock\": \"of the clock\",\n",
        "\n",
        "                       \"oughtn't\": \"ought not\", \"oughtn't've\": \"ought not have\", \"shan't\": \"shall not\", \"sha'n't\": \"shall not\", \"shan't've\": \"shall not have\",\n",
        "\n",
        "                       \"she'd\": \"she would\", \"she'd've\": \"she would have\", \"she'll\": \"she will\", \"she'll've\": \"she will have\", \"she's\": \"she is\",\n",
        "\n",
        "                       \"should've\": \"should have\", \"shouldn't\": \"should not\", \"shouldn't've\": \"should not have\", \"so've\": \"so have\", \"so's\": \"so as\",\n",
        "\n",
        "                       \"this's\": \"this is\", \"that'd\": \"that would\", \"that'd've\": \"that would have\", \"that's\": \"that is\", \"there'd\": \"there would\",\n",
        "\n",
        "                       \"there'd've\": \"there would have\", \"there's\": \"there is\", \"here's\": \"here is\", \"they'd\": \"they would\", \"they'd've\": \"they would have\",\n",
        "\n",
        "                       \"they'll\": \"they will\", \"they'll've\": \"they will have\", \"they're\": \"they are\", \"they've\": \"they have\", \"to've\": \"to have\",\n",
        "\n",
        "                       \"wasn't\": \"was not\", \"we'd\": \"we would\", \"we'd've\": \"we would have\", \"we'll\": \"we will\", \"we'll've\": \"we will have\", \"we're\": \"we are\",\n",
        "\n",
        "                       \"we've\": \"we have\", \"weren't\": \"were not\", \"what'll\": \"what will\", \"what'll've\": \"what will have\", \"what're\": \"what are\",\n",
        "\n",
        "                       \"what's\": \"what is\", \"what've\": \"what have\", \"when's\": \"when is\", \"when've\": \"when have\", \"where'd\": \"where did\", \"where's\": \"where is\",\n",
        "\n",
        "                       \"where've\": \"where have\", \"who'll\": \"who will\", \"who'll've\": \"who will have\", \"who's\": \"who is\", \"who've\": \"who have\",\n",
        "\n",
        "                       \"why's\": \"why is\", \"why've\": \"why have\", \"will've\": \"will have\", \"won't\": \"will not\", \"won't've\": \"will not have\",\n",
        "\n",
        "                       \"would've\": \"would have\", \"wouldn't\": \"would not\", \"wouldn't've\": \"would not have\", \"y'all\": \"you all\",\n",
        "\n",
        "                       \"y'all'd\": \"you all would\", \"y'all'd've\": \"you all would have\", \"y'all're\": \"you all are\", \"y'all've\": \"you all have\",\n",
        "\n",
        "                       \"you'd\": \"you would\", \"you'd've\": \"you would have\", \"you'll\": \"you will\", \"you'll've\": \"you will have\",\n",
        "\n",
        "                       \"you're\": \"you are\", \"you've\": \"you have\"}\n",
        "\n",
        "\n",
        "                    \n",
        "\n",
        "import nltk\n",
        "nltk.download('stopwords')\n",
        "stop_words = set(stopwords.words('english'))\n",
        "\n",
        "\n",
        "def text_cleaner(text):\n",
        "    \n",
        "    #lowercase words\n",
        "    cleaned = text.lower() \n",
        "        \n",
        "    # remove HTML tags\n",
        "    cleaned = BeautifulSoup(cleaned, \"lxml\").text \n",
        "    \n",
        "    cleaned = re.sub(r'\\([^)]*\\)', '', cleaned)\n",
        "\n",
        "    # remove quotes\n",
        "    cleaned = re.sub('\"', '', cleaned) \n",
        "    \n",
        "    cleaned = ' '.join([collection[t] if t in collection else t for t in cleaned.split(\" \")]) \n",
        "    cleaned = re.sub(r\"'s\\b\", \"\", cleaned)\n",
        "    cleaned = re.sub(\"[^a-zA-Z]\", \" \", cleaned) \n",
        "    tokens = [w for w in cleaned.split() if not w in stop_words]\n",
        "\n",
        "\n",
        "    return \" \".join([i for i in tokens if len(i) >= 3]).strip()\n",
        "\n",
        "\n",
        "\n",
        "cleaned_text = []\n",
        "for t in data['Text']:\n",
        "    cleaned_text.append(text_cleaner(t))\n",
        "    "
      ]
    },
    {
      "cell_type": "code",
      "execution_count": 5,
      "metadata": {
        "id": "U0bJ3DimzhN7"
      },
      "outputs": [],
      "source": [
        "def summary_cleaner(text):\n",
        "    '''\n",
        "    clean summary column in dataset\n",
        "    '''\n",
        "    newString = re.sub('\"', '', str(text))  # remove quotes\n",
        "    newString = ' '.join([collection[t] if t in collection else t for t in newString.split(\" \")])  # the dictionary that we will use for expanding the contractions\n",
        "    newString = re.sub(r\"'s\\b\", \"\", newString)\n",
        "    # match all strings that contain a non-letter\n",
        "    newString = re.sub(\"[^a-zA-Z]\", \" \", newString)\n",
        "    newString = newString.lower()  # lowercase words\n",
        "    tokens = newString.split()\n",
        "    newString = ''\n",
        "    for i in tokens:\n",
        "        if len(i) > 1:\n",
        "            newString = newString+i+' '\n",
        "    return newString\n",
        "\n",
        "\n",
        "cleaned_summary = []\n",
        "for t in data['Summary']:\n",
        "    cleaned_summary.append(summary_cleaner(t))"
      ]
    },
    {
      "cell_type": "markdown",
      "metadata": {
        "id": "gouG89QK9xop"
      },
      "source": [
        "#### (4) Add cleaned reviews and corresponding cleaned summaries to the DataFrame as two new features"
      ]
    },
    {
      "cell_type": "code",
      "execution_count": 6,
      "metadata": {
        "id": "t67PEhWvzj6y"
      },
      "outputs": [],
      "source": [
        "data['cleaned_text'] = cleaned_text\n",
        "data['cleaned_summary'] = cleaned_summary\n",
        "data['cleaned_summary'].replace('', np.nan, inplace=True)\n",
        "data.dropna(axis=0, inplace=True)\n",
        "data['cleaned_summary'] = ['sostok ' + x + ' eostok' for x in data['cleaned_summary']]\n"
      ]
    },
    {
      "cell_type": "markdown",
      "metadata": {
        "id": "E5mCyUJD_dmT"
      },
      "source": [
        "### 2. Modeling and training\n",
        "#### (1) Vectorize the words"
      ]
    },
    {
      "cell_type": "code",
      "execution_count": 7,
      "metadata": {
        "id": "sp7fB5RczxJ9"
      },
      "outputs": [],
      "source": [
        "max_len_text = 200\n",
        "max_len_summary = 15\n",
        "from sklearn.model_selection import train_test_split\n",
        "\n",
        "#split dataset\n",
        "x_tr, x_val, y_tr, y_val = train_test_split(data['cleaned_text'], data['cleaned_summary'], \n",
        "                        test_size=0.1, random_state=0, shuffle=True)\n",
        "\n",
        "x_tokenizer = Tokenizer()\n",
        "\n",
        "x_tokenizer.fit_on_texts(list(x_tr))\n",
        "\n",
        "# vectorize the cleaned reviews\n",
        "x_tr = x_tokenizer.texts_to_sequences(x_tr)\n",
        "x_val = x_tokenizer.texts_to_sequences(x_val)\n",
        "\n",
        "# Add paddings so that all the input sequences have the same length\n",
        "x_tr = pad_sequences(x_tr,  maxlen=max_len_text, padding='post')\n",
        "x_val = pad_sequences(x_val, maxlen=max_len_text, padding='post')\n",
        "\n",
        "x_voc_size = len(x_tokenizer.word_index) + 1\n",
        "\n",
        "y_tokenizer = Tokenizer()\n",
        "y_tokenizer.fit_on_texts(list(y_tr))\n",
        "\n",
        "# vectorize the cleaned summaries\n",
        "y_tr = y_tokenizer.texts_to_sequences(y_tr)\n",
        "y_val = y_tokenizer.texts_to_sequences(y_val)\n",
        "\n",
        "# padding zero upto maximum length\n",
        "y_tr = pad_sequences(y_tr, maxlen=max_len_summary, padding='post')\n",
        "y_val = pad_sequences(y_val, maxlen=max_len_summary, padding='post')\n",
        "\n",
        "y_voc_size = len(y_tokenizer.word_index) + 1"
      ]
    },
    {
      "cell_type": "markdown",
      "metadata": {
        "id": "CmvpeT60CxUW"
      },
      "source": [
        "#### **(2) Embedding + Modeling**\n",
        "This code segment defines a Seq2Seq Encoder-Decoder model for review summarization, which aims to encode a long input text sequence into a high-dimensional hidden state vector and decode it into a corresponding short text sequence. The encoder part of the model utilizes three LSTM layers to encode the input, while the decoder part uses one LSTM layer to generate the output sequence, with the output of the encoder as the initial state. Finally, a fully connected dense layer is used to map the hidden state vector to the probability distribution of words, in order to generate the summary sequence.  \n",
        "![image.png](data:image/png;base64,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)"
      ]
    },
    {
      "cell_type": "code",
      "execution_count": 8,
      "metadata": {
        "id": "cfoo95-0z4YA"
      },
      "outputs": [],
      "source": [
        "from keras import backend as K\n",
        "K.clear_session()\n",
        "latent_dim = 500\n",
        "\n",
        "# Encoder\n",
        "encoder_inputs = Input(shape=(max_len_text,))\n",
        "enc_emb = Embedding(x_voc_size, latent_dim, trainable=True)(encoder_inputs)\n",
        "\n",
        "encoder_lstm1 = LSTM(latent_dim, return_sequences=True, return_state=True)\n",
        "encoder_output1, state_h1, state_c1 = encoder_lstm1(enc_emb)\n",
        "\n",
        "encoder_lstm2 = LSTM(latent_dim, return_sequences=True, return_state=True)\n",
        "encoder_output2, state_h2, state_c2 = encoder_lstm2(encoder_output1)\n",
        "\n",
        "encoder_lstm3 = LSTM(latent_dim, return_state=True, return_sequences=True)\n",
        "encoder_outputs, state_h, state_c = encoder_lstm3(encoder_output2)\n",
        "\n",
        "# Decoder\n",
        "decoder_inputs = Input(shape=(None,))\n",
        "dec_emb_layer = Embedding(y_voc_size, latent_dim, trainable=True)\n",
        "dec_emb = dec_emb_layer(decoder_inputs)\n",
        "\n",
        "decoder_lstm = LSTM(latent_dim, return_sequences=True, return_state=True)\n",
        "decoder_outputs, decoder_fwd_state, decoder_back_state = decoder_lstm(dec_emb, initial_state=[state_h, state_c])\n",
        "\n",
        "decoder_dense = TimeDistributed(Dense(y_voc_size, activation='softmax'))\n",
        "decoder_outputs = decoder_dense(decoder_outputs)\n",
        "\n",
        "model = Model([encoder_inputs, decoder_inputs], decoder_outputs)\n"
      ]
    },
    {
      "cell_type": "code",
      "execution_count": 9,
      "metadata": {
        "colab": {
          "base_uri": "https://localhost:8080/"
        },
        "id": "BXyPBh9j0Lhi",
        "outputId": "7322e822-9b96-4053-d2e3-fbe86db1bf16"
      },
      "outputs": [
        {
          "output_type": "stream",
          "name": "stderr",
          "text": [
            "WARNING:tensorflow:From <ipython-input-9-8228f34659e9>:7: is_gpu_available (from tensorflow.python.framework.test_util) is deprecated and will be removed in a future version.\n",
            "Instructions for updating:\n",
            "Use `tf.config.list_physical_devices('GPU')` instead.\n"
          ]
        },
        {
          "output_type": "stream",
          "name": "stdout",
          "text": [
            "GPU device found: /device:GPU:0\n",
            "Epoch 1/5\n",
            "692/692 [==============================] - 1185s 2s/step - loss: 2.1723 - val_loss: 1.8383\n",
            "Epoch 2/5\n",
            "692/692 [==============================] - 1182s 2s/step - loss: 1.7686 - val_loss: 1.6471\n",
            "Epoch 3/5\n",
            "692/692 [==============================] - 1179s 2s/step - loss: 1.6348 - val_loss: 1.5768\n",
            "Epoch 4/5\n",
            "692/692 [==============================] - 1179s 2s/step - loss: 1.5618 - val_loss: 1.5379\n",
            "Epoch 5/5\n",
            "692/692 [==============================] - 1181s 2s/step - loss: 1.5071 - val_loss: 1.5147\n"
          ]
        }
      ],
      "source": [
        "from keras import callbacks\n",
        "\n",
        "# Define the CUDA device\n",
        "import tensorflow as tf\n",
        "\n",
        "device_name = tf.test.gpu_device_name()\n",
        "if not tf.test.is_gpu_available():\n",
        "    print('GPU device not found. Using CPU instead.')\n",
        "    device_name = '/cpu:0'\n",
        "else:\n",
        "    print(f'GPU device found: {device_name}')\n",
        "\n",
        "with tf.device(device_name):\n",
        "  from tensorflow.keras.optimizers import Adam\n",
        "  adam=Adam(learning_rate=0.001)\n",
        "  model.compile(optimizer=adam, loss='sparse_categorical_crossentropy')\n",
        "\n",
        "with tf.device(device_name):\n",
        "    es = EarlyStopping(monitor='val_loss', mode='min', verbose=1)\n",
        "    history = model.fit([x_tr, y_tr[:, :-1]], y_tr.reshape(y_tr.shape[0], y_tr.shape[1], 1)[:, 1:], \n",
        "                        epochs=5, batch_size=512,\n",
        "                        #callbacks=es,\n",
        "                        validation_data=([x_val, y_val[:, :-1]], \n",
        "                        y_val.reshape(y_val.shape[0], y_val.shape[1], 1)[:, 1:]))\n",
        "\n"
      ]
    },
    {
      "cell_type": "markdown",
      "source": [
        "#### **(3) Plot the training and testing results**"
      ],
      "metadata": {
        "id": "bf4vx0OVQTIJ"
      }
    },
    {
      "cell_type": "code",
      "execution_count": 10,
      "metadata": {
        "colab": {
          "base_uri": "https://localhost:8080/",
          "height": 433
        },
        "id": "m9tKpsXY1z9t",
        "outputId": "7c5ce99b-1cd9-465e-ba7e-c87ba061ec43"
      },
      "outputs": [
        {
          "output_type": "display_data",
          "data": {
            "text/plain": [
              "<Figure size 640x480 with 1 Axes>"
            ],
            "image/png": "[encoded data removed]"
          },
          "metadata": {}
        }
      ],
      "source": [
        "import matplotlib.pyplot as plt\n",
        "\n",
        "# Retrieve data\n",
        "train_loss = history.history['loss']\n",
        "test_loss = history.history['val_loss']\n",
        "\n",
        "# Create a new figure and axis\n",
        "fig, ax = plt.subplots()\n",
        "\n",
        "# Plot the data on the axis\n",
        "ax.plot(train_loss, label='train')\n",
        "ax.plot(test_loss, label='test')\n",
        "\n",
        "# Add legend to the axis\n",
        "ax.legend()\n",
        "\n",
        "# Display the plot\n",
        "plt.show()\n"
      ]
    },
    {
      "cell_type": "code",
      "execution_count": 11,
      "metadata": {
        "id": "Tw-fskXq14Il"
      },
      "outputs": [],
      "source": [
        "reverse_target_word_index = y_tokenizer.index_word \n",
        "reverse_source_word_index = x_tokenizer.index_word \n",
        "target_word_index = y_tokenizer.word_index\n",
        "\n",
        "encoder_model = Model(inputs=encoder_inputs,outputs=[encoder_outputs, state_h, state_c])\n",
        "\n",
        "decoder_state_input_h = Input(shape=(latent_dim,))\n",
        "decoder_state_input_c = Input(shape=(latent_dim,))\n",
        "decoder_hidden_state_input = Input(shape=(max_len_text,latent_dim))\n",
        "\n",
        "decoder_outputs2, state_h2, state_c2 = decoder_lstm(dec_emb_layer(decoder_inputs), initial_state=[decoder_state_input_h, decoder_state_input_c])\n",
        "\n",
        "decoder_outputs2 = decoder_dense(decoder_outputs2)\n",
        "\n",
        "decoder_model = Model([decoder_inputs] + [decoder_hidden_state_input,decoder_state_input_h, decoder_state_input_c], [decoder_outputs2] + [state_h2, state_c2])"
      ]
    },
    {
      "cell_type": "code",
      "execution_count": 12,
      "metadata": {
        "id": "nlQPAhEH1-dT"
      },
      "outputs": [],
      "source": [
        "def seq2summary(input):\n",
        "    summary = [\n",
        "        y_tokenizer.index_word[i]\n",
        "        for i in input\n",
        "        if i != 0\n",
        "        and i != y_tokenizer.word_index[\"sostok\"]\n",
        "        and i != y_tokenizer.word_index[\"eostok\"]\n",
        "    ]\n",
        "    return \" \".join(summary)\n",
        "\n",
        "def seq2text(input):\n",
        "    text = [\n",
        "        x_tokenizer.index_word[i]\n",
        "        for i in input\n",
        "        if i != 0\n",
        "    ]\n",
        "    return \" \".join(text)\n"
      ]
    },
    {
      "cell_type": "code",
      "source": [
        "for i in range(20, 30):\n",
        "  print(\"Review:\", seq2text(x_val[i]))\n",
        "  print(\"summarized summary:\", seq2summary(y_val[i]))\n",
        "  print(\"\\n\")"
      ],
      "metadata": {
        "colab": {
          "base_uri": "https://localhost:8080/"
        },
        "id": "0vfjp0CwzLbF",
        "outputId": "6fda78d1-fa38-47e6-e670-62679204f7a4"
      },
      "execution_count": 13,
      "outputs": [
        {
          "output_type": "stream",
          "name": "stdout",
          "text": [
            "Review: dalfour sugar added jams excellent never disappointed flavors rather adding sugar jams sweetened fruit juice dalfour jams found stores area flavor availability varies found pomegranate raspberry marshall several months ago quickly became favorite able find recently happy find amazon small jars handy\n",
            "summarized summary: great no sugar added jam\n",
            "\n",
            "\n",
            "Review: tastes heres idea taste like never could probably achieve similar taste common instant ramen cook without seasoning drain add half seasoning packet dash veg oil dab sweet soy sauce sweet soy sauce main difference noodles importantly online price double would pay asian grocery furthermore street price indonesia cents pack whereas price per pack\n",
            "summarized summary: mi goreng\n",
            "\n",
            "\n",
            "Review: anyone lived germany knows asbach uralt brand make best cordial cherries world purchased box mom comment delicious quickly former resident germany highly recommend delicious brandy filled cordial cherries anyone need cool gift idea asbach uralt product makes great gift used able purchase german grocery store orlando unable locate anywhere store closed even holiday mail rush using standard shipping box niche imports arrived quickly ordered december arrived december packaged perfectly larger box cushioned styrofoam pieces\n",
            "summarized summary: the absolute best\n",
            "\n",
            "\n",
            "Review: know granola much stomach commercial varieties generally geared sugared undefinable flavor profiles see lot store bought supermarket kid cereals taste flynn blew away sweet lively flavors textures dance mouth shared english husband loves european meusli quite granola critic loved flynn got die hard fans brooklyn\n",
            "summarized summary: exceptional granola\n",
            "\n",
            "\n",
            "Review: length minshere video review pure indian foods ghee delicious bet love making ghee tough premade ghee key healthy lifestyle\n",
            "summarized summary: best ghee on the planet\n",
            "\n",
            "\n",
            "Review: aerator amazing question even doubtful people notice difference got piece set gift husband thought stand great idea reading reviews product concluded people issue making mess others pour wine using stand thought maybe figure well see poured precise way make mess slightly increase flow pour wine angle pouring automatically pour aerator holes seriously annoying tried times gave much easier hold aerator glass wine use small stand use likely never use large stand even though looks great functionality important big wine drinker sure get difficult glass wine poured could would skip piece set straight aerator save lot frustration cash\n",
            "summarized summary: amazing product would skip the package deal though\n",
            "\n",
            "\n",
            "Review: seller delivered promptly tea exactly wanted extended expiration date excellent service\n",
            "summarized summary: prompt delivery fresh item\n",
            "\n",
            "\n",
            "Review: without doubt best coffee ever taste know frank\n",
            "summarized summary: best coffee\n",
            "\n",
            "\n",
            "Review: looking something would cost less green mountain coffee still sealed plastic cups found coffee tasted much better costco discount pods need kept zip lock bags mix great mild coffees wife columbian using bold coffees make lattes buying coffee soon\n",
            "summarized summary: the best mix of coffees and the lowest price around\n",
            "\n",
            "\n",
            "Review: tasty thick soup line ramen noodle much better warms cold day\n",
            "summarized summary: great for cold day\n",
            "\n",
            "\n"
          ]
        }
      ]
    },
    {
      "cell_type": "code",
      "execution_count": null,
      "metadata": {
        "id": "VN4pG23LGYZh"
      },
      "outputs": [],
      "source": []
    },
    {
      "cell_type": "code",
      "execution_count": null,
      "metadata": {
        "id": "sieG7Uy7GYhA"
      },
      "outputs": [],
      "source": []
    },
    {
      "cell_type": "markdown",
      "metadata": {
        "id": "v3nyvBktVvU9"
      },
      "source": [
        "# Traditional Modeling  VS  Pre-Trained Models"
      ]
    },
    {
      "cell_type": "markdown",
      "metadata": {
        "id": "NSs-XQ7LV-eR"
      },
      "source": [
        "### **Review Summarization using BERT**"
      ]
    },
    {
      "cell_type": "code",
      "execution_count": null,
      "metadata": {
        "colab": {
          "base_uri": "https://localhost:8080/"
        },
        "id": "ehqrVpQMGYjT",
        "outputId": "bdfee95c-a72f-4ca3-c557-30f62020e626"
      },
      "outputs": [
        {
          "output_type": "stream",
          "name": "stdout",
          "text": [
            "Looking in indexes: https://pypi.org/simple, https://us-python.pkg.dev/colab-wheels/public/simple/\n",
            "Collecting bert-extractive-summarizer\n",
            "  Downloading bert_extractive_summarizer-0.10.1-py3-none-any.whl (25 kB)\n",
            "Requirement already satisfied: scikit-learn in /usr/local/lib/python3.9/dist-packages (from bert-extractive-summarizer) (1.2.2)\n",
            "Collecting transformers\n",
            "  Downloading transformers-4.27.4-py3-none-any.whl (6.8 MB)\n",
            "\u001b[2K     \u001b[90m━━━━━━━━━━━━━━━━━━━━━━━━━━━━━━━━━━━━━━━━\u001b[0m \u001b[32m6.8/6.8 MB\u001b[0m \u001b[31m73.8 MB/s\u001b[0m eta \u001b[36m0:00:00\u001b[0m\n",
            "\u001b[?25hRequirement already satisfied: spacy in /usr/local/lib/python3.9/dist-packages (from bert-extractive-summarizer) (3.5.1)\n",
            "Requirement already satisfied: threadpoolctl>=2.0.0 in /usr/local/lib/python3.9/dist-packages (from scikit-learn->bert-extractive-summarizer) (3.1.0)\n",
            "Requirement already satisfied: scipy>=1.3.2 in /usr/local/lib/python3.9/dist-packages (from scikit-learn->bert-extractive-summarizer) (1.10.1)\n",
            "Requirement already satisfied: numpy>=1.17.3 in /usr/local/lib/python3.9/dist-packages (from scikit-learn->bert-extractive-summarizer) (1.22.4)\n",
            "Requirement already satisfied: joblib>=1.1.1 in /usr/local/lib/python3.9/dist-packages (from scikit-learn->bert-extractive-summarizer) (1.1.1)\n",
            "Requirement already satisfied: cymem<2.1.0,>=2.0.2 in /usr/local/lib/python3.9/dist-packages (from spacy->bert-extractive-summarizer) (2.0.7)\n",
            "Requirement already satisfied: catalogue<2.1.0,>=2.0.6 in /usr/local/lib/python3.9/dist-packages (from spacy->bert-extractive-summarizer) (2.0.8)\n",
            "Requirement already satisfied: requests<3.0.0,>=2.13.0 in /usr/local/lib/python3.9/dist-packages (from spacy->bert-extractive-summarizer) (2.27.1)\n",
            "Requirement already satisfied: pathy>=0.10.0 in /usr/local/lib/python3.9/dist-packages (from spacy->bert-extractive-summarizer) (0.10.1)\n",
            "Requirement already satisfied: pydantic!=1.8,!=1.8.1,<1.11.0,>=1.7.4 in /usr/local/lib/python3.9/dist-packages (from spacy->bert-extractive-summarizer) (1.10.7)\n",
            "Requirement already satisfied: typer<0.8.0,>=0.3.0 in /usr/local/lib/python3.9/dist-packages (from spacy->bert-extractive-summarizer) (0.7.0)\n",
            "Requirement already satisfied: packaging>=20.0 in /usr/local/lib/python3.9/dist-packages (from spacy->bert-extractive-summarizer) (23.0)\n",
            "Requirement already satisfied: preshed<3.1.0,>=3.0.2 in /usr/local/lib/python3.9/dist-packages (from spacy->bert-extractive-summarizer) (3.0.8)\n",
            "Requirement already satisfied: wasabi<1.2.0,>=0.9.1 in /usr/local/lib/python3.9/dist-packages (from spacy->bert-extractive-summarizer) (1.1.1)\n",
            "Requirement already satisfied: tqdm<5.0.0,>=4.38.0 in /usr/local/lib/python3.9/dist-packages (from spacy->bert-extractive-summarizer) (4.65.0)\n",
            "Requirement already satisfied: langcodes<4.0.0,>=3.2.0 in /usr/local/lib/python3.9/dist-packages (from spacy->bert-extractive-summarizer) (3.3.0)\n",
            "Requirement already satisfied: smart-open<7.0.0,>=5.2.1 in /usr/local/lib/python3.9/dist-packages (from spacy->bert-extractive-summarizer) (6.3.0)\n",
            "Requirement already satisfied: srsly<3.0.0,>=2.4.3 in /usr/local/lib/python3.9/dist-packages (from spacy->bert-extractive-summarizer) (2.4.6)\n",
            "Requirement already satisfied: spacy-legacy<3.1.0,>=3.0.11 in /usr/local/lib/python3.9/dist-packages (from spacy->bert-extractive-summarizer) (3.0.12)\n",
            "Requirement already satisfied: spacy-loggers<2.0.0,>=1.0.0 in /usr/local/lib/python3.9/dist-packages (from spacy->bert-extractive-summarizer) (1.0.4)\n",
            "Requirement already satisfied: murmurhash<1.1.0,>=0.28.0 in /usr/local/lib/python3.9/dist-packages (from spacy->bert-extractive-summarizer) (1.0.9)\n",
            "Requirement already satisfied: setuptools in /usr/local/lib/python3.9/dist-packages (from spacy->bert-extractive-summarizer) (67.6.1)\n",
            "Requirement already satisfied: jinja2 in /usr/local/lib/python3.9/dist-packages (from spacy->bert-extractive-summarizer) (3.1.2)\n",
            "Requirement already satisfied: thinc<8.2.0,>=8.1.8 in /usr/local/lib/python3.9/dist-packages (from spacy->bert-extractive-summarizer) (8.1.9)\n",
            "Requirement already satisfied: filelock in /usr/local/lib/python3.9/dist-packages (from transformers->bert-extractive-summarizer) (3.10.7)\n",
            "Collecting tokenizers!=0.11.3,<0.14,>=0.11.1\n",
            "  Downloading tokenizers-0.13.3-cp39-cp39-manylinux_2_17_x86_64.manylinux2014_x86_64.whl (7.8 MB)\n",
            "\u001b[2K     \u001b[90m━━━━━━━━━━━━━━━━━━━━━━━━━━━━━━━━━━━━━━━━\u001b[0m \u001b[32m7.8/7.8 MB\u001b[0m \u001b[31m107.4 MB/s\u001b[0m eta \u001b[36m0:00:00\u001b[0m\n",
            "\u001b[?25hRequirement already satisfied: pyyaml>=5.1 in /usr/local/lib/python3.9/dist-packages (from transformers->bert-extractive-summarizer) (6.0)\n",
            "Collecting huggingface-hub<1.0,>=0.11.0\n",
            "  Downloading huggingface_hub-0.13.4-py3-none-any.whl (200 kB)\n",
            "\u001b[2K     \u001b[90m━━━━━━━━━━━━━━━━━━━━━━━━━━━━━━━━━━━━━━\u001b[0m \u001b[32m200.1/200.1 KB\u001b[0m \u001b[31m22.7 MB/s\u001b[0m eta \u001b[36m0:00:00\u001b[0m\n",
            "\u001b[?25hRequirement already satisfied: regex!=2019.12.17 in /usr/local/lib/python3.9/dist-packages (from transformers->bert-extractive-summarizer) (2022.10.31)\n",
            "Requirement already satisfied: typing-extensions>=3.7.4.3 in /usr/local/lib/python3.9/dist-packages (from huggingface-hub<1.0,>=0.11.0->transformers->bert-extractive-summarizer) (4.5.0)\n",
            "Requirement already satisfied: charset-normalizer~=2.0.0 in /usr/local/lib/python3.9/dist-packages (from requests<3.0.0,>=2.13.0->spacy->bert-extractive-summarizer) (2.0.12)\n",
            "Requirement already satisfied: idna<4,>=2.5 in /usr/local/lib/python3.9/dist-packages (from requests<3.0.0,>=2.13.0->spacy->bert-extractive-summarizer) (3.4)\n",
            "Requirement already satisfied: urllib3<1.27,>=1.21.1 in /usr/local/lib/python3.9/dist-packages (from requests<3.0.0,>=2.13.0->spacy->bert-extractive-summarizer) (1.26.15)\n",
            "Requirement already satisfied: certifi>=2017.4.17 in /usr/local/lib/python3.9/dist-packages (from requests<3.0.0,>=2.13.0->spacy->bert-extractive-summarizer) (2022.12.7)\n",
            "Requirement already satisfied: confection<1.0.0,>=0.0.1 in /usr/local/lib/python3.9/dist-packages (from thinc<8.2.0,>=8.1.8->spacy->bert-extractive-summarizer) (0.0.4)\n",
            "Requirement already satisfied: blis<0.8.0,>=0.7.8 in /usr/local/lib/python3.9/dist-packages (from thinc<8.2.0,>=8.1.8->spacy->bert-extractive-summarizer) (0.7.9)\n",
            "Requirement already satisfied: click<9.0.0,>=7.1.1 in /usr/local/lib/python3.9/dist-packages (from typer<0.8.0,>=0.3.0->spacy->bert-extractive-summarizer) (8.1.3)\n",
            "Requirement already satisfied: MarkupSafe>=2.0 in /usr/local/lib/python3.9/dist-packages (from jinja2->spacy->bert-extractive-summarizer) (2.1.2)\n",
            "Installing collected packages: tokenizers, huggingface-hub, transformers, bert-extractive-summarizer\n",
            "Successfully installed bert-extractive-summarizer-0.10.1 huggingface-hub-0.13.4 tokenizers-0.13.3 transformers-4.27.4\n",
            "Looking in indexes: https://pypi.org/simple, https://us-python.pkg.dev/colab-wheels/public/simple/\n",
            "Collecting sacremoses\n",
            "  Downloading sacremoses-0.0.53.tar.gz (880 kB)\n",
            "\u001b[2K     \u001b[90m━━━━━━━━━━━━━━━━━━━━━━━━━━━━━━━━━━━━━━━\u001b[0m \u001b[32m880.6/880.6 KB\u001b[0m \u001b[31m9.0 MB/s\u001b[0m eta \u001b[36m0:00:00\u001b[0m\n",
            "\u001b[?25h  Preparing metadata (setup.py) ... \u001b[?25l\u001b[?25hdone\n",
            "Requirement already satisfied: regex in /usr/local/lib/python3.9/dist-packages (from sacremoses) (2022.10.31)\n",
            "Requirement already satisfied: six in /usr/local/lib/python3.9/dist-packages (from sacremoses) (1.16.0)\n",
            "Requirement already satisfied: click in /usr/local/lib/python3.9/dist-packages (from sacremoses) (8.1.3)\n",
            "Requirement already satisfied: joblib in /usr/local/lib/python3.9/dist-packages (from sacremoses) (1.1.1)\n",
            "Requirement already satisfied: tqdm in /usr/local/lib/python3.9/dist-packages (from sacremoses) (4.65.0)\n",
            "Building wheels for collected packages: sacremoses\n",
            "  Building wheel for sacremoses (setup.py) ... \u001b[?25l\u001b[?25hdone\n",
            "  Created wheel for sacremoses: filename=sacremoses-0.0.53-py3-none-any.whl size=895259 sha256=a17e4dfd200e47ef2f7ee6d08f29cfb47dd3cbf6ad3a20045fa06a964c4c921d\n",
            "  Stored in directory: /root/.cache/pip/wheels/12/1c/3d/46cf06718d63a32ff798a89594b61e7f345ab6b36d909ce033\n",
            "Successfully built sacremoses\n",
            "Installing collected packages: sacremoses\n",
            "Successfully installed sacremoses-0.0.53\n",
            "Looking in indexes: https://pypi.org/simple, https://us-python.pkg.dev/colab-wheels/public/simple/\n",
            "Collecting sentence-transformers\n",
            "  Downloading sentence-transformers-2.2.2.tar.gz (85 kB)\n",
            "\u001b[2K     \u001b[90m━━━━━━━━━━━━━━━━━━━━━━━━━━━━━━━━━━━━━━━━\u001b[0m \u001b[32m86.0/86.0 KB\u001b[0m \u001b[31m8.0 MB/s\u001b[0m eta \u001b[36m0:00:00\u001b[0m\n",
            "\u001b[?25h  Preparing metadata (setup.py) ... \u001b[?25l\u001b[?25hdone\n",
            "Requirement already satisfied: transformers<5.0.0,>=4.6.0 in /usr/local/lib/python3.9/dist-packages (from sentence-transformers) (4.27.4)\n",
            "Requirement already satisfied: tqdm in /usr/local/lib/python3.9/dist-packages (from sentence-transformers) (4.65.0)\n",
            "Requirement already satisfied: torch>=1.6.0 in /usr/local/lib/python3.9/dist-packages (from sentence-transformers) (2.0.0+cu118)\n",
            "Requirement already satisfied: torchvision in /usr/local/lib/python3.9/dist-packages (from sentence-transformers) (0.15.1+cu118)\n",
            "Requirement already satisfied: numpy in /usr/local/lib/python3.9/dist-packages (from sentence-transformers) (1.22.4)\n",
            "Requirement already satisfied: scikit-learn in /usr/local/lib/python3.9/dist-packages (from sentence-transformers) (1.2.2)\n",
            "Requirement already satisfied: scipy in /usr/local/lib/python3.9/dist-packages (from sentence-transformers) (1.10.1)\n",
            "Requirement already satisfied: nltk in /usr/local/lib/python3.9/dist-packages (from sentence-transformers) (3.8.1)\n",
            "Collecting sentencepiece\n",
            "  Downloading sentencepiece-0.1.97-cp39-cp39-manylinux_2_17_x86_64.manylinux2014_x86_64.whl (1.3 MB)\n",
            "\u001b[2K     \u001b[90m━━━━━━━━━━━━━━━━━━━━━━━━━━━━━━━━━━━━━━━━\u001b[0m \u001b[32m1.3/1.3 MB\u001b[0m \u001b[31m73.5 MB/s\u001b[0m eta \u001b[36m0:00:00\u001b[0m\n",
            "\u001b[?25hRequirement already satisfied: huggingface-hub>=0.4.0 in /usr/local/lib/python3.9/dist-packages (from sentence-transformers) (0.13.4)\n",
            "Requirement already satisfied: typing-extensions>=3.7.4.3 in /usr/local/lib/python3.9/dist-packages (from huggingface-hub>=0.4.0->sentence-transformers) (4.5.0)\n",
            "Requirement already satisfied: requests in /usr/local/lib/python3.9/dist-packages (from huggingface-hub>=0.4.0->sentence-transformers) (2.27.1)\n",
            "Requirement already satisfied: filelock in /usr/local/lib/python3.9/dist-packages (from huggingface-hub>=0.4.0->sentence-transformers) (3.10.7)\n",
            "Requirement already satisfied: packaging>=20.9 in /usr/local/lib/python3.9/dist-packages (from huggingface-hub>=0.4.0->sentence-transformers) (23.0)\n",
            "Requirement already satisfied: pyyaml>=5.1 in /usr/local/lib/python3.9/dist-packages (from huggingface-hub>=0.4.0->sentence-transformers) (6.0)\n",
            "Requirement already satisfied: triton==2.0.0 in /usr/local/lib/python3.9/dist-packages (from torch>=1.6.0->sentence-transformers) (2.0.0)\n",
            "Requirement already satisfied: jinja2 in /usr/local/lib/python3.9/dist-packages (from torch>=1.6.0->sentence-transformers) (3.1.2)\n",
            "Requirement already satisfied: sympy in /usr/local/lib/python3.9/dist-packages (from torch>=1.6.0->sentence-transformers) (1.11.1)\n",
            "Requirement already satisfied: networkx in /usr/local/lib/python3.9/dist-packages (from torch>=1.6.0->sentence-transformers) (3.0)\n",
            "Requirement already satisfied: cmake in /usr/local/lib/python3.9/dist-packages (from triton==2.0.0->torch>=1.6.0->sentence-transformers) (3.25.2)\n",
            "Requirement already satisfied: lit in /usr/local/lib/python3.9/dist-packages (from triton==2.0.0->torch>=1.6.0->sentence-transformers) (16.0.0)\n",
            "Requirement already satisfied: regex!=2019.12.17 in /usr/local/lib/python3.9/dist-packages (from transformers<5.0.0,>=4.6.0->sentence-transformers) (2022.10.31)\n",
            "Requirement already satisfied: tokenizers!=0.11.3,<0.14,>=0.11.1 in /usr/local/lib/python3.9/dist-packages (from transformers<5.0.0,>=4.6.0->sentence-transformers) (0.13.3)\n",
            "Requirement already satisfied: joblib in /usr/local/lib/python3.9/dist-packages (from nltk->sentence-transformers) (1.1.1)\n",
            "Requirement already satisfied: click in /usr/local/lib/python3.9/dist-packages (from nltk->sentence-transformers) (8.1.3)\n",
            "Requirement already satisfied: threadpoolctl>=2.0.0 in /usr/local/lib/python3.9/dist-packages (from scikit-learn->sentence-transformers) (3.1.0)\n",
            "Requirement already satisfied: pillow!=8.3.*,>=5.3.0 in /usr/local/lib/python3.9/dist-packages (from torchvision->sentence-transformers) (8.4.0)\n",
            "Requirement already satisfied: MarkupSafe>=2.0 in /usr/local/lib/python3.9/dist-packages (from jinja2->torch>=1.6.0->sentence-transformers) (2.1.2)\n",
            "Requirement already satisfied: urllib3<1.27,>=1.21.1 in /usr/local/lib/python3.9/dist-packages (from requests->huggingface-hub>=0.4.0->sentence-transformers) (1.26.15)\n",
            "Requirement already satisfied: charset-normalizer~=2.0.0 in /usr/local/lib/python3.9/dist-packages (from requests->huggingface-hub>=0.4.0->sentence-transformers) (2.0.12)\n",
            "Requirement already satisfied: idna<4,>=2.5 in /usr/local/lib/python3.9/dist-packages (from requests->huggingface-hub>=0.4.0->sentence-transformers) (3.4)\n",
            "Requirement already satisfied: certifi>=2017.4.17 in /usr/local/lib/python3.9/dist-packages (from requests->huggingface-hub>=0.4.0->sentence-transformers) (2022.12.7)\n",
            "Requirement already satisfied: mpmath>=0.19 in /usr/local/lib/python3.9/dist-packages (from sympy->torch>=1.6.0->sentence-transformers) (1.3.0)\n",
            "Building wheels for collected packages: sentence-transformers\n",
            "  Building wheel for sentence-transformers (setup.py) ... \u001b[?25l\u001b[?25hdone\n",
            "  Created wheel for sentence-transformers: filename=sentence_transformers-2.2.2-py3-none-any.whl size=125942 sha256=4707b45de60205050da52b471ec64598e6c990d71d2d82cf27ccb527e3b34fc9\n",
            "  Stored in directory: /root/.cache/pip/wheels/71/67/06/162a3760c40d74dd40bc855d527008d26341c2b0ecf3e8e11f\n",
            "Successfully built sentence-transformers\n",
            "Installing collected packages: sentencepiece, sentence-transformers\n",
            "Successfully installed sentence-transformers-2.2.2 sentencepiece-0.1.97\n",
            "Looking in indexes: https://pypi.org/simple, https://us-python.pkg.dev/colab-wheels/public/simple/\n",
            "Requirement already satisfied: spacy in /usr/local/lib/python3.9/dist-packages (3.5.1)\n",
            "Requirement already satisfied: thinc<8.2.0,>=8.1.8 in /usr/local/lib/python3.9/dist-packages (from spacy) (8.1.9)\n",
            "Requirement already satisfied: spacy-loggers<2.0.0,>=1.0.0 in /usr/local/lib/python3.9/dist-packages (from spacy) (1.0.4)\n",
            "Requirement already satisfied: pathy>=0.10.0 in /usr/local/lib/python3.9/dist-packages (from spacy) (0.10.1)\n",
            "Requirement already satisfied: smart-open<7.0.0,>=5.2.1 in /usr/local/lib/python3.9/dist-packages (from spacy) (6.3.0)\n",
            "Requirement already satisfied: preshed<3.1.0,>=3.0.2 in /usr/local/lib/python3.9/dist-packages (from spacy) (3.0.8)\n",
            "Requirement already satisfied: typer<0.8.0,>=0.3.0 in /usr/local/lib/python3.9/dist-packages (from spacy) (0.7.0)\n",
            "Requirement already satisfied: pydantic!=1.8,!=1.8.1,<1.11.0,>=1.7.4 in /usr/local/lib/python3.9/dist-packages (from spacy) (1.10.7)\n",
            "Requirement already satisfied: murmurhash<1.1.0,>=0.28.0 in /usr/local/lib/python3.9/dist-packages (from spacy) (1.0.9)\n",
            "Requirement already satisfied: spacy-legacy<3.1.0,>=3.0.11 in /usr/local/lib/python3.9/dist-packages (from spacy) (3.0.12)\n",
            "Requirement already satisfied: cymem<2.1.0,>=2.0.2 in /usr/local/lib/python3.9/dist-packages (from spacy) (2.0.7)\n",
            "Requirement already satisfied: setuptools in /usr/local/lib/python3.9/dist-packages (from spacy) (67.6.1)\n",
            "Requirement already satisfied: packaging>=20.0 in /usr/local/lib/python3.9/dist-packages (from spacy) (23.0)\n",
            "Requirement already satisfied: wasabi<1.2.0,>=0.9.1 in /usr/local/lib/python3.9/dist-packages (from spacy) (1.1.1)\n",
            "Requirement already satisfied: langcodes<4.0.0,>=3.2.0 in /usr/local/lib/python3.9/dist-packages (from spacy) (3.3.0)\n",
            "Requirement already satisfied: srsly<3.0.0,>=2.4.3 in /usr/local/lib/python3.9/dist-packages (from spacy) (2.4.6)\n",
            "Requirement already satisfied: tqdm<5.0.0,>=4.38.0 in /usr/local/lib/python3.9/dist-packages (from spacy) (4.65.0)\n",
            "Requirement already satisfied: jinja2 in /usr/local/lib/python3.9/dist-packages (from spacy) (3.1.2)\n",
            "Requirement already satisfied: requests<3.0.0,>=2.13.0 in /usr/local/lib/python3.9/dist-packages (from spacy) (2.27.1)\n",
            "Requirement already satisfied: numpy>=1.15.0 in /usr/local/lib/python3.9/dist-packages (from spacy) (1.22.4)\n",
            "Requirement already satisfied: catalogue<2.1.0,>=2.0.6 in /usr/local/lib/python3.9/dist-packages (from spacy) (2.0.8)\n",
            "Requirement already satisfied: typing-extensions>=4.2.0 in /usr/local/lib/python3.9/dist-packages (from pydantic!=1.8,!=1.8.1,<1.11.0,>=1.7.4->spacy) (4.5.0)\n",
            "Requirement already satisfied: certifi>=2017.4.17 in /usr/local/lib/python3.9/dist-packages (from requests<3.0.0,>=2.13.0->spacy) (2022.12.7)\n",
            "Requirement already satisfied: idna<4,>=2.5 in /usr/local/lib/python3.9/dist-packages (from requests<3.0.0,>=2.13.0->spacy) (3.4)\n",
            "Requirement already satisfied: urllib3<1.27,>=1.21.1 in /usr/local/lib/python3.9/dist-packages (from requests<3.0.0,>=2.13.0->spacy) (1.26.15)\n",
            "Requirement already satisfied: charset-normalizer~=2.0.0 in /usr/local/lib/python3.9/dist-packages (from requests<3.0.0,>=2.13.0->spacy) (2.0.12)\n",
            "Requirement already satisfied: blis<0.8.0,>=0.7.8 in /usr/local/lib/python3.9/dist-packages (from thinc<8.2.0,>=8.1.8->spacy) (0.7.9)\n",
            "Requirement already satisfied: confection<1.0.0,>=0.0.1 in /usr/local/lib/python3.9/dist-packages (from thinc<8.2.0,>=8.1.8->spacy) (0.0.4)\n",
            "Requirement already satisfied: click<9.0.0,>=7.1.1 in /usr/local/lib/python3.9/dist-packages (from typer<0.8.0,>=0.3.0->spacy) (8.1.3)\n",
            "Requirement already satisfied: MarkupSafe>=2.0 in /usr/local/lib/python3.9/dist-packages (from jinja2->spacy) (2.1.2)\n",
            "Looking in indexes: https://pypi.org/simple, https://us-python.pkg.dev/colab-wheels/public/simple/\n",
            "Requirement already satisfied: transformers in /usr/local/lib/python3.9/dist-packages (4.27.4)\n",
            "Requirement already satisfied: huggingface-hub<1.0,>=0.11.0 in /usr/local/lib/python3.9/dist-packages (from transformers) (0.13.4)\n",
            "Requirement already satisfied: packaging>=20.0 in /usr/local/lib/python3.9/dist-packages (from transformers) (23.0)\n",
            "Requirement already satisfied: tqdm>=4.27 in /usr/local/lib/python3.9/dist-packages (from transformers) (4.65.0)\n",
            "Requirement already satisfied: pyyaml>=5.1 in /usr/local/lib/python3.9/dist-packages (from transformers) (6.0)\n",
            "Requirement already satisfied: tokenizers!=0.11.3,<0.14,>=0.11.1 in /usr/local/lib/python3.9/dist-packages (from transformers) (0.13.3)\n",
            "Requirement already satisfied: numpy>=1.17 in /usr/local/lib/python3.9/dist-packages (from transformers) (1.22.4)\n",
            "Requirement already satisfied: requests in /usr/local/lib/python3.9/dist-packages (from transformers) (2.27.1)\n",
            "Requirement already satisfied: regex!=2019.12.17 in /usr/local/lib/python3.9/dist-packages (from transformers) (2022.10.31)\n",
            "Requirement already satisfied: filelock in /usr/local/lib/python3.9/dist-packages (from transformers) (3.10.7)\n",
            "Requirement already satisfied: typing-extensions>=3.7.4.3 in /usr/local/lib/python3.9/dist-packages (from huggingface-hub<1.0,>=0.11.0->transformers) (4.5.0)\n",
            "Requirement already satisfied: idna<4,>=2.5 in /usr/local/lib/python3.9/dist-packages (from requests->transformers) (3.4)\n",
            "Requirement already satisfied: certifi>=2017.4.17 in /usr/local/lib/python3.9/dist-packages (from requests->transformers) (2022.12.7)\n",
            "Requirement already satisfied: urllib3<1.27,>=1.21.1 in /usr/local/lib/python3.9/dist-packages (from requests->transformers) (1.26.15)\n",
            "Requirement already satisfied: charset-normalizer~=2.0.0 in /usr/local/lib/python3.9/dist-packages (from requests->transformers) (2.0.12)\n",
            "Looking in indexes: https://pypi.org/simple, https://us-python.pkg.dev/colab-wheels/public/simple/\n",
            "Collecting neuralcoref\n",
            "  Downloading neuralcoref-4.0.tar.gz (368 kB)\n",
            "\u001b[2K     \u001b[90m━━━━━━━━━━━━━━━━━━━━━━━━━━━━━━━━━━━━━━\u001b[0m \u001b[32m368.7/368.7 KB\u001b[0m \u001b[31m23.0 MB/s\u001b[0m eta \u001b[36m0:00:00\u001b[0m\n",
            "\u001b[?25h  Preparing metadata (setup.py) ... \u001b[?25l\u001b[?25hdone\n",
            "Requirement already satisfied: numpy>=1.15.0 in /usr/local/lib/python3.9/dist-packages (from neuralcoref) (1.22.4)\n",
            "Collecting boto3\n",
            "  Downloading boto3-1.26.109-py3-none-any.whl (135 kB)\n",
            "\u001b[2K     \u001b[90m━━━━━━━━━━━━━━━━━━━━━━━━━━━━━━━━━━━━━━\u001b[0m \u001b[32m135.6/135.6 KB\u001b[0m \u001b[31m16.4 MB/s\u001b[0m eta \u001b[36m0:00:00\u001b[0m\n",
            "\u001b[?25hRequirement already satisfied: requests<3.0.0,>=2.13.0 in /usr/local/lib/python3.9/dist-packages (from neuralcoref) (2.27.1)\n",
            "Requirement already satisfied: spacy>=2.1.0 in /usr/local/lib/python3.9/dist-packages (from neuralcoref) (3.5.1)\n",
            "Requirement already satisfied: urllib3<1.27,>=1.21.1 in /usr/local/lib/python3.9/dist-packages (from requests<3.0.0,>=2.13.0->neuralcoref) (1.26.15)\n",
            "Requirement already satisfied: certifi>=2017.4.17 in /usr/local/lib/python3.9/dist-packages (from requests<3.0.0,>=2.13.0->neuralcoref) (2022.12.7)\n",
            "Requirement already satisfied: idna<4,>=2.5 in /usr/local/lib/python3.9/dist-packages (from requests<3.0.0,>=2.13.0->neuralcoref) (3.4)\n",
            "Requirement already satisfied: charset-normalizer~=2.0.0 in /usr/local/lib/python3.9/dist-packages (from requests<3.0.0,>=2.13.0->neuralcoref) (2.0.12)\n",
            "Requirement already satisfied: pathy>=0.10.0 in /usr/local/lib/python3.9/dist-packages (from spacy>=2.1.0->neuralcoref) (0.10.1)\n",
            "Requirement already satisfied: preshed<3.1.0,>=3.0.2 in /usr/local/lib/python3.9/dist-packages (from spacy>=2.1.0->neuralcoref) (3.0.8)\n",
            "Requirement already satisfied: tqdm<5.0.0,>=4.38.0 in /usr/local/lib/python3.9/dist-packages (from spacy>=2.1.0->neuralcoref) (4.65.0)\n",
            "Requirement already satisfied: thinc<8.2.0,>=8.1.8 in /usr/local/lib/python3.9/dist-packages (from spacy>=2.1.0->neuralcoref) (8.1.9)\n",
            "Requirement already satisfied: packaging>=20.0 in /usr/local/lib/python3.9/dist-packages (from spacy>=2.1.0->neuralcoref) (23.0)\n",
            "Requirement already satisfied: spacy-loggers<2.0.0,>=1.0.0 in /usr/local/lib/python3.9/dist-packages (from spacy>=2.1.0->neuralcoref) (1.0.4)\n",
            "Requirement already satisfied: catalogue<2.1.0,>=2.0.6 in /usr/local/lib/python3.9/dist-packages (from spacy>=2.1.0->neuralcoref) (2.0.8)\n",
            "Requirement already satisfied: setuptools in /usr/local/lib/python3.9/dist-packages (from spacy>=2.1.0->neuralcoref) (67.6.1)\n",
            "Requirement already satisfied: smart-open<7.0.0,>=5.2.1 in /usr/local/lib/python3.9/dist-packages (from spacy>=2.1.0->neuralcoref) (6.3.0)\n",
            "Requirement already satisfied: pydantic!=1.8,!=1.8.1,<1.11.0,>=1.7.4 in /usr/local/lib/python3.9/dist-packages (from spacy>=2.1.0->neuralcoref) (1.10.7)\n",
            "Requirement already satisfied: langcodes<4.0.0,>=3.2.0 in /usr/local/lib/python3.9/dist-packages (from spacy>=2.1.0->neuralcoref) (3.3.0)\n",
            "Requirement already satisfied: jinja2 in /usr/local/lib/python3.9/dist-packages (from spacy>=2.1.0->neuralcoref) (3.1.2)\n",
            "Requirement already satisfied: spacy-legacy<3.1.0,>=3.0.11 in /usr/local/lib/python3.9/dist-packages (from spacy>=2.1.0->neuralcoref) (3.0.12)\n",
            "Requirement already satisfied: murmurhash<1.1.0,>=0.28.0 in /usr/local/lib/python3.9/dist-packages (from spacy>=2.1.0->neuralcoref) (1.0.9)\n",
            "Requirement already satisfied: typer<0.8.0,>=0.3.0 in /usr/local/lib/python3.9/dist-packages (from spacy>=2.1.0->neuralcoref) (0.7.0)\n",
            "Requirement already satisfied: wasabi<1.2.0,>=0.9.1 in /usr/local/lib/python3.9/dist-packages (from spacy>=2.1.0->neuralcoref) (1.1.1)\n",
            "Requirement already satisfied: srsly<3.0.0,>=2.4.3 in /usr/local/lib/python3.9/dist-packages (from spacy>=2.1.0->neuralcoref) (2.4.6)\n",
            "Requirement already satisfied: cymem<2.1.0,>=2.0.2 in /usr/local/lib/python3.9/dist-packages (from spacy>=2.1.0->neuralcoref) (2.0.7)\n",
            "Collecting jmespath<2.0.0,>=0.7.1\n",
            "  Downloading jmespath-1.0.1-py3-none-any.whl (20 kB)\n",
            "Collecting botocore<1.30.0,>=1.29.109\n",
            "  Downloading botocore-1.29.109-py3-none-any.whl (10.6 MB)\n",
            "\u001b[2K     \u001b[90m━━━━━━━━━━━━━━━━━━━━━━━━━━━━━━━━━━━━━━━\u001b[0m \u001b[32m10.6/10.6 MB\u001b[0m \u001b[31m102.5 MB/s\u001b[0m eta \u001b[36m0:00:00\u001b[0m\n",
            "\u001b[?25hCollecting s3transfer<0.7.0,>=0.6.0\n",
            "  Downloading s3transfer-0.6.0-py3-none-any.whl (79 kB)\n",
            "\u001b[2K     \u001b[90m━━━━━━━━━━━━━━━━━━━━━━━━━━━━━━━━━━━━━━━━\u001b[0m \u001b[32m79.6/79.6 KB\u001b[0m \u001b[31m10.2 MB/s\u001b[0m eta \u001b[36m0:00:00\u001b[0m\n",
            "\u001b[?25hRequirement already satisfied: python-dateutil<3.0.0,>=2.1 in /usr/local/lib/python3.9/dist-packages (from botocore<1.30.0,>=1.29.109->boto3->neuralcoref) (2.8.2)\n",
            "Requirement already satisfied: typing-extensions>=4.2.0 in /usr/local/lib/python3.9/dist-packages (from pydantic!=1.8,!=1.8.1,<1.11.0,>=1.7.4->spacy>=2.1.0->neuralcoref) (4.5.0)\n",
            "Requirement already satisfied: blis<0.8.0,>=0.7.8 in /usr/local/lib/python3.9/dist-packages (from thinc<8.2.0,>=8.1.8->spacy>=2.1.0->neuralcoref) (0.7.9)\n",
            "Requirement already satisfied: confection<1.0.0,>=0.0.1 in /usr/local/lib/python3.9/dist-packages (from thinc<8.2.0,>=8.1.8->spacy>=2.1.0->neuralcoref) (0.0.4)\n",
            "Requirement already satisfied: click<9.0.0,>=7.1.1 in /usr/local/lib/python3.9/dist-packages (from typer<0.8.0,>=0.3.0->spacy>=2.1.0->neuralcoref) (8.1.3)\n",
            "Requirement already satisfied: MarkupSafe>=2.0 in /usr/local/lib/python3.9/dist-packages (from jinja2->spacy>=2.1.0->neuralcoref) (2.1.2)\n",
            "Requirement already satisfied: six>=1.5 in /usr/local/lib/python3.9/dist-packages (from python-dateutil<3.0.0,>=2.1->botocore<1.30.0,>=1.29.109->boto3->neuralcoref) (1.16.0)\n",
            "Building wheels for collected packages: neuralcoref\n",
            "  \u001b[1;31merror\u001b[0m: \u001b[1msubprocess-exited-with-error\u001b[0m\n",
            "  \n",
            "  \u001b[31m×\u001b[0m \u001b[32mpython setup.py bdist_wheel\u001b[0m did not run successfully.\n",
            "  \u001b[31m│\u001b[0m exit code: \u001b[1;36m1\u001b[0m\n",
            "  \u001b[31m╰─>\u001b[0m See above for output.\n",
            "  \n",
            "  \u001b[1;35mnote\u001b[0m: This error originates from a subprocess, and is likely not a problem with pip.\n",
            "  Building wheel for neuralcoref (setup.py) ... \u001b[?25lerror\n",
            "\u001b[31m  ERROR: Failed building wheel for neuralcoref\u001b[0m\u001b[31m\n",
            "\u001b[0m\u001b[?25h  Running setup.py clean for neuralcoref\n",
            "Failed to build neuralcoref\n",
            "Installing collected packages: jmespath, botocore, s3transfer, boto3, neuralcoref\n",
            "  \u001b[1;31merror\u001b[0m: \u001b[1msubprocess-exited-with-error\u001b[0m\n",
            "  \n",
            "  \u001b[31m×\u001b[0m \u001b[32mRunning setup.py install for neuralcoref\u001b[0m did not run successfully.\n",
            "  \u001b[31m│\u001b[0m exit code: \u001b[1;36m1\u001b[0m\n",
            "  \u001b[31m╰─>\u001b[0m See above for output.\n",
            "  \n",
            "  \u001b[1;35mnote\u001b[0m: This error originates from a subprocess, and is likely not a problem with pip.\n",
            "  Running setup.py install for neuralcoref ... \u001b[?25l\u001b[?25herror\n",
            "\u001b[1;31merror\u001b[0m: \u001b[1mlegacy-install-failure\u001b[0m\n",
            "\n",
            "\u001b[31m×\u001b[0m Encountered error while trying to install package.\n",
            "\u001b[31m╰─>\u001b[0m neuralcoref\n",
            "\n",
            "\u001b[1;35mnote\u001b[0m: This is an issue with the package mentioned above, not pip.\n",
            "\u001b[1;36mhint\u001b[0m: See above for output from the failure.\n",
            "2023-04-08 06:07:52.981458: W tensorflow/compiler/tf2tensorrt/utils/py_utils.cc:38] TF-TRT Warning: Could not find TensorRT\n",
            "Looking in indexes: https://pypi.org/simple, https://us-python.pkg.dev/colab-wheels/public/simple/\n",
            "Collecting en-core-web-md==3.5.0\n",
            "  Downloading https://github.com/explosion/spacy-models/releases/download/en_core_web_md-3.5.0/en_core_web_md-3.5.0-py3-none-any.whl (42.8 MB)\n",
            "\u001b[2K     \u001b[90m━━━━━━━━━━━━━━━━━━━━━━━━━━━━━━━━━━━━━━━━\u001b[0m \u001b[32m42.8/42.8 MB\u001b[0m \u001b[31m10.6 MB/s\u001b[0m eta \u001b[36m0:00:00\u001b[0m\n",
            "\u001b[?25hRequirement already satisfied: spacy<3.6.0,>=3.5.0 in /usr/local/lib/python3.9/dist-packages (from en-core-web-md==3.5.0) (3.5.1)\n",
            "Requirement already satisfied: spacy-loggers<2.0.0,>=1.0.0 in /usr/local/lib/python3.9/dist-packages (from spacy<3.6.0,>=3.5.0->en-core-web-md==3.5.0) (1.0.4)\n",
            "Requirement already satisfied: spacy-legacy<3.1.0,>=3.0.11 in /usr/local/lib/python3.9/dist-packages (from spacy<3.6.0,>=3.5.0->en-core-web-md==3.5.0) (3.0.12)\n",
            "Requirement already satisfied: numpy>=1.15.0 in /usr/local/lib/python3.9/dist-packages (from spacy<3.6.0,>=3.5.0->en-core-web-md==3.5.0) (1.22.4)\n",
            "Requirement already satisfied: pydantic!=1.8,!=1.8.1,<1.11.0,>=1.7.4 in /usr/local/lib/python3.9/dist-packages (from spacy<3.6.0,>=3.5.0->en-core-web-md==3.5.0) (1.10.7)\n",
            "Requirement already satisfied: pathy>=0.10.0 in /usr/local/lib/python3.9/dist-packages (from spacy<3.6.0,>=3.5.0->en-core-web-md==3.5.0) (0.10.1)\n",
            "Requirement already satisfied: catalogue<2.1.0,>=2.0.6 in /usr/local/lib/python3.9/dist-packages (from spacy<3.6.0,>=3.5.0->en-core-web-md==3.5.0) (2.0.8)\n",
            "Requirement already satisfied: jinja2 in /usr/local/lib/python3.9/dist-packages (from spacy<3.6.0,>=3.5.0->en-core-web-md==3.5.0) (3.1.2)\n",
            "Requirement already satisfied: murmurhash<1.1.0,>=0.28.0 in /usr/local/lib/python3.9/dist-packages (from spacy<3.6.0,>=3.5.0->en-core-web-md==3.5.0) (1.0.9)\n",
            "Requirement already satisfied: smart-open<7.0.0,>=5.2.1 in /usr/local/lib/python3.9/dist-packages (from spacy<3.6.0,>=3.5.0->en-core-web-md==3.5.0) (6.3.0)\n",
            "Requirement already satisfied: tqdm<5.0.0,>=4.38.0 in /usr/local/lib/python3.9/dist-packages (from spacy<3.6.0,>=3.5.0->en-core-web-md==3.5.0) (4.65.0)\n",
            "Requirement already satisfied: thinc<8.2.0,>=8.1.8 in /usr/local/lib/python3.9/dist-packages (from spacy<3.6.0,>=3.5.0->en-core-web-md==3.5.0) (8.1.9)\n",
            "Requirement already satisfied: requests<3.0.0,>=2.13.0 in /usr/local/lib/python3.9/dist-packages (from spacy<3.6.0,>=3.5.0->en-core-web-md==3.5.0) (2.27.1)\n",
            "Requirement already satisfied: cymem<2.1.0,>=2.0.2 in /usr/local/lib/python3.9/dist-packages (from spacy<3.6.0,>=3.5.0->en-core-web-md==3.5.0) (2.0.7)\n",
            "Requirement already satisfied: preshed<3.1.0,>=3.0.2 in /usr/local/lib/python3.9/dist-packages (from spacy<3.6.0,>=3.5.0->en-core-web-md==3.5.0) (3.0.8)\n",
            "Requirement already satisfied: setuptools in /usr/local/lib/python3.9/dist-packages (from spacy<3.6.0,>=3.5.0->en-core-web-md==3.5.0) (67.6.1)\n",
            "Requirement already satisfied: typer<0.8.0,>=0.3.0 in /usr/local/lib/python3.9/dist-packages (from spacy<3.6.0,>=3.5.0->en-core-web-md==3.5.0) (0.7.0)\n",
            "Requirement already satisfied: langcodes<4.0.0,>=3.2.0 in /usr/local/lib/python3.9/dist-packages (from spacy<3.6.0,>=3.5.0->en-core-web-md==3.5.0) (3.3.0)\n",
            "Requirement already satisfied: packaging>=20.0 in /usr/local/lib/python3.9/dist-packages (from spacy<3.6.0,>=3.5.0->en-core-web-md==3.5.0) (23.0)\n",
            "Requirement already satisfied: wasabi<1.2.0,>=0.9.1 in /usr/local/lib/python3.9/dist-packages (from spacy<3.6.0,>=3.5.0->en-core-web-md==3.5.0) (1.1.1)\n",
            "Requirement already satisfied: srsly<3.0.0,>=2.4.3 in /usr/local/lib/python3.9/dist-packages (from spacy<3.6.0,>=3.5.0->en-core-web-md==3.5.0) (2.4.6)\n",
            "Requirement already satisfied: typing-extensions>=4.2.0 in /usr/local/lib/python3.9/dist-packages (from pydantic!=1.8,!=1.8.1,<1.11.0,>=1.7.4->spacy<3.6.0,>=3.5.0->en-core-web-md==3.5.0) (4.5.0)\n",
            "Requirement already satisfied: certifi>=2017.4.17 in /usr/local/lib/python3.9/dist-packages (from requests<3.0.0,>=2.13.0->spacy<3.6.0,>=3.5.0->en-core-web-md==3.5.0) (2022.12.7)\n",
            "Requirement already satisfied: urllib3<1.27,>=1.21.1 in /usr/local/lib/python3.9/dist-packages (from requests<3.0.0,>=2.13.0->spacy<3.6.0,>=3.5.0->en-core-web-md==3.5.0) (1.26.15)\n",
            "Requirement already satisfied: charset-normalizer~=2.0.0 in /usr/local/lib/python3.9/dist-packages (from requests<3.0.0,>=2.13.0->spacy<3.6.0,>=3.5.0->en-core-web-md==3.5.0) (2.0.12)\n",
            "Requirement already satisfied: idna<4,>=2.5 in /usr/local/lib/python3.9/dist-packages (from requests<3.0.0,>=2.13.0->spacy<3.6.0,>=3.5.0->en-core-web-md==3.5.0) (3.4)\n",
            "Requirement already satisfied: confection<1.0.0,>=0.0.1 in /usr/local/lib/python3.9/dist-packages (from thinc<8.2.0,>=8.1.8->spacy<3.6.0,>=3.5.0->en-core-web-md==3.5.0) (0.0.4)\n",
            "Requirement already satisfied: blis<0.8.0,>=0.7.8 in /usr/local/lib/python3.9/dist-packages (from thinc<8.2.0,>=8.1.8->spacy<3.6.0,>=3.5.0->en-core-web-md==3.5.0) (0.7.9)\n",
            "Requirement already satisfied: click<9.0.0,>=7.1.1 in /usr/local/lib/python3.9/dist-packages (from typer<0.8.0,>=0.3.0->spacy<3.6.0,>=3.5.0->en-core-web-md==3.5.0) (8.1.3)\n",
            "Requirement already satisfied: MarkupSafe>=2.0 in /usr/local/lib/python3.9/dist-packages (from jinja2->spacy<3.6.0,>=3.5.0->en-core-web-md==3.5.0) (2.1.2)\n",
            "Installing collected packages: en-core-web-md\n",
            "Successfully installed en-core-web-md-3.5.0\n",
            "\u001b[38;5;2m✔ Download and installation successful\u001b[0m\n",
            "You can now load the package via spacy.load('en_core_web_md')\n"
          ]
        }
      ],
      "source": [
        "!pip install bert-extractive-summarizer\n",
        "!pip install sacremoses\n",
        "!pip install -U sentence-transformers\n",
        "!pip install spacy\n",
        "!pip install transformers # > 4.0.0\n",
        "!pip install neuralcoref\n",
        "\n",
        "!python -m spacy download en_core_web_md\n",
        "     "
      ]
    },
    {
      "cell_type": "code",
      "execution_count": null,
      "metadata": {
        "id": "fV_-5kdD6TOu"
      },
      "outputs": [],
      "source": [
        "import tensorflow as tf\n",
        "from transformers import BertTokenizer, TFBertModel\n",
        "\n",
        "# Load the pre-trained BERT model and corresponding tokenizer\n",
        "model_name = 'bert-base-uncased'\n",
        "tokenizer = BertTokenizer.from_pretrained(model_name)\n",
        "bert_model = TFBertModel.from_pretrained(model_name)\n",
        "\n",
        "# Prepare training data by converting the text into the format that tokenizer accepts\n",
        "train_sentences = []\n",
        "train_input_ids = []\n",
        "train_attention_masks = []\n",
        "for sent in train_sentences:\n",
        "    encoded_dict = tokenizer.encode_plus(\n",
        "                        sent,\n",
        "                        add_special_tokens = True, \n",
        "                        max_length = 64,       \n",
        "                        pad_to_max_length = True,       # Shorter sentences will be padded\n",
        "                        return_attention_mask = True,   # Attention mask to mask out padding\n",
        "                        return_tensors = 'tf',          # Return tf.tensor objects\n",
        "                   )\n",
        "    train_input_ids.append(encoded_dict['input_ids'])\n",
        "    train_attention_masks.append(encoded_dict['attention_mask'])\n",
        "\n",
        "# Convert input data into tf.Tensor objects\n",
        "train_input_ids = tf.concat(train_input_ids, axis=0)\n",
        "train_attention_masks = tf.concat(train_attention_masks, axis=0)\n",
        "\n",
        "# Build the input layer of the BERT model\n",
        "input_ids = tf.keras.layers.Input(shape=(64,), dtype=tf.int32, name='input_ids')\n",
        "attention_masks = tf.keras.layers.Input(shape=(64,), dtype=tf.int32, name='attention_masks')\n",
        "bert_inputs = {'input_ids': input_ids, 'attention_mask': attention_masks}\n",
        "\n",
        "bert_output = bert_model(bert_inputs)[0]\n",
        "output = tf.keras.layers.Dense(2, activation='softmax', name='output')(bert_output)\n",
        "\n",
        "# Build the training model\n",
        "model = tf.keras.models.Model(inputs=[input_ids, attention_masks], outputs=output)\n",
        "# Set optimizer, loss function, and evaluation metrics, etc.\n",
        "optimizer = tf.keras.optimizers.Adam(learning_rate=2e-5, epsilon=1e-08, clipnorm=1.0)\n",
        "loss = tf.keras.losses.SparseCategoricalCrossentropy(from_logits=True)\n",
        "metric = tf.keras.metrics.SparseCategoricalAccuracy('accuracy')\n",
        "model.compile(optimizer=optimizer, loss=loss, metrics=[metric])\n",
        "\n",
        "\n",
        "'''model.fit(\n",
        "    {'input_ids': train_input_ids, 'attention_masks': train_attention_masks},\n",
        "    {'output': [0, 1]},   # Simulated label data\n",
        "    epochs=3,\n",
        "    batch_size=32\n",
        ")'''\n"
      ]
    },
    {
      "cell_type": "code",
      "execution_count": null,
      "metadata": {
        "id": "erEGT44-TcoM"
      },
      "outputs": [],
      "source": [
        "from summarizer import Summarizer\n",
        "\n",
        "body = '''I recently purchased a pair of wireless earbuds and I have to say, they are absolutely fantastic! The sound quality is amazing, \n",
        " with crystal clear audio and deep, rich bass. I was blown away by how immersive my music sounded when I listened to it on these earbuds.\n",
        "But that's not all - the design is sleek and modern, and the earbuds fit perfectly in my ears without ever feeling uncomfortable or falling out. \n",
        "And the charging case is compact and easy to use, making it convenient to keep my earbuds charged up and ready to go.\n",
        "One of the things I appreciate most about these earbuds is the touch controls - I can easily pause, play, skip tracks, \n",
        "and adjust the volume without ever having to take my phone out of my pocket. It's so convenient when I'm on the go or trying to multitask.\n",
        "Overall, I would highly recommend these wireless earbuds to anyone looking for a high-quality audio experience in a compact, user-friendly package. \n",
        "They have truly exceeded my expectations and I can't imagine going back to wired earbuds ever again.\n",
        "'''\n",
        "\n",
        "model = Summarizer()\n",
        "result = model(body, min_length=60)\n",
        "result = ''.join(result)\n"
      ]
    },
    {
      "cell_type": "code",
      "execution_count": null,
      "metadata": {
        "colab": {
          "base_uri": "https://localhost:8080/"
        },
        "id": "eWy4A256Wnmm",
        "outputId": "c3f50638-db9c-43bd-8826-539d54779f04"
      },
      "outputs": [
        {
          "name": "stdout",
          "output_type": "stream",
          "text": [
            "I recently purchased a pair of wireless earbuds and I have to say, they are absolutely fantastic! But that's not all - the design is sleek and modern, and the earbuds fit perfectly in my ears without ever feeling uncomfortable or falling out.\n"
          ]
        }
      ],
      "source": [
        "print(result)"
      ]
    },
    {
      "cell_type": "code",
      "source": [],
      "metadata": {
        "id": "9_EYKQ3xNQf1"
      },
      "execution_count": null,
      "outputs": []
    },
    {
      "cell_type": "code",
      "source": [],
      "metadata": {
        "id": "LDFjGbqKNQml"
      },
      "execution_count": null,
      "outputs": []
    },
    {
      "cell_type": "code",
      "source": [],
      "metadata": {
        "id": "AY8cDH4BNQpE"
      },
      "execution_count": null,
      "outputs": []
    },
    {
      "cell_type": "markdown",
      "source": [
        "reference:  \n",
        "https://www.kaggle.com/code/aravindanr22052001/sentimentanalysis  \n",
        "https://sellesta.ai/blog/amazon-review-sentiment-analysis/  \n",
        "https://www.kaggle.com/code/pchamoli191900/lstm-amazon-reviews  \n",
        "https://www.kaggle.com/code/currie32/summarizing-text-with-amazon-reviews  \n",
        "https://www.kaggle.com/code/singhabhiiitkgp/text-summarization-using-lstm  \n",
        "\n"
      ],
      "metadata": {
        "id": "JidgVtHfOABl"
      }
    }
  ],
  "metadata": {
    "accelerator": "GPU",
    "colab": {
      "provenance": []
    },
    "gpuClass": "standard",
    "kernelspec": {
      "display_name": "Python 3",
      "name": "python3"
    },
    "language_info": {
      "name": "python"
    }
  },
  "nbformat": 4,
  "nbformat_minor": 0
}