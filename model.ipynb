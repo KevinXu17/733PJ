{
 "cells": [
  {
   "cell_type": "markdown",
   "id": "48594f2a-18e6-4cdc-8302-ba8727abe912",
   "metadata": {},
   "source": [
    "# 4 MODEL"
   ]
  },
  {
   "cell_type": "code",
   "execution_count": 47,
   "id": "5fb49ca8-9043-407f-83a9-9f3866f627ee",
   "metadata": {},
   "outputs": [],
   "source": [
    "import os\n",
    "\n",
    "import numpy as np\n",
    "import torch\n",
    "import torch.nn as nn\n",
    "import pandas as pd\n",
    "from sklearn.preprocessing import StandardScaler\n",
    "\n",
    "from nltk.tokenize import word_tokenize\n",
    "from nltk.corpus import stopwords\n",
    "import itertools\n",
    "from nltk.tokenize import sent_tokenize\n",
    "import re\n",
    "import textstat\n",
    "from collections import Counter\n",
    "from sklearn.feature_extraction.text import CountVectorizer\n",
    "\n",
    "from sklearn.model_selection import train_test_split\n",
    "from sklearn.compose import ColumnTransformer\n",
    "from sklearn.impute import SimpleImputer\n",
    "\n",
    "from sklearn.pipeline import Pipeline\n",
    "from sklearn.ensemble import RandomForestClassifier\n",
    "\n",
    "import string\n",
    "from sklearn.preprocessing import FunctionTransformer\n",
    "\n",
    "from sklearn.ensemble import RandomForestClassifier\n",
    "\n",
    "from sklearn.metrics import accuracy_score, confusion_matrix, classification_report\n"
   ]
  },
  {
   "cell_type": "code",
   "execution_count": 48,
   "id": "d07f4055-c5bf-4883-acc1-560e3d180e6c",
   "metadata": {},
   "outputs": [],
   "source": [
    "path = 'data/out.csv'\n",
    "out_data = pd.read_csv(path)"
   ]
  },
  {
   "cell_type": "code",
   "execution_count": 49,
   "id": "921458c2-1b93-4f83-8091-ca09d5199ac8",
   "metadata": {},
   "outputs": [
    {
     "data": {
      "text/html": [
       "<div>\n",
       "<style scoped>\n",
       "    .dataframe tbody tr th:only-of-type {\n",
       "        vertical-align: middle;\n",
       "    }\n",
       "\n",
       "    .dataframe tbody tr th {\n",
       "        vertical-align: top;\n",
       "    }\n",
       "\n",
       "    .dataframe thead th {\n",
       "        text-align: right;\n",
       "    }\n",
       "</style>\n",
       "<table border=\"1\" class=\"dataframe\">\n",
       "  <thead>\n",
       "    <tr style=\"text-align: right;\">\n",
       "      <th></th>\n",
       "      <th>Unnamed: 0</th>\n",
       "      <th>star_rating</th>\n",
       "      <th>vine</th>\n",
       "      <th>verified_purchase</th>\n",
       "      <th>review_date</th>\n",
       "      <th>review</th>\n",
       "      <th>vote_ratio</th>\n",
       "      <th>helpfulness</th>\n",
       "      <th>sentence_count</th>\n",
       "      <th>word_count</th>\n",
       "      <th>ARI</th>\n",
       "      <th>words</th>\n",
       "      <th>words_text</th>\n",
       "    </tr>\n",
       "  </thead>\n",
       "  <tbody>\n",
       "    <tr>\n",
       "      <th>0</th>\n",
       "      <td>414</td>\n",
       "      <td>1</td>\n",
       "      <td>0</td>\n",
       "      <td>1</td>\n",
       "      <td>2015-08-31</td>\n",
       "      <td>Cannot be used with headphones If you plan to ...</td>\n",
       "      <td>0.074074</td>\n",
       "      <td>0</td>\n",
       "      <td>4</td>\n",
       "      <td>32</td>\n",
       "      <td>7.5</td>\n",
       "      <td>['Cannot', 'used', 'headphones', 'plan', 'use'...</td>\n",
       "      <td>Cannot used headphones plan use iPad mini head...</td>\n",
       "    </tr>\n",
       "    <tr>\n",
       "      <th>1</th>\n",
       "      <td>939</td>\n",
       "      <td>1</td>\n",
       "      <td>0</td>\n",
       "      <td>1</td>\n",
       "      <td>2015-08-31</td>\n",
       "      <td>Shorted out after 2 days use Worked for 2 days...</td>\n",
       "      <td>0.050505</td>\n",
       "      <td>0</td>\n",
       "      <td>2</td>\n",
       "      <td>25</td>\n",
       "      <td>11.7</td>\n",
       "      <td>['Shorted', 'days', 'use', 'Worked', 'days', '...</td>\n",
       "      <td>Shorted days use Worked days center phone plug...</td>\n",
       "    </tr>\n",
       "    <tr>\n",
       "      <th>2</th>\n",
       "      <td>1112</td>\n",
       "      <td>1</td>\n",
       "      <td>0</td>\n",
       "      <td>0</td>\n",
       "      <td>2015-08-31</td>\n",
       "      <td>Same performance as a $5 cable I've never seen...</td>\n",
       "      <td>0.633803</td>\n",
       "      <td>0</td>\n",
       "      <td>2</td>\n",
       "      <td>16</td>\n",
       "      <td>6.8</td>\n",
       "      <td>['Same', 'performance', 'cable', 'never', 'see...</td>\n",
       "      <td>Same performance cable never seen many fake st...</td>\n",
       "    </tr>\n",
       "    <tr>\n",
       "      <th>3</th>\n",
       "      <td>1399</td>\n",
       "      <td>3</td>\n",
       "      <td>0</td>\n",
       "      <td>1</td>\n",
       "      <td>2015-08-31</td>\n",
       "      <td>1) It isn't sturdy enough to be used on a keyr...</td>\n",
       "      <td>0.857143</td>\n",
       "      <td>1</td>\n",
       "      <td>5</td>\n",
       "      <td>33</td>\n",
       "      <td>4.1</td>\n",
       "      <td>['sturdy', 'enough', 'used', 'keyring', 'works...</td>\n",
       "      <td>sturdy enough used keyring works drawbacks stu...</td>\n",
       "    </tr>\n",
       "    <tr>\n",
       "      <th>4</th>\n",
       "      <td>1843</td>\n",
       "      <td>3</td>\n",
       "      <td>0</td>\n",
       "      <td>1</td>\n",
       "      <td>2015-08-31</td>\n",
       "      <td>Fan does good job cooling. The fan itself work...</td>\n",
       "      <td>0.777778</td>\n",
       "      <td>0</td>\n",
       "      <td>3</td>\n",
       "      <td>20</td>\n",
       "      <td>4.3</td>\n",
       "      <td>['Fan', 'good', 'job', 'cooling', 'The', 'fan'...</td>\n",
       "      <td>Fan good job cooling The fan works fine honest...</td>\n",
       "    </tr>\n",
       "  </tbody>\n",
       "</table>\n",
       "</div>"
      ],
      "text/plain": [
       "   Unnamed: 0  star_rating  vine  verified_purchase review_date  \\\n",
       "0         414            1     0                  1  2015-08-31   \n",
       "1         939            1     0                  1  2015-08-31   \n",
       "2        1112            1     0                  0  2015-08-31   \n",
       "3        1399            3     0                  1  2015-08-31   \n",
       "4        1843            3     0                  1  2015-08-31   \n",
       "\n",
       "                                              review  vote_ratio  helpfulness  \\\n",
       "0  Cannot be used with headphones If you plan to ...    0.074074            0   \n",
       "1  Shorted out after 2 days use Worked for 2 days...    0.050505            0   \n",
       "2  Same performance as a $5 cable I've never seen...    0.633803            0   \n",
       "3  1) It isn't sturdy enough to be used on a keyr...    0.857143            1   \n",
       "4  Fan does good job cooling. The fan itself work...    0.777778            0   \n",
       "\n",
       "   sentence_count  word_count   ARI  \\\n",
       "0               4          32   7.5   \n",
       "1               2          25  11.7   \n",
       "2               2          16   6.8   \n",
       "3               5          33   4.1   \n",
       "4               3          20   4.3   \n",
       "\n",
       "                                               words  \\\n",
       "0  ['Cannot', 'used', 'headphones', 'plan', 'use'...   \n",
       "1  ['Shorted', 'days', 'use', 'Worked', 'days', '...   \n",
       "2  ['Same', 'performance', 'cable', 'never', 'see...   \n",
       "3  ['sturdy', 'enough', 'used', 'keyring', 'works...   \n",
       "4  ['Fan', 'good', 'job', 'cooling', 'The', 'fan'...   \n",
       "\n",
       "                                          words_text  \n",
       "0  Cannot used headphones plan use iPad mini head...  \n",
       "1  Shorted days use Worked days center phone plug...  \n",
       "2  Same performance cable never seen many fake st...  \n",
       "3  sturdy enough used keyring works drawbacks stu...  \n",
       "4  Fan good job cooling The fan works fine honest...  "
      ]
     },
     "execution_count": 49,
     "metadata": {},
     "output_type": "execute_result"
    }
   ],
   "source": [
    "out_data.head()"
   ]
  },
  {
   "cell_type": "code",
   "execution_count": 50,
   "id": "1be3129a-497e-4a64-9d5f-ae9bdbcc8555",
   "metadata": {},
   "outputs": [],
   "source": [
    "# split data\n",
    "total_len = len(out_data)\n",
    "val_len = round(0.1 * total_len)\n",
    "\n",
    "\n",
    "y = out_data['helpfulness']\n",
    "X = out_data[['star_rating', 'vine', 'verified_purchase', 'words_text', 'sentence_count', 'word_count', 'ARI']]\n",
    "# X = out_data[['star_rating', 'vine', 'verified_purchase', 'review', 'sentence_count', 'word_count', 'ARI',\n",
    "#        'words', 'words_text']]\n",
    "\n",
    "X_train, X_test, y_train, y_test = train_test_split(X, y, test_size=val_len,\n",
    "                                                    random_state=123)"
   ]
  },
  {
   "cell_type": "code",
   "execution_count": 51,
   "id": "15e6b7dc-dd47-40fd-b146-506a8e573ca5",
   "metadata": {},
   "outputs": [],
   "source": [
    "# 'star_rating', 'vine', 'verified_purchase', 'sentence_count', 'word_count', 'ARI'\n",
    "numeric_features = ['star_rating', 'vine', 'verified_purchase', 'sentence_count', 'word_count', 'ARI']\n",
    "\n",
    "numeric_transformer = Pipeline([\n",
    "    ('scaler', StandardScaler())\n",
    "])"
   ]
  },
  {
   "cell_type": "code",
   "execution_count": 52,
   "id": "f77ef9c3-80a1-442f-aa70-917bed070cad",
   "metadata": {},
   "outputs": [],
   "source": [
    "stop_list = stopwords.words('english')\n",
    "stop_list += list(string.punctuation)\n",
    "stop_list += ['br', '.<', '..', '...', '``', \"''\", '--']\n",
    "\n",
    "# 'review'\n",
    "categorical_transformer = Pipeline([\n",
    "    ('vectorizer', CountVectorizer(max_features=5000))\n",
    "])\n",
    "\n",
    "categorical_features = 'words_text'"
   ]
  },
  {
   "cell_type": "code",
   "execution_count": 53,
   "id": "3f5fcec2-3abd-4b9a-b390-0004d67807d8",
   "metadata": {},
   "outputs": [],
   "source": [
    "feature_transformers = [\n",
    "    ('numeric', numeric_transformer, numeric_features),\n",
    "    ('categorical', categorical_transformer, categorical_features)\n",
    "]\n",
    "\n",
    "\n",
    "\n",
    "feature_preprocessor = ColumnTransformer(transformers=feature_transformers,remainder='drop')"
   ]
  },
  {
   "cell_type": "code",
   "execution_count": 54,
   "id": "98444fa9-310a-4830-9012-8596cb533358",
   "metadata": {},
   "outputs": [
    {
     "data": {
      "text/plain": [
       "Pipeline(steps=[('feature_preprocessor',\n",
       "                 ColumnTransformer(transformers=[('numeric',\n",
       "                                                  Pipeline(steps=[('scaler',\n",
       "                                                                   StandardScaler())]),\n",
       "                                                  ['star_rating', 'vine',\n",
       "                                                   'verified_purchase',\n",
       "                                                   'sentence_count',\n",
       "                                                   'word_count', 'ARI']),\n",
       "                                                 ('categorical',\n",
       "                                                  Pipeline(steps=[('vectorizer',\n",
       "                                                                   CountVectorizer(max_features=5000))]),\n",
       "                                                  'words_text')])),\n",
       "                ('forest', RandomForestClassifier(n_jobs=-1))])"
      ]
     },
     "execution_count": 54,
     "metadata": {},
     "output_type": "execute_result"
    }
   ],
   "source": [
    "pipe_bigram_rf = Pipeline([('feature_preprocessor',feature_preprocessor),\n",
    "                        ('forest', RandomForestClassifier(n_estimators=100,\n",
    "                                                          n_jobs=-1))])\n",
    "\n",
    "pipe_bigram_rf.fit(X_train, y_train)"
   ]
  },
  {
   "cell_type": "code",
   "execution_count": null,
   "id": "d021e404-31d3-4e37-8f0f-202e4b13a479",
   "metadata": {},
   "outputs": [],
   "source": []
  },
  {
   "cell_type": "code",
   "execution_count": 55,
   "id": "9576d6df-c1f0-4207-a4fb-16500179a64f",
   "metadata": {},
   "outputs": [
    {
     "name": "stdout",
     "output_type": "stream",
     "text": [
      "Validation accuracy: 0.8234990981705745\n"
     ]
    }
   ],
   "source": [
    "y_pred_test = pipe_bigram_rf.predict(X_test)\n",
    "print('Validation accuracy:', accuracy_score(y_test, y_pred_test))"
   ]
  },
  {
   "cell_type": "code",
   "execution_count": 56,
   "id": "190eb9fb-2b09-4ab3-bd71-678cf2b20e4e",
   "metadata": {},
   "outputs": [
    {
     "name": "stdout",
     "output_type": "stream",
     "text": [
      "              precision    recall  f1-score   support\n",
      "\n",
      "           0       0.78      0.37      0.50       933\n",
      "           1       0.83      0.97      0.89      2948\n",
      "\n",
      "    accuracy                           0.82      3881\n",
      "   macro avg       0.80      0.67      0.70      3881\n",
      "weighted avg       0.82      0.82      0.80      3881\n",
      "\n"
     ]
    }
   ],
   "source": [
    "print(classification_report(y_test, y_pred_test))"
   ]
  },
  {
   "cell_type": "code",
   "execution_count": null,
   "id": "0797861a-f3e5-4e48-9148-9b853b3b1855",
   "metadata": {},
   "outputs": [],
   "source": []
  },
  {
   "cell_type": "code",
   "execution_count": null,
   "id": "90c9bd6e-548f-4a48-8239-e995a63192d7",
   "metadata": {},
   "outputs": [],
   "source": []
  },
  {
   "cell_type": "code",
   "execution_count": null,
   "id": "0a4f27f9-8140-4a6d-be97-67e51e89d6aa",
   "metadata": {},
   "outputs": [],
   "source": []
  },
  {
   "cell_type": "code",
   "execution_count": null,
   "id": "9d824fad-9795-43ae-9ed0-21625948b405",
   "metadata": {},
   "outputs": [],
   "source": []
  }
 ],
 "metadata": {
  "kernelspec": {
   "display_name": "Python 3 (ipykernel)",
   "language": "python",
   "name": "python3"
  },
  "language_info": {
   "codemirror_mode": {
    "name": "ipython",
    "version": 3
   },
   "file_extension": ".py",
   "mimetype": "text/x-python",
   "name": "python",
   "nbconvert_exporter": "python",
   "pygments_lexer": "ipython3",
   "version": "3.8.15"
  },
  "widgets": {
   "application/vnd.jupyter.widget-state+json": {
    "state": {},
    "version_major": 2,
    "version_minor": 0
   }
  }
 },
 "nbformat": 4,
 "nbformat_minor": 5
}
