{
 "cells": [
  {
   "cell_type": "markdown",
   "id": "e538e162",
   "metadata": {},
   "source": [
    "# 4 MODEL"
   ]
  },
  {
   "cell_type": "code",
   "execution_count": 1,
   "id": "4be1b6fa",
   "metadata": {},
   "outputs": [],
   "source": [
    "import os\n",
    "\n",
    "import numpy as np\n",
    "import torch\n",
    "import torch.nn as nn\n",
    "import pandas as pd\n",
    "from sklearn.preprocessing import StandardScaler\n",
    "\n",
    "from nltk.tokenize import word_tokenize\n",
    "from nltk.corpus import stopwords\n",
    "import itertools\n",
    "from nltk.tokenize import sent_tokenize\n",
    "import re\n",
    "import textstat\n",
    "from collections import Counter\n",
    "from sklearn.feature_extraction.text import CountVectorizer\n",
    "\n",
    "from sklearn.model_selection import train_test_split\n",
    "from sklearn.compose import ColumnTransformer\n",
    "from sklearn.impute import SimpleImputer\n",
    "\n",
    "from sklearn.pipeline import Pipeline\n",
    "from sklearn.ensemble import RandomForestClassifier\n",
    "\n",
    "import string\n",
    "from sklearn.preprocessing import FunctionTransformer\n",
    "\n",
    "from sklearn.ensemble import RandomForestClassifier\n",
    "\n",
    "from sklearn.metrics import accuracy_score, confusion_matrix, classification_report\n",
    "from sklearn.metrics import confusion_matrix\n",
    "\n",
    "import matplotlib.pyplot as plt\n",
    "import seaborn as sns"
   ]
  },
  {
   "cell_type": "code",
   "execution_count": 2,
   "id": "b1268081",
   "metadata": {},
   "outputs": [],
   "source": [
    "path = 'data/out.csv'\n",
    "out_data = pd.read_csv(path)"
   ]
  },
  {
   "cell_type": "code",
   "execution_count": 3,
   "id": "1d376438-fa4a-4cb6-a5ed-5cb0c573c486",
   "metadata": {},
   "outputs": [
    {
     "data": {
      "text/plain": [
       "(38752, 9)"
      ]
     },
     "execution_count": 3,
     "metadata": {},
     "output_type": "execute_result"
    }
   ],
   "source": [
    "out_data.shape"
   ]
  },
  {
   "cell_type": "code",
   "execution_count": 4,
   "id": "62dcb114-212d-4a7f-b345-ce6753aa9284",
   "metadata": {},
   "outputs": [
    {
     "data": {
      "text/plain": [
       "1    29479\n",
       "0     9273\n",
       "Name: helpfulness, dtype: int64"
      ]
     },
     "execution_count": 4,
     "metadata": {},
     "output_type": "execute_result"
    }
   ],
   "source": [
    "out_data.helpfulness.value_counts()"
   ]
  },
  {
   "cell_type": "markdown",
   "id": "21e830a0-7e20-4130-a39f-dcf487fa42c3",
   "metadata": {},
   "source": [
    "Resampling strategies for imbalanced datasets"
   ]
  },
  {
   "cell_type": "code",
   "execution_count": 5,
   "id": "8e404d91-2fb9-47a0-a418-7b0fd22b7b66",
   "metadata": {},
   "outputs": [],
   "source": [
    "#count_helpful, count_notHelpful = out_data.helpfulness.value_counts()"
   ]
  },
  {
   "cell_type": "code",
   "execution_count": 6,
   "id": "1c0da21c-6792-4db6-98f3-df3de5f3fde9",
   "metadata": {},
   "outputs": [],
   "source": [
    "# df_helpful = out_data[out_data['helpfulness'] == 1]\n",
    "# df_notHelpful = out_data[out_data['helpfulness'] == 0]\n",
    "# df_helpful_under = df_helpful.sample(count_notHelpful * 2)\n",
    "# out_data = pd.concat([df_helpful_under, df_notHelpful], axis=0)\n",
    "# out_data.head()\n",
    "# out_data.helpfulness.value_counts()"
   ]
  },
  {
   "cell_type": "code",
   "execution_count": null,
   "id": "ae92d386-9dab-459d-8f61-2fcd9198bb2b",
   "metadata": {},
   "outputs": [],
   "source": []
  },
  {
   "cell_type": "code",
   "execution_count": 7,
   "id": "6f870d23-3fca-477a-bfb4-a024f065349c",
   "metadata": {},
   "outputs": [],
   "source": [
    "# split data\n",
    "total_len = len(out_data)\n",
    "val_len = round(0.15 * total_len)\n",
    "\n",
    "\n",
    "y = out_data['helpfulness']\n",
    "X = out_data[['star_rating', 'vine', 'verified_purchase', 'words_text', 'sentence_count', 'word_count', 'ARI']]\n",
    "# X = out_data[['star_rating', 'vine', 'verified_purchase', 'review', 'sentence_count', 'word_count', 'ARI',\n",
    "#        'words', 'words_text']]\n",
    "\n",
    "X_train, X_test, y_train, y_test = train_test_split(X, y, test_size=val_len, stratify=y,\n",
    "                                                    random_state=123)"
   ]
  },
  {
   "cell_type": "code",
   "execution_count": 8,
   "id": "b99739bd-1ba4-4ab9-b715-749e9d5a7f4c",
   "metadata": {
    "tags": []
   },
   "outputs": [
    {
     "name": "stdout",
     "output_type": "stream",
     "text": [
      "(32939, 7)\n",
      "(5813, 7)\n"
     ]
    }
   ],
   "source": [
    "print(X_train.shape)\n",
    "print(X_test.shape)"
   ]
  },
  {
   "cell_type": "code",
   "execution_count": 9,
   "id": "a1212e7c",
   "metadata": {},
   "outputs": [],
   "source": [
    "# 'star_rating', 'vine', 'verified_purchase', 'sentence_count', 'word_count', 'ARI'\n",
    "numeric_features = ['star_rating', 'vine', 'verified_purchase', 'sentence_count', 'word_count', 'ARI']\n",
    "\n",
    "numeric_transformer = Pipeline([\n",
    "    ('scaler', StandardScaler())\n",
    "])"
   ]
  },
  {
   "cell_type": "code",
   "execution_count": 10,
   "id": "3dcd4b51",
   "metadata": {},
   "outputs": [],
   "source": [
    "stop_list = stopwords.words('english')\n",
    "stop_list += list(string.punctuation)\n",
    "stop_list += ['br', '.<', '..', '...', '``', \"''\", '--']\n",
    "\n",
    "# 'review'\n",
    "categorical_transformer = Pipeline([\n",
    "    ('vectorizer', CountVectorizer(max_features=5000, stop_words='english'))\n",
    "])\n",
    "\n",
    "categorical_features = 'words_text'"
   ]
  },
  {
   "cell_type": "code",
   "execution_count": 11,
   "id": "6fea09b3",
   "metadata": {},
   "outputs": [],
   "source": [
    "feature_transformers = [\n",
    "    ('numeric', numeric_transformer, numeric_features),\n",
    "    ('categorical', categorical_transformer, categorical_features)\n",
    "]\n",
    "\n",
    "\n",
    "\n",
    "feature_preprocessor = ColumnTransformer(transformers=feature_transformers,remainder='drop')"
   ]
  },
  {
   "cell_type": "code",
   "execution_count": 12,
   "id": "222f12d0-035f-477c-9cff-e9e8c7bcb57b",
   "metadata": {},
   "outputs": [
    {
     "data": {
      "text/plain": [
       "Pipeline(steps=[('feature_preprocessor',\n",
       "                 ColumnTransformer(transformers=[('numeric',\n",
       "                                                  Pipeline(steps=[('scaler',\n",
       "                                                                   StandardScaler())]),\n",
       "                                                  ['star_rating', 'vine',\n",
       "                                                   'verified_purchase',\n",
       "                                                   'sentence_count',\n",
       "                                                   'word_count', 'ARI']),\n",
       "                                                 ('categorical',\n",
       "                                                  Pipeline(steps=[('vectorizer',\n",
       "                                                                   CountVectorizer(max_features=5000,\n",
       "                                                                                   stop_words='english'))]),\n",
       "                                                  'words_text')])),\n",
       "                ('forest', RandomForestClassifier(n_estimators=10, n_jobs=-1))])"
      ]
     },
     "execution_count": 12,
     "metadata": {},
     "output_type": "execute_result"
    }
   ],
   "source": [
    "fp_rf = Pipeline([('feature_preprocessor',feature_preprocessor),\n",
    "                        ('forest', RandomForestClassifier(n_estimators=10,\n",
    "                                                          n_jobs=-1))])\n",
    "\n",
    "fp_rf.fit(X_train, y_train)"
   ]
  },
  {
   "cell_type": "code",
   "execution_count": 13,
   "id": "5c79d7be",
   "metadata": {},
   "outputs": [
    {
     "name": "stdout",
     "output_type": "stream",
     "text": [
      "Validation accuracy: 0.8150696714261139\n"
     ]
    },
    {
     "data": {
      "text/plain": [
       "0.9933513464282462"
      ]
     },
     "execution_count": 13,
     "metadata": {},
     "output_type": "execute_result"
    }
   ],
   "source": [
    "y_pred_test = fp_rf.predict(X_test)\n",
    "print('Validation accuracy:', accuracy_score(y_test, y_pred_test))\n",
    "fp_rf.score(X_train, y_train)"
   ]
  },
  {
   "cell_type": "code",
   "execution_count": 14,
   "id": "20b239f3",
   "metadata": {},
   "outputs": [
    {
     "name": "stdout",
     "output_type": "stream",
     "text": [
      "              precision    recall  f1-score   support\n",
      "\n",
      "           0       0.67      0.45      0.54      1391\n",
      "           1       0.84      0.93      0.88      4422\n",
      "\n",
      "    accuracy                           0.82      5813\n",
      "   macro avg       0.76      0.69      0.71      5813\n",
      "weighted avg       0.80      0.82      0.80      5813\n",
      "\n"
     ]
    }
   ],
   "source": [
    "print(classification_report(y_test, y_pred_test))"
   ]
  },
  {
   "cell_type": "code",
   "execution_count": 15,
   "id": "5764cc66",
   "metadata": {},
   "outputs": [
    {
     "data": {
      "text/plain": [
       "[Text(0.5, 23.52222222222222, 'Predicted'),\n",
       " Text(113.9222222222222, 0.5, 'Actual')]"
      ]
     },
     "execution_count": 15,
     "metadata": {},
     "output_type": "execute_result"
    },
    {
     "data": {
      "image/png": "[encoded data removed]",
      "text/plain": [
       "<Figure size 640x480 with 1 Axes>"
      ]
     },
     "metadata": {},
     "output_type": "display_data"
    }
   ],
   "source": [
    "cm = confusion_matrix(y_test, y_pred_test)\n",
    "# Plotting the Confusion Matrix for easy understanding\n",
    "ax = plt.axes()\n",
    "sns.heatmap(cm, \n",
    "            annot=True, # Show values of each cell in the heatmap\n",
    "            fmt=\"1.0f\", # or \"d\"\n",
    "            cmap=\"YlGnBu\", # color range of the heatmap\n",
    "            linecolor='white', # plot cell border\n",
    "            linewidths=0.1, # width of border\n",
    "            cbar=False, # hide range bar\n",
    "            square=True) # Make the Confusion Matrix Look like a square\n",
    "ax.set_title('Confusion Matrix of RFT Classificaftion - Default Parameter Base Model')\n",
    "ax.set(xlabel='Predicted', ylabel='Actual') # Change X and Y axis labe"
   ]
  },
  {
   "cell_type": "markdown",
   "id": "31d46c53",
   "metadata": {
    "tags": []
   },
   "source": [
    "# MLP"
   ]
  },
  {
   "cell_type": "code",
   "execution_count": null,
   "id": "48f7640c-af01-4ced-883c-0e15cb2719de",
   "metadata": {},
   "outputs": [],
   "source": []
  },
  {
   "cell_type": "code",
   "execution_count": 16,
   "id": "8d631ee0-97a4-47d1-ae22-05dc8e85001c",
   "metadata": {
    "tags": []
   },
   "outputs": [],
   "source": [
    "from sklearn.neural_network import MLPClassifier\n",
    "from sklearn.metrics import accuracy_score\n",
    "from sklearn.metrics import ConfusionMatrixDisplay\n",
    "from sklearn.metrics import classification_report\n",
    "\n",
    "from sklearn.model_selection import GridSearchCV, RandomizedSearchCV\n",
    "\n",
    "\n",
    "# mlp = MLPClassifier(\n",
    "#     hidden_layer_sizes=(32, 16, 8), \n",
    "#     max_iter=30,\n",
    "#     activation = 'logistic',\n",
    "#     solver='adam',\n",
    "#     # random_state=123,\n",
    "#     #alpha= 0.0005,\n",
    "#     early_stopping=True,\n",
    "#     learning_rate = 'adaptive'\n",
    "# )\n",
    "\n",
    "# param_grid = {\n",
    "#     #'mlpc__hidden_layer_sizes': [ (64,), (32,), (16,)],\n",
    "#     #'mlpc__max_iter': [10, 20, 15],\n",
    "#     #'mlpc__activation': ['relu', 'logistic'],\n",
    "#     #'mlpc__solver': ['sgd', 'adam'],\n",
    "#     #'mlpc__alpha': [0.0001, 0.0005, 0.0008],\n",
    "#     #'mlpc__learning_rate': ['constant','adaptive']\n",
    "# }\n",
    "\n",
    "# grid = GridSearchCV(mlp, param_grid, n_jobs= -1, cv=5)\n",
    "# pipe = Pipeline([('feature_preprocessor',feature_preprocessor),\n",
    "#                         ('mlpc', mlp)])\n",
    "# cv_search = RandomizedSearchCV(pipe, param_grid, cv=2, verbose=1,n_jobs=-1)\n",
    "# cv_search.fit(X_train, y_train)\n",
    "# print(cv_search.score(X_train, y_train))\n",
    "# print(cv_search.score(X_test, y_test))"
   ]
  },
  {
   "cell_type": "code",
   "execution_count": 17,
   "id": "be60618b-fa32-47ae-b91e-7562fd451fd3",
   "metadata": {},
   "outputs": [],
   "source": [
    "#cv_search.best_params_"
   ]
  },
  {
   "cell_type": "code",
   "execution_count": 18,
   "id": "93121a16-1362-4a2c-a09a-ae7516d37456",
   "metadata": {
    "tags": []
   },
   "outputs": [],
   "source": [
    "#cv_search.best_score_"
   ]
  },
  {
   "cell_type": "code",
   "execution_count": 19,
   "id": "94b7db3e-e350-4369-b4e0-39134780133e",
   "metadata": {
    "tags": []
   },
   "outputs": [],
   "source": [
    "#y_pred_test = cv_search.predict(X_test)"
   ]
  },
  {
   "cell_type": "code",
   "execution_count": 20,
   "id": "15ca65cd-97e5-4ce1-8880-703c9ddede95",
   "metadata": {
    "tags": []
   },
   "outputs": [],
   "source": [
    "# cm = confusion_matrix(y_test, y_pred_test)\n",
    "# # Plotting the Confusion Matrix for easy understanding\n",
    "# ax = plt.axes()\n",
    "# sns.heatmap(cm, \n",
    "#             annot=True, # Show values of each cell in the heatmap\n",
    "#             fmt=\"1.0f\", # or \"d\"\n",
    "#             cmap=\"YlGnBu\", # color range of the heatmap\n",
    "#             linecolor='white', # plot cell border\n",
    "#             linewidths=0.1, # width of border\n",
    "#             cbar=False, # hide range bar\n",
    "#             square=True) # Make the Confusion Matrix Look like a square\n",
    "# ax.set_title('Confusion Matrix of Support Vector Machine Classificaftion - Default Parameter Base Model')\n",
    "# ax.set(xlabel='Predicted', ylabel='Actual') # Change X and Y axis labe"
   ]
  },
  {
   "cell_type": "code",
   "execution_count": 21,
   "id": "d9f1524d-b33a-4a2e-86d9-55875b67c123",
   "metadata": {
    "tags": []
   },
   "outputs": [],
   "source": [
    "#print(cv_search.score(X_test, y_test))"
   ]
  },
  {
   "cell_type": "markdown",
   "id": "c57e4cbc-b987-413b-8c02-9a0f8d72cf7e",
   "metadata": {},
   "source": [
    "# PIPE BELOW && GRID SEARCH ABOVE"
   ]
  },
  {
   "cell_type": "code",
   "execution_count": 22,
   "id": "5863be30-4473-4a70-a9c7-3391be824648",
   "metadata": {},
   "outputs": [],
   "source": [
    "\n",
    "mlp = MLPClassifier(\n",
    "    hidden_layer_sizes=(256, 128,), \n",
    "    max_iter=50,\n",
    "    activation = 'relu',\n",
    "    solver='adam',\n",
    "    random_state=123,\n",
    "    #alpha= 0.0005,\n",
    "    early_stopping=True,\n",
    "    learning_rate = 'adaptive'\n",
    ")\n",
    "pipe = Pipeline(steps=[('pre',feature_preprocessor),('mlpc', mlp)])"
   ]
  },
  {
   "cell_type": "code",
   "execution_count": 23,
   "id": "c2f8e1ff",
   "metadata": {
    "tags": []
   },
   "outputs": [
    {
     "data": {
      "text/plain": [
       "Pipeline(steps=[('pre',\n",
       "                 ColumnTransformer(transformers=[('numeric',\n",
       "                                                  Pipeline(steps=[('scaler',\n",
       "                                                                   StandardScaler())]),\n",
       "                                                  ['star_rating', 'vine',\n",
       "                                                   'verified_purchase',\n",
       "                                                   'sentence_count',\n",
       "                                                   'word_count', 'ARI']),\n",
       "                                                 ('categorical',\n",
       "                                                  Pipeline(steps=[('vectorizer',\n",
       "                                                                   CountVectorizer(max_features=5000,\n",
       "                                                                                   stop_words='english'))]),\n",
       "                                                  'words_text')])),\n",
       "                ('mlpc',\n",
       "                 MLPClassifier(early_stopping=True,\n",
       "                               hidden_layer_sizes=(256, 128),\n",
       "                               learning_rate='adaptive', max_iter=50,\n",
       "                               random_state=123))])"
      ]
     },
     "execution_count": 23,
     "metadata": {},
     "output_type": "execute_result"
    }
   ],
   "source": [
    "pipe.fit(X_train, y_train)"
   ]
  },
  {
   "cell_type": "code",
   "execution_count": 24,
   "id": "ed57761f",
   "metadata": {},
   "outputs": [
    {
     "data": {
      "text/plain": [
       "0.8549802167555479"
      ]
     },
     "execution_count": 24,
     "metadata": {},
     "output_type": "execute_result"
    }
   ],
   "source": [
    "pipe.score(X_test,y_test)"
   ]
  },
  {
   "cell_type": "code",
   "execution_count": 25,
   "id": "b339157e",
   "metadata": {
    "tags": []
   },
   "outputs": [
    {
     "data": {
      "text/plain": [
       "0.8766204195634354"
      ]
     },
     "execution_count": 25,
     "metadata": {},
     "output_type": "execute_result"
    }
   ],
   "source": [
    "pipe.score(X_train, y_train)"
   ]
  },
  {
   "cell_type": "code",
   "execution_count": 26,
   "id": "afca00f4",
   "metadata": {},
   "outputs": [],
   "source": [
    "y_pred_test = pipe.predict(X_test)"
   ]
  },
  {
   "cell_type": "code",
   "execution_count": 27,
   "id": "bf36c0db",
   "metadata": {},
   "outputs": [
    {
     "data": {
      "text/plain": [
       "[Text(0.5, 23.52222222222222, 'Predicted'),\n",
       " Text(113.9222222222222, 0.5, 'Actual')]"
      ]
     },
     "execution_count": 27,
     "metadata": {},
     "output_type": "execute_result"
    },
    {
     "data": {
      "image/png": "[encoded data removed]",
      "text/plain": [
       "<Figure size 640x480 with 1 Axes>"
      ]
     },
     "metadata": {},
     "output_type": "display_data"
    }
   ],
   "source": [
    "cm = confusion_matrix(y_test, y_pred_test)\n",
    "# Plotting the Confusion Matrix for easy understanding\n",
    "ax = plt.axes()\n",
    "sns.heatmap(cm, \n",
    "            annot=True, # Show values of each cell in the heatmap\n",
    "            fmt=\"1.0f\", # or \"d\"\n",
    "            cmap=\"YlGnBu\", # color range of the heatmap\n",
    "            linecolor='white', # plot cell border\n",
    "            linewidths=0.1, # width of border\n",
    "            cbar=False, # hide range bar\n",
    "            square=True) # Make the Confusion Matrix Look like a square\n",
    "ax.set_title('Confusion Matrix of MLP Classificaftion - After hyperparameters tuning')\n",
    "ax.set(xlabel='Predicted', ylabel='Actual') # Change X and Y axis labe"
   ]
  },
  {
   "cell_type": "code",
   "execution_count": null,
   "id": "e738b8f9",
   "metadata": {},
   "outputs": [],
   "source": []
  },
  {
   "cell_type": "code",
   "execution_count": null,
   "id": "eae0cf7b-4b4c-4bad-8f7d-9260a12f40bd",
   "metadata": {},
   "outputs": [],
   "source": []
  },
  {
   "cell_type": "code",
   "execution_count": null,
   "id": "89f31738-7f42-488c-afce-0420f58ade62",
   "metadata": {},
   "outputs": [],
   "source": []
  }
 ],
 "metadata": {
  "kernelspec": {
   "display_name": "Python 3 (ipykernel)",
   "language": "python",
   "name": "python3"
  },
  "language_info": {
   "codemirror_mode": {
    "name": "ipython",
    "version": 3
   },
   "file_extension": ".py",
   "mimetype": "text/x-python",
   "name": "python",
   "nbconvert_exporter": "python",
   "pygments_lexer": "ipython3",
   "version": "3.8.15"
  },
  "widgets": {
   "application/vnd.jupyter.widget-state+json": {
    "state": {},
    "version_major": 2,
    "version_minor": 0
   }
  }
 },
 "nbformat": 4,
 "nbformat_minor": 5
}
