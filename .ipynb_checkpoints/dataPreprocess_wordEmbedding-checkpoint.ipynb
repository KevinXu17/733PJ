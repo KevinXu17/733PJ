{
 "cells": [
  {
   "cell_type": "code",
   "execution_count": 4,
   "id": "e9228dfc-2119-441f-b765-49ab375c4e9f",
   "metadata": {},
   "outputs": [
    {
     "name": "stderr",
     "output_type": "stream",
     "text": [
      "2023-04-09 10:35:38.152307: I tensorflow/core/platform/cpu_feature_guard.cc:182] This TensorFlow binary is optimized to use available CPU instructions in performance-critical operations.\n",
      "To enable the following instructions: AVX2 FMA, in other operations, rebuild TensorFlow with the appropriate compiler flags.\n",
      "[nltk_data] Downloading package punkt to /Users/kevinxu/nltk_data...\n",
      "[nltk_data]   Package punkt is already up-to-date!\n",
      "[nltk_data] Downloading package stopwords to\n",
      "[nltk_data]     /Users/kevinxu/nltk_data...\n",
      "[nltk_data]   Package stopwords is already up-to-date!\n",
      "[nltk_data] Downloading package wordnet to /Users/kevinxu/nltk_data...\n",
      "[nltk_data]   Package wordnet is already up-to-date!\n",
      "[nltk_data] Downloading package omw-1.4 to /Users/kevinxu/nltk_data...\n",
      "[nltk_data]   Package omw-1.4 is already up-to-date!\n"
     ]
    }
   ],
   "source": [
    "import os\n",
    "\n",
    "import numpy as np\n",
    "import torch\n",
    "import torch.nn as nn\n",
    "import pandas as pd\n",
    "from sklearn.preprocessing import StandardScaler\n",
    "from torch.utils.data import Dataset, DataLoader\n",
    "import seaborn as sns\n",
    "\n",
    "import matplotlib.pyplot as plt\n",
    "import seaborn as sns\n",
    "import nltk\n",
    "from nltk.stem import WordNetLemmatizer\n",
    "from nltk.stem import SnowballStemmer\n",
    "snowball_stemmer = SnowballStemmer(\"english\")\n",
    "from nltk import FreqDist\n",
    "import spacy\n",
    "\n",
    "from nltk.tokenize import word_tokenize\n",
    "from nltk.corpus import stopwords\n",
    "import itertools\n",
    "from nltk.tokenize import sent_tokenize\n",
    "import re\n",
    "import textstat\n",
    "from collections import Counter\n",
    "from sklearn.feature_extraction.text import CountVectorizer\n",
    "nltk.download('punkt')\n",
    "nltk.download('stopwords')\n",
    "nltk.download('wordnet')\n",
    "nltk.download('omw-1.4')\n",
    "\n",
    "from sklearn.model_selection import train_test_split\n",
    "from sklearn.compose import ColumnTransformer\n",
    "from sklearn.impute import SimpleImputer"
   ]
  },
  {
   "cell_type": "code",
   "execution_count": 5,
   "id": "ea4716ed-6a7f-45d9-990b-c61d7f8f429f",
   "metadata": {},
   "outputs": [],
   "source": [
    "path = 'rawdata/PC.tsv.gz'\n",
    "raw_df = pd.read_csv(path,sep='\\t', on_bad_lines='skip')"
   ]
  },
  {
   "cell_type": "markdown",
   "id": "1f52ce4b-df2e-440f-af3f-14d16a81bf66",
   "metadata": {
    "tags": []
   },
   "source": [
    "# 1 Preprocessing"
   ]
  },
  {
   "cell_type": "code",
   "execution_count": 22,
   "id": "58012b59-658c-46c1-bf80-6738daaa22d1",
   "metadata": {
    "tags": []
   },
   "outputs": [],
   "source": [
    "# 1.1 only get total_votes >= 50\n",
    "df = raw_df[raw_df['total_votes'] >= 40]"
   ]
  },
  {
   "cell_type": "code",
   "execution_count": 23,
   "id": "7332aba1-5618-4063-a669-9158e1b4186d",
   "metadata": {},
   "outputs": [
    {
     "data": {
      "text/plain": [
       "(38814, 16)"
      ]
     },
     "execution_count": 23,
     "metadata": {},
     "output_type": "execute_result"
    }
   ],
   "source": [
    "df.shape"
   ]
  },
  {
   "cell_type": "code",
   "execution_count": 24,
   "id": "132aa7df-0a29-4bc5-a51b-bfe552dc358f",
   "metadata": {},
   "outputs": [
    {
     "data": {
      "text/plain": [
       "['marketplace',\n",
       " 'customer_id',\n",
       " 'review_id',\n",
       " 'product_id',\n",
       " 'product_parent',\n",
       " 'product_title',\n",
       " 'product_category',\n",
       " 'star_rating',\n",
       " 'helpful_votes',\n",
       " 'total_votes',\n",
       " 'vine',\n",
       " 'verified_purchase',\n",
       " 'review_headline',\n",
       " 'review_body',\n",
       " 'review_date',\n",
       " 'year']"
      ]
     },
     "execution_count": 24,
     "metadata": {},
     "output_type": "execute_result"
    }
   ],
   "source": [
    "df.columns.tolist()"
   ]
  },
  {
   "cell_type": "code",
   "execution_count": 25,
   "id": "ab796f93-1b63-4247-acd5-04e7c300aa2a",
   "metadata": {},
   "outputs": [
    {
     "data": {
      "text/plain": [
       "marketplace           object\n",
       "customer_id            int64\n",
       "review_id             object\n",
       "product_id            object\n",
       "product_parent         int64\n",
       "product_title         object\n",
       "product_category      object\n",
       "star_rating            int64\n",
       "helpful_votes          int64\n",
       "total_votes            int64\n",
       "vine                  object\n",
       "verified_purchase     object\n",
       "review_headline       object\n",
       "review_body           object\n",
       "review_date           object\n",
       "year                 float64\n",
       "dtype: object"
      ]
     },
     "execution_count": 25,
     "metadata": {},
     "output_type": "execute_result"
    }
   ],
   "source": [
    "df.dtypes"
   ]
  },
  {
   "cell_type": "code",
   "execution_count": 26,
   "id": "5ca2d0d4-c288-4ed3-aab0-45df6b397a2e",
   "metadata": {},
   "outputs": [],
   "source": [
    "# 1.2 Removing Nulls & duplicate\n",
    "df.isnull().sum()\n",
    "df = df.dropna()\n"
   ]
  },
  {
   "cell_type": "code",
   "execution_count": 27,
   "id": "81ea8c76-6d4a-4aef-9aab-30d566a3bdbc",
   "metadata": {},
   "outputs": [],
   "source": [
    "# 1.3 Preparing columns\n",
    "# review\n",
    "df['review'] = df['review_headline'] + \" \" + df['review_body']\n",
    "df=df.drop(['review_headline', 'review_body'], axis=1)\n",
    "df = df.drop_duplicates(subset=['review'])"
   ]
  },
  {
   "cell_type": "code",
   "execution_count": 28,
   "id": "3c938273-88b8-40d5-b97e-3ea5b45b5691",
   "metadata": {},
   "outputs": [],
   "source": [
    "# review_date type\n",
    "# df['review_date'] =  pd.to_datetime(df['unixReviewTime'],unit='s')"
   ]
  },
  {
   "cell_type": "code",
   "execution_count": 29,
   "id": "3a6b1008-375b-4f14-9b0e-7196e50e41b0",
   "metadata": {
    "tags": []
   },
   "outputs": [],
   "source": [
    "# vote ratio  => label\n",
    "df['vote_ratio'] = df['helpful_votes'] / df['total_votes']\n",
    "df=df.drop(['helpful_votes', 'total_votes'], axis=1)"
   ]
  },
  {
   "cell_type": "code",
   "execution_count": 30,
   "id": "d76b2eea-0e84-41d0-a5c3-f05698b8a2d1",
   "metadata": {
    "tags": []
   },
   "outputs": [],
   "source": [
    "threshold = 0.8\n",
    "df['helpfulness'] = [1 if x >= threshold else 0 for x in df['vote_ratio']]"
   ]
  },
  {
   "cell_type": "code",
   "execution_count": 31,
   "id": "9171ef7c-5275-4951-ae52-599ae3027861",
   "metadata": {
    "tags": []
   },
   "outputs": [],
   "source": [
    "# verified purchase to 1 0\n",
    "df['verified_purchase'] = [1 if x == 'Y' else 0 for x in df['verified_purchase']]"
   ]
  },
  {
   "cell_type": "code",
   "execution_count": null,
   "id": "91ab4fdd-ff66-4a41-ac4f-247c0df62bb0",
   "metadata": {
    "tags": []
   },
   "outputs": [],
   "source": []
  },
  {
   "cell_type": "code",
   "execution_count": 32,
   "id": "c94911c2-9b29-4fd3-8e48-0d9025231afe",
   "metadata": {},
   "outputs": [],
   "source": [
    "# verified purchase to 1 0\n",
    "df['vine'] = [1 if x == 'Y' else 0 for x in df['vine']]"
   ]
  },
  {
   "cell_type": "code",
   "execution_count": 33,
   "id": "d41ada54-6edd-41f9-9005-ab6f1d942e96",
   "metadata": {},
   "outputs": [],
   "source": [
    "# sentence tokenize\n",
    "df['sentence_count'] = df.apply(lambda row: sent_tokenize(row['review']), axis=1).apply(lambda x: len(x))"
   ]
  },
  {
   "cell_type": "code",
   "execution_count": null,
   "id": "d8a3a6bc-d038-4488-807b-5b82dcf95c18",
   "metadata": {},
   "outputs": [],
   "source": []
  },
  {
   "cell_type": "code",
   "execution_count": 42,
   "id": "f61a5334-8a6e-42a8-b961-01ee9e68b9b3",
   "metadata": {},
   "outputs": [
    {
     "data": {
      "text/plain": [
       "414     Cannot used headphones If plan use iPad mini h...\n",
       "939     Shorted 2 days use Worked 2 days center phone ...\n",
       "1112    Same performance $5 cable I've never seen many...\n",
       "1399    1) It sturdy enough used keyring It works 2 dr...\n",
       "1843    Fan good job cooling. The fan works fine, I'll...\n",
       "Name: words, dtype: object"
      ]
     },
     "execution_count": 42,
     "metadata": {},
     "output_type": "execute_result"
    }
   ],
   "source": [
    "# word count\n",
    "punct_remover = str.maketrans('','', '!\"#$%&\\'()*+,-./:;<=>?@[\\\\]^_`{|}~')\n",
    "## remove num with word, punctuaction, stopword\n",
    "# def extract_words(sentence):\n",
    "#     sentence_nodigits = re.sub(\"\\d+\", \"\", sentence)\n",
    "#     words = re.sub(\"[^\\w]\", \" \",  sentence_nodigits).split()\n",
    "#     words_punct = [w.translate(punct_remover) for w in words]\n",
    "#     # words_stop = [w for w in words_punct if w not in stopwords.words('english')]\n",
    "#     # words_len = [word for word in words_stop if len(word) > 2]\n",
    "#     return words_len\n",
    "\n",
    "# df['words'] = [extract_words(x) for x in df['review']]\n",
    "# df['word_count'] = [len(x) for x in df['words']]\n",
    "\n",
    "df['words'] = df['review'].apply(lambda x: ' '.join([item for item in x.split() if item not in stopwords.words('english')]))\n",
    "df['words'].head(5)"
   ]
  },
  {
   "cell_type": "code",
   "execution_count": null,
   "id": "25267596-88c1-4b57-af96-627436d0436d",
   "metadata": {},
   "outputs": [],
   "source": []
  },
  {
   "cell_type": "code",
   "execution_count": null,
   "id": "89ed4e12-80a2-44ca-9165-74701ec2486e",
   "metadata": {},
   "outputs": [],
   "source": [
    "# Automated Readability Index (ARI)\n",
    "df['ARI'] = [textstat.automated_readability_index(x) for x in df['review']]"
   ]
  },
  {
   "cell_type": "code",
   "execution_count": null,
   "id": "86987871-c58f-49c3-a3fe-94cd5ed64901",
   "metadata": {},
   "outputs": [],
   "source": []
  },
  {
   "cell_type": "code",
   "execution_count": null,
   "id": "bee591f5-d07b-4497-99a8-68b973b0696e",
   "metadata": {},
   "outputs": [],
   "source": [
    "## bag of words"
   ]
  },
  {
   "cell_type": "code",
   "execution_count": null,
   "id": "8a653755-b8a1-48a7-9968-ae77489c71b3",
   "metadata": {},
   "outputs": [],
   "source": [
    "vocabulary = list(itertools.chain.from_iterable(out_data['words'].tolist()))\n",
    "vocab = Counter()\n",
    "vocab.update(vocabulary)\n",
    "commom_word_threshold = 5000\n",
    "tokens = [k for k,c in vocab.most_common(commom_word_threshold)]"
   ]
  },
  {
   "cell_type": "code",
   "execution_count": null,
   "id": "fe0e1127-413d-447a-bc95-305d9f48d07f",
   "metadata": {},
   "outputs": [],
   "source": []
  },
  {
   "cell_type": "code",
   "execution_count": null,
   "id": "0fc2eb29-e4e8-4246-9034-ac6b51f3087b",
   "metadata": {},
   "outputs": [],
   "source": [
    "vectorizer = CountVectorizer(max_features=5000, vocabulary=tokens)"
   ]
  },
  {
   "cell_type": "code",
   "execution_count": null,
   "id": "278b6a28-3c8d-4101-b23e-59bbf7db45ef",
   "metadata": {},
   "outputs": [],
   "source": [
    "out_data['words_text'] = out_data.apply(lambda row: re.sub(r'\\[',\"\",(str(row['words']))), axis=1)\n",
    "out_data['words_text'] = out_data.apply(lambda row: re.sub(r'\\'',\"\",(str(row['words_text']))), axis=1)\n",
    "out_data['words_text'] = out_data.apply(lambda row: re.sub(r',',\"\",(str(row['words_text']))), axis=1)\n",
    "out_data['words_text'] = out_data.apply(lambda row: re.sub(r'\\]',\"\",(str(row['words_text']))), axis=1)"
   ]
  },
  {
   "cell_type": "code",
   "execution_count": null,
   "id": "3b6b4e72-d3ed-4808-9cda-dba1f991008f",
   "metadata": {},
   "outputs": [],
   "source": [
    "pd.set_option('display.max_colwidth', None)\n",
    "out_data['words_text'].head(n=1)"
   ]
  },
  {
   "cell_type": "code",
   "execution_count": null,
   "id": "c42558fe-266f-4df8-995d-001f6f945c9d",
   "metadata": {},
   "outputs": [],
   "source": [
    "train_features = vectorizer.fit_transform(out_data['words_text'])"
   ]
  },
  {
   "cell_type": "code",
   "execution_count": null,
   "id": "cb1ac1d0-c7f2-46a7-aed0-3489ecf1d12f",
   "metadata": {},
   "outputs": [],
   "source": [
    "train_features.shape"
   ]
  },
  {
   "cell_type": "code",
   "execution_count": 221,
   "id": "771fb650-3273-4fd5-8485-9864320ba9ed",
   "metadata": {},
   "outputs": [
    {
     "data": {
      "text/plain": [
       "False"
      ]
     },
     "execution_count": 221,
     "metadata": {},
     "output_type": "execute_result"
    }
   ],
   "source": [
    "a = out_data\n",
    "a = a[a['words_text'].str.len() > 0]\n",
    "a['words_text'].isnull().values.any()"
   ]
  },
  {
   "cell_type": "code",
   "execution_count": 222,
   "id": "876bd5c5-1dd9-49cc-a7e3-0984cbe975ed",
   "metadata": {},
   "outputs": [],
   "source": [
    "# data after cleaning we need\n",
    "output_data = out_data[out_data['words_text'].str.len() > 0]\n",
    "output_data.to_csv('data/out.csv') "
   ]
  },
  {
   "cell_type": "code",
   "execution_count": null,
   "id": "7a2dc215-ba85-40a1-a419-26132a334a4d",
   "metadata": {},
   "outputs": [],
   "source": []
  },
  {
   "cell_type": "code",
   "execution_count": null,
   "id": "81f0b4d6-e45e-4429-a01b-46625bd1dfb6",
   "metadata": {},
   "outputs": [],
   "source": []
  },
  {
   "cell_type": "code",
   "execution_count": null,
   "id": "cf09a738-3f39-46a3-9318-6c19f12ad042",
   "metadata": {
    "tags": []
   },
   "outputs": [],
   "source": []
  },
  {
   "cell_type": "code",
   "execution_count": null,
   "id": "04bded4e-cdd9-43f8-a5f3-039169bf25f3",
   "metadata": {},
   "outputs": [],
   "source": []
  },
  {
   "cell_type": "code",
   "execution_count": null,
   "id": "c3eb38e5-5fb1-47b6-90e0-83cc6573720a",
   "metadata": {},
   "outputs": [],
   "source": []
  },
  {
   "cell_type": "code",
   "execution_count": null,
   "id": "79f393ee-6368-4934-ad5d-833231a7c105",
   "metadata": {},
   "outputs": [],
   "source": []
  },
  {
   "cell_type": "code",
   "execution_count": null,
   "id": "081688e7-4184-4237-bffa-56b3ff6ca9e1",
   "metadata": {},
   "outputs": [],
   "source": []
  },
  {
   "cell_type": "code",
   "execution_count": null,
   "id": "ce629510-5f7a-429e-85dc-4ccd2bf6941c",
   "metadata": {},
   "outputs": [],
   "source": []
  },
  {
   "cell_type": "code",
   "execution_count": 198,
   "id": "b28a94d2-7268-488b-8fec-ceaf55ed51b8",
   "metadata": {},
   "outputs": [],
   "source": [
    "# reference\n",
    "# Sthanu Ramakrishnan https://webpages.charlotte.edu/sramak11/6156/6156_Group_Project.html#topic=0&lambda=1&term=\n",
    "# https://cs229.stanford.edu/proj2014/Jordan%20Rodak,%20Minna%20Xiao,%20Steven%20Longoria,%20Predicting%20Helpfulness%20Ratings%20of%20Amazon%20Product%20Reviews.pdf\n",
    "# https://stackoverflow.com/questions/29244286/how-to-flatten-a-2d-list-to-1d-without-using-numpy\n",
    "# https://towardsdatascience.com/predicting-the-helpfulness-of-peer-written-product-reviews-ef7a0dfea2c3"
   ]
  },
  {
   "cell_type": "code",
   "execution_count": null,
   "id": "1775195c-0887-48ca-8d48-a9249b07026b",
   "metadata": {},
   "outputs": [],
   "source": []
  },
  {
   "cell_type": "code",
   "execution_count": null,
   "id": "c9d34f13-4ef1-4521-9348-8fdf9e105c69",
   "metadata": {},
   "outputs": [],
   "source": []
  }
 ],
 "metadata": {
  "kernelspec": {
   "display_name": "733",
   "language": "python",
   "name": "733"
  },
  "language_info": {
   "codemirror_mode": {
    "name": "ipython",
    "version": 3
   },
   "file_extension": ".py",
   "mimetype": "text/x-python",
   "name": "python",
   "nbconvert_exporter": "python",
   "pygments_lexer": "ipython3",
   "version": "3.11.3"
  },
  "widgets": {
   "application/vnd.jupyter.widget-state+json": {
    "state": {},
    "version_major": 2,
    "version_minor": 0
   }
  }
 },
 "nbformat": 4,
 "nbformat_minor": 5
}
