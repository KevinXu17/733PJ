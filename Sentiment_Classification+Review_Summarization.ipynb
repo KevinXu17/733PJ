{
  "cells": [
    {
      "cell_type": "markdown",
      "metadata": {
        "id": "ssUcLfgMI1Ls"
      },
      "source": [
        "# Task1: Sentiment Classification\n",
        "### 1.Feature Engineering\n",
        "#### (1)Load Dataset"
      ]
    },
    {
      "cell_type": "code",
      "execution_count": null,
      "metadata": {
        "id": "GJr1YKcNJn4k"
      },
      "outputs": [],
      "source": [
        "import pandas as pd\n",
        "import numpy as np \n",
        "\n",
        "import os\n",
        "import bz2\n",
        "import re \n",
        "\n",
        "#load FSTest\n",
        "train= bz2.BZ2File('data/train.ft.txt.bz2').readlines()\n",
        "test= bz2.BZ2File('data/test.ft.txt.bz2').readlines()\n",
        "\n"
      ]
    },
    {
      "cell_type": "markdown",
      "metadata": {
        "id": "9IYEuMaJOi43"
      },
      "source": [
        "#### (2)Check the number of reviews"
      ]
    },
    {
      "cell_type": "code",
      "execution_count": null,
      "metadata": {
        "colab": {
          "base_uri": "https://localhost:8080/"
        },
        "id": "CWFm14BFOTAd",
        "outputId": "bc7e55c1-4f8e-4bd6-9936-fe50166639b9"
      },
      "outputs": [
        {
          "name": "stdout",
          "output_type": "stream",
          "text": [
            "Number of training reivews: 3600000\n",
            "Number of testing reviews: 400000\n"
          ]
        }
      ],
      "source": [
        "print(\"Number of training reivews: \" + str(len(train)))\n",
        "print(\"Number of testing reviews: \" + str(len(test)))"
      ]
    },
    {
      "cell_type": "code",
      "execution_count": null,
      "metadata": {
        "id": "5j90pg8nPCGw"
      },
      "outputs": [],
      "source": [
        "#set the size of the data you want to train\n",
        "#training\n",
        "num_train = 1000000\n",
        "\n",
        "#testing\n",
        "num_test = 100000\n",
        "\n",
        "train = [x.decode('utf-8') for x in train[:num_train]]\n",
        "test = [x.decode('utf-8') for x in test[:num_test]]"
      ]
    },
    {
      "cell_type": "markdown",
      "metadata": {
        "id": "58blicL_P1d9"
      },
      "source": [
        "(3) separate features and labels"
      ]
    },
    {
      "cell_type": "code",
      "execution_count": null,
      "metadata": {
        "id": "Mm3VLYOmQCM2"
      },
      "outputs": [],
      "source": [
        "train_labels = []\n",
        "train_sentences = []\n",
        "for x in train:\n",
        "    if x.split(' ')[0] == '__label__1':\n",
        "        train_labels.append(0)\n",
        "    else:\n",
        "        train_labels.append(1)\n",
        "    train_sentences.append(x.split(' ', 1)[1][:-1].lower())\n",
        "\n",
        "\n",
        "#do the same with testing set\n",
        "test_labels = []\n",
        "test_sentences = []\n",
        "for x in test:\n",
        "    if x.split(' ')[0] == '__label__1':\n",
        "        test_labels.append(0)\n",
        "    else:\n",
        "        test_labels.append(1)\n",
        "    test_sentences.append(x.split(' ', 1)[1][:-1].lower())\n"
      ]
    },
    {
      "cell_type": "markdown",
      "metadata": {
        "id": "O-86tQFXRFXq"
      },
      "source": [
        "(4) Transform to DataFrame"
      ]
    },
    {
      "cell_type": "code",
      "execution_count": null,
      "metadata": {
        "colab": {
          "base_uri": "https://localhost:8080/",
          "height": 206
        },
        "id": "WSQHrX-BRKJB",
        "outputId": "0c0cfccc-d82d-4c4a-ad39-2efc0d35eabc"
      },
      "outputs": [
        {
          "data": {
            "text/html": [
              "\n",
              "  <div id=\"df-e84a5586-adac-48f8-a0c1-ed6ccff00b17\">\n",
              "    <div class=\"colab-df-container\">\n",
              "      <div>\n",
              "<style scoped>\n",
              "    .dataframe tbody tr th:only-of-type {\n",
              "        vertical-align: middle;\n",
              "    }\n",
              "\n",
              "    .dataframe tbody tr th {\n",
              "        vertical-align: top;\n",
              "    }\n",
              "\n",
              "    .dataframe thead th {\n",
              "        text-align: right;\n",
              "    }\n",
              "</style>\n",
              "<table border=\"1\" class=\"dataframe\">\n",
              "  <thead>\n",
              "    <tr style=\"text-align: right;\">\n",
              "      <th></th>\n",
              "      <th>text</th>\n",
              "      <th>label</th>\n",
              "    </tr>\n",
              "  </thead>\n",
              "  <tbody>\n",
              "    <tr>\n",
              "      <th>0</th>\n",
              "      <td>stuning even for the non-gamer: this sound tra...</td>\n",
              "      <td>1</td>\n",
              "    </tr>\n",
              "    <tr>\n",
              "      <th>1</th>\n",
              "      <td>the best soundtrack ever to anything.: i'm rea...</td>\n",
              "      <td>1</td>\n",
              "    </tr>\n",
              "    <tr>\n",
              "      <th>2</th>\n",
              "      <td>amazing!: this soundtrack is my favorite music...</td>\n",
              "      <td>1</td>\n",
              "    </tr>\n",
              "    <tr>\n",
              "      <th>3</th>\n",
              "      <td>excellent soundtrack: i truly like this soundt...</td>\n",
              "      <td>1</td>\n",
              "    </tr>\n",
              "    <tr>\n",
              "      <th>4</th>\n",
              "      <td>remember, pull your jaw off the floor after he...</td>\n",
              "      <td>1</td>\n",
              "    </tr>\n",
              "  </tbody>\n",
              "</table>\n",
              "</div>\n",
              "      <button class=\"colab-df-convert\" onclick=\"convertToInteractive('df-e84a5586-adac-48f8-a0c1-ed6ccff00b17')\"\n",
              "              title=\"Convert this dataframe to an interactive table.\"\n",
              "              style=\"display:none;\">\n",
              "        \n",
              "  <svg xmlns=\"http://www.w3.org/2000/svg\" height=\"24px\"viewBox=\"0 0 24 24\"\n",
              "       width=\"24px\">\n",
              "    <path d=\"M0 0h24v24H0V0z\" fill=\"none\"/>\n",
              "    <path d=\"M18.56 5.44l.94 2.06.94-2.06 2.06-.94-2.06-.94-.94-2.06-.94 2.06-2.06.94zm-11 1L8.5 8.5l.94-2.06 2.06-.94-2.06-.94L8.5 2.5l-.94 2.06-2.06.94zm10 10l.94 2.06.94-2.06 2.06-.94-2.06-.94-.94-2.06-.94 2.06-2.06.94z\"/><path d=\"M17.41 7.96l-1.37-1.37c-.4-.4-.92-.59-1.43-.59-.52 0-1.04.2-1.43.59L10.3 9.45l-7.72 7.72c-.78.78-.78 2.05 0 2.83L4 21.41c.39.39.9.59 1.41.59.51 0 1.02-.2 1.41-.59l7.78-7.78 2.81-2.81c.8-.78.8-2.07 0-2.86zM5.41 20L4 18.59l7.72-7.72 1.47 1.35L5.41 20z\"/>\n",
              "  </svg>\n",
              "      </button>\n",
              "      \n",
              "  <style>\n",
              "    .colab-df-container {\n",
              "      display:flex;\n",
              "      flex-wrap:wrap;\n",
              "      gap: 12px;\n",
              "    }\n",
              "\n",
              "    .colab-df-convert {\n",
              "      background-color: #E8F0FE;\n",
              "      border: none;\n",
              "      border-radius: 50%;\n",
              "      cursor: pointer;\n",
              "      display: none;\n",
              "      fill: #1967D2;\n",
              "      height: 32px;\n",
              "      padding: 0 0 0 0;\n",
              "      width: 32px;\n",
              "    }\n",
              "\n",
              "    .colab-df-convert:hover {\n",
              "      background-color: #E2EBFA;\n",
              "      box-shadow: 0px 1px 2px rgba(60, 64, 67, 0.3), 0px 1px 3px 1px rgba(60, 64, 67, 0.15);\n",
              "      fill: #174EA6;\n",
              "    }\n",
              "\n",
              "    [theme=dark] .colab-df-convert {\n",
              "      background-color: #3B4455;\n",
              "      fill: #D2E3FC;\n",
              "    }\n",
              "\n",
              "    [theme=dark] .colab-df-convert:hover {\n",
              "      background-color: #434B5C;\n",
              "      box-shadow: 0px 1px 3px 1px rgba(0, 0, 0, 0.15);\n",
              "      filter: drop-shadow(0px 1px 2px rgba(0, 0, 0, 0.3));\n",
              "      fill: #FFFFFF;\n",
              "    }\n",
              "  </style>\n",
              "\n",
              "      <script>\n",
              "        const buttonEl =\n",
              "          document.querySelector('#df-e84a5586-adac-48f8-a0c1-ed6ccff00b17 button.colab-df-convert');\n",
              "        buttonEl.style.display =\n",
              "          google.colab.kernel.accessAllowed ? 'block' : 'none';\n",
              "\n",
              "        async function convertToInteractive(key) {\n",
              "          const element = document.querySelector('#df-e84a5586-adac-48f8-a0c1-ed6ccff00b17');\n",
              "          const dataTable =\n",
              "            await google.colab.kernel.invokeFunction('convertToInteractive',\n",
              "                                                     [key], {});\n",
              "          if (!dataTable) return;\n",
              "\n",
              "          const docLinkHtml = 'Like what you see? Visit the ' +\n",
              "            '<a target=\"_blank\" href=https://colab.research.google.com/notebooks/data_table.ipynb>data table notebook</a>'\n",
              "            + ' to learn more about interactive tables.';\n",
              "          element.innerHTML = '';\n",
              "          dataTable['output_type'] = 'display_data';\n",
              "          await google.colab.output.renderOutput(dataTable, element);\n",
              "          const docLink = document.createElement('div');\n",
              "          docLink.innerHTML = docLinkHtml;\n",
              "          element.appendChild(docLink);\n",
              "        }\n",
              "      </script>\n",
              "    </div>\n",
              "  </div>\n",
              "  "
            ],
            "text/plain": [
              "                                                text  label\n",
              "0  stuning even for the non-gamer: this sound tra...      1\n",
              "1  the best soundtrack ever to anything.: i'm rea...      1\n",
              "2  amazing!: this soundtrack is my favorite music...      1\n",
              "3  excellent soundtrack: i truly like this soundt...      1\n",
              "4  remember, pull your jaw off the floor after he...      1"
            ]
          },
          "execution_count": 13,
          "metadata": {},
          "output_type": "execute_result"
        }
      ],
      "source": [
        "train = pd.DataFrame({'text':train_sentences,'label':train_labels})\n",
        "test = pd.DataFrame({'text':test_sentences,'label':test_labels})\n",
        "train.head()"
      ]
    },
    {
      "cell_type": "markdown",
      "metadata": {
        "id": "-hiyWxEHTkp6"
      },
      "source": [
        "(4) Add review length as a new feature"
      ]
    },
    {
      "cell_type": "code",
      "execution_count": null,
      "metadata": {
        "colab": {
          "base_uri": "https://localhost:8080/",
          "height": 206
        },
        "id": "FDilaSf7TtAC",
        "outputId": "9246fee5-a163-4595-9cea-35c9bdf248a0"
      },
      "outputs": [
        {
          "data": {
            "text/html": [
              "\n",
              "  <div id=\"df-9cc1535d-9f49-4e57-b1c1-f1be0c9d2773\">\n",
              "    <div class=\"colab-df-container\">\n",
              "      <div>\n",
              "<style scoped>\n",
              "    .dataframe tbody tr th:only-of-type {\n",
              "        vertical-align: middle;\n",
              "    }\n",
              "\n",
              "    .dataframe tbody tr th {\n",
              "        vertical-align: top;\n",
              "    }\n",
              "\n",
              "    .dataframe thead th {\n",
              "        text-align: right;\n",
              "    }\n",
              "</style>\n",
              "<table border=\"1\" class=\"dataframe\">\n",
              "  <thead>\n",
              "    <tr style=\"text-align: right;\">\n",
              "      <th></th>\n",
              "      <th>text</th>\n",
              "      <th>label</th>\n",
              "      <th>review_length</th>\n",
              "    </tr>\n",
              "  </thead>\n",
              "  <tbody>\n",
              "    <tr>\n",
              "      <th>0</th>\n",
              "      <td>stuning even for the non-gamer: this sound tra...</td>\n",
              "      <td>1</td>\n",
              "      <td>80</td>\n",
              "    </tr>\n",
              "    <tr>\n",
              "      <th>1</th>\n",
              "      <td>the best soundtrack ever to anything.: i'm rea...</td>\n",
              "      <td>1</td>\n",
              "      <td>97</td>\n",
              "    </tr>\n",
              "    <tr>\n",
              "      <th>2</th>\n",
              "      <td>amazing!: this soundtrack is my favorite music...</td>\n",
              "      <td>1</td>\n",
              "      <td>129</td>\n",
              "    </tr>\n",
              "    <tr>\n",
              "      <th>3</th>\n",
              "      <td>excellent soundtrack: i truly like this soundt...</td>\n",
              "      <td>1</td>\n",
              "      <td>118</td>\n",
              "    </tr>\n",
              "    <tr>\n",
              "      <th>4</th>\n",
              "      <td>remember, pull your jaw off the floor after he...</td>\n",
              "      <td>1</td>\n",
              "      <td>87</td>\n",
              "    </tr>\n",
              "  </tbody>\n",
              "</table>\n",
              "</div>\n",
              "      <button class=\"colab-df-convert\" onclick=\"convertToInteractive('df-9cc1535d-9f49-4e57-b1c1-f1be0c9d2773')\"\n",
              "              title=\"Convert this dataframe to an interactive table.\"\n",
              "              style=\"display:none;\">\n",
              "        \n",
              "  <svg xmlns=\"http://www.w3.org/2000/svg\" height=\"24px\"viewBox=\"0 0 24 24\"\n",
              "       width=\"24px\">\n",
              "    <path d=\"M0 0h24v24H0V0z\" fill=\"none\"/>\n",
              "    <path d=\"M18.56 5.44l.94 2.06.94-2.06 2.06-.94-2.06-.94-.94-2.06-.94 2.06-2.06.94zm-11 1L8.5 8.5l.94-2.06 2.06-.94-2.06-.94L8.5 2.5l-.94 2.06-2.06.94zm10 10l.94 2.06.94-2.06 2.06-.94-2.06-.94-.94-2.06-.94 2.06-2.06.94z\"/><path d=\"M17.41 7.96l-1.37-1.37c-.4-.4-.92-.59-1.43-.59-.52 0-1.04.2-1.43.59L10.3 9.45l-7.72 7.72c-.78.78-.78 2.05 0 2.83L4 21.41c.39.39.9.59 1.41.59.51 0 1.02-.2 1.41-.59l7.78-7.78 2.81-2.81c.8-.78.8-2.07 0-2.86zM5.41 20L4 18.59l7.72-7.72 1.47 1.35L5.41 20z\"/>\n",
              "  </svg>\n",
              "      </button>\n",
              "      \n",
              "  <style>\n",
              "    .colab-df-container {\n",
              "      display:flex;\n",
              "      flex-wrap:wrap;\n",
              "      gap: 12px;\n",
              "    }\n",
              "\n",
              "    .colab-df-convert {\n",
              "      background-color: #E8F0FE;\n",
              "      border: none;\n",
              "      border-radius: 50%;\n",
              "      cursor: pointer;\n",
              "      display: none;\n",
              "      fill: #1967D2;\n",
              "      height: 32px;\n",
              "      padding: 0 0 0 0;\n",
              "      width: 32px;\n",
              "    }\n",
              "\n",
              "    .colab-df-convert:hover {\n",
              "      background-color: #E2EBFA;\n",
              "      box-shadow: 0px 1px 2px rgba(60, 64, 67, 0.3), 0px 1px 3px 1px rgba(60, 64, 67, 0.15);\n",
              "      fill: #174EA6;\n",
              "    }\n",
              "\n",
              "    [theme=dark] .colab-df-convert {\n",
              "      background-color: #3B4455;\n",
              "      fill: #D2E3FC;\n",
              "    }\n",
              "\n",
              "    [theme=dark] .colab-df-convert:hover {\n",
              "      background-color: #434B5C;\n",
              "      box-shadow: 0px 1px 3px 1px rgba(0, 0, 0, 0.15);\n",
              "      filter: drop-shadow(0px 1px 2px rgba(0, 0, 0, 0.3));\n",
              "      fill: #FFFFFF;\n",
              "    }\n",
              "  </style>\n",
              "\n",
              "      <script>\n",
              "        const buttonEl =\n",
              "          document.querySelector('#df-9cc1535d-9f49-4e57-b1c1-f1be0c9d2773 button.colab-df-convert');\n",
              "        buttonEl.style.display =\n",
              "          google.colab.kernel.accessAllowed ? 'block' : 'none';\n",
              "\n",
              "        async function convertToInteractive(key) {\n",
              "          const element = document.querySelector('#df-9cc1535d-9f49-4e57-b1c1-f1be0c9d2773');\n",
              "          const dataTable =\n",
              "            await google.colab.kernel.invokeFunction('convertToInteractive',\n",
              "                                                     [key], {});\n",
              "          if (!dataTable) return;\n",
              "\n",
              "          const docLinkHtml = 'Like what you see? Visit the ' +\n",
              "            '<a target=\"_blank\" href=https://colab.research.google.com/notebooks/data_table.ipynb>data table notebook</a>'\n",
              "            + ' to learn more about interactive tables.';\n",
              "          element.innerHTML = '';\n",
              "          dataTable['output_type'] = 'display_data';\n",
              "          await google.colab.output.renderOutput(dataTable, element);\n",
              "          const docLink = document.createElement('div');\n",
              "          docLink.innerHTML = docLinkHtml;\n",
              "          element.appendChild(docLink);\n",
              "        }\n",
              "      </script>\n",
              "    </div>\n",
              "  </div>\n",
              "  "
            ],
            "text/plain": [
              "                                                text  label  review_length\n",
              "0  stuning even for the non-gamer: this sound tra...      1             80\n",
              "1  the best soundtrack ever to anything.: i'm rea...      1             97\n",
              "2  amazing!: this soundtrack is my favorite music...      1            129\n",
              "3  excellent soundtrack: i truly like this soundt...      1            118\n",
              "4  remember, pull your jaw off the floor after he...      1             87"
            ]
          },
          "execution_count": 14,
          "metadata": {},
          "output_type": "execute_result"
        }
      ],
      "source": [
        "# Get the 'text' column from the 'train' dataset\n",
        "text_column = train['text']\n",
        "\n",
        "# Convert each element in the 'text' column to lowercase and split into a list of words\n",
        "lowercase_text = text_column.str.lower()\n",
        "word_lists = lowercase_text.str.split()\n",
        "\n",
        "# Calculate the number of words in each text\n",
        "word_counts = word_lists.apply(len)\n",
        "\n",
        "# Add the calculated number of words column to the 'train' dataset\n",
        "train['review_length'] = word_counts\n",
        "\n",
        "\n",
        "train.head()"
      ]
    },
    {
      "cell_type": "code",
      "execution_count": null,
      "metadata": {
        "colab": {
          "base_uri": "https://localhost:8080/",
          "height": 206
        },
        "id": "B3JPVVu6Umj2",
        "outputId": "9ecd162c-ba1d-45f3-c5fa-f07046220d17"
      },
      "outputs": [
        {
          "data": {
            "text/html": [
              "\n",
              "  <div id=\"df-b9fd0bdd-5e9b-4f98-9c9c-404f25379d37\">\n",
              "    <div class=\"colab-df-container\">\n",
              "      <div>\n",
              "<style scoped>\n",
              "    .dataframe tbody tr th:only-of-type {\n",
              "        vertical-align: middle;\n",
              "    }\n",
              "\n",
              "    .dataframe tbody tr th {\n",
              "        vertical-align: top;\n",
              "    }\n",
              "\n",
              "    .dataframe thead th {\n",
              "        text-align: right;\n",
              "    }\n",
              "</style>\n",
              "<table border=\"1\" class=\"dataframe\">\n",
              "  <thead>\n",
              "    <tr style=\"text-align: right;\">\n",
              "      <th></th>\n",
              "      <th>text</th>\n",
              "      <th>label</th>\n",
              "      <th>review_length</th>\n",
              "    </tr>\n",
              "  </thead>\n",
              "  <tbody>\n",
              "    <tr>\n",
              "      <th>0</th>\n",
              "      <td>great cd: my lovely pat has one of the great v...</td>\n",
              "      <td>1</td>\n",
              "      <td>106</td>\n",
              "    </tr>\n",
              "    <tr>\n",
              "      <th>1</th>\n",
              "      <td>one of the best game music soundtracks - for a...</td>\n",
              "      <td>1</td>\n",
              "      <td>148</td>\n",
              "    </tr>\n",
              "    <tr>\n",
              "      <th>2</th>\n",
              "      <td>batteries died within a year ...: i bought thi...</td>\n",
              "      <td>0</td>\n",
              "      <td>60</td>\n",
              "    </tr>\n",
              "    <tr>\n",
              "      <th>3</th>\n",
              "      <td>works fine, but maha energy is better: check o...</td>\n",
              "      <td>1</td>\n",
              "      <td>37</td>\n",
              "    </tr>\n",
              "    <tr>\n",
              "      <th>4</th>\n",
              "      <td>great for the non-audiophile: reviewed quite a...</td>\n",
              "      <td>1</td>\n",
              "      <td>69</td>\n",
              "    </tr>\n",
              "  </tbody>\n",
              "</table>\n",
              "</div>\n",
              "      <button class=\"colab-df-convert\" onclick=\"convertToInteractive('df-b9fd0bdd-5e9b-4f98-9c9c-404f25379d37')\"\n",
              "              title=\"Convert this dataframe to an interactive table.\"\n",
              "              style=\"display:none;\">\n",
              "        \n",
              "  <svg xmlns=\"http://www.w3.org/2000/svg\" height=\"24px\"viewBox=\"0 0 24 24\"\n",
              "       width=\"24px\">\n",
              "    <path d=\"M0 0h24v24H0V0z\" fill=\"none\"/>\n",
              "    <path d=\"M18.56 5.44l.94 2.06.94-2.06 2.06-.94-2.06-.94-.94-2.06-.94 2.06-2.06.94zm-11 1L8.5 8.5l.94-2.06 2.06-.94-2.06-.94L8.5 2.5l-.94 2.06-2.06.94zm10 10l.94 2.06.94-2.06 2.06-.94-2.06-.94-.94-2.06-.94 2.06-2.06.94z\"/><path d=\"M17.41 7.96l-1.37-1.37c-.4-.4-.92-.59-1.43-.59-.52 0-1.04.2-1.43.59L10.3 9.45l-7.72 7.72c-.78.78-.78 2.05 0 2.83L4 21.41c.39.39.9.59 1.41.59.51 0 1.02-.2 1.41-.59l7.78-7.78 2.81-2.81c.8-.78.8-2.07 0-2.86zM5.41 20L4 18.59l7.72-7.72 1.47 1.35L5.41 20z\"/>\n",
              "  </svg>\n",
              "      </button>\n",
              "      \n",
              "  <style>\n",
              "    .colab-df-container {\n",
              "      display:flex;\n",
              "      flex-wrap:wrap;\n",
              "      gap: 12px;\n",
              "    }\n",
              "\n",
              "    .colab-df-convert {\n",
              "      background-color: #E8F0FE;\n",
              "      border: none;\n",
              "      border-radius: 50%;\n",
              "      cursor: pointer;\n",
              "      display: none;\n",
              "      fill: #1967D2;\n",
              "      height: 32px;\n",
              "      padding: 0 0 0 0;\n",
              "      width: 32px;\n",
              "    }\n",
              "\n",
              "    .colab-df-convert:hover {\n",
              "      background-color: #E2EBFA;\n",
              "      box-shadow: 0px 1px 2px rgba(60, 64, 67, 0.3), 0px 1px 3px 1px rgba(60, 64, 67, 0.15);\n",
              "      fill: #174EA6;\n",
              "    }\n",
              "\n",
              "    [theme=dark] .colab-df-convert {\n",
              "      background-color: #3B4455;\n",
              "      fill: #D2E3FC;\n",
              "    }\n",
              "\n",
              "    [theme=dark] .colab-df-convert:hover {\n",
              "      background-color: #434B5C;\n",
              "      box-shadow: 0px 1px 3px 1px rgba(0, 0, 0, 0.15);\n",
              "      filter: drop-shadow(0px 1px 2px rgba(0, 0, 0, 0.3));\n",
              "      fill: #FFFFFF;\n",
              "    }\n",
              "  </style>\n",
              "\n",
              "      <script>\n",
              "        const buttonEl =\n",
              "          document.querySelector('#df-b9fd0bdd-5e9b-4f98-9c9c-404f25379d37 button.colab-df-convert');\n",
              "        buttonEl.style.display =\n",
              "          google.colab.kernel.accessAllowed ? 'block' : 'none';\n",
              "\n",
              "        async function convertToInteractive(key) {\n",
              "          const element = document.querySelector('#df-b9fd0bdd-5e9b-4f98-9c9c-404f25379d37');\n",
              "          const dataTable =\n",
              "            await google.colab.kernel.invokeFunction('convertToInteractive',\n",
              "                                                     [key], {});\n",
              "          if (!dataTable) return;\n",
              "\n",
              "          const docLinkHtml = 'Like what you see? Visit the ' +\n",
              "            '<a target=\"_blank\" href=https://colab.research.google.com/notebooks/data_table.ipynb>data table notebook</a>'\n",
              "            + ' to learn more about interactive tables.';\n",
              "          element.innerHTML = '';\n",
              "          dataTable['output_type'] = 'display_data';\n",
              "          await google.colab.output.renderOutput(dataTable, element);\n",
              "          const docLink = document.createElement('div');\n",
              "          docLink.innerHTML = docLinkHtml;\n",
              "          element.appendChild(docLink);\n",
              "        }\n",
              "      </script>\n",
              "    </div>\n",
              "  </div>\n",
              "  "
            ],
            "text/plain": [
              "                                                text  label  review_length\n",
              "0  great cd: my lovely pat has one of the great v...      1            106\n",
              "1  one of the best game music soundtracks - for a...      1            148\n",
              "2  batteries died within a year ...: i bought thi...      0             60\n",
              "3  works fine, but maha energy is better: check o...      1             37\n",
              "4  great for the non-audiophile: reviewed quite a...      1             69"
            ]
          },
          "execution_count": 15,
          "metadata": {},
          "output_type": "execute_result"
        }
      ],
      "source": [
        "# Do the same with testing set\n",
        "\n",
        "text_column = test['text']\n",
        "lowercase_text = text_column.str.lower()\n",
        "word_lists = lowercase_text.str.split()\n",
        "word_counts = word_lists.apply(len)\n",
        "\n",
        "test['review_length'] = word_counts\n",
        "\n",
        "\n",
        "test.head()"
      ]
    },
    {
      "cell_type": "markdown",
      "metadata": {
        "id": "4IfP9o-dWq5T"
      },
      "source": [
        "### 2. Data Visualization"
      ]
    },
    {
      "cell_type": "markdown",
      "metadata": {
        "id": "DUdp5u4FYh9d"
      },
      "source": [
        "(1) Negative VS Positive"
      ]
    },
    {
      "cell_type": "code",
      "execution_count": null,
      "metadata": {
        "colab": {
          "base_uri": "https://localhost:8080/",
          "height": 628
        },
        "id": "wZq7pofzW9M1",
        "outputId": "11a310d4-3d06-4327-ffef-921db1046a53"
      },
      "outputs": [
        {
          "data": {
            "text/plain": [
              "<AxesSubplot:xlabel='label', ylabel='count'>"
            ]
          },
          "execution_count": 16,
          "metadata": {},
          "output_type": "execute_result"
        },
        {
          "data": {
            "image/png": "[encoded data removed]",
            "text/plain": [
              "<Figure size 720x720 with 1 Axes>"
            ]
          },
          "metadata": {},
          "output_type": "display_data"
        }
      ],
      "source": [
        "import seaborn as sns\n",
        "import matplotlib.pyplot as plt\n",
        "\n",
        "\n",
        "plt.figure(figsize=(10,10))\n",
        "sns.set(style=\"darkgrid\")\n",
        "sns.countplot(x=\"label\", data=train)"
      ]
    },
    {
      "cell_type": "markdown",
      "metadata": {
        "id": "2HuEKADqXo7k"
      },
      "source": [
        "As we can see from the mean and standard deviation shown above, the number of positive and negative reviews is roughly equal, indicating that the data set is of well-defined and there is no obvious class imbalance."
      ]
    },
    {
      "cell_type": "markdown",
      "metadata": {
        "id": "xIcKal0wX3iu"
      },
      "source": [
        "(2) Word Frequency"
      ]
    },
    {
      "cell_type": "code",
      "execution_count": null,
      "metadata": {
        "colab": {
          "base_uri": "https://localhost:8080/",
          "height": 504
        },
        "id": "E7aW7S0eYAvm",
        "outputId": "2d7a35a2-9805-4ce4-ed2e-3b940b07d4bb"
      },
      "outputs": [
        {
          "data": {
            "text/plain": [
              "<AxesSubplot:ylabel='Frequency'>"
            ]
          },
          "execution_count": 17,
          "metadata": {},
          "output_type": "execute_result"
        },
        {
          "data": {
            "image/png": "[encoded data removed]",
            "text/plain": [
              "<Figure size 720x576 with 1 Axes>"
            ]
          },
          "metadata": {},
          "output_type": "display_data"
        }
      ],
      "source": [
        "\n",
        "plt.figure(figsize=(10,10))\n",
        "train['review_length'].plot(bins=50, kind='hist',figsize = (10,8)) "
      ]
    },
    {
      "cell_type": "markdown",
      "metadata": {
        "id": "Wc4QKUfyYsps"
      },
      "source": [
        "### 3.Data Cleaning\n",
        "#### (1) Remove HTML labels, punctuations etc. and set stopwords"
      ]
    },
    {
      "cell_type": "code",
      "execution_count": null,
      "metadata": {
        "colab": {
          "base_uri": "https://localhost:8080/"
        },
        "id": "ivW9frBqa4ir",
        "outputId": "cd0dbea9-bf2a-46b1-8fc7-25a9096eb769"
      },
      "outputs": [
        {
          "name": "stderr",
          "output_type": "stream",
          "text": [
            "[nltk_data] Downloading package stopwords to /root/nltk_data...\n",
            "[nltk_data]   Unzipping corpora/stopwords.zip.\n"
          ]
        }
      ],
      "source": [
        "import re\n",
        "import nltk\n",
        "\n",
        "nltk.download('stopwords')\n",
        "from nltk.corpus import stopwords\n",
        "\n",
        "\n",
        "def remove_html(text):\n",
        "  cleanr = re.compile('<.*?>')\n",
        "  return cleanr.sub(r\" \",text)\n",
        "\n",
        "def remove_url(text):\n",
        "     url=re.compile(r\"https?://\\S+|www\\.\\S+\")\n",
        "     return url.sub(r\" \",text)\n",
        "\n",
        "import string\n",
        "def remove_punc(text):\n",
        "   table=str.maketrans(' ',' ',string.punctuation)\n",
        "   return text.translate(table)\n",
        "\n",
        "def remove_num(texts):\n",
        "   output = re.sub(r'\\d+', '', texts)\n",
        "   return output\n",
        "\n",
        "stop=set(stopwords.words(\"english\"))\n",
        "def remove_stopword(text):\n",
        "   text=[word.lower() for word in text.split() if word.lower() not in stop]\n",
        "   return \" \".join(text)\n",
        "\n",
        "\n",
        "for i, row in train.iterrows():\n",
        "    text = row['text']\n",
        "    text = remove_url(text)\n",
        "    text = remove_html(text)\n",
        "    text = remove_punc(text)\n",
        "    text = remove_num(text)\n",
        "    text = remove_stopword(text)\n",
        "    train.at[i, 'text'] = text\n",
        "\n",
        "\n",
        "for i, row in test.iterrows():\n",
        "    text = row['text']\n",
        "    text = remove_url(text)\n",
        "    text = remove_html(text)\n",
        "    text = remove_punc(text)\n",
        "    text = remove_num(text)\n",
        "    text = remove_stopword(text)\n",
        "    test.at[i, 'text'] = text\n",
        "\n",
        "\n"
      ]
    },
    {
      "cell_type": "markdown",
      "metadata": {
        "id": "wKouFyh7gB3t"
      },
      "source": [
        "#### (2) Convert all words to base form or stem"
      ]
    },
    {
      "cell_type": "code",
      "execution_count": null,
      "metadata": {
        "colab": {
          "base_uri": "https://localhost:8080/"
        },
        "id": "xT8CKYaAgHke",
        "outputId": "597229a3-c333-4ee2-b089-6bcd6e2c7e12"
      },
      "outputs": [
        {
          "name": "stderr",
          "output_type": "stream",
          "text": [
            "[nltk_data] Downloading package punkt to /root/nltk_data...\n",
            "[nltk_data]   Unzipping tokenizers/punkt.zip.\n"
          ]
        }
      ],
      "source": [
        "import nltk\n",
        "nltk.download('punkt')\n",
        "\n",
        "def Stemming(text):\n",
        "\n",
        "   stem=[]\n",
        "   from nltk.corpus import stopwords\n",
        "   from nltk.stem import SnowballStemmer\n",
        "\n",
        "   stopword = stopwords.words('english')\n",
        "   snowball_stemmer = SnowballStemmer('english')\n",
        "\n",
        "   word_tokens = nltk.word_tokenize(text)\n",
        "\n",
        "   stemmed_word = [snowball_stemmer.stem(word) for word in word_tokens]\n",
        "   stem=' '.join(stemmed_word)\n",
        "   return stem\n",
        "\n",
        "\n",
        "train['text']=train['text'].map(Stemming)\n",
        "test['text']=test['text'].map(Stemming)\n",
        "\n",
        "\n"
      ]
    },
    {
      "cell_type": "markdown",
      "metadata": {
        "id": "zEW9uv_Yg5_G"
      },
      "source": [
        "### 4.Modelling\n",
        "#### (1) Use Tokenizer to vectorize the words"
      ]
    },
    {
      "cell_type": "code",
      "execution_count": null,
      "metadata": {
        "id": "un-VfGyjhGql"
      },
      "outputs": [],
      "source": [
        "import tensorflow as tf\n",
        "from keras.models import Sequential\n",
        "from keras.layers import Dense, Dropout, Activation\n",
        "from keras.layers import LSTM,GRU\n",
        "from keras.preprocessing import sequence\n",
        "from sklearn.metrics import f1_score, roc_auc_score, accuracy_score    \n",
        "from tensorflow.python.keras import models, layers, optimizers   \n",
        "from keras.layers import Conv1D, MaxPooling1D, GlobalMaxPooling1D, SpatialDropout1D\n",
        "from keras.layers import Bidirectional\n",
        "from keras.optimizers import Adam\n",
        "from keras.callbacks import ModelCheckpoint\n",
        "from keras.callbacks import EarlyStopping\n",
        "\n",
        "\n",
        "max_length=100\n",
        "vocab_size=12000\n",
        "embedding_dim=64\n",
        "trunc_type=\"post\"\n",
        "oov_tok=\"<OOV>\"\n",
        "padding_type=\"post\"\n",
        "from tensorflow.keras.preprocessing.text import Tokenizer\n",
        "from tensorflow.keras.preprocessing.sequence import pad_sequences\n",
        "\n",
        "\n",
        "\n",
        "tokenizer = Tokenizer(num_words=vocab_size,oov_token=oov_tok)\n",
        "\n",
        "#Use the fit_on_texts method to tokenize the training text data and generate a vocabulary\n",
        "tokenizer.fit_on_texts(train['text'])\n",
        "\n",
        "#Get the generated vocabulary, which maps each word to a unique integer:\n",
        "word_index = tokenizer.word_index\n",
        "\n",
        "training_sequences = tokenizer.texts_to_sequences(train['text'])\n",
        "\n",
        "#Add paddings so that all the input sequences have the same length\n",
        "training_padded = pad_sequences(training_sequences, maxlen=max_length, padding=padding_type, truncating=trunc_type)\n",
        "\n",
        "testing_sequences = tokenizer.texts_to_sequences(test['text'])\n",
        "\n",
        "testing_padded = pad_sequences(testing_sequences, maxlen=max_length, padding=padding_type, truncating=trunc_type)"
      ]
    },
    {
      "cell_type": "markdown",
      "metadata": {
        "id": "jFD2wTnElPxn"
      },
      "source": [
        "#### (2) Embedding"
      ]
    },
    {
      "cell_type": "code",
      "execution_count": null,
      "metadata": {
        "id": "SyyGpcjblE8A"
      },
      "outputs": [],
      "source": [
        "from keras.layers import Embedding\n",
        "embedded=Embedding(vocab_size, embedding_dim, input_length=max_length)"
      ]
    },
    {
      "cell_type": "markdown",
      "metadata": {
        "id": "JNddyw3tlWZ-"
      },
      "source": [
        "#### (3) Modelling\n",
        "###### Here we choose to use Bidirectional LSTM for modelling and training\n",
        "![5-Figure1-1.png](data:image/png;base64,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)"
      ]
    },
    {
      "cell_type": "markdown",
      "metadata": {
        "id": "apKrtxitrXBg"
      },
      "source": [
        "#### (4) Training"
      ]
    },
    {
      "cell_type": "code",
      "execution_count": null,
      "metadata": {
        "colab": {
          "base_uri": "https://localhost:8080/"
        },
        "id": "QbCXWARSmiwl",
        "outputId": "21b3bf56-8db5-4fc3-d92a-556ac11aa043"
      },
      "outputs": [
        {
          "name": "stderr",
          "output_type": "stream",
          "text": [
            "WARNING:absl:`lr` is deprecated, please use `learning_rate` instead, or use the legacy optimizer, e.g.,tf.keras.optimizers.legacy.Adam.\n"
          ]
        },
        {
          "name": "stdout",
          "output_type": "stream",
          "text": [
            "Epoch 1/10\n",
            "3907/3907 [==============================] - 260s 64ms/step - loss: 0.2648 - accuracy: 0.8891 - val_loss: 0.2361 - val_accuracy: 0.9042\n",
            "Epoch 2/10\n",
            "3907/3907 [==============================] - 195s 50ms/step - loss: 0.2208 - accuracy: 0.9105 - val_loss: 0.2198 - val_accuracy: 0.9098\n",
            "Epoch 3/10\n",
            "3907/3907 [==============================] - 190s 49ms/step - loss: 0.2056 - accuracy: 0.9173 - val_loss: 0.2161 - val_accuracy: 0.9126\n",
            "Epoch 4/10\n",
            "3907/3907 [==============================] - 193s 49ms/step - loss: 0.1946 - accuracy: 0.9224 - val_loss: 0.2137 - val_accuracy: 0.9132\n",
            "Epoch 5/10\n",
            "3907/3907 [==============================] - 192s 49ms/step - loss: 0.1852 - accuracy: 0.9267 - val_loss: 0.2166 - val_accuracy: 0.9148\n",
            "Epoch 6/10\n",
            "3907/3907 [==============================] - 192s 49ms/step - loss: 0.1772 - accuracy: 0.9302 - val_loss: 0.2188 - val_accuracy: 0.9144\n",
            "Epoch 7/10\n",
            "3907/3907 [==============================] - 187s 48ms/step - loss: 0.1692 - accuracy: 0.9335 - val_loss: 0.2146 - val_accuracy: 0.9158\n",
            "Epoch 8/10\n",
            "3907/3907 [==============================] - 191s 49ms/step - loss: 0.1625 - accuracy: 0.9364 - val_loss: 0.2240 - val_accuracy: 0.9154\n",
            "Epoch 9/10\n",
            "3907/3907 [==============================] - 187s 48ms/step - loss: 0.1559 - accuracy: 0.9391 - val_loss: 0.2210 - val_accuracy: 0.9153\n",
            "Epoch 10/10\n",
            "3907/3907 [==============================] - 190s 49ms/step - loss: 0.1498 - accuracy: 0.9416 - val_loss: 0.2297 - val_accuracy: 0.9157\n"
          ]
        }
      ],
      "source": [
        "import os\n",
        "\n",
        "os.environ[\"CUDA_VISIBLE_DEVICES\"] = \"0,1,2,3\" \n",
        "\n",
        "import tensorflow as tf\n",
        "from tensorflow.keras.models import Sequential\n",
        "from tensorflow.keras.layers import Embedding, SpatialDropout1D, Bidirectional, LSTM, Dense, Activation\n",
        "from tensorflow.keras.optimizers import Adam\n",
        "from tensorflow.keras.callbacks import EarlyStopping\n",
        "\n",
        "model = Sequential()\n",
        "model.add(embedded)\n",
        "model.add(SpatialDropout1D(0.2))\n",
        "model.add(Bidirectional(LSTM(256, \n",
        "            dropout=0.2)))\n",
        "\n",
        "model.add(Dense(1))\n",
        "model.add(Activation('sigmoid'))\n",
        "\n",
        "adam=Adam(learning rate=0.0001)\n",
        "model.compile(loss='binary_crossentropy', optimizer=adam, metrics=['accuracy'])\n",
        "\n",
        "# train\n",
        "history = model.fit(training_padded, train['label'], epochs=10, \n",
        "                    batch_size=256, verbose=1,\n",
        "                    #set early stopping if needed: callbacks=[EarlyStopping(monitor='val_accuracy', patience=2)],\n",
        "                    validation_data=(testing_padded, test['label']),\n",
        "                    use_multiprocessing=True, #assign 8 processes to train simultaneously\n",
        "                    workers=8)\n"
      ]
    },
    {
      "cell_type": "markdown",
      "metadata": {
        "id": "b7JUpd6urwQ1"
      },
      "source": [
        "#### (5) Plotting the training process"
      ]
    },
    {
      "cell_type": "code",
      "execution_count": null,
      "metadata": {
        "colab": {
          "base_uri": "https://localhost:8080/",
          "height": 285
        },
        "id": "OhOmeS29r2GK",
        "outputId": "64c6c43c-981c-485c-82be-9c60cd45c756"
      },
      "outputs": [
        {
          "data": {
            "image/png": "[encoded data removed]",
            "text/plain": [
              "<Figure size 432x288 with 1 Axes>"
            ]
          },
          "metadata": {},
          "output_type": "display_data"
        }
      ],
      "source": [
        "import matplotlib.pyplot as plt\n",
        "\n",
        "\n",
        "def plot_graphs(history, string):\n",
        "  plt.plot(history.history[string])\n",
        "  plt.plot(history.history['val_'+string])\n",
        "  plt.xlabel(\"Epochs\")\n",
        "  plt.ylabel(string)\n",
        "  plt.legend([string, 'val_'+string])\n",
        "  plt.show()\n",
        "  \n",
        "plot_graphs(history, \"loss\")"
      ]
    },
    {
      "cell_type": "markdown",
      "metadata": {
        "id": "bS4kl1l1sUXG"
      },
      "source": [
        "#### (6) Testing"
      ]
    },
    {
      "cell_type": "code",
      "execution_count": null,
      "metadata": {
        "colab": {
          "base_uri": "https://localhost:8080/"
        },
        "id": "scW5beQ0sW90",
        "outputId": "5a848309-cd25-48ad-eed3-dffd59cd09a6"
      },
      "outputs": [
        {
          "name": "stdout",
          "output_type": "stream",
          "text": [
            "3125/3125 [==============================] - 19s 6ms/step\n",
            "Accuracy: 0.915730\n",
            "Precision: 0.910694\n",
            "Recall: 0.924000\n",
            "F1 score: 0.917299\n",
            "ROC AUC: 0.915633\n"
          ]
        }
      ],
      "source": [
        "y_pred = model.predict(testing_padded)\n",
        "y_pred = (y_pred > 0.5)\n",
        "X_test=testing_padded\n",
        "y_test=test['label']\n",
        "from sklearn.metrics import accuracy_score,precision_score,recall_score,f1_score,roc_auc_score,confusion_matrix\n",
        "accuracy = accuracy_score(y_test, y_pred)\n",
        "print('Accuracy: %f' % accuracy)\n",
        "\n",
        "precision = precision_score(y_test, y_pred)\n",
        "print('Precision: %f' % precision)\n",
        "\n",
        "recall = recall_score(y_test, y_pred)\n",
        "print('Recall: %f' % recall)\n",
        "\n",
        "f1 = f1_score(y_test, y_pred)\n",
        "print('F1 score: %f' % f1)\n",
        " \n",
        "# ROC AUC\n",
        "auc = roc_auc_score(y_test, y_pred)\n",
        "print('ROC AUC: %f' % auc)\n"
      ]
    },
    {
      "cell_type": "markdown",
      "metadata": {
        "id": "GPeUA_8xs09e"
      },
      "source": [
        "#### (7) Generalization ability testing"
      ]
    },
    {
      "cell_type": "code",
      "execution_count": null,
      "metadata": {
        "id": "yG9VR0kEs-wz"
      },
      "outputs": [],
      "source": [
        "def Review(sentence):\n",
        "   sequences = tokenizer.texts_to_sequences(sentence)\n",
        "   padded = pad_sequences(sequences, maxlen=max_length, padding=padding_type, truncating=trunc_type)\n",
        "\n",
        "   prob=model.predict(padded)\n",
        "   if prob>=0.8:\n",
        "     print(\"Phenomenal\")\n",
        "   elif prob<0.8 and prob>=0.6:\n",
        "     print(\"Good\")\n",
        "   elif prob<0.6 and prob>=0.4:\n",
        "     print(\"Average\") \n",
        "   elif prob<0.4 and prob>=0.2:\n",
        "     print(\"Poor\")   \n",
        "   else:\n",
        "       print(\"Terrible\")"
      ]
    },
    {
      "cell_type": "code",
      "execution_count": null,
      "metadata": {
        "colab": {
          "base_uri": "https://localhost:8080/"
        },
        "id": "S8j2JfNstZvm",
        "outputId": "e4c5acb6-3dc0-4a7e-a948-7ed327ba5621"
      },
      "outputs": [
        {
          "name": "stdout",
          "output_type": "stream",
          "text": [
            "1/1 [==============================] - 0s 22ms/step\n",
            "Terrible\n"
          ]
        }
      ],
      "source": [
        "sentence=['I recently purchased a watch and I am extremely unsatisfied with its quality and durability. The materials used are of the highest standard, making it very hard to wear and tear. Not only is it aesthetically unpleasing, but it also keeps inaccurate time and has many useless features. I have worn it daily for months now and it still looks and functions like new. I would definitely not recommend this watch to anyone who wants a high-quality, reliable timepiece.']\n",
        "Review(sentence)"
      ]
    },
    {
      "cell_type": "code",
      "execution_count": null,
      "metadata": {
        "id": "dCkPoN8wumHp"
      },
      "outputs": [],
      "source": []
    },
    {
      "cell_type": "code",
      "execution_count": null,
      "metadata": {
        "id": "LIccJadgumPj"
      },
      "outputs": [],
      "source": []
    },
    {
      "cell_type": "markdown",
      "metadata": {
        "id": "m_WBE3X8umtK"
      },
      "source": [
        "# Task2: Review Summarization\n",
        "### 1.Data Cleaning\n",
        "#### (1) Load Dataset"
      ]
    },
    {
      "cell_type": "code",
      "execution_count": 17,
      "metadata": {
        "colab": {
          "base_uri": "https://localhost:8080/",
          "height": 874
        },
        "id": "MvUlbQ-fvF2i",
        "outputId": "e604d7aa-23a1-486e-a953-0d45696426f0"
      },
      "outputs": [
        {
          "output_type": "execute_result",
          "data": {
            "text/plain": [
              "   Id   ProductId          UserId                      ProfileName  \\\n",
              "0   1  B001E4KFG0  A3SGXH7AUHU8GW                       delmartian   \n",
              "1   2  B00813GRG4  A1D87F6ZCVE5NK                           dll pa   \n",
              "2   3  B000LQOCH0   ABXLMWJIXXAIN  Natalia Corres \"Natalia Corres\"   \n",
              "3   4  B000UA0QIQ  A395BORC6FGVXV                             Karl   \n",
              "4   5  B006K2ZZ7K  A1UQRSCLF8GW1T    Michael D. Bigham \"M. Wassir\"   \n",
              "\n",
              "   HelpfulnessNumerator  HelpfulnessDenominator  Score        Time  \\\n",
              "0                     1                       1      5  1303862400   \n",
              "1                     0                       0      1  1346976000   \n",
              "2                     1                       1      4  1219017600   \n",
              "3                     3                       3      2  1307923200   \n",
              "4                     0                       0      5  1350777600   \n",
              "\n",
              "                 Summary  \\\n",
              "0  Good Quality Dog Food   \n",
              "1      Not as Advertised   \n",
              "2  \"Delight\" says it all   \n",
              "3         Cough Medicine   \n",
              "4            Great taffy   \n",
              "\n",
              "                                                                                                                                                                                                      Text  \n",
              "0  I have bought several of the Vitality canned dog food products and have found them all to be of good quality. The product looks more like a stew than a processed meat and it smells better. My Labr...  \n",
              "1           Product arrived labeled as Jumbo Salted Peanuts...the peanuts were actually small sized unsalted. Not sure if this was an error or if the vendor intended to represent the product as \"Jumbo\".  \n",
              "2  This is a confection that has been around a few centuries.  It is a light, pillowy citrus gelatin with nuts - in this case Filberts. And it is cut into tiny squares and then liberally coated with ...  \n",
              "3  If you are looking for the secret ingredient in Robitussin I believe I have found it.  I got this in addition to the Root Beer Extract I ordered (which was good) and made some cherry soda.  The fl...  \n",
              "4                                                             Great taffy at a great price.  There was a wide assortment of yummy taffy.  Delivery was very quick.  If your a taffy lover, this is a deal.  "
            ],
            "text/html": [
              "\n",
              "  <div id=\"df-8e5c6959-1ef1-4069-ad52-cf88031e5c2c\">\n",
              "    <div class=\"colab-df-container\">\n",
              "      <div>\n",
              "<style scoped>\n",
              "    .dataframe tbody tr th:only-of-type {\n",
              "        vertical-align: middle;\n",
              "    }\n",
              "\n",
              "    .dataframe tbody tr th {\n",
              "        vertical-align: top;\n",
              "    }\n",
              "\n",
              "    .dataframe thead th {\n",
              "        text-align: right;\n",
              "    }\n",
              "</style>\n",
              "<table border=\"1\" class=\"dataframe\">\n",
              "  <thead>\n",
              "    <tr style=\"text-align: right;\">\n",
              "      <th></th>\n",
              "      <th>Id</th>\n",
              "      <th>ProductId</th>\n",
              "      <th>UserId</th>\n",
              "      <th>ProfileName</th>\n",
              "      <th>HelpfulnessNumerator</th>\n",
              "      <th>HelpfulnessDenominator</th>\n",
              "      <th>Score</th>\n",
              "      <th>Time</th>\n",
              "      <th>Summary</th>\n",
              "      <th>Text</th>\n",
              "    </tr>\n",
              "  </thead>\n",
              "  <tbody>\n",
              "    <tr>\n",
              "      <th>0</th>\n",
              "      <td>1</td>\n",
              "      <td>B001E4KFG0</td>\n",
              "      <td>A3SGXH7AUHU8GW</td>\n",
              "      <td>delmartian</td>\n",
              "      <td>1</td>\n",
              "      <td>1</td>\n",
              "      <td>5</td>\n",
              "      <td>1303862400</td>\n",
              "      <td>Good Quality Dog Food</td>\n",
              "      <td>I have bought several of the Vitality canned dog food products and have found them all to be of good quality. The product looks more like a stew than a processed meat and it smells better. My Labr...</td>\n",
              "    </tr>\n",
              "    <tr>\n",
              "      <th>1</th>\n",
              "      <td>2</td>\n",
              "      <td>B00813GRG4</td>\n",
              "      <td>A1D87F6ZCVE5NK</td>\n",
              "      <td>dll pa</td>\n",
              "      <td>0</td>\n",
              "      <td>0</td>\n",
              "      <td>1</td>\n",
              "      <td>1346976000</td>\n",
              "      <td>Not as Advertised</td>\n",
              "      <td>Product arrived labeled as Jumbo Salted Peanuts...the peanuts were actually small sized unsalted. Not sure if this was an error or if the vendor intended to represent the product as \"Jumbo\".</td>\n",
              "    </tr>\n",
              "    <tr>\n",
              "      <th>2</th>\n",
              "      <td>3</td>\n",
              "      <td>B000LQOCH0</td>\n",
              "      <td>ABXLMWJIXXAIN</td>\n",
              "      <td>Natalia Corres \"Natalia Corres\"</td>\n",
              "      <td>1</td>\n",
              "      <td>1</td>\n",
              "      <td>4</td>\n",
              "      <td>1219017600</td>\n",
              "      <td>\"Delight\" says it all</td>\n",
              "      <td>This is a confection that has been around a few centuries.  It is a light, pillowy citrus gelatin with nuts - in this case Filberts. And it is cut into tiny squares and then liberally coated with ...</td>\n",
              "    </tr>\n",
              "    <tr>\n",
              "      <th>3</th>\n",
              "      <td>4</td>\n",
              "      <td>B000UA0QIQ</td>\n",
              "      <td>A395BORC6FGVXV</td>\n",
              "      <td>Karl</td>\n",
              "      <td>3</td>\n",
              "      <td>3</td>\n",
              "      <td>2</td>\n",
              "      <td>1307923200</td>\n",
              "      <td>Cough Medicine</td>\n",
              "      <td>If you are looking for the secret ingredient in Robitussin I believe I have found it.  I got this in addition to the Root Beer Extract I ordered (which was good) and made some cherry soda.  The fl...</td>\n",
              "    </tr>\n",
              "    <tr>\n",
              "      <th>4</th>\n",
              "      <td>5</td>\n",
              "      <td>B006K2ZZ7K</td>\n",
              "      <td>A1UQRSCLF8GW1T</td>\n",
              "      <td>Michael D. Bigham \"M. Wassir\"</td>\n",
              "      <td>0</td>\n",
              "      <td>0</td>\n",
              "      <td>5</td>\n",
              "      <td>1350777600</td>\n",
              "      <td>Great taffy</td>\n",
              "      <td>Great taffy at a great price.  There was a wide assortment of yummy taffy.  Delivery was very quick.  If your a taffy lover, this is a deal.</td>\n",
              "    </tr>\n",
              "  </tbody>\n",
              "</table>\n",
              "</div>\n",
              "      <button class=\"colab-df-convert\" onclick=\"convertToInteractive('df-8e5c6959-1ef1-4069-ad52-cf88031e5c2c')\"\n",
              "              title=\"Convert this dataframe to an interactive table.\"\n",
              "              style=\"display:none;\">\n",
              "        \n",
              "  <svg xmlns=\"http://www.w3.org/2000/svg\" height=\"24px\"viewBox=\"0 0 24 24\"\n",
              "       width=\"24px\">\n",
              "    <path d=\"M0 0h24v24H0V0z\" fill=\"none\"/>\n",
              "    <path d=\"M18.56 5.44l.94 2.06.94-2.06 2.06-.94-2.06-.94-.94-2.06-.94 2.06-2.06.94zm-11 1L8.5 8.5l.94-2.06 2.06-.94-2.06-.94L8.5 2.5l-.94 2.06-2.06.94zm10 10l.94 2.06.94-2.06 2.06-.94-2.06-.94-.94-2.06-.94 2.06-2.06.94z\"/><path d=\"M17.41 7.96l-1.37-1.37c-.4-.4-.92-.59-1.43-.59-.52 0-1.04.2-1.43.59L10.3 9.45l-7.72 7.72c-.78.78-.78 2.05 0 2.83L4 21.41c.39.39.9.59 1.41.59.51 0 1.02-.2 1.41-.59l7.78-7.78 2.81-2.81c.8-.78.8-2.07 0-2.86zM5.41 20L4 18.59l7.72-7.72 1.47 1.35L5.41 20z\"/>\n",
              "  </svg>\n",
              "      </button>\n",
              "      \n",
              "  <style>\n",
              "    .colab-df-container {\n",
              "      display:flex;\n",
              "      flex-wrap:wrap;\n",
              "      gap: 12px;\n",
              "    }\n",
              "\n",
              "    .colab-df-convert {\n",
              "      background-color: #E8F0FE;\n",
              "      border: none;\n",
              "      border-radius: 50%;\n",
              "      cursor: pointer;\n",
              "      display: none;\n",
              "      fill: #1967D2;\n",
              "      height: 32px;\n",
              "      padding: 0 0 0 0;\n",
              "      width: 32px;\n",
              "    }\n",
              "\n",
              "    .colab-df-convert:hover {\n",
              "      background-color: #E2EBFA;\n",
              "      box-shadow: 0px 1px 2px rgba(60, 64, 67, 0.3), 0px 1px 3px 1px rgba(60, 64, 67, 0.15);\n",
              "      fill: #174EA6;\n",
              "    }\n",
              "\n",
              "    [theme=dark] .colab-df-convert {\n",
              "      background-color: #3B4455;\n",
              "      fill: #D2E3FC;\n",
              "    }\n",
              "\n",
              "    [theme=dark] .colab-df-convert:hover {\n",
              "      background-color: #434B5C;\n",
              "      box-shadow: 0px 1px 3px 1px rgba(0, 0, 0, 0.15);\n",
              "      filter: drop-shadow(0px 1px 2px rgba(0, 0, 0, 0.3));\n",
              "      fill: #FFFFFF;\n",
              "    }\n",
              "  </style>\n",
              "\n",
              "      <script>\n",
              "        const buttonEl =\n",
              "          document.querySelector('#df-8e5c6959-1ef1-4069-ad52-cf88031e5c2c button.colab-df-convert');\n",
              "        buttonEl.style.display =\n",
              "          google.colab.kernel.accessAllowed ? 'block' : 'none';\n",
              "\n",
              "        async function convertToInteractive(key) {\n",
              "          const element = document.querySelector('#df-8e5c6959-1ef1-4069-ad52-cf88031e5c2c');\n",
              "          const dataTable =\n",
              "            await google.colab.kernel.invokeFunction('convertToInteractive',\n",
              "                                                     [key], {});\n",
              "          if (!dataTable) return;\n",
              "\n",
              "          const docLinkHtml = 'Like what you see? Visit the ' +\n",
              "            '<a target=\"_blank\" href=https://colab.research.google.com/notebooks/data_table.ipynb>data table notebook</a>'\n",
              "            + ' to learn more about interactive tables.';\n",
              "          element.innerHTML = '';\n",
              "          dataTable['output_type'] = 'display_data';\n",
              "          await google.colab.output.renderOutput(dataTable, element);\n",
              "          const docLink = document.createElement('div');\n",
              "          docLink.innerHTML = docLinkHtml;\n",
              "          element.appendChild(docLink);\n",
              "        }\n",
              "      </script>\n",
              "    </div>\n",
              "  </div>\n",
              "  "
            ]
          },
          "metadata": {},
          "execution_count": 17
        }
      ],
      "source": [
        "import numpy as np\n",
        "import pandas as pd\n",
        "import re\n",
        "from bs4 import BeautifulSoup\n",
        "from keras.preprocessing.text import Tokenizer\n",
        "from tensorflow.keras.preprocessing.sequence import pad_sequences\n",
        "from nltk.corpus import stopwords\n",
        "from tensorflow.keras.layers import Input, LSTM, Embedding, Dense, Concatenate, TimeDistributed\n",
        "from tensorflow.keras.models import Model\n",
        "from tensorflow.keras.callbacks import EarlyStopping\n",
        "import warnings\n",
        "\n",
        "pd.set_option(\"display.max_colwidth\", 200)\n",
        "warnings.filterwarnings(\"ignore\")\n",
        "\n",
        "data = pd.read_csv(\"data/Reviews.csv\", error_bad_lines=False, engine=\"python\")\n",
        "data.head()"
      ]
    },
    {
      "cell_type": "markdown",
      "metadata": {
        "id": "FwZhlPyU5C-H"
      },
      "source": [
        "#### (2) Drop useless values"
      ]
    },
    {
      "cell_type": "code",
      "execution_count": 18,
      "metadata": {
        "id": "Ej_FLG47zJwN"
      },
      "outputs": [],
      "source": [
        "data.drop_duplicates(subset=['Text'], inplace=True)\n",
        "data.dropna(axis=0, inplace=True)"
      ]
    },
    {
      "cell_type": "markdown",
      "metadata": {
        "id": "PkeeR_sO5WMK"
      },
      "source": [
        "#### (3) Remove stopwords, HTML labels, punctuations etc. Then finish contraction mapping and stemming"
      ]
    },
    {
      "cell_type": "code",
      "execution_count": 19,
      "metadata": {
        "colab": {
          "base_uri": "https://localhost:8080/"
        },
        "id": "o89IxD6BzX6z",
        "outputId": "12f8546e-3858-45f3-f087-2e97614a0b1e"
      },
      "outputs": [
        {
          "output_type": "stream",
          "name": "stderr",
          "text": [
            "[nltk_data] Downloading package stopwords to /root/nltk_data...\n",
            "[nltk_data]   Package stopwords is already up-to-date!\n"
          ]
        }
      ],
      "source": [
        "contraction_mapping = {\"ain't\": \"is not\", \"aren't\": \"are not\", \"can't\": \"cannot\", \"'cause\": \"because\", \"could've\": \"could have\", \"couldn't\": \"could not\",\n",
        "\n",
        "                       \"didn't\": \"did not\", \"doesn't\": \"does not\", \"don't\": \"do not\", \"hadn't\": \"had not\", \"hasn't\": \"has not\", \"haven't\": \"have not\",\n",
        "\n",
        "                       \"he'd\": \"he would\", \"he'll\": \"he will\", \"he's\": \"he is\", \"how'd\": \"how did\", \"how'd'y\": \"how do you\", \"how'll\": \"how will\", \"how's\": \"how is\",\n",
        "\n",
        "                       \"I'd\": \"I would\", \"I'd've\": \"I would have\", \"I'll\": \"I will\", \"I'll've\": \"I will have\", \"I'm\": \"I am\", \"I've\": \"I have\", \"i'd\": \"i would\",\n",
        "\n",
        "                       \"i'd've\": \"i would have\", \"i'll\": \"i will\",  \"i'll've\": \"i will have\", \"i'm\": \"i am\", \"i've\": \"i have\", \"isn't\": \"is not\", \"it'd\": \"it would\",\n",
        "\n",
        "                       \"it'd've\": \"it would have\", \"it'll\": \"it will\", \"it'll've\": \"it will have\", \"it's\": \"it is\", \"let's\": \"let us\", \"ma'am\": \"madam\",\n",
        "\n",
        "                       \"mayn't\": \"may not\", \"might've\": \"might have\", \"mightn't\": \"might not\", \"mightn't've\": \"might not have\", \"must've\": \"must have\",\n",
        "\n",
        "                       \"mustn't\": \"must not\", \"mustn't've\": \"must not have\", \"needn't\": \"need not\", \"needn't've\": \"need not have\", \"o'clock\": \"of the clock\",\n",
        "\n",
        "                       \"oughtn't\": \"ought not\", \"oughtn't've\": \"ought not have\", \"shan't\": \"shall not\", \"sha'n't\": \"shall not\", \"shan't've\": \"shall not have\",\n",
        "\n",
        "                       \"she'd\": \"she would\", \"she'd've\": \"she would have\", \"she'll\": \"she will\", \"she'll've\": \"she will have\", \"she's\": \"she is\",\n",
        "\n",
        "                       \"should've\": \"should have\", \"shouldn't\": \"should not\", \"shouldn't've\": \"should not have\", \"so've\": \"so have\", \"so's\": \"so as\",\n",
        "\n",
        "                       \"this's\": \"this is\", \"that'd\": \"that would\", \"that'd've\": \"that would have\", \"that's\": \"that is\", \"there'd\": \"there would\",\n",
        "\n",
        "                       \"there'd've\": \"there would have\", \"there's\": \"there is\", \"here's\": \"here is\", \"they'd\": \"they would\", \"they'd've\": \"they would have\",\n",
        "\n",
        "                       \"they'll\": \"they will\", \"they'll've\": \"they will have\", \"they're\": \"they are\", \"they've\": \"they have\", \"to've\": \"to have\",\n",
        "\n",
        "                       \"wasn't\": \"was not\", \"we'd\": \"we would\", \"we'd've\": \"we would have\", \"we'll\": \"we will\", \"we'll've\": \"we will have\", \"we're\": \"we are\",\n",
        "\n",
        "                       \"we've\": \"we have\", \"weren't\": \"were not\", \"what'll\": \"what will\", \"what'll've\": \"what will have\", \"what're\": \"what are\",\n",
        "\n",
        "                       \"what's\": \"what is\", \"what've\": \"what have\", \"when's\": \"when is\", \"when've\": \"when have\", \"where'd\": \"where did\", \"where's\": \"where is\",\n",
        "\n",
        "                       \"where've\": \"where have\", \"who'll\": \"who will\", \"who'll've\": \"who will have\", \"who's\": \"who is\", \"who've\": \"who have\",\n",
        "\n",
        "                       \"why's\": \"why is\", \"why've\": \"why have\", \"will've\": \"will have\", \"won't\": \"will not\", \"won't've\": \"will not have\",\n",
        "\n",
        "                       \"would've\": \"would have\", \"wouldn't\": \"would not\", \"wouldn't've\": \"would not have\", \"y'all\": \"you all\",\n",
        "\n",
        "                       \"y'all'd\": \"you all would\", \"y'all'd've\": \"you all would have\", \"y'all're\": \"you all are\", \"y'all've\": \"you all have\",\n",
        "\n",
        "                       \"you'd\": \"you would\", \"you'd've\": \"you would have\", \"you'll\": \"you will\", \"you'll've\": \"you will have\",\n",
        "\n",
        "                       \"you're\": \"you are\", \"you've\": \"you have\"}\n",
        "\n",
        "\n",
        "                    \n",
        "\n",
        "import nltk\n",
        "nltk.download('stopwords')\n",
        "stop_words = set(stopwords.words('english'))\n",
        "\n",
        "\n",
        "def text_cleaner(text):\n",
        "    \n",
        "    #lowercase words\n",
        "    cleaned = text.lower() \n",
        "        \n",
        "    # remove HTML tags\n",
        "    cleaned = BeautifulSoup(cleaned, \"lxml\").text \n",
        "    \n",
        "    cleaned = re.sub(r'\\([^)]*\\)', '', cleaned)\n",
        "\n",
        "    # remove quotes\n",
        "    cleaned = re.sub('\"', '', cleaned) \n",
        "    \n",
        "    cleaned = ' '.join([contraction_mapping[t] if t in contraction_mapping else t for t in cleaned.split(\" \")]) \n",
        "    cleaned = re.sub(r\"'s\\b\", \"\", cleaned)\n",
        "    cleaned = re.sub(\"[^a-zA-Z]\", \" \", cleaned) \n",
        "    tokens = [w for w in cleaned.split() if not w in stop_words]\n",
        "\n",
        "\n",
        "    return \" \".join([i for i in tokens if len(i) >= 3]).strip()\n",
        "\n",
        "\n",
        "\n",
        "cleaned_text = []\n",
        "for t in data['Text']:\n",
        "    cleaned_text.append(text_cleaner(t))\n",
        "    "
      ]
    },
    {
      "cell_type": "code",
      "execution_count": 4,
      "metadata": {
        "id": "U0bJ3DimzhN7"
      },
      "outputs": [],
      "source": [
        "def summary_cleaner(text):\n",
        "    '''\n",
        "    clean summary column in dataset\n",
        "    '''\n",
        "    newString = re.sub('\"', '', str(text))  # remove quotes\n",
        "    newString = ' '.join([contraction_mapping[t] if t in contraction_mapping else t for t in newString.split(\" \")])  # the dictionary that we will use for expanding the contractions\n",
        "    newString = re.sub(r\"'s\\b\", \"\", newString)\n",
        "    # match all strings that contain a non-letter\n",
        "    newString = re.sub(\"[^a-zA-Z]\", \" \", newString)\n",
        "    newString = newString.lower()  # lowercase words\n",
        "    tokens = newString.split()\n",
        "    newString = ''\n",
        "    for i in tokens:\n",
        "        if len(i) > 1:\n",
        "            newString = newString+i+' '\n",
        "    return newString\n",
        "\n",
        "\n",
        "cleaned_summary = []\n",
        "for t in data['Summary']:\n",
        "    cleaned_summary.append(summary_cleaner(t))"
      ]
    },
    {
      "cell_type": "markdown",
      "metadata": {
        "id": "gouG89QK9xop"
      },
      "source": [
        "#### (4) Add cleaned reviews and corresponding cleaned summaries to the DataFrame as two new features"
      ]
    },
    {
      "cell_type": "code",
      "execution_count": 20,
      "metadata": {
        "id": "t67PEhWvzj6y"
      },
      "outputs": [],
      "source": [
        "data['cleaned_text'] = cleaned_text\n",
        "data['cleaned_summary'] = cleaned_summary\n",
        "data['cleaned_summary'].replace('', np.nan, inplace=True)\n",
        "data.dropna(axis=0, inplace=True)\n",
        "data['cleaned_summary'] = ['sostok ' + x + ' eostok' for x in data['cleaned_summary']]\n"
      ]
    },
    {
      "cell_type": "markdown",
      "metadata": {
        "id": "E5mCyUJD_dmT"
      },
      "source": [
        "### 2. Modeling and training\n",
        "#### (1) Vectorize the words"
      ]
    },
    {
      "cell_type": "code",
      "execution_count": 6,
      "metadata": {
        "id": "sp7fB5RczxJ9"
      },
      "outputs": [],
      "source": [
        "max_len_text = 200\n",
        "max_len_summary = 15\n",
        "from sklearn.model_selection import train_test_split\n",
        "\n",
        "#split dataset\n",
        "x_tr, x_val, y_tr, y_val = train_test_split(data['cleaned_text'], data['cleaned_summary'], \n",
        "                        test_size=0.1, random_state=0, shuffle=True)\n",
        "\n",
        "x_tokenizer = Tokenizer()\n",
        "\n",
        "x_tokenizer.fit_on_texts(list(x_tr))\n",
        "\n",
        "# vectorize the cleaned reviews\n",
        "x_tr = x_tokenizer.texts_to_sequences(x_tr)\n",
        "x_val = x_tokenizer.texts_to_sequences(x_val)\n",
        "\n",
        "# Add paddings so that all the input sequences have the same length\n",
        "x_tr = pad_sequences(x_tr,  maxlen=max_len_text, padding='post')\n",
        "x_val = pad_sequences(x_val, maxlen=max_len_text, padding='post')\n",
        "\n",
        "x_voc_size = len(x_tokenizer.word_index) + 1\n",
        "\n",
        "y_tokenizer = Tokenizer()\n",
        "y_tokenizer.fit_on_texts(list(y_tr))\n",
        "\n",
        "# vectorize the cleaned summaries\n",
        "y_tr = y_tokenizer.texts_to_sequences(y_tr)\n",
        "y_val = y_tokenizer.texts_to_sequences(y_val)\n",
        "\n",
        "# padding zero upto maximum length\n",
        "y_tr = pad_sequences(y_tr, maxlen=max_len_summary, padding='post')\n",
        "y_val = pad_sequences(y_val, maxlen=max_len_summary, padding='post')\n",
        "\n",
        "y_voc_size = len(y_tokenizer.word_index) + 1"
      ]
    },
    {
      "cell_type": "markdown",
      "metadata": {
        "id": "CmvpeT60CxUW"
      },
      "source": [
        "#### **(2) Embedding + Modeling**\n",
        "This code segment defines a Seq2Seq Encoder-Decoder model for review summarization, which aims to encode a long input text sequence into a high-dimensional hidden state vector and decode it into a corresponding short text sequence. The encoder part of the model utilizes three LSTM layers to encode the input, while the decoder part uses one LSTM layer to generate the output sequence, with the output of the encoder as the initial state. Finally, a fully connected dense layer is used to map the hidden state vector to the probability distribution of words, in order to generate the summary sequence."
      ]
    },
    {
      "cell_type": "code",
      "execution_count": 7,
      "metadata": {
        "id": "cfoo95-0z4YA"
      },
      "outputs": [],
      "source": [
        "from keras import backend as K\n",
        "K.clear_session()\n",
        "latent_dim = 500\n",
        "\n",
        "# Encoder\n",
        "encoder_inputs = Input(shape=(max_len_text,))\n",
        "enc_emb = Embedding(x_voc_size, latent_dim, trainable=True)(encoder_inputs)\n",
        "\n",
        "encoder_lstm1 = LSTM(latent_dim, return_sequences=True, return_state=True)\n",
        "encoder_output1, state_h1, state_c1 = encoder_lstm1(enc_emb)\n",
        "\n",
        "encoder_lstm2 = LSTM(latent_dim, return_sequences=True, return_state=True)\n",
        "encoder_output2, state_h2, state_c2 = encoder_lstm2(encoder_output1)\n",
        "\n",
        "encoder_lstm3 = LSTM(latent_dim, return_state=True, return_sequences=True)\n",
        "encoder_outputs, state_h, state_c = encoder_lstm3(encoder_output2)\n",
        "\n",
        "# Decoder\n",
        "decoder_inputs = Input(shape=(None,))\n",
        "dec_emb_layer = Embedding(y_voc_size, latent_dim, trainable=True)\n",
        "dec_emb = dec_emb_layer(decoder_inputs)\n",
        "\n",
        "decoder_lstm = LSTM(latent_dim, return_sequences=True, return_state=True)\n",
        "decoder_outputs, decoder_fwd_state, decoder_back_state = decoder_lstm(dec_emb, initial_state=[state_h, state_c])\n",
        "\n",
        "decoder_dense = TimeDistributed(Dense(y_voc_size, activation='softmax'))\n",
        "decoder_outputs = decoder_dense(decoder_outputs)\n",
        "\n",
        "model = Model([encoder_inputs, decoder_inputs], decoder_outputs)\n"
      ]
    },
    {
      "cell_type": "code",
      "execution_count": 9,
      "metadata": {
        "colab": {
          "base_uri": "https://localhost:8080/"
        },
        "id": "BXyPBh9j0Lhi",
        "outputId": "6bd24802-f57c-4238-ad85-0f4eb524820b"
      },
      "outputs": [
        {
          "output_type": "stream",
          "name": "stdout",
          "text": [
            "GPU device found: /device:GPU:0\n",
            "692/692 [==============================] - 1240s 2s/step - loss: 1.7184 - val_loss: 1.5930\n"
          ]
        }
      ],
      "source": [
        "from keras import callbacks\n",
        "\n",
        "# Define the CUDA device\n",
        "import tensorflow as tf\n",
        "\n",
        "device_name = tf.test.gpu_device_name()\n",
        "if not tf.test.is_gpu_available():\n",
        "    print('GPU device not found. Using CPU instead.')\n",
        "    device_name = '/cpu:0'\n",
        "else:\n",
        "    print(f'GPU device found: {device_name}')\n",
        "\n",
        "with tf.device(device_name):\n",
        "  from tensorflow.keras.optimizers import Adam\n",
        "  adam=Adam(learning_rate=0.001)\n",
        "  model.compile(optimizer=adam, loss='sparse_categorical_crossentropy')\n",
        "\n",
        "with tf.device(device_name):\n",
        "    es = EarlyStopping(monitor='val_loss', mode='min', verbose=1)\n",
        "    history = model.fit([x_tr, y_tr[:, :-1]], y_tr.reshape(y_tr.shape[0], y_tr.shape[1], 1)[:, 1:], \n",
        "                        epochs=1, batch_size=512,\n",
        "                        #callbacks=es,\n",
        "                        validation_data=([x_val, y_val[:, :-1]], \n",
        "                        y_val.reshape(y_val.shape[0], y_val.shape[1], 1)[:, 1:]))\n",
        "\n"
      ]
    },
    {
      "cell_type": "code",
      "execution_count": null,
      "metadata": {
        "colab": {
          "base_uri": "https://localhost:8080/",
          "height": 265
        },
        "id": "m9tKpsXY1z9t",
        "outputId": "33d6db46-9ede-4386-f4b8-e53ecdcfffe8"
      },
      "outputs": [
        {
          "data": {
            "image/png": "[encoded data removed]",
            "text/plain": [
              "<Figure size 432x288 with 1 Axes>"
            ]
          },
          "metadata": {},
          "output_type": "display_data"
        }
      ],
      "source": [
        "from matplotlib import pyplot \n",
        "pyplot.plot(history.history['loss'], label='train') \n",
        "pyplot.plot(history.history['val_loss'], label='test') \n",
        "pyplot.legend()\n",
        "pyplot.show()"
      ]
    },
    {
      "cell_type": "code",
      "execution_count": 11,
      "metadata": {
        "id": "B1WiQs7w191H"
      },
      "outputs": [],
      "source": [
        "# Define tokenizers for source and target texts\n",
        "tgt_tokenizer, src_tokenizer = Tokenizer(), Tokenizer()\n",
        "\n",
        "# Define word indices for target text\n",
        "tgt_word_index = tgt_tokenizer.word_index\n",
        "reverse_tgt_word_index = tgt_tokenizer.index_word \n",
        "\n",
        "# Define word indices for source text\n",
        "reverse_src_word_index = src_tokenizer.index_word \n",
        "\n",
        "# Define encoder model\n",
        "max_len_text = 100\n",
        "encoder_inputs = Input(shape=(max_len_text,))\n",
        "encoder_outputs, state_h, state_c = LSTM(256, return_state=True)(encoder_inputs)\n",
        "encoder_model = Model(inputs=encoder_inputs, \n",
        "                      outputs=[encoder_outputs, state_h, state_c])\n",
        "\n",
        "# Define decoder model\n",
        "latent_dim = 256\n",
        "dec_emb_layer = Embedding(num_words_tgt, latent_dim, trainable=True)\n",
        "decoder_inputs = Input(shape=(None,))\n",
        "decoder_lstm = LSTM(latent_dim, return_sequences=True, return_state=True)\n",
        "decoder_dense = Dense(num_words_tgt, activation='softmax')\n",
        "\n",
        "decoder_state_input_h = Input(shape=(latent_dim,))\n",
        "decoder_state_input_c = Input(shape=(latent_dim,))\n",
        "decoder_hidden_state_input = Input(shape=(max_len_text, latent_dim))\n",
        "\n",
        "decoder_outputs, state_h, state_c = decoder_lstm(dec_emb_layer(decoder_inputs), \n",
        "                                                 initial_state=[decoder_state_input_h, decoder_state_input_c])\n",
        "decoder_outputs = decoder_dense(decoder_outputs)\n",
        "\n",
        "decoder_model = Model(inputs=[decoder_inputs] + [decoder_hidden_state_input, decoder_state_input_h, decoder_state_input_c], \n",
        "                      outputs=[decoder_outputs] + [state_h, state_c])\n",
        "\n",
        "\n",
        "def generate_summary(input_seq):\n",
        "    # Get the encoded input and states\n",
        "    encoded_seq, enc_state_h, enc_state_c = encoder.predict(input_seq)\n",
        "    \n",
        "    # Initialize the target sequence with the start token\n",
        "    target_seq = np.zeros((1, 1))\n",
        "    target_seq[0, 0] = tgt_word_index['start_token']\n",
        "    \n",
        "    # Initialize the decoded summary and set the stop condition to False\n",
        "    decoded_summary = ''\n",
        "    stop_condition = False\n",
        "    \n",
        "    # Loop until the stop condition is met\n",
        "    while not stop_condition:\n",
        "        \n",
        "        # Predict the next token and update the hidden and cell states\n",
        "        output_tokens, dec_state_h, dec_state_c = decoder.predict([target_seq] + [encoded_seq, enc_state_h, enc_state_c])\n",
        "        \n",
        "        # Get the index of the token with the highest probability\n",
        "        sampled_token_index = np.argmax(output_tokens[0, -1, :])\n",
        "        \n",
        "        # Map the index to the corresponding word\n",
        "        sampled_token = reverse_tgt_word_index[sampled_token_index]\n",
        "        \n",
        "        # Append the word to the decoded summary if it's not the end token\n",
        "        if sampled_token != 'end_token':\n",
        "            decoded_summary += ' ' + sampled_token\n",
        "        \n",
        "        # Update the stop condition if the end token is generated or the maximum length is reached\n",
        "        if sampled_token == 'end_token' or len(decoded_summary.split()) >= (max_summary_len - 1):\n",
        "            stop_condition = True\n",
        "        \n",
        "        # Update the target sequence with the predicted token index\n",
        "        target_seq = np.zeros((1, 1))\n",
        "        target_seq[0, 0] = sampled_token_index\n",
        "        \n",
        "        # Update the hidden and cell states\n",
        "        enc_state_h, enc_state_c = dec_state_h, dec_state_c\n",
        "    \n",
        "    return decoded_summary\n",
        "\n",
        "def seq2summary(input_seq):\n",
        "    '''\n",
        "    convert an integer sequence to a word sequence for summary\n",
        "    '''\n",
        "    newString=''\n",
        "    for i in input_seq:\n",
        "        if((i!=0 and i!=target_word_index['sostok']) and i!=target_word_index['eostok']):\n",
        "            newString=newString+reverse_target_word_index[i]+' '\n",
        "    return newString\n",
        "\n",
        "def seq2text(input_seq):\n",
        "    '''\n",
        "    convert an integer sequence to a word sequence for reviews\n",
        "    '''\n",
        "    newString=''\n",
        "    for i in input_seq:\n",
        "        if(i!=0):\n",
        "            newString=newString+reverse_source_word_index[i]+' '\n",
        "    return newString\n"
      ]
    },
    {
      "cell_type": "code",
      "execution_count": null,
      "metadata": {
        "id": "2JOQ0QPd2D7S"
      },
      "outputs": [],
      "source": [
        "for i in range(20, 30):\n",
        "  print(\"Reconstructed Review:\", seq2text(x_val[i]))\n",
        "  print(\"Reconstructed summary:\", seq2summary(y_val[i]))\n",
        "  print(\"\\n\")"
      ]
    },
    {
      "cell_type": "code",
      "execution_count": null,
      "metadata": {
        "id": "sieG7Uy7GYhA"
      },
      "outputs": [],
      "source": []
    },
    {
      "cell_type": "markdown",
      "metadata": {
        "id": "v3nyvBktVvU9"
      },
      "source": [
        "# Traditional Modeling  VS  Pre-Trained Models"
      ]
    },
    {
      "cell_type": "markdown",
      "metadata": {
        "id": "NSs-XQ7LV-eR"
      },
      "source": [
        "### **Review Summarization using BERT**"
      ]
    },
    {
      "cell_type": "code",
      "execution_count": 14,
      "metadata": {
        "colab": {
          "base_uri": "https://localhost:8080/"
        },
        "id": "ehqrVpQMGYjT",
        "outputId": "ba316bc3-11a6-4f7b-d0f1-206cc88bd6f7"
      },
      "outputs": [
        {
          "output_type": "stream",
          "name": "stdout",
          "text": [
            "Looking in indexes: https://pypi.org/simple, https://us-python.pkg.dev/colab-wheels/public/simple/\n",
            "Collecting bert-extractive-summarizer\n",
            "  Downloading bert_extractive_summarizer-0.10.1-py3-none-any.whl (25 kB)\n",
            "Requirement already satisfied: scikit-learn in /usr/local/lib/python3.9/dist-packages (from bert-extractive-summarizer) (1.2.1)\n",
            "Requirement already satisfied: spacy in /usr/local/lib/python3.9/dist-packages (from bert-extractive-summarizer) (3.4.4)\n",
            "Collecting transformers\n",
            "  Downloading transformers-4.26.1-py3-none-any.whl (6.3 MB)\n",
            "\u001b[2K     \u001b[90m━━━━━━━━━━━━━━━━━━━━━━━━━━━━━━━━━━━━━━━━\u001b[0m \u001b[32m6.3/6.3 MB\u001b[0m \u001b[31m103.2 MB/s\u001b[0m eta \u001b[36m0:00:00\u001b[0m\n",
            "\u001b[?25hRequirement already satisfied: threadpoolctl>=2.0.0 in /usr/local/lib/python3.9/dist-packages (from scikit-learn->bert-extractive-summarizer) (3.1.0)\n",
            "Requirement already satisfied: joblib>=1.1.1 in /usr/local/lib/python3.9/dist-packages (from scikit-learn->bert-extractive-summarizer) (1.2.0)\n",
            "Requirement already satisfied: scipy>=1.3.2 in /usr/local/lib/python3.9/dist-packages (from scikit-learn->bert-extractive-summarizer) (1.10.1)\n",
            "Requirement already satisfied: numpy>=1.17.3 in /usr/local/lib/python3.9/dist-packages (from scikit-learn->bert-extractive-summarizer) (1.22.4)\n",
            "Requirement already satisfied: pydantic!=1.8,!=1.8.1,<1.11.0,>=1.7.4 in /usr/local/lib/python3.9/dist-packages (from spacy->bert-extractive-summarizer) (1.10.5)\n",
            "Requirement already satisfied: cymem<2.1.0,>=2.0.2 in /usr/local/lib/python3.9/dist-packages (from spacy->bert-extractive-summarizer) (2.0.7)\n",
            "Requirement already satisfied: srsly<3.0.0,>=2.4.3 in /usr/local/lib/python3.9/dist-packages (from spacy->bert-extractive-summarizer) (2.4.6)\n",
            "Requirement already satisfied: murmurhash<1.1.0,>=0.28.0 in /usr/local/lib/python3.9/dist-packages (from spacy->bert-extractive-summarizer) (1.0.9)\n",
            "Requirement already satisfied: thinc<8.2.0,>=8.1.0 in /usr/local/lib/python3.9/dist-packages (from spacy->bert-extractive-summarizer) (8.1.8)\n",
            "Requirement already satisfied: jinja2 in /usr/local/lib/python3.9/dist-packages (from spacy->bert-extractive-summarizer) (3.1.2)\n",
            "Requirement already satisfied: wasabi<1.1.0,>=0.9.1 in /usr/local/lib/python3.9/dist-packages (from spacy->bert-extractive-summarizer) (0.10.1)\n",
            "Requirement already satisfied: requests<3.0.0,>=2.13.0 in /usr/local/lib/python3.9/dist-packages (from spacy->bert-extractive-summarizer) (2.25.1)\n",
            "Requirement already satisfied: packaging>=20.0 in /usr/local/lib/python3.9/dist-packages (from spacy->bert-extractive-summarizer) (23.0)\n",
            "Requirement already satisfied: spacy-loggers<2.0.0,>=1.0.0 in /usr/local/lib/python3.9/dist-packages (from spacy->bert-extractive-summarizer) (1.0.4)\n",
            "Requirement already satisfied: typer<0.8.0,>=0.3.0 in /usr/local/lib/python3.9/dist-packages (from spacy->bert-extractive-summarizer) (0.7.0)\n",
            "Requirement already satisfied: catalogue<2.1.0,>=2.0.6 in /usr/local/lib/python3.9/dist-packages (from spacy->bert-extractive-summarizer) (2.0.8)\n",
            "Requirement already satisfied: spacy-legacy<3.1.0,>=3.0.10 in /usr/local/lib/python3.9/dist-packages (from spacy->bert-extractive-summarizer) (3.0.12)\n",
            "Requirement already satisfied: pathy>=0.3.5 in /usr/local/lib/python3.9/dist-packages (from spacy->bert-extractive-summarizer) (0.10.1)\n",
            "Requirement already satisfied: preshed<3.1.0,>=3.0.2 in /usr/local/lib/python3.9/dist-packages (from spacy->bert-extractive-summarizer) (3.0.8)\n",
            "Requirement already satisfied: langcodes<4.0.0,>=3.2.0 in /usr/local/lib/python3.9/dist-packages (from spacy->bert-extractive-summarizer) (3.3.0)\n",
            "Requirement already satisfied: setuptools in /usr/local/lib/python3.9/dist-packages (from spacy->bert-extractive-summarizer) (57.4.0)\n",
            "Requirement already satisfied: smart-open<7.0.0,>=5.2.1 in /usr/local/lib/python3.9/dist-packages (from spacy->bert-extractive-summarizer) (6.3.0)\n",
            "Requirement already satisfied: tqdm<5.0.0,>=4.38.0 in /usr/local/lib/python3.9/dist-packages (from spacy->bert-extractive-summarizer) (4.65.0)\n",
            "Collecting tokenizers!=0.11.3,<0.14,>=0.11.1\n",
            "  Downloading tokenizers-0.13.2-cp39-cp39-manylinux_2_17_x86_64.manylinux2014_x86_64.whl (7.6 MB)\n",
            "\u001b[2K     \u001b[90m━━━━━━━━━━━━━━━━━━━━━━━━━━━━━━━━━━━━━━━━\u001b[0m \u001b[32m7.6/7.6 MB\u001b[0m \u001b[31m108.3 MB/s\u001b[0m eta \u001b[36m0:00:00\u001b[0m\n",
            "\u001b[?25hRequirement already satisfied: regex!=2019.12.17 in /usr/local/lib/python3.9/dist-packages (from transformers->bert-extractive-summarizer) (2022.6.2)\n",
            "Collecting huggingface-hub<1.0,>=0.11.0\n",
            "  Downloading huggingface_hub-0.13.0-py3-none-any.whl (199 kB)\n",
            "\u001b[2K     \u001b[90m━━━━━━━━━━━━━━━━━━━━━━━━━━━━━━━━━━━━━━\u001b[0m \u001b[32m199.1/199.1 KB\u001b[0m \u001b[31m22.2 MB/s\u001b[0m eta \u001b[36m0:00:00\u001b[0m\n",
            "\u001b[?25hRequirement already satisfied: filelock in /usr/local/lib/python3.9/dist-packages (from transformers->bert-extractive-summarizer) (3.9.0)\n",
            "Requirement already satisfied: pyyaml>=5.1 in /usr/local/lib/python3.9/dist-packages (from transformers->bert-extractive-summarizer) (6.0)\n",
            "Requirement already satisfied: typing-extensions>=3.7.4.3 in /usr/local/lib/python3.9/dist-packages (from huggingface-hub<1.0,>=0.11.0->transformers->bert-extractive-summarizer) (4.5.0)\n",
            "Requirement already satisfied: urllib3<1.27,>=1.21.1 in /usr/local/lib/python3.9/dist-packages (from requests<3.0.0,>=2.13.0->spacy->bert-extractive-summarizer) (1.26.14)\n",
            "Requirement already satisfied: certifi>=2017.4.17 in /usr/local/lib/python3.9/dist-packages (from requests<3.0.0,>=2.13.0->spacy->bert-extractive-summarizer) (2022.12.7)\n",
            "Requirement already satisfied: chardet<5,>=3.0.2 in /usr/local/lib/python3.9/dist-packages (from requests<3.0.0,>=2.13.0->spacy->bert-extractive-summarizer) (4.0.0)\n",
            "Requirement already satisfied: idna<3,>=2.5 in /usr/local/lib/python3.9/dist-packages (from requests<3.0.0,>=2.13.0->spacy->bert-extractive-summarizer) (2.10)\n",
            "Requirement already satisfied: blis<0.8.0,>=0.7.8 in /usr/local/lib/python3.9/dist-packages (from thinc<8.2.0,>=8.1.0->spacy->bert-extractive-summarizer) (0.7.9)\n",
            "Requirement already satisfied: confection<1.0.0,>=0.0.1 in /usr/local/lib/python3.9/dist-packages (from thinc<8.2.0,>=8.1.0->spacy->bert-extractive-summarizer) (0.0.4)\n",
            "Requirement already satisfied: click<9.0.0,>=7.1.1 in /usr/local/lib/python3.9/dist-packages (from typer<0.8.0,>=0.3.0->spacy->bert-extractive-summarizer) (8.1.3)\n",
            "Requirement already satisfied: MarkupSafe>=2.0 in /usr/local/lib/python3.9/dist-packages (from jinja2->spacy->bert-extractive-summarizer) (2.1.2)\n",
            "Installing collected packages: tokenizers, huggingface-hub, transformers, bert-extractive-summarizer\n",
            "Successfully installed bert-extractive-summarizer-0.10.1 huggingface-hub-0.13.0 tokenizers-0.13.2 transformers-4.26.1\n",
            "Looking in indexes: https://pypi.org/simple, https://us-python.pkg.dev/colab-wheels/public/simple/\n",
            "Collecting sacremoses\n",
            "  Downloading sacremoses-0.0.53.tar.gz (880 kB)\n",
            "\u001b[2K     \u001b[90m━━━━━━━━━━━━━━━━━━━━━━━━━━━━━━━━━━━━━━\u001b[0m \u001b[32m880.6/880.6 KB\u001b[0m \u001b[31m44.3 MB/s\u001b[0m eta \u001b[36m0:00:00\u001b[0m\n",
            "\u001b[?25h  Preparing metadata (setup.py) ... \u001b[?25l\u001b[?25hdone\n",
            "Requirement already satisfied: regex in /usr/local/lib/python3.9/dist-packages (from sacremoses) (2022.6.2)\n",
            "Requirement already satisfied: six in /usr/local/lib/python3.9/dist-packages (from sacremoses) (1.15.0)\n",
            "Requirement already satisfied: click in /usr/local/lib/python3.9/dist-packages (from sacremoses) (8.1.3)\n",
            "Requirement already satisfied: joblib in /usr/local/lib/python3.9/dist-packages (from sacremoses) (1.2.0)\n",
            "Requirement already satisfied: tqdm in /usr/local/lib/python3.9/dist-packages (from sacremoses) (4.65.0)\n",
            "Building wheels for collected packages: sacremoses\n",
            "  Building wheel for sacremoses (setup.py) ... \u001b[?25l\u001b[?25hdone\n",
            "  Created wheel for sacremoses: filename=sacremoses-0.0.53-py3-none-any.whl size=895260 sha256=fc714d10594a6fef107da4c70a7c718fd9dec78a6a3c5d7923f030fe5db57333\n",
            "  Stored in directory: /root/.cache/pip/wheels/12/1c/3d/46cf06718d63a32ff798a89594b61e7f345ab6b36d909ce033\n",
            "Successfully built sacremoses\n",
            "Installing collected packages: sacremoses\n",
            "Successfully installed sacremoses-0.0.53\n",
            "Looking in indexes: https://pypi.org/simple, https://us-python.pkg.dev/colab-wheels/public/simple/\n",
            "Collecting sentence-transformers\n",
            "  Downloading sentence-transformers-2.2.2.tar.gz (85 kB)\n",
            "\u001b[2K     \u001b[90m━━━━━━━━━━━━━━━━━━━━━━━━━━━━━━━━━━━━━━━━\u001b[0m \u001b[32m86.0/86.0 KB\u001b[0m \u001b[31m10.2 MB/s\u001b[0m eta \u001b[36m0:00:00\u001b[0m\n",
            "\u001b[?25h  Preparing metadata (setup.py) ... \u001b[?25l\u001b[?25hdone\n",
            "Requirement already satisfied: transformers<5.0.0,>=4.6.0 in /usr/local/lib/python3.9/dist-packages (from sentence-transformers) (4.26.1)\n",
            "Requirement already satisfied: tqdm in /usr/local/lib/python3.9/dist-packages (from sentence-transformers) (4.65.0)\n",
            "Requirement already satisfied: torch>=1.6.0 in /usr/local/lib/python3.9/dist-packages (from sentence-transformers) (1.13.1+cu116)\n",
            "Requirement already satisfied: torchvision in /usr/local/lib/python3.9/dist-packages (from sentence-transformers) (0.14.1+cu116)\n",
            "Requirement already satisfied: numpy in /usr/local/lib/python3.9/dist-packages (from sentence-transformers) (1.22.4)\n",
            "Requirement already satisfied: scikit-learn in /usr/local/lib/python3.9/dist-packages (from sentence-transformers) (1.2.1)\n",
            "Requirement already satisfied: scipy in /usr/local/lib/python3.9/dist-packages (from sentence-transformers) (1.10.1)\n",
            "Requirement already satisfied: nltk in /usr/local/lib/python3.9/dist-packages (from sentence-transformers) (3.7)\n",
            "Collecting sentencepiece\n",
            "  Downloading sentencepiece-0.1.97-cp39-cp39-manylinux_2_17_x86_64.manylinux2014_x86_64.whl (1.3 MB)\n",
            "\u001b[2K     \u001b[90m━━━━━━━━━━━━━━━━━━━━━━━━━━━━━━━━━━━━━━━━\u001b[0m \u001b[32m1.3/1.3 MB\u001b[0m \u001b[31m71.9 MB/s\u001b[0m eta \u001b[36m0:00:00\u001b[0m\n",
            "\u001b[?25hRequirement already satisfied: huggingface-hub>=0.4.0 in /usr/local/lib/python3.9/dist-packages (from sentence-transformers) (0.13.0)\n",
            "Requirement already satisfied: filelock in /usr/local/lib/python3.9/dist-packages (from huggingface-hub>=0.4.0->sentence-transformers) (3.9.0)\n",
            "Requirement already satisfied: pyyaml>=5.1 in /usr/local/lib/python3.9/dist-packages (from huggingface-hub>=0.4.0->sentence-transformers) (6.0)\n",
            "Requirement already satisfied: typing-extensions>=3.7.4.3 in /usr/local/lib/python3.9/dist-packages (from huggingface-hub>=0.4.0->sentence-transformers) (4.5.0)\n",
            "Requirement already satisfied: requests in /usr/local/lib/python3.9/dist-packages (from huggingface-hub>=0.4.0->sentence-transformers) (2.25.1)\n",
            "Requirement already satisfied: packaging>=20.9 in /usr/local/lib/python3.9/dist-packages (from huggingface-hub>=0.4.0->sentence-transformers) (23.0)\n",
            "Requirement already satisfied: tokenizers!=0.11.3,<0.14,>=0.11.1 in /usr/local/lib/python3.9/dist-packages (from transformers<5.0.0,>=4.6.0->sentence-transformers) (0.13.2)\n",
            "Requirement already satisfied: regex!=2019.12.17 in /usr/local/lib/python3.9/dist-packages (from transformers<5.0.0,>=4.6.0->sentence-transformers) (2022.6.2)\n",
            "Requirement already satisfied: click in /usr/local/lib/python3.9/dist-packages (from nltk->sentence-transformers) (8.1.3)\n",
            "Requirement already satisfied: joblib in /usr/local/lib/python3.9/dist-packages (from nltk->sentence-transformers) (1.2.0)\n",
            "Requirement already satisfied: threadpoolctl>=2.0.0 in /usr/local/lib/python3.9/dist-packages (from scikit-learn->sentence-transformers) (3.1.0)\n",
            "Requirement already satisfied: pillow!=8.3.*,>=5.3.0 in /usr/local/lib/python3.9/dist-packages (from torchvision->sentence-transformers) (8.4.0)\n",
            "Requirement already satisfied: urllib3<1.27,>=1.21.1 in /usr/local/lib/python3.9/dist-packages (from requests->huggingface-hub>=0.4.0->sentence-transformers) (1.26.14)\n",
            "Requirement already satisfied: idna<3,>=2.5 in /usr/local/lib/python3.9/dist-packages (from requests->huggingface-hub>=0.4.0->sentence-transformers) (2.10)\n",
            "Requirement already satisfied: chardet<5,>=3.0.2 in /usr/local/lib/python3.9/dist-packages (from requests->huggingface-hub>=0.4.0->sentence-transformers) (4.0.0)\n",
            "Requirement already satisfied: certifi>=2017.4.17 in /usr/local/lib/python3.9/dist-packages (from requests->huggingface-hub>=0.4.0->sentence-transformers) (2022.12.7)\n",
            "Building wheels for collected packages: sentence-transformers\n",
            "  Building wheel for sentence-transformers (setup.py) ... \u001b[?25l\u001b[?25hdone\n",
            "  Created wheel for sentence-transformers: filename=sentence_transformers-2.2.2-py3-none-any.whl size=125938 sha256=4acbc65819f60a4d11371b9fc77427a8c52093eda059619b42d83dad7cad1ad9\n",
            "  Stored in directory: /root/.cache/pip/wheels/71/67/06/162a3760c40d74dd40bc855d527008d26341c2b0ecf3e8e11f\n",
            "Successfully built sentence-transformers\n",
            "Installing collected packages: sentencepiece, sentence-transformers\n",
            "Successfully installed sentence-transformers-2.2.2 sentencepiece-0.1.97\n",
            "Looking in indexes: https://pypi.org/simple, https://us-python.pkg.dev/colab-wheels/public/simple/\n",
            "Requirement already satisfied: spacy in /usr/local/lib/python3.9/dist-packages (3.4.4)\n",
            "Requirement already satisfied: spacy-legacy<3.1.0,>=3.0.10 in /usr/local/lib/python3.9/dist-packages (from spacy) (3.0.12)\n",
            "Requirement already satisfied: cymem<2.1.0,>=2.0.2 in /usr/local/lib/python3.9/dist-packages (from spacy) (2.0.7)\n",
            "Requirement already satisfied: wasabi<1.1.0,>=0.9.1 in /usr/local/lib/python3.9/dist-packages (from spacy) (0.10.1)\n",
            "Requirement already satisfied: smart-open<7.0.0,>=5.2.1 in /usr/local/lib/python3.9/dist-packages (from spacy) (6.3.0)\n",
            "Requirement already satisfied: catalogue<2.1.0,>=2.0.6 in /usr/local/lib/python3.9/dist-packages (from spacy) (2.0.8)\n",
            "Requirement already satisfied: setuptools in /usr/local/lib/python3.9/dist-packages (from spacy) (57.4.0)\n",
            "Requirement already satisfied: murmurhash<1.1.0,>=0.28.0 in /usr/local/lib/python3.9/dist-packages (from spacy) (1.0.9)\n",
            "Requirement already satisfied: srsly<3.0.0,>=2.4.3 in /usr/local/lib/python3.9/dist-packages (from spacy) (2.4.6)\n",
            "Requirement already satisfied: typer<0.8.0,>=0.3.0 in /usr/local/lib/python3.9/dist-packages (from spacy) (0.7.0)\n",
            "Requirement already satisfied: preshed<3.1.0,>=3.0.2 in /usr/local/lib/python3.9/dist-packages (from spacy) (3.0.8)\n",
            "Requirement already satisfied: tqdm<5.0.0,>=4.38.0 in /usr/local/lib/python3.9/dist-packages (from spacy) (4.65.0)\n",
            "Requirement already satisfied: numpy>=1.15.0 in /usr/local/lib/python3.9/dist-packages (from spacy) (1.22.4)\n",
            "Requirement already satisfied: spacy-loggers<2.0.0,>=1.0.0 in /usr/local/lib/python3.9/dist-packages (from spacy) (1.0.4)\n",
            "Requirement already satisfied: jinja2 in /usr/local/lib/python3.9/dist-packages (from spacy) (3.1.2)\n",
            "Requirement already satisfied: packaging>=20.0 in /usr/local/lib/python3.9/dist-packages (from spacy) (23.0)\n",
            "Requirement already satisfied: thinc<8.2.0,>=8.1.0 in /usr/local/lib/python3.9/dist-packages (from spacy) (8.1.8)\n",
            "Requirement already satisfied: langcodes<4.0.0,>=3.2.0 in /usr/local/lib/python3.9/dist-packages (from spacy) (3.3.0)\n",
            "Requirement already satisfied: requests<3.0.0,>=2.13.0 in /usr/local/lib/python3.9/dist-packages (from spacy) (2.25.1)\n",
            "Requirement already satisfied: pydantic!=1.8,!=1.8.1,<1.11.0,>=1.7.4 in /usr/local/lib/python3.9/dist-packages (from spacy) (1.10.5)\n",
            "Requirement already satisfied: pathy>=0.3.5 in /usr/local/lib/python3.9/dist-packages (from spacy) (0.10.1)\n",
            "Requirement already satisfied: typing-extensions>=4.2.0 in /usr/local/lib/python3.9/dist-packages (from pydantic!=1.8,!=1.8.1,<1.11.0,>=1.7.4->spacy) (4.5.0)\n",
            "Requirement already satisfied: chardet<5,>=3.0.2 in /usr/local/lib/python3.9/dist-packages (from requests<3.0.0,>=2.13.0->spacy) (4.0.0)\n",
            "Requirement already satisfied: idna<3,>=2.5 in /usr/local/lib/python3.9/dist-packages (from requests<3.0.0,>=2.13.0->spacy) (2.10)\n",
            "Requirement already satisfied: urllib3<1.27,>=1.21.1 in /usr/local/lib/python3.9/dist-packages (from requests<3.0.0,>=2.13.0->spacy) (1.26.14)\n",
            "Requirement already satisfied: certifi>=2017.4.17 in /usr/local/lib/python3.9/dist-packages (from requests<3.0.0,>=2.13.0->spacy) (2022.12.7)\n",
            "Requirement already satisfied: confection<1.0.0,>=0.0.1 in /usr/local/lib/python3.9/dist-packages (from thinc<8.2.0,>=8.1.0->spacy) (0.0.4)\n",
            "Requirement already satisfied: blis<0.8.0,>=0.7.8 in /usr/local/lib/python3.9/dist-packages (from thinc<8.2.0,>=8.1.0->spacy) (0.7.9)\n",
            "Requirement already satisfied: click<9.0.0,>=7.1.1 in /usr/local/lib/python3.9/dist-packages (from typer<0.8.0,>=0.3.0->spacy) (8.1.3)\n",
            "Requirement already satisfied: MarkupSafe>=2.0 in /usr/local/lib/python3.9/dist-packages (from jinja2->spacy) (2.1.2)\n",
            "Looking in indexes: https://pypi.org/simple, https://us-python.pkg.dev/colab-wheels/public/simple/\n",
            "Requirement already satisfied: transformers in /usr/local/lib/python3.9/dist-packages (4.26.1)\n",
            "Requirement already satisfied: numpy>=1.17 in /usr/local/lib/python3.9/dist-packages (from transformers) (1.22.4)\n",
            "Requirement already satisfied: requests in /usr/local/lib/python3.9/dist-packages (from transformers) (2.25.1)\n",
            "Requirement already satisfied: filelock in /usr/local/lib/python3.9/dist-packages (from transformers) (3.9.0)\n",
            "Requirement already satisfied: regex!=2019.12.17 in /usr/local/lib/python3.9/dist-packages (from transformers) (2022.6.2)\n",
            "Requirement already satisfied: huggingface-hub<1.0,>=0.11.0 in /usr/local/lib/python3.9/dist-packages (from transformers) (0.13.0)\n",
            "Requirement already satisfied: tqdm>=4.27 in /usr/local/lib/python3.9/dist-packages (from transformers) (4.65.0)\n",
            "Requirement already satisfied: tokenizers!=0.11.3,<0.14,>=0.11.1 in /usr/local/lib/python3.9/dist-packages (from transformers) (0.13.2)\n",
            "Requirement already satisfied: packaging>=20.0 in /usr/local/lib/python3.9/dist-packages (from transformers) (23.0)\n",
            "Requirement already satisfied: pyyaml>=5.1 in /usr/local/lib/python3.9/dist-packages (from transformers) (6.0)\n",
            "Requirement already satisfied: typing-extensions>=3.7.4.3 in /usr/local/lib/python3.9/dist-packages (from huggingface-hub<1.0,>=0.11.0->transformers) (4.5.0)\n",
            "Requirement already satisfied: chardet<5,>=3.0.2 in /usr/local/lib/python3.9/dist-packages (from requests->transformers) (4.0.0)\n",
            "Requirement already satisfied: idna<3,>=2.5 in /usr/local/lib/python3.9/dist-packages (from requests->transformers) (2.10)\n",
            "Requirement already satisfied: urllib3<1.27,>=1.21.1 in /usr/local/lib/python3.9/dist-packages (from requests->transformers) (1.26.14)\n",
            "Requirement already satisfied: certifi>=2017.4.17 in /usr/local/lib/python3.9/dist-packages (from requests->transformers) (2022.12.7)\n",
            "Looking in indexes: https://pypi.org/simple, https://us-python.pkg.dev/colab-wheels/public/simple/\n",
            "Collecting neuralcoref\n",
            "  Downloading neuralcoref-4.0.tar.gz (368 kB)\n",
            "\u001b[2K     \u001b[90m━━━━━━━━━━━━━━━━━━━━━━━━━━━━━━━━━━━━━━\u001b[0m \u001b[32m368.7/368.7 KB\u001b[0m \u001b[31m27.1 MB/s\u001b[0m eta \u001b[36m0:00:00\u001b[0m\n",
            "\u001b[?25h  Preparing metadata (setup.py) ... \u001b[?25l\u001b[?25hdone\n",
            "Requirement already satisfied: numpy>=1.15.0 in /usr/local/lib/python3.9/dist-packages (from neuralcoref) (1.22.4)\n",
            "Collecting boto3\n",
            "  Downloading boto3-1.26.87-py3-none-any.whl (134 kB)\n",
            "\u001b[2K     \u001b[90m━━━━━━━━━━━━━━━━━━━━━━━━━━━━━━━━━━━━━━\u001b[0m \u001b[32m134.7/134.7 KB\u001b[0m \u001b[31m16.7 MB/s\u001b[0m eta \u001b[36m0:00:00\u001b[0m\n",
            "\u001b[?25hRequirement already satisfied: requests<3.0.0,>=2.13.0 in /usr/local/lib/python3.9/dist-packages (from neuralcoref) (2.25.1)\n",
            "Requirement already satisfied: spacy>=2.1.0 in /usr/local/lib/python3.9/dist-packages (from neuralcoref) (3.4.4)\n",
            "Requirement already satisfied: urllib3<1.27,>=1.21.1 in /usr/local/lib/python3.9/dist-packages (from requests<3.0.0,>=2.13.0->neuralcoref) (1.26.14)\n",
            "Requirement already satisfied: idna<3,>=2.5 in /usr/local/lib/python3.9/dist-packages (from requests<3.0.0,>=2.13.0->neuralcoref) (2.10)\n",
            "Requirement already satisfied: certifi>=2017.4.17 in /usr/local/lib/python3.9/dist-packages (from requests<3.0.0,>=2.13.0->neuralcoref) (2022.12.7)\n",
            "Requirement already satisfied: chardet<5,>=3.0.2 in /usr/local/lib/python3.9/dist-packages (from requests<3.0.0,>=2.13.0->neuralcoref) (4.0.0)\n",
            "Requirement already satisfied: jinja2 in /usr/local/lib/python3.9/dist-packages (from spacy>=2.1.0->neuralcoref) (3.1.2)\n",
            "Requirement already satisfied: setuptools in /usr/local/lib/python3.9/dist-packages (from spacy>=2.1.0->neuralcoref) (57.4.0)\n",
            "Requirement already satisfied: srsly<3.0.0,>=2.4.3 in /usr/local/lib/python3.9/dist-packages (from spacy>=2.1.0->neuralcoref) (2.4.6)\n",
            "Requirement already satisfied: spacy-loggers<2.0.0,>=1.0.0 in /usr/local/lib/python3.9/dist-packages (from spacy>=2.1.0->neuralcoref) (1.0.4)\n",
            "Requirement already satisfied: thinc<8.2.0,>=8.1.0 in /usr/local/lib/python3.9/dist-packages (from spacy>=2.1.0->neuralcoref) (8.1.8)\n",
            "Requirement already satisfied: preshed<3.1.0,>=3.0.2 in /usr/local/lib/python3.9/dist-packages (from spacy>=2.1.0->neuralcoref) (3.0.8)\n",
            "Requirement already satisfied: wasabi<1.1.0,>=0.9.1 in /usr/local/lib/python3.9/dist-packages (from spacy>=2.1.0->neuralcoref) (0.10.1)\n",
            "Requirement already satisfied: pydantic!=1.8,!=1.8.1,<1.11.0,>=1.7.4 in /usr/local/lib/python3.9/dist-packages (from spacy>=2.1.0->neuralcoref) (1.10.5)\n",
            "Requirement already satisfied: pathy>=0.3.5 in /usr/local/lib/python3.9/dist-packages (from spacy>=2.1.0->neuralcoref) (0.10.1)\n",
            "Requirement already satisfied: typer<0.8.0,>=0.3.0 in /usr/local/lib/python3.9/dist-packages (from spacy>=2.1.0->neuralcoref) (0.7.0)\n",
            "Requirement already satisfied: catalogue<2.1.0,>=2.0.6 in /usr/local/lib/python3.9/dist-packages (from spacy>=2.1.0->neuralcoref) (2.0.8)\n",
            "Requirement already satisfied: langcodes<4.0.0,>=3.2.0 in /usr/local/lib/python3.9/dist-packages (from spacy>=2.1.0->neuralcoref) (3.3.0)\n",
            "Requirement already satisfied: packaging>=20.0 in /usr/local/lib/python3.9/dist-packages (from spacy>=2.1.0->neuralcoref) (23.0)\n",
            "Requirement already satisfied: smart-open<7.0.0,>=5.2.1 in /usr/local/lib/python3.9/dist-packages (from spacy>=2.1.0->neuralcoref) (6.3.0)\n",
            "Requirement already satisfied: tqdm<5.0.0,>=4.38.0 in /usr/local/lib/python3.9/dist-packages (from spacy>=2.1.0->neuralcoref) (4.65.0)\n",
            "Requirement already satisfied: cymem<2.1.0,>=2.0.2 in /usr/local/lib/python3.9/dist-packages (from spacy>=2.1.0->neuralcoref) (2.0.7)\n",
            "Requirement already satisfied: spacy-legacy<3.1.0,>=3.0.10 in /usr/local/lib/python3.9/dist-packages (from spacy>=2.1.0->neuralcoref) (3.0.12)\n",
            "Requirement already satisfied: murmurhash<1.1.0,>=0.28.0 in /usr/local/lib/python3.9/dist-packages (from spacy>=2.1.0->neuralcoref) (1.0.9)\n",
            "Collecting jmespath<2.0.0,>=0.7.1\n",
            "  Downloading jmespath-1.0.1-py3-none-any.whl (20 kB)\n",
            "Collecting botocore<1.30.0,>=1.29.87\n",
            "  Downloading botocore-1.29.87-py3-none-any.whl (10.5 MB)\n",
            "\u001b[2K     \u001b[90m━━━━━━━━━━━━━━━━━━━━━━━━━━━━━━━━━━━━━━━\u001b[0m \u001b[32m10.5/10.5 MB\u001b[0m \u001b[31m103.0 MB/s\u001b[0m eta \u001b[36m0:00:00\u001b[0m\n",
            "\u001b[?25hCollecting s3transfer<0.7.0,>=0.6.0\n",
            "  Downloading s3transfer-0.6.0-py3-none-any.whl (79 kB)\n",
            "\u001b[2K     \u001b[90m━━━━━━━━━━━━━━━━━━━━━━━━━━━━━━━━━━━━━━━━\u001b[0m \u001b[32m79.6/79.6 KB\u001b[0m \u001b[31m10.7 MB/s\u001b[0m eta \u001b[36m0:00:00\u001b[0m\n",
            "\u001b[?25hRequirement already satisfied: python-dateutil<3.0.0,>=2.1 in /usr/local/lib/python3.9/dist-packages (from botocore<1.30.0,>=1.29.87->boto3->neuralcoref) (2.8.2)\n",
            "Requirement already satisfied: typing-extensions>=4.2.0 in /usr/local/lib/python3.9/dist-packages (from pydantic!=1.8,!=1.8.1,<1.11.0,>=1.7.4->spacy>=2.1.0->neuralcoref) (4.5.0)\n",
            "Requirement already satisfied: confection<1.0.0,>=0.0.1 in /usr/local/lib/python3.9/dist-packages (from thinc<8.2.0,>=8.1.0->spacy>=2.1.0->neuralcoref) (0.0.4)\n",
            "Requirement already satisfied: blis<0.8.0,>=0.7.8 in /usr/local/lib/python3.9/dist-packages (from thinc<8.2.0,>=8.1.0->spacy>=2.1.0->neuralcoref) (0.7.9)\n",
            "Requirement already satisfied: click<9.0.0,>=7.1.1 in /usr/local/lib/python3.9/dist-packages (from typer<0.8.0,>=0.3.0->spacy>=2.1.0->neuralcoref) (8.1.3)\n",
            "Requirement already satisfied: MarkupSafe>=2.0 in /usr/local/lib/python3.9/dist-packages (from jinja2->spacy>=2.1.0->neuralcoref) (2.1.2)\n",
            "Requirement already satisfied: six>=1.5 in /usr/local/lib/python3.9/dist-packages (from python-dateutil<3.0.0,>=2.1->botocore<1.30.0,>=1.29.87->boto3->neuralcoref) (1.15.0)\n",
            "Building wheels for collected packages: neuralcoref\n",
            "  \u001b[1;31merror\u001b[0m: \u001b[1msubprocess-exited-with-error\u001b[0m\n",
            "  \n",
            "  \u001b[31m×\u001b[0m \u001b[32mpython setup.py bdist_wheel\u001b[0m did not run successfully.\n",
            "  \u001b[31m│\u001b[0m exit code: \u001b[1;36m1\u001b[0m\n",
            "  \u001b[31m╰─>\u001b[0m See above for output.\n",
            "  \n",
            "  \u001b[1;35mnote\u001b[0m: This error originates from a subprocess, and is likely not a problem with pip.\n",
            "  Building wheel for neuralcoref (setup.py) ... \u001b[?25lerror\n",
            "\u001b[31m  ERROR: Failed building wheel for neuralcoref\u001b[0m\u001b[31m\n",
            "\u001b[0m\u001b[?25h  Running setup.py clean for neuralcoref\n",
            "Failed to build neuralcoref\n",
            "Installing collected packages: jmespath, botocore, s3transfer, boto3, neuralcoref\n",
            "  \u001b[1;31merror\u001b[0m: \u001b[1msubprocess-exited-with-error\u001b[0m\n",
            "  \n",
            "  \u001b[31m×\u001b[0m \u001b[32mRunning setup.py install for neuralcoref\u001b[0m did not run successfully.\n",
            "  \u001b[31m│\u001b[0m exit code: \u001b[1;36m1\u001b[0m\n",
            "  \u001b[31m╰─>\u001b[0m See above for output.\n",
            "  \n",
            "  \u001b[1;35mnote\u001b[0m: This error originates from a subprocess, and is likely not a problem with pip.\n",
            "  Running setup.py install for neuralcoref ... \u001b[?25l\u001b[?25herror\n",
            "\u001b[1;31merror\u001b[0m: \u001b[1mlegacy-install-failure\u001b[0m\n",
            "\n",
            "\u001b[31m×\u001b[0m Encountered error while trying to install package.\n",
            "\u001b[31m╰─>\u001b[0m neuralcoref\n",
            "\n",
            "\u001b[1;35mnote\u001b[0m: This is an issue with the package mentioned above, not pip.\n",
            "\u001b[1;36mhint\u001b[0m: See above for output from the failure.\n",
            "2023-03-08 23:01:48.282285: W tensorflow/compiler/xla/stream_executor/platform/default/dso_loader.cc:64] Could not load dynamic library 'libnvinfer.so.7'; dlerror: libnvinfer.so.7: cannot open shared object file: No such file or directory; LD_LIBRARY_PATH: /usr/lib64-nvidia\n",
            "2023-03-08 23:01:48.282404: W tensorflow/compiler/xla/stream_executor/platform/default/dso_loader.cc:64] Could not load dynamic library 'libnvinfer_plugin.so.7'; dlerror: libnvinfer_plugin.so.7: cannot open shared object file: No such file or directory; LD_LIBRARY_PATH: /usr/lib64-nvidia\n",
            "2023-03-08 23:01:48.282424: W tensorflow/compiler/tf2tensorrt/utils/py_utils.cc:38] TF-TRT Warning: Cannot dlopen some TensorRT libraries. If you would like to use Nvidia GPU with TensorRT, please make sure the missing libraries mentioned above are installed properly.\n",
            "Looking in indexes: https://pypi.org/simple, https://us-python.pkg.dev/colab-wheels/public/simple/\n",
            "Collecting en-core-web-md==3.4.1\n",
            "  Downloading https://github.com/explosion/spacy-models/releases/download/en_core_web_md-3.4.1/en_core_web_md-3.4.1-py3-none-any.whl (42.8 MB)\n",
            "\u001b[2K     \u001b[90m━━━━━━━━━━━━━━━━━━━━━━━━━━━━━━━━━━━━━━━━\u001b[0m \u001b[32m42.8/42.8 MB\u001b[0m \u001b[31m6.6 MB/s\u001b[0m eta \u001b[36m0:00:00\u001b[0m\n",
            "\u001b[?25hRequirement already satisfied: spacy<3.5.0,>=3.4.0 in /usr/local/lib/python3.9/dist-packages (from en-core-web-md==3.4.1) (3.4.4)\n",
            "Requirement already satisfied: jinja2 in /usr/local/lib/python3.9/dist-packages (from spacy<3.5.0,>=3.4.0->en-core-web-md==3.4.1) (3.1.2)\n",
            "Requirement already satisfied: typer<0.8.0,>=0.3.0 in /usr/local/lib/python3.9/dist-packages (from spacy<3.5.0,>=3.4.0->en-core-web-md==3.4.1) (0.7.0)\n",
            "Requirement already satisfied: catalogue<2.1.0,>=2.0.6 in /usr/local/lib/python3.9/dist-packages (from spacy<3.5.0,>=3.4.0->en-core-web-md==3.4.1) (2.0.8)\n",
            "Requirement already satisfied: thinc<8.2.0,>=8.1.0 in /usr/local/lib/python3.9/dist-packages (from spacy<3.5.0,>=3.4.0->en-core-web-md==3.4.1) (8.1.8)\n",
            "Requirement already satisfied: preshed<3.1.0,>=3.0.2 in /usr/local/lib/python3.9/dist-packages (from spacy<3.5.0,>=3.4.0->en-core-web-md==3.4.1) (3.0.8)\n",
            "Requirement already satisfied: smart-open<7.0.0,>=5.2.1 in /usr/local/lib/python3.9/dist-packages (from spacy<3.5.0,>=3.4.0->en-core-web-md==3.4.1) (6.3.0)\n",
            "Requirement already satisfied: tqdm<5.0.0,>=4.38.0 in /usr/local/lib/python3.9/dist-packages (from spacy<3.5.0,>=3.4.0->en-core-web-md==3.4.1) (4.65.0)\n",
            "Requirement already satisfied: srsly<3.0.0,>=2.4.3 in /usr/local/lib/python3.9/dist-packages (from spacy<3.5.0,>=3.4.0->en-core-web-md==3.4.1) (2.4.6)\n",
            "Requirement already satisfied: setuptools in /usr/local/lib/python3.9/dist-packages (from spacy<3.5.0,>=3.4.0->en-core-web-md==3.4.1) (57.4.0)\n",
            "Requirement already satisfied: spacy-legacy<3.1.0,>=3.0.10 in /usr/local/lib/python3.9/dist-packages (from spacy<3.5.0,>=3.4.0->en-core-web-md==3.4.1) (3.0.12)\n",
            "Requirement already satisfied: packaging>=20.0 in /usr/local/lib/python3.9/dist-packages (from spacy<3.5.0,>=3.4.0->en-core-web-md==3.4.1) (23.0)\n",
            "Requirement already satisfied: pathy>=0.3.5 in /usr/local/lib/python3.9/dist-packages (from spacy<3.5.0,>=3.4.0->en-core-web-md==3.4.1) (0.10.1)\n",
            "Requirement already satisfied: numpy>=1.15.0 in /usr/local/lib/python3.9/dist-packages (from spacy<3.5.0,>=3.4.0->en-core-web-md==3.4.1) (1.22.4)\n",
            "Requirement already satisfied: langcodes<4.0.0,>=3.2.0 in /usr/local/lib/python3.9/dist-packages (from spacy<3.5.0,>=3.4.0->en-core-web-md==3.4.1) (3.3.0)\n",
            "Requirement already satisfied: wasabi<1.1.0,>=0.9.1 in /usr/local/lib/python3.9/dist-packages (from spacy<3.5.0,>=3.4.0->en-core-web-md==3.4.1) (0.10.1)\n",
            "Requirement already satisfied: cymem<2.1.0,>=2.0.2 in /usr/local/lib/python3.9/dist-packages (from spacy<3.5.0,>=3.4.0->en-core-web-md==3.4.1) (2.0.7)\n",
            "Requirement already satisfied: murmurhash<1.1.0,>=0.28.0 in /usr/local/lib/python3.9/dist-packages (from spacy<3.5.0,>=3.4.0->en-core-web-md==3.4.1) (1.0.9)\n",
            "Requirement already satisfied: pydantic!=1.8,!=1.8.1,<1.11.0,>=1.7.4 in /usr/local/lib/python3.9/dist-packages (from spacy<3.5.0,>=3.4.0->en-core-web-md==3.4.1) (1.10.5)\n",
            "Requirement already satisfied: requests<3.0.0,>=2.13.0 in /usr/local/lib/python3.9/dist-packages (from spacy<3.5.0,>=3.4.0->en-core-web-md==3.4.1) (2.25.1)\n",
            "Requirement already satisfied: spacy-loggers<2.0.0,>=1.0.0 in /usr/local/lib/python3.9/dist-packages (from spacy<3.5.0,>=3.4.0->en-core-web-md==3.4.1) (1.0.4)\n",
            "Requirement already satisfied: typing-extensions>=4.2.0 in /usr/local/lib/python3.9/dist-packages (from pydantic!=1.8,!=1.8.1,<1.11.0,>=1.7.4->spacy<3.5.0,>=3.4.0->en-core-web-md==3.4.1) (4.5.0)\n",
            "Requirement already satisfied: certifi>=2017.4.17 in /usr/local/lib/python3.9/dist-packages (from requests<3.0.0,>=2.13.0->spacy<3.5.0,>=3.4.0->en-core-web-md==3.4.1) (2022.12.7)\n",
            "Requirement already satisfied: idna<3,>=2.5 in /usr/local/lib/python3.9/dist-packages (from requests<3.0.0,>=2.13.0->spacy<3.5.0,>=3.4.0->en-core-web-md==3.4.1) (2.10)\n",
            "Requirement already satisfied: chardet<5,>=3.0.2 in /usr/local/lib/python3.9/dist-packages (from requests<3.0.0,>=2.13.0->spacy<3.5.0,>=3.4.0->en-core-web-md==3.4.1) (4.0.0)\n",
            "Requirement already satisfied: urllib3<1.27,>=1.21.1 in /usr/local/lib/python3.9/dist-packages (from requests<3.0.0,>=2.13.0->spacy<3.5.0,>=3.4.0->en-core-web-md==3.4.1) (1.26.14)\n",
            "Requirement already satisfied: blis<0.8.0,>=0.7.8 in /usr/local/lib/python3.9/dist-packages (from thinc<8.2.0,>=8.1.0->spacy<3.5.0,>=3.4.0->en-core-web-md==3.4.1) (0.7.9)\n",
            "Requirement already satisfied: confection<1.0.0,>=0.0.1 in /usr/local/lib/python3.9/dist-packages (from thinc<8.2.0,>=8.1.0->spacy<3.5.0,>=3.4.0->en-core-web-md==3.4.1) (0.0.4)\n",
            "Requirement already satisfied: click<9.0.0,>=7.1.1 in /usr/local/lib/python3.9/dist-packages (from typer<0.8.0,>=0.3.0->spacy<3.5.0,>=3.4.0->en-core-web-md==3.4.1) (8.1.3)\n",
            "Requirement already satisfied: MarkupSafe>=2.0 in /usr/local/lib/python3.9/dist-packages (from jinja2->spacy<3.5.0,>=3.4.0->en-core-web-md==3.4.1) (2.1.2)\n",
            "Installing collected packages: en-core-web-md\n",
            "Successfully installed en-core-web-md-3.4.1\n",
            "\u001b[38;5;2m✔ Download and installation successful\u001b[0m\n",
            "You can now load the package via spacy.load('en_core_web_md')\n"
          ]
        }
      ],
      "source": [
        "!pip install bert-extractive-summarizer\n",
        "!pip install sacremoses\n",
        "!pip install -U sentence-transformers\n",
        "!pip install spacy\n",
        "!pip install transformers # > 4.0.0\n",
        "!pip install neuralcoref\n",
        "\n",
        "!python -m spacy download en_core_web_md\n",
        "     "
      ]
    },
    {
      "cell_type": "code",
      "execution_count": 21,
      "metadata": {
        "id": "fV_-5kdD6TOu"
      },
      "outputs": [],
      "source": [
        "import tensorflow as tf\n",
        "from transformers import BertTokenizer, TFBertModel\n",
        "\n",
        "# Load the pre-trained BERT model and corresponding tokenizer\n",
        "model_name = 'bert-base-uncased'\n",
        "tokenizer = BertTokenizer.from_pretrained(model_name)\n",
        "bert_model = TFBertModel.from_pretrained(model_name)\n",
        "\n",
        "# Prepare training data by converting the text into the format that tokenizer accepts\n",
        "train_sentences = []\n",
        "train_input_ids = []\n",
        "train_attention_masks = []\n",
        "for sent in train_sentences:\n",
        "    encoded_dict = tokenizer.encode_plus(\n",
        "                        sent,\n",
        "                        add_special_tokens = True, \n",
        "                        max_length = 64,       \n",
        "                        pad_to_max_length = True,       # Shorter sentences will be padded\n",
        "                        return_attention_mask = True,   # Attention mask to mask out padding\n",
        "                        return_tensors = 'tf',          # Return tf.tensor objects\n",
        "                   )\n",
        "    train_input_ids.append(encoded_dict['input_ids'])\n",
        "    train_attention_masks.append(encoded_dict['attention_mask'])\n",
        "\n",
        "# Convert input data into tf.Tensor objects\n",
        "train_input_ids = tf.concat(train_input_ids, axis=0)\n",
        "train_attention_masks = tf.concat(train_attention_masks, axis=0)\n",
        "\n",
        "# Build the input layer of the BERT model\n",
        "input_ids = tf.keras.layers.Input(shape=(64,), dtype=tf.int32, name='input_ids')\n",
        "attention_masks = tf.keras.layers.Input(shape=(64,), dtype=tf.int32, name='attention_masks')\n",
        "bert_inputs = {'input_ids': input_ids, 'attention_mask': attention_masks}\n",
        "\n",
        "bert_output = bert_model(bert_inputs)[0]\n",
        "output = tf.keras.layers.Dense(2, activation='softmax', name='output')(bert_output)\n",
        "\n",
        "# Build the training model\n",
        "model = tf.keras.models.Model(inputs=[input_ids, attention_masks], outputs=output)\n",
        "# Set optimizer, loss function, and evaluation metrics, etc.\n",
        "optimizer = tf.keras.optimizers.Adam(learning_rate=2e-5, epsilon=1e-08, clipnorm=1.0)\n",
        "loss = tf.keras.losses.SparseCategoricalCrossentropy(from_logits=True)\n",
        "metric = tf.keras.metrics.SparseCategoricalAccuracy('accuracy')\n",
        "model.compile(optimizer=optimizer, loss=loss, metrics=[metric])\n",
        "\n",
        "\n",
        "'''model.fit(\n",
        "    {'input_ids': train_input_ids, 'attention_masks': train_attention_masks},\n",
        "    {'output': [0, 1]},   # Simulated label data\n",
        "    epochs=3,\n",
        "    batch_size=32\n",
        ")'''\n"
      ]
    },
    {
      "cell_type": "code",
      "execution_count": null,
      "metadata": {
        "colab": {
          "base_uri": "https://localhost:8080/"
        },
        "id": "erEGT44-TcoM",
        "outputId": "ada26868-dd70-4146-d24a-1b6940dc0f46"
      },
      "outputs": [
        {
          "name": "stderr",
          "output_type": "stream",
          "text": [
            "Some weights of the model checkpoint at bert-large-uncased were not used when initializing BertModel: ['cls.seq_relationship.bias', 'cls.seq_relationship.weight', 'cls.predictions.transform.LayerNorm.weight', 'cls.predictions.decoder.weight', 'cls.predictions.bias', 'cls.predictions.transform.dense.bias', 'cls.predictions.transform.LayerNorm.bias', 'cls.predictions.transform.dense.weight']\n",
            "- This IS expected if you are initializing BertModel from the checkpoint of a model trained on another task or with another architecture (e.g. initializing a BertForSequenceClassification model from a BertForPreTraining model).\n",
            "- This IS NOT expected if you are initializing BertModel from the checkpoint of a model that you expect to be exactly identical (initializing a BertForSequenceClassification model from a BertForSequenceClassification model).\n",
            "/usr/local/lib/python3.8/dist-packages/sklearn/cluster/_kmeans.py:870: FutureWarning: The default value of `n_init` will change from 10 to 'auto' in 1.4. Set the value of `n_init` explicitly to suppress the warning\n",
            "  warnings.warn(\n"
          ]
        }
      ],
      "source": [
        "from summarizer import Summarizer\n",
        "\n",
        "body = '''I recently purchased a pair of wireless earbuds and I have to say, they are absolutely fantastic! The sound quality is amazing, \n",
        " with crystal clear audio and deep, rich bass. I was blown away by how immersive my music sounded when I listened to it on these earbuds.\n",
        "But that's not all - the design is sleek and modern, and the earbuds fit perfectly in my ears without ever feeling uncomfortable or falling out. \n",
        "And the charging case is compact and easy to use, making it convenient to keep my earbuds charged up and ready to go.\n",
        "One of the things I appreciate most about these earbuds is the touch controls - I can easily pause, play, skip tracks, \n",
        "and adjust the volume without ever having to take my phone out of my pocket. It's so convenient when I'm on the go or trying to multitask.\n",
        "Overall, I would highly recommend these wireless earbuds to anyone looking for a high-quality audio experience in a compact, user-friendly package. \n",
        "They have truly exceeded my expectations and I can't imagine going back to wired earbuds ever again.\n",
        "'''\n",
        "\n",
        "model = Summarizer()\n",
        "result = model(body, min_length=60)\n",
        "result = ''.join(result)\n"
      ]
    },
    {
      "cell_type": "code",
      "execution_count": null,
      "metadata": {
        "colab": {
          "base_uri": "https://localhost:8080/"
        },
        "id": "eWy4A256Wnmm",
        "outputId": "c3f50638-db9c-43bd-8826-539d54779f04"
      },
      "outputs": [
        {
          "name": "stdout",
          "output_type": "stream",
          "text": [
            "I recently purchased a pair of wireless earbuds and I have to say, they are absolutely fantastic! But that's not all - the design is sleek and modern, and the earbuds fit perfectly in my ears without ever feeling uncomfortable or falling out.\n"
          ]
        }
      ],
      "source": [
        "print(result)"
      ]
    }
  ],
  "metadata": {
    "accelerator": "GPU",
    "colab": {
      "provenance": []
    },
    "gpuClass": "standard",
    "kernelspec": {
      "display_name": "Python 3",
      "name": "python3"
    },
    "language_info": {
      "name": "python"
    }
  },
  "nbformat": 4,
  "nbformat_minor": 0
}